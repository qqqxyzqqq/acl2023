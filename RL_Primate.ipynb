{
  "cells": [
    {
      "cell_type": "markdown",
      "metadata": {
        "colab_type": "text",
        "id": "view-in-github"
      },
      "source": [
        "<a href=\"https://colab.research.google.com/github/qqqxyzqqq/acl2023/blob/main/RL_Primate.ipynb\" target=\"_parent\"><img src=\"https://colab.research.google.com/assets/colab-badge.svg\" alt=\"Open In Colab\"/></a>"
      ]
    },
    {
      "cell_type": "code",
      "execution_count": null,
      "metadata": {
        "id": "JIXAMTudHgNA"
      },
      "outputs": [],
      "source": [
        "import pandas as pd"
      ]
    },
    {
      "cell_type": "code",
      "execution_count": null,
      "metadata": {
        "id": "Bi5-SblIHpkr"
      },
      "outputs": [],
      "source": [
        "primate = pd.read_csv('Primate_Dataset.csv')"
      ]
    },
    {
      "cell_type": "code",
      "execution_count": null,
      "metadata": {
        "id": "NTH4ahH1HppR"
      },
      "outputs": [],
      "source": [
        "primate['sentences'] = primate.post_title + \" \" + primate.annotations # combine the sentences together. "
      ]
    },
    {
      "cell_type": "code",
      "execution_count": null,
      "metadata": {
        "colab": {
          "base_uri": "https://localhost:8080/",
          "height": 206
        },
        "id": "dR5WIB5zHptX",
        "outputId": "b04f7555-8a61-49b2-9513-fa47d161a6d4"
      },
      "outputs": [
        {
          "data": {
            "text/html": [
              "\n",
              "  <div id=\"df-92cb452c-1ca4-46fe-8935-a0f55ce6e2a7\">\n",
              "    <div class=\"colab-df-container\">\n",
              "      <div>\n",
              "<style scoped>\n",
              "    .dataframe tbody tr th:only-of-type {\n",
              "        vertical-align: middle;\n",
              "    }\n",
              "\n",
              "    .dataframe tbody tr th {\n",
              "        vertical-align: top;\n",
              "    }\n",
              "\n",
              "    .dataframe thead th {\n",
              "        text-align: right;\n",
              "    }\n",
              "</style>\n",
              "<table border=\"1\" class=\"dataframe\">\n",
              "  <thead>\n",
              "    <tr style=\"text-align: right;\">\n",
              "      <th></th>\n",
              "      <th>post_title</th>\n",
              "      <th>annotations</th>\n",
              "      <th>label</th>\n",
              "      <th>sentences</th>\n",
              "    </tr>\n",
              "  </thead>\n",
              "  <tbody>\n",
              "    <tr>\n",
              "      <th>0</th>\n",
              "      <td>I don't feel original anymore.</td>\n",
              "      <td>Feeling-bad-about-yourself-or-that-you-are-a-f...</td>\n",
              "      <td>yes</td>\n",
              "      <td>I don't feel original anymore. Feeling-bad-abo...</td>\n",
              "    </tr>\n",
              "    <tr>\n",
              "      <th>1</th>\n",
              "      <td>I don't feel original anymore.</td>\n",
              "      <td>Feeling-down-depressed-or-hopeless</td>\n",
              "      <td>no</td>\n",
              "      <td>I don't feel original anymore. Feeling-down-de...</td>\n",
              "    </tr>\n",
              "    <tr>\n",
              "      <th>2</th>\n",
              "      <td>I don't feel original anymore.</td>\n",
              "      <td>Feeling-tired-or-having-little-energy</td>\n",
              "      <td>yes</td>\n",
              "      <td>I don't feel original anymore. Feeling-tired-o...</td>\n",
              "    </tr>\n",
              "    <tr>\n",
              "      <th>3</th>\n",
              "      <td>I don't feel original anymore.</td>\n",
              "      <td>Little-interest-or-pleasure-in-doing</td>\n",
              "      <td>yes</td>\n",
              "      <td>I don't feel original anymore. Little-interest...</td>\n",
              "    </tr>\n",
              "    <tr>\n",
              "      <th>4</th>\n",
              "      <td>I don't feel original anymore.</td>\n",
              "      <td>Moving-or-speaking-so-slowly-that-other-people...</td>\n",
              "      <td>no</td>\n",
              "      <td>I don't feel original anymore. Moving-or-speak...</td>\n",
              "    </tr>\n",
              "  </tbody>\n",
              "</table>\n",
              "</div>\n",
              "      <button class=\"colab-df-convert\" onclick=\"convertToInteractive('df-92cb452c-1ca4-46fe-8935-a0f55ce6e2a7')\"\n",
              "              title=\"Convert this dataframe to an interactive table.\"\n",
              "              style=\"display:none;\">\n",
              "        \n",
              "  <svg xmlns=\"http://www.w3.org/2000/svg\" height=\"24px\"viewBox=\"0 0 24 24\"\n",
              "       width=\"24px\">\n",
              "    <path d=\"M0 0h24v24H0V0z\" fill=\"none\"/>\n",
              "    <path d=\"M18.56 5.44l.94 2.06.94-2.06 2.06-.94-2.06-.94-.94-2.06-.94 2.06-2.06.94zm-11 1L8.5 8.5l.94-2.06 2.06-.94-2.06-.94L8.5 2.5l-.94 2.06-2.06.94zm10 10l.94 2.06.94-2.06 2.06-.94-2.06-.94-.94-2.06-.94 2.06-2.06.94z\"/><path d=\"M17.41 7.96l-1.37-1.37c-.4-.4-.92-.59-1.43-.59-.52 0-1.04.2-1.43.59L10.3 9.45l-7.72 7.72c-.78.78-.78 2.05 0 2.83L4 21.41c.39.39.9.59 1.41.59.51 0 1.02-.2 1.41-.59l7.78-7.78 2.81-2.81c.8-.78.8-2.07 0-2.86zM5.41 20L4 18.59l7.72-7.72 1.47 1.35L5.41 20z\"/>\n",
              "  </svg>\n",
              "      </button>\n",
              "      \n",
              "  <style>\n",
              "    .colab-df-container {\n",
              "      display:flex;\n",
              "      flex-wrap:wrap;\n",
              "      gap: 12px;\n",
              "    }\n",
              "\n",
              "    .colab-df-convert {\n",
              "      background-color: #E8F0FE;\n",
              "      border: none;\n",
              "      border-radius: 50%;\n",
              "      cursor: pointer;\n",
              "      display: none;\n",
              "      fill: #1967D2;\n",
              "      height: 32px;\n",
              "      padding: 0 0 0 0;\n",
              "      width: 32px;\n",
              "    }\n",
              "\n",
              "    .colab-df-convert:hover {\n",
              "      background-color: #E2EBFA;\n",
              "      box-shadow: 0px 1px 2px rgba(60, 64, 67, 0.3), 0px 1px 3px 1px rgba(60, 64, 67, 0.15);\n",
              "      fill: #174EA6;\n",
              "    }\n",
              "\n",
              "    [theme=dark] .colab-df-convert {\n",
              "      background-color: #3B4455;\n",
              "      fill: #D2E3FC;\n",
              "    }\n",
              "\n",
              "    [theme=dark] .colab-df-convert:hover {\n",
              "      background-color: #434B5C;\n",
              "      box-shadow: 0px 1px 3px 1px rgba(0, 0, 0, 0.15);\n",
              "      filter: drop-shadow(0px 1px 2px rgba(0, 0, 0, 0.3));\n",
              "      fill: #FFFFFF;\n",
              "    }\n",
              "  </style>\n",
              "\n",
              "      <script>\n",
              "        const buttonEl =\n",
              "          document.querySelector('#df-92cb452c-1ca4-46fe-8935-a0f55ce6e2a7 button.colab-df-convert');\n",
              "        buttonEl.style.display =\n",
              "          google.colab.kernel.accessAllowed ? 'block' : 'none';\n",
              "\n",
              "        async function convertToInteractive(key) {\n",
              "          const element = document.querySelector('#df-92cb452c-1ca4-46fe-8935-a0f55ce6e2a7');\n",
              "          const dataTable =\n",
              "            await google.colab.kernel.invokeFunction('convertToInteractive',\n",
              "                                                     [key], {});\n",
              "          if (!dataTable) return;\n",
              "\n",
              "          const docLinkHtml = 'Like what you see? Visit the ' +\n",
              "            '<a target=\"_blank\" href=https://colab.research.google.com/notebooks/data_table.ipynb>data table notebook</a>'\n",
              "            + ' to learn more about interactive tables.';\n",
              "          element.innerHTML = '';\n",
              "          dataTable['output_type'] = 'display_data';\n",
              "          await google.colab.output.renderOutput(dataTable, element);\n",
              "          const docLink = document.createElement('div');\n",
              "          docLink.innerHTML = docLinkHtml;\n",
              "          element.appendChild(docLink);\n",
              "        }\n",
              "      </script>\n",
              "    </div>\n",
              "  </div>\n",
              "  "
            ],
            "text/plain": [
              "                       post_title  \\\n",
              "0  I don't feel original anymore.   \n",
              "1  I don't feel original anymore.   \n",
              "2  I don't feel original anymore.   \n",
              "3  I don't feel original anymore.   \n",
              "4  I don't feel original anymore.   \n",
              "\n",
              "                                         annotations label  \\\n",
              "0  Feeling-bad-about-yourself-or-that-you-are-a-f...   yes   \n",
              "1                 Feeling-down-depressed-or-hopeless    no   \n",
              "2              Feeling-tired-or-having-little-energy   yes   \n",
              "3              Little-interest-or-pleasure-in-doing    yes   \n",
              "4  Moving-or-speaking-so-slowly-that-other-people...    no   \n",
              "\n",
              "                                           sentences  \n",
              "0  I don't feel original anymore. Feeling-bad-abo...  \n",
              "1  I don't feel original anymore. Feeling-down-de...  \n",
              "2  I don't feel original anymore. Feeling-tired-o...  \n",
              "3  I don't feel original anymore. Little-interest...  \n",
              "4  I don't feel original anymore. Moving-or-speak...  "
            ]
          },
          "execution_count": 10,
          "metadata": {},
          "output_type": "execute_result"
        }
      ],
      "source": [
        "primate.head()"
      ]
    },
    {
      "cell_type": "code",
      "execution_count": null,
      "metadata": {
        "id": "unlgyiR7HpxA"
      },
      "outputs": [],
      "source": [
        "df_all= primate"
      ]
    },
    {
      "cell_type": "code",
      "execution_count": null,
      "metadata": {
        "id": "rCNrj_rMJLN-"
      },
      "outputs": [],
      "source": [
        "words = []\n",
        "def get_words(sentences):\n",
        "  word = sentences.split(\" \")\n",
        "  words.append(word)\n",
        "  return word\n",
        "\n",
        "# whenever you want to apply any function on a pandas columns\n",
        "\n",
        "df_all[\"words\"] = df_all.apply(lambda x : get_words(x[\"sentences\"]), axis=1)"
      ]
    },
    {
      "cell_type": "code",
      "execution_count": null,
      "metadata": {
        "id": "jszeij_TJLSM"
      },
      "outputs": [],
      "source": [
        "import re\n",
        "def get_clean_words(word_lst):\n",
        "  new_word_lst = []\n",
        "  for word in word_lst:  \n",
        "    new_word_lst.append(re.sub(r\"[^A-Z]\", r\"\", word, 0,re.IGNORECASE).lower())\n",
        "  return new_word_lst\n",
        "df_all['Clean_Words'] = df_all.words.apply(lambda x: get_clean_words(x))"
      ]
    },
    {
      "cell_type": "code",
      "execution_count": null,
      "metadata": {
        "colab": {
          "base_uri": "https://localhost:8080/",
          "height": 337
        },
        "id": "gkIOr1rcJLWf",
        "outputId": "03f71826-436e-4e06-8249-be7757b03f1f"
      },
      "outputs": [
        {
          "data": {
            "text/html": [
              "\n",
              "  <div id=\"df-c2a141f8-a52d-4755-902e-0acc17e27ecf\">\n",
              "    <div class=\"colab-df-container\">\n",
              "      <div>\n",
              "<style scoped>\n",
              "    .dataframe tbody tr th:only-of-type {\n",
              "        vertical-align: middle;\n",
              "    }\n",
              "\n",
              "    .dataframe tbody tr th {\n",
              "        vertical-align: top;\n",
              "    }\n",
              "\n",
              "    .dataframe thead th {\n",
              "        text-align: right;\n",
              "    }\n",
              "</style>\n",
              "<table border=\"1\" class=\"dataframe\">\n",
              "  <thead>\n",
              "    <tr style=\"text-align: right;\">\n",
              "      <th></th>\n",
              "      <th>post_title</th>\n",
              "      <th>annotations</th>\n",
              "      <th>label</th>\n",
              "      <th>sentences</th>\n",
              "      <th>words</th>\n",
              "      <th>Clean_Words</th>\n",
              "    </tr>\n",
              "  </thead>\n",
              "  <tbody>\n",
              "    <tr>\n",
              "      <th>0</th>\n",
              "      <td>I don't feel original anymore.</td>\n",
              "      <td>Feeling-bad-about-yourself-or-that-you-are-a-f...</td>\n",
              "      <td>yes</td>\n",
              "      <td>I don't feel original anymore. Feeling-bad-abo...</td>\n",
              "      <td>[I, don't, feel, original, anymore., Feeling-b...</td>\n",
              "      <td>[i, dont, feel, original, anymore, feelingbada...</td>\n",
              "    </tr>\n",
              "    <tr>\n",
              "      <th>1</th>\n",
              "      <td>I don't feel original anymore.</td>\n",
              "      <td>Feeling-down-depressed-or-hopeless</td>\n",
              "      <td>no</td>\n",
              "      <td>I don't feel original anymore. Feeling-down-de...</td>\n",
              "      <td>[I, don't, feel, original, anymore., Feeling-d...</td>\n",
              "      <td>[i, dont, feel, original, anymore, feelingdown...</td>\n",
              "    </tr>\n",
              "    <tr>\n",
              "      <th>2</th>\n",
              "      <td>I don't feel original anymore.</td>\n",
              "      <td>Feeling-tired-or-having-little-energy</td>\n",
              "      <td>yes</td>\n",
              "      <td>I don't feel original anymore. Feeling-tired-o...</td>\n",
              "      <td>[I, don't, feel, original, anymore., Feeling-t...</td>\n",
              "      <td>[i, dont, feel, original, anymore, feelingtire...</td>\n",
              "    </tr>\n",
              "    <tr>\n",
              "      <th>3</th>\n",
              "      <td>I don't feel original anymore.</td>\n",
              "      <td>Little-interest-or-pleasure-in-doing</td>\n",
              "      <td>yes</td>\n",
              "      <td>I don't feel original anymore. Little-interest...</td>\n",
              "      <td>[I, don't, feel, original, anymore., Little-in...</td>\n",
              "      <td>[i, dont, feel, original, anymore, littleinter...</td>\n",
              "    </tr>\n",
              "    <tr>\n",
              "      <th>4</th>\n",
              "      <td>I don't feel original anymore.</td>\n",
              "      <td>Moving-or-speaking-so-slowly-that-other-people...</td>\n",
              "      <td>no</td>\n",
              "      <td>I don't feel original anymore. Moving-or-speak...</td>\n",
              "      <td>[I, don't, feel, original, anymore., Moving-or...</td>\n",
              "      <td>[i, dont, feel, original, anymore, movingorspe...</td>\n",
              "    </tr>\n",
              "  </tbody>\n",
              "</table>\n",
              "</div>\n",
              "      <button class=\"colab-df-convert\" onclick=\"convertToInteractive('df-c2a141f8-a52d-4755-902e-0acc17e27ecf')\"\n",
              "              title=\"Convert this dataframe to an interactive table.\"\n",
              "              style=\"display:none;\">\n",
              "        \n",
              "  <svg xmlns=\"http://www.w3.org/2000/svg\" height=\"24px\"viewBox=\"0 0 24 24\"\n",
              "       width=\"24px\">\n",
              "    <path d=\"M0 0h24v24H0V0z\" fill=\"none\"/>\n",
              "    <path d=\"M18.56 5.44l.94 2.06.94-2.06 2.06-.94-2.06-.94-.94-2.06-.94 2.06-2.06.94zm-11 1L8.5 8.5l.94-2.06 2.06-.94-2.06-.94L8.5 2.5l-.94 2.06-2.06.94zm10 10l.94 2.06.94-2.06 2.06-.94-2.06-.94-.94-2.06-.94 2.06-2.06.94z\"/><path d=\"M17.41 7.96l-1.37-1.37c-.4-.4-.92-.59-1.43-.59-.52 0-1.04.2-1.43.59L10.3 9.45l-7.72 7.72c-.78.78-.78 2.05 0 2.83L4 21.41c.39.39.9.59 1.41.59.51 0 1.02-.2 1.41-.59l7.78-7.78 2.81-2.81c.8-.78.8-2.07 0-2.86zM5.41 20L4 18.59l7.72-7.72 1.47 1.35L5.41 20z\"/>\n",
              "  </svg>\n",
              "      </button>\n",
              "      \n",
              "  <style>\n",
              "    .colab-df-container {\n",
              "      display:flex;\n",
              "      flex-wrap:wrap;\n",
              "      gap: 12px;\n",
              "    }\n",
              "\n",
              "    .colab-df-convert {\n",
              "      background-color: #E8F0FE;\n",
              "      border: none;\n",
              "      border-radius: 50%;\n",
              "      cursor: pointer;\n",
              "      display: none;\n",
              "      fill: #1967D2;\n",
              "      height: 32px;\n",
              "      padding: 0 0 0 0;\n",
              "      width: 32px;\n",
              "    }\n",
              "\n",
              "    .colab-df-convert:hover {\n",
              "      background-color: #E2EBFA;\n",
              "      box-shadow: 0px 1px 2px rgba(60, 64, 67, 0.3), 0px 1px 3px 1px rgba(60, 64, 67, 0.15);\n",
              "      fill: #174EA6;\n",
              "    }\n",
              "\n",
              "    [theme=dark] .colab-df-convert {\n",
              "      background-color: #3B4455;\n",
              "      fill: #D2E3FC;\n",
              "    }\n",
              "\n",
              "    [theme=dark] .colab-df-convert:hover {\n",
              "      background-color: #434B5C;\n",
              "      box-shadow: 0px 1px 3px 1px rgba(0, 0, 0, 0.15);\n",
              "      filter: drop-shadow(0px 1px 2px rgba(0, 0, 0, 0.3));\n",
              "      fill: #FFFFFF;\n",
              "    }\n",
              "  </style>\n",
              "\n",
              "      <script>\n",
              "        const buttonEl =\n",
              "          document.querySelector('#df-c2a141f8-a52d-4755-902e-0acc17e27ecf button.colab-df-convert');\n",
              "        buttonEl.style.display =\n",
              "          google.colab.kernel.accessAllowed ? 'block' : 'none';\n",
              "\n",
              "        async function convertToInteractive(key) {\n",
              "          const element = document.querySelector('#df-c2a141f8-a52d-4755-902e-0acc17e27ecf');\n",
              "          const dataTable =\n",
              "            await google.colab.kernel.invokeFunction('convertToInteractive',\n",
              "                                                     [key], {});\n",
              "          if (!dataTable) return;\n",
              "\n",
              "          const docLinkHtml = 'Like what you see? Visit the ' +\n",
              "            '<a target=\"_blank\" href=https://colab.research.google.com/notebooks/data_table.ipynb>data table notebook</a>'\n",
              "            + ' to learn more about interactive tables.';\n",
              "          element.innerHTML = '';\n",
              "          dataTable['output_type'] = 'display_data';\n",
              "          await google.colab.output.renderOutput(dataTable, element);\n",
              "          const docLink = document.createElement('div');\n",
              "          docLink.innerHTML = docLinkHtml;\n",
              "          element.appendChild(docLink);\n",
              "        }\n",
              "      </script>\n",
              "    </div>\n",
              "  </div>\n",
              "  "
            ],
            "text/plain": [
              "                       post_title  \\\n",
              "0  I don't feel original anymore.   \n",
              "1  I don't feel original anymore.   \n",
              "2  I don't feel original anymore.   \n",
              "3  I don't feel original anymore.   \n",
              "4  I don't feel original anymore.   \n",
              "\n",
              "                                         annotations label  \\\n",
              "0  Feeling-bad-about-yourself-or-that-you-are-a-f...   yes   \n",
              "1                 Feeling-down-depressed-or-hopeless    no   \n",
              "2              Feeling-tired-or-having-little-energy   yes   \n",
              "3              Little-interest-or-pleasure-in-doing    yes   \n",
              "4  Moving-or-speaking-so-slowly-that-other-people...    no   \n",
              "\n",
              "                                           sentences  \\\n",
              "0  I don't feel original anymore. Feeling-bad-abo...   \n",
              "1  I don't feel original anymore. Feeling-down-de...   \n",
              "2  I don't feel original anymore. Feeling-tired-o...   \n",
              "3  I don't feel original anymore. Little-interest...   \n",
              "4  I don't feel original anymore. Moving-or-speak...   \n",
              "\n",
              "                                               words  \\\n",
              "0  [I, don't, feel, original, anymore., Feeling-b...   \n",
              "1  [I, don't, feel, original, anymore., Feeling-d...   \n",
              "2  [I, don't, feel, original, anymore., Feeling-t...   \n",
              "3  [I, don't, feel, original, anymore., Little-in...   \n",
              "4  [I, don't, feel, original, anymore., Moving-or...   \n",
              "\n",
              "                                         Clean_Words  \n",
              "0  [i, dont, feel, original, anymore, feelingbada...  \n",
              "1  [i, dont, feel, original, anymore, feelingdown...  \n",
              "2  [i, dont, feel, original, anymore, feelingtire...  \n",
              "3  [i, dont, feel, original, anymore, littleinter...  \n",
              "4  [i, dont, feel, original, anymore, movingorspe...  "
            ]
          },
          "execution_count": 16,
          "metadata": {},
          "output_type": "execute_result"
        }
      ],
      "source": [
        "df_all.head()"
      ]
    },
    {
      "cell_type": "code",
      "execution_count": null,
      "metadata": {
        "colab": {
          "base_uri": "https://localhost:8080/"
        },
        "id": "FqcWMWjiJLap",
        "outputId": "c4cbbc2f-a469-4aea-c529-d9d542616bd9"
      },
      "outputs": [
        {
          "data": {
            "text/plain": [
              "0        None\n",
              "1        None\n",
              "2        None\n",
              "3        None\n",
              "4        None\n",
              "         ... \n",
              "18022    None\n",
              "18023    None\n",
              "18024    None\n",
              "18025    None\n",
              "18026    None\n",
              "Name: Clean_Words, Length: 18027, dtype: object"
            ]
          },
          "execution_count": 17,
          "metadata": {},
          "output_type": "execute_result"
        }
      ],
      "source": [
        "common_list = []\n",
        "df_all[\"Clean_Words\"].apply(lambda x: common_list.extend(x))"
      ]
    },
    {
      "cell_type": "code",
      "execution_count": null,
      "metadata": {
        "colab": {
          "base_uri": "https://localhost:8080/"
        },
        "id": "Q1gHxZASJLep",
        "outputId": "1666e6f5-f1db-47d3-ca3b-124fcd391981"
      },
      "outputs": [
        {
          "data": {
            "text/plain": [
              "181958"
            ]
          },
          "execution_count": 18,
          "metadata": {},
          "output_type": "execute_result"
        }
      ],
      "source": [
        "len(common_list)"
      ]
    },
    {
      "cell_type": "code",
      "execution_count": null,
      "metadata": {
        "id": "9A1VUFeVJLi-"
      },
      "outputs": [],
      "source": [
        "non_duplicated_words = set(common_list)"
      ]
    },
    {
      "cell_type": "code",
      "execution_count": null,
      "metadata": {
        "colab": {
          "base_uri": "https://localhost:8080/"
        },
        "id": "rQwaiuO0JLnH",
        "outputId": "ef0b157d-5c75-4032-fb0a-cacf12252a88"
      },
      "outputs": [
        {
          "data": {
            "text/plain": [
              "2255"
            ]
          },
          "execution_count": 20,
          "metadata": {},
          "output_type": "execute_result"
        }
      ],
      "source": [
        "len(non_duplicated_words)"
      ]
    },
    {
      "cell_type": "code",
      "execution_count": null,
      "metadata": {
        "id": "B9HwS4CqJLt7"
      },
      "outputs": [],
      "source": [
        "# !pwd\n",
        "%%capture\n",
        "!wget http://wikipedia2vec.s3.amazonaws.com/models/en/2018-04-20/enwiki_20180420_100d.txt.bz2 "
      ]
    },
    {
      "cell_type": "code",
      "execution_count": null,
      "metadata": {
        "colab": {
          "base_uri": "https://localhost:8080/"
        },
        "id": "Uvfur6vzJLyg",
        "outputId": "2ed88f8b-08a5-4f47-9823-d5a5f7991e40"
      },
      "outputs": [
        {
          "name": "stdout",
          "output_type": "stream",
          "text": [
            "enwiki_20180420_100d.txt    Primate_Dataset.csv\n",
            "PCA_Embeddings_primate.csv  primate_dataset.json\n"
          ]
        }
      ],
      "source": [
        " !bunzip2 enwiki_20180420_100d.txt.bz2\n",
        "!ls"
      ]
    },
    {
      "cell_type": "code",
      "execution_count": null,
      "metadata": {
        "id": "-ZCEUC1lMIxU"
      },
      "outputs": [],
      "source": [
        "import pandas as pd\n",
        "import numpy as np"
      ]
    },
    {
      "cell_type": "code",
      "execution_count": null,
      "metadata": {
        "id": "D5L08EaJJL2D"
      },
      "outputs": [],
      "source": [
        "%%capture\n",
        "%pip install wikipedia2vec\n",
        "from wikipedia2vec import Wikipedia2Vec\n",
        "wiki2vec = Wikipedia2Vec.load('enwiki_20180420_100d.pkl')"
      ]
    },
    {
      "cell_type": "code",
      "execution_count": null,
      "metadata": {
        "id": "sr0ChC6SKUjA"
      },
      "outputs": [],
      "source": [
        "count = 0 \n",
        "embeddings_wiki = {}\n",
        "word_not_found = []\n",
        "for word in non_duplicated_words:\n",
        "  try:\n",
        "    embeddings_wiki[word] = wiki2vec.get_word_vector(word)\n",
        "  except Exception as e: \n",
        "    embeddings_wiki[word] = []\n",
        "    word_not_found.append(word)\n",
        "    count +=1"
      ]
    },
    {
      "cell_type": "code",
      "execution_count": null,
      "metadata": {
        "colab": {
          "base_uri": "https://localhost:8080/"
        },
        "id": "OSnemqnUKUob",
        "outputId": "2c7d77eb-4a96-4ced-e4c7-32da9e18b332"
      },
      "outputs": [
        {
          "data": {
            "text/plain": [
              "129"
            ]
          },
          "execution_count": 28,
          "metadata": {},
          "output_type": "execute_result"
        }
      ],
      "source": [
        "len(word_not_found)"
      ]
    },
    {
      "cell_type": "code",
      "execution_count": null,
      "metadata": {
        "id": "ZcpVVTGxKUtf"
      },
      "outputs": [],
      "source": [
        "dataframe1 = pd.read_csv(\"numberbatch-en.txt\", skiprows = 1, header=None, sep= ' ')"
      ]
    },
    {
      "cell_type": "code",
      "execution_count": null,
      "metadata": {
        "id": "pDDTejK2KUxr"
      },
      "outputs": [],
      "source": [
        "emb_cols = list(dataframe1.columns)[1:]\n",
        "dataframe1[\"Common_Sense_Embeddings\"] = dataframe1[emb_cols].values.tolist()"
      ]
    },
    {
      "cell_type": "code",
      "execution_count": null,
      "metadata": {
        "colab": {
          "base_uri": "https://localhost:8080/",
          "height": 300
        },
        "id": "Edr5tkF4KU2I",
        "outputId": "16bffbd4-283d-4b03-f37e-244b7dec0eeb"
      },
      "outputs": [
        {
          "data": {
            "text/html": [
              "\n",
              "  <div id=\"df-dcf9962d-4a32-4095-880b-fd1be11e4e73\">\n",
              "    <div class=\"colab-df-container\">\n",
              "      <div>\n",
              "<style scoped>\n",
              "    .dataframe tbody tr th:only-of-type {\n",
              "        vertical-align: middle;\n",
              "    }\n",
              "\n",
              "    .dataframe tbody tr th {\n",
              "        vertical-align: top;\n",
              "    }\n",
              "\n",
              "    .dataframe thead th {\n",
              "        text-align: right;\n",
              "    }\n",
              "</style>\n",
              "<table border=\"1\" class=\"dataframe\">\n",
              "  <thead>\n",
              "    <tr style=\"text-align: right;\">\n",
              "      <th></th>\n",
              "      <th>0</th>\n",
              "      <th>1</th>\n",
              "      <th>2</th>\n",
              "      <th>3</th>\n",
              "      <th>4</th>\n",
              "      <th>5</th>\n",
              "      <th>6</th>\n",
              "      <th>7</th>\n",
              "      <th>8</th>\n",
              "      <th>9</th>\n",
              "      <th>...</th>\n",
              "      <th>291</th>\n",
              "      <th>292</th>\n",
              "      <th>293</th>\n",
              "      <th>294</th>\n",
              "      <th>295</th>\n",
              "      <th>296</th>\n",
              "      <th>297</th>\n",
              "      <th>298</th>\n",
              "      <th>299</th>\n",
              "      <th>300</th>\n",
              "    </tr>\n",
              "  </thead>\n",
              "  <tbody>\n",
              "    <tr>\n",
              "      <th>0</th>\n",
              "      <td>##</td>\n",
              "      <td>0.0295</td>\n",
              "      <td>-0.0405</td>\n",
              "      <td>-0.0341</td>\n",
              "      <td>0.0837</td>\n",
              "      <td>-0.0575</td>\n",
              "      <td>0.0482</td>\n",
              "      <td>-0.0145</td>\n",
              "      <td>0.0019</td>\n",
              "      <td>0.0347</td>\n",
              "      <td>...</td>\n",
              "      <td>0.0095</td>\n",
              "      <td>0.0908</td>\n",
              "      <td>0.0549</td>\n",
              "      <td>0.0121</td>\n",
              "      <td>0.0056</td>\n",
              "      <td>0.0443</td>\n",
              "      <td>-0.0217</td>\n",
              "      <td>-0.0239</td>\n",
              "      <td>0.0403</td>\n",
              "      <td>-0.0005</td>\n",
              "    </tr>\n",
              "    <tr>\n",
              "      <th>1</th>\n",
              "      <td>###</td>\n",
              "      <td>0.0202</td>\n",
              "      <td>-0.0249</td>\n",
              "      <td>-0.0653</td>\n",
              "      <td>0.0930</td>\n",
              "      <td>-0.0923</td>\n",
              "      <td>0.0306</td>\n",
              "      <td>-0.0093</td>\n",
              "      <td>0.0224</td>\n",
              "      <td>-0.0334</td>\n",
              "      <td>...</td>\n",
              "      <td>-0.0078</td>\n",
              "      <td>0.0819</td>\n",
              "      <td>0.0082</td>\n",
              "      <td>-0.0285</td>\n",
              "      <td>0.0007</td>\n",
              "      <td>-0.0418</td>\n",
              "      <td>0.0893</td>\n",
              "      <td>-0.0575</td>\n",
              "      <td>-0.0580</td>\n",
              "      <td>0.0651</td>\n",
              "    </tr>\n",
              "    <tr>\n",
              "      <th>2</th>\n",
              "      <td>####</td>\n",
              "      <td>0.0521</td>\n",
              "      <td>-0.0262</td>\n",
              "      <td>-0.0881</td>\n",
              "      <td>0.1085</td>\n",
              "      <td>-0.1168</td>\n",
              "      <td>0.0324</td>\n",
              "      <td>0.0084</td>\n",
              "      <td>0.0382</td>\n",
              "      <td>-0.0287</td>\n",
              "      <td>...</td>\n",
              "      <td>0.0540</td>\n",
              "      <td>0.0769</td>\n",
              "      <td>0.0234</td>\n",
              "      <td>-0.0080</td>\n",
              "      <td>0.1110</td>\n",
              "      <td>-0.0342</td>\n",
              "      <td>0.0570</td>\n",
              "      <td>-0.0424</td>\n",
              "      <td>-0.0192</td>\n",
              "      <td>0.0599</td>\n",
              "    </tr>\n",
              "    <tr>\n",
              "      <th>3</th>\n",
              "      <td>#####</td>\n",
              "      <td>0.0416</td>\n",
              "      <td>0.0061</td>\n",
              "      <td>-0.0388</td>\n",
              "      <td>0.0175</td>\n",
              "      <td>-0.0617</td>\n",
              "      <td>-0.0043</td>\n",
              "      <td>0.0140</td>\n",
              "      <td>0.0725</td>\n",
              "      <td>-0.0287</td>\n",
              "      <td>...</td>\n",
              "      <td>0.0255</td>\n",
              "      <td>0.0511</td>\n",
              "      <td>-0.0039</td>\n",
              "      <td>-0.0399</td>\n",
              "      <td>0.0665</td>\n",
              "      <td>-0.0622</td>\n",
              "      <td>-0.0117</td>\n",
              "      <td>0.0066</td>\n",
              "      <td>-0.0165</td>\n",
              "      <td>0.0645</td>\n",
              "    </tr>\n",
              "    <tr>\n",
              "      <th>4</th>\n",
              "      <td>#####_metres</td>\n",
              "      <td>-0.0018</td>\n",
              "      <td>-0.0410</td>\n",
              "      <td>-0.0531</td>\n",
              "      <td>0.1115</td>\n",
              "      <td>-0.1031</td>\n",
              "      <td>-0.0065</td>\n",
              "      <td>-0.0391</td>\n",
              "      <td>0.0145</td>\n",
              "      <td>0.0391</td>\n",
              "      <td>...</td>\n",
              "      <td>-0.0401</td>\n",
              "      <td>-0.0299</td>\n",
              "      <td>-0.0179</td>\n",
              "      <td>-0.0354</td>\n",
              "      <td>0.0237</td>\n",
              "      <td>0.0357</td>\n",
              "      <td>0.0335</td>\n",
              "      <td>0.0124</td>\n",
              "      <td>-0.0084</td>\n",
              "      <td>-0.0431</td>\n",
              "    </tr>\n",
              "  </tbody>\n",
              "</table>\n",
              "<p>5 rows × 301 columns</p>\n",
              "</div>\n",
              "      <button class=\"colab-df-convert\" onclick=\"convertToInteractive('df-dcf9962d-4a32-4095-880b-fd1be11e4e73')\"\n",
              "              title=\"Convert this dataframe to an interactive table.\"\n",
              "              style=\"display:none;\">\n",
              "        \n",
              "  <svg xmlns=\"http://www.w3.org/2000/svg\" height=\"24px\"viewBox=\"0 0 24 24\"\n",
              "       width=\"24px\">\n",
              "    <path d=\"M0 0h24v24H0V0z\" fill=\"none\"/>\n",
              "    <path d=\"M18.56 5.44l.94 2.06.94-2.06 2.06-.94-2.06-.94-.94-2.06-.94 2.06-2.06.94zm-11 1L8.5 8.5l.94-2.06 2.06-.94-2.06-.94L8.5 2.5l-.94 2.06-2.06.94zm10 10l.94 2.06.94-2.06 2.06-.94-2.06-.94-.94-2.06-.94 2.06-2.06.94z\"/><path d=\"M17.41 7.96l-1.37-1.37c-.4-.4-.92-.59-1.43-.59-.52 0-1.04.2-1.43.59L10.3 9.45l-7.72 7.72c-.78.78-.78 2.05 0 2.83L4 21.41c.39.39.9.59 1.41.59.51 0 1.02-.2 1.41-.59l7.78-7.78 2.81-2.81c.8-.78.8-2.07 0-2.86zM5.41 20L4 18.59l7.72-7.72 1.47 1.35L5.41 20z\"/>\n",
              "  </svg>\n",
              "      </button>\n",
              "      \n",
              "  <style>\n",
              "    .colab-df-container {\n",
              "      display:flex;\n",
              "      flex-wrap:wrap;\n",
              "      gap: 12px;\n",
              "    }\n",
              "\n",
              "    .colab-df-convert {\n",
              "      background-color: #E8F0FE;\n",
              "      border: none;\n",
              "      border-radius: 50%;\n",
              "      cursor: pointer;\n",
              "      display: none;\n",
              "      fill: #1967D2;\n",
              "      height: 32px;\n",
              "      padding: 0 0 0 0;\n",
              "      width: 32px;\n",
              "    }\n",
              "\n",
              "    .colab-df-convert:hover {\n",
              "      background-color: #E2EBFA;\n",
              "      box-shadow: 0px 1px 2px rgba(60, 64, 67, 0.3), 0px 1px 3px 1px rgba(60, 64, 67, 0.15);\n",
              "      fill: #174EA6;\n",
              "    }\n",
              "\n",
              "    [theme=dark] .colab-df-convert {\n",
              "      background-color: #3B4455;\n",
              "      fill: #D2E3FC;\n",
              "    }\n",
              "\n",
              "    [theme=dark] .colab-df-convert:hover {\n",
              "      background-color: #434B5C;\n",
              "      box-shadow: 0px 1px 3px 1px rgba(0, 0, 0, 0.15);\n",
              "      filter: drop-shadow(0px 1px 2px rgba(0, 0, 0, 0.3));\n",
              "      fill: #FFFFFF;\n",
              "    }\n",
              "  </style>\n",
              "\n",
              "      <script>\n",
              "        const buttonEl =\n",
              "          document.querySelector('#df-dcf9962d-4a32-4095-880b-fd1be11e4e73 button.colab-df-convert');\n",
              "        buttonEl.style.display =\n",
              "          google.colab.kernel.accessAllowed ? 'block' : 'none';\n",
              "\n",
              "        async function convertToInteractive(key) {\n",
              "          const element = document.querySelector('#df-dcf9962d-4a32-4095-880b-fd1be11e4e73');\n",
              "          const dataTable =\n",
              "            await google.colab.kernel.invokeFunction('convertToInteractive',\n",
              "                                                     [key], {});\n",
              "          if (!dataTable) return;\n",
              "\n",
              "          const docLinkHtml = 'Like what you see? Visit the ' +\n",
              "            '<a target=\"_blank\" href=https://colab.research.google.com/notebooks/data_table.ipynb>data table notebook</a>'\n",
              "            + ' to learn more about interactive tables.';\n",
              "          element.innerHTML = '';\n",
              "          dataTable['output_type'] = 'display_data';\n",
              "          await google.colab.output.renderOutput(dataTable, element);\n",
              "          const docLink = document.createElement('div');\n",
              "          docLink.innerHTML = docLinkHtml;\n",
              "          element.appendChild(docLink);\n",
              "        }\n",
              "      </script>\n",
              "    </div>\n",
              "  </div>\n",
              "  "
            ],
            "text/plain": [
              "            0       1       2       3       4       5       6       7    \\\n",
              "0            ##  0.0295 -0.0405 -0.0341  0.0837 -0.0575  0.0482 -0.0145   \n",
              "1           ###  0.0202 -0.0249 -0.0653  0.0930 -0.0923  0.0306 -0.0093   \n",
              "2          ####  0.0521 -0.0262 -0.0881  0.1085 -0.1168  0.0324  0.0084   \n",
              "3         #####  0.0416  0.0061 -0.0388  0.0175 -0.0617 -0.0043  0.0140   \n",
              "4  #####_metres -0.0018 -0.0410 -0.0531  0.1115 -0.1031 -0.0065 -0.0391   \n",
              "\n",
              "      8       9    ...     291     292     293     294     295     296  \\\n",
              "0  0.0019  0.0347  ...  0.0095  0.0908  0.0549  0.0121  0.0056  0.0443   \n",
              "1  0.0224 -0.0334  ... -0.0078  0.0819  0.0082 -0.0285  0.0007 -0.0418   \n",
              "2  0.0382 -0.0287  ...  0.0540  0.0769  0.0234 -0.0080  0.1110 -0.0342   \n",
              "3  0.0725 -0.0287  ...  0.0255  0.0511 -0.0039 -0.0399  0.0665 -0.0622   \n",
              "4  0.0145  0.0391  ... -0.0401 -0.0299 -0.0179 -0.0354  0.0237  0.0357   \n",
              "\n",
              "      297     298     299     300  \n",
              "0 -0.0217 -0.0239  0.0403 -0.0005  \n",
              "1  0.0893 -0.0575 -0.0580  0.0651  \n",
              "2  0.0570 -0.0424 -0.0192  0.0599  \n",
              "3 -0.0117  0.0066 -0.0165  0.0645  \n",
              "4  0.0335  0.0124 -0.0084 -0.0431  \n",
              "\n",
              "[5 rows x 301 columns]"
            ]
          },
          "execution_count": 65,
          "metadata": {},
          "output_type": "execute_result"
        }
      ],
      "source": [
        "dataframe1.head()"
      ]
    },
    {
      "cell_type": "code",
      "execution_count": null,
      "metadata": {
        "id": "gVXW0qktKU7d"
      },
      "outputs": [],
      "source": [
        "comm = set(dataframe1[0])"
      ]
    },
    {
      "cell_type": "code",
      "execution_count": null,
      "metadata": {
        "id": "8Rn0r8pFKVDY"
      },
      "outputs": [],
      "source": [
        "word_not_found_comm = non_duplicated_words - comm"
      ]
    },
    {
      "cell_type": "code",
      "execution_count": null,
      "metadata": {
        "colab": {
          "base_uri": "https://localhost:8080/"
        },
        "id": "rIv_ZeU2OTAT",
        "outputId": "34017463-6392-4073-8fd3-f22bee5d01c0"
      },
      "outputs": [
        {
          "data": {
            "text/plain": [
              "148"
            ]
          },
          "execution_count": 36,
          "metadata": {},
          "output_type": "execute_result"
        }
      ],
      "source": [
        "len(word_not_found_comm)"
      ]
    },
    {
      "cell_type": "code",
      "execution_count": null,
      "metadata": {
        "id": "p13c13iEOTHy"
      },
      "outputs": [],
      "source": [
        "# correct these words\n",
        "\n",
        "# importing the nltk suite \n",
        "import nltk\n",
        "  \n",
        "# importing jaccard distance\n",
        "# and ngrams from nltk.util\n",
        "from nltk.metrics.distance import jaccard_distance\n",
        "from nltk.util import ngrams"
      ]
    },
    {
      "cell_type": "code",
      "execution_count": null,
      "metadata": {
        "colab": {
          "base_uri": "https://localhost:8080/"
        },
        "id": "9Z3G7eFQOTMd",
        "outputId": "41388ac4-22fc-47df-b0e3-2bae07e6f9c7"
      },
      "outputs": [
        {
          "name": "stderr",
          "output_type": "stream",
          "text": [
            "[nltk_data] Downloading package words to /root/nltk_data...\n",
            "[nltk_data]   Unzipping corpora/words.zip.\n"
          ]
        }
      ],
      "source": [
        "# Downloading and importing\n",
        "# package 'words' from nltk corpus\n",
        "nltk.download('words')\n",
        "from nltk.corpus import words\n",
        "  \n",
        "  \n",
        "correct_words = words.words()"
      ]
    },
    {
      "cell_type": "code",
      "execution_count": null,
      "metadata": {
        "colab": {
          "base_uri": "https://localhost:8080/"
        },
        "id": "4XDY5qHbOkq2",
        "outputId": "0a655b62-402f-467d-d692-cce890ca8503"
      },
      "outputs": [
        {
          "data": {
            "text/plain": [
              "122"
            ]
          },
          "execution_count": 39,
          "metadata": {},
          "output_type": "execute_result"
        }
      ],
      "source": [
        "len(set(word_not_found).intersection(word_not_found_comm))"
      ]
    },
    {
      "cell_type": "code",
      "execution_count": null,
      "metadata": {
        "id": "ufbXqHKdOTQv"
      },
      "outputs": [],
      "source": [
        "# list of incorrect spellings\n",
        "# that need to be corrected \n",
        "incorrect_words = word_not_found\n",
        "correct_wiki = {}\n",
        "# loop for finding correct spellings\n",
        "# based on jaccard distance\n",
        "# and printing the correct word\n",
        "for word in incorrect_words:\n",
        "    if not word:\n",
        "      continue\n",
        "    temp = [(jaccard_distance(set(ngrams(word, 2)),\n",
        "                              set(ngrams(w, 2))),w)\n",
        "            for w in correct_words if w[0]==word[0]]\n",
        "    correct_wiki[word] = sorted(temp, key = lambda val:val[0])[0][1]"
      ]
    },
    {
      "cell_type": "code",
      "execution_count": null,
      "metadata": {
        "id": "2DPg9B8qOTVW"
      },
      "outputs": [],
      "source": [
        "# list of incorrect spellings\n",
        "# that need to be corrected \n",
        "incorrect_words = word_not_found_comm\n",
        "correct_comm = {}\n",
        "# loop for finding correct spellings\n",
        "# based on jaccard distance\n",
        "# and printing the correct word\n",
        "for word in incorrect_words:\n",
        "    if not word:\n",
        "      continue\n",
        "    if word in correct_wiki.keys():\n",
        "      correct_comm[word] = correct_wiki[word]\n",
        "    else:\n",
        "      temp = [(jaccard_distance(set(ngrams(word, 2)),\n",
        "                                set(ngrams(w, 2))),w)\n",
        "              for w in correct_words if w[0]==word[0]]\n",
        "      correct_comm[word] = sorted(temp, key = lambda val:val[0])[0][1]"
      ]
    },
    {
      "cell_type": "code",
      "execution_count": null,
      "metadata": {
        "id": "LPLLzuEYOTZh"
      },
      "outputs": [],
      "source": [
        "## get a dict for word_not_found and word_not_found_comm : correct_wiki and correct_comm\n",
        "\n",
        "def correct_slangs(sentence):\n",
        "  for i,word in enumerate(sentence):\n",
        "    if word in correct_wiki.keys():\n",
        "      sentence[i] = correct_wiki[word]\n",
        "    elif word in correct_comm.keys():\n",
        "      sentence[i] = correct_comm[word]\n",
        "  return sentence\n",
        "\n",
        "df_all['Corrected_Slangs'] = df_all['Clean_Words'].apply(lambda x: correct_slangs(x))"
      ]
    },
    {
      "cell_type": "code",
      "execution_count": null,
      "metadata": {
        "colab": {
          "base_uri": "https://localhost:8080/"
        },
        "id": "NsGUYyC2OTeD",
        "outputId": "5f903d0f-f9bc-4283-d472-b11a36c6aa92"
      },
      "outputs": [
        {
          "data": {
            "text/plain": [
              "0        None\n",
              "1        None\n",
              "2        None\n",
              "3        None\n",
              "4        None\n",
              "         ... \n",
              "18022    None\n",
              "18023    None\n",
              "18024    None\n",
              "18025    None\n",
              "18026    None\n",
              "Name: Corrected_Slangs, Length: 18027, dtype: object"
            ]
          },
          "execution_count": 43,
          "metadata": {},
          "output_type": "execute_result"
        }
      ],
      "source": [
        "# embeddings_wiki\n",
        "all_words = []\n",
        "df_all['Corrected_Slangs'].apply(lambda x: all_words.extend(x))"
      ]
    },
    {
      "cell_type": "code",
      "execution_count": null,
      "metadata": {
        "colab": {
          "base_uri": "https://localhost:8080/"
        },
        "id": "nFQmloxrOTia",
        "outputId": "e2deec77-f163-432c-b759-5994a3c7d01b"
      },
      "outputs": [
        {
          "data": {
            "text/plain": [
              "2200"
            ]
          },
          "execution_count": 44,
          "metadata": {},
          "output_type": "execute_result"
        }
      ],
      "source": [
        "all_corrected_words  = set(all_words)\n",
        "len(all_corrected_words)"
      ]
    },
    {
      "cell_type": "code",
      "execution_count": null,
      "metadata": {
        "id": "P87gUXs3OTmb"
      },
      "outputs": [],
      "source": [
        "# again get a dictionary for wiki and common sense embeddings\n",
        "\n",
        "count = 0 \n",
        "embeddings_wiki = {}\n",
        "word_not_found = []\n",
        "for word in all_corrected_words:\n",
        "  try:\n",
        "    embeddings_wiki[word] = wiki2vec.get_word_vector(word)\n",
        "  except Exception as e: \n",
        "    embeddings_wiki[word] = []\n",
        "    word_not_found.append(word)\n",
        "    count +=1"
      ]
    },
    {
      "cell_type": "code",
      "execution_count": null,
      "metadata": {
        "colab": {
          "base_uri": "https://localhost:8080/"
        },
        "id": "fAPuuQ1yPBL9",
        "outputId": "b25ab0c3-ee3a-4df7-8095-ee956361b0a9"
      },
      "outputs": [
        {
          "data": {
            "text/plain": [
              "42"
            ]
          },
          "execution_count": 46,
          "metadata": {},
          "output_type": "execute_result"
        }
      ],
      "source": [
        "len(word_not_found) # now the count has reduced "
      ]
    },
    {
      "cell_type": "code",
      "execution_count": null,
      "metadata": {
        "colab": {
          "base_uri": "https://localhost:8080/"
        },
        "id": "09N3om7_PBVb",
        "outputId": "d912fc44-059f-4948-b577-1be6d2091e1f"
      },
      "outputs": [
        {
          "data": {
            "text/plain": [
              "34"
            ]
          },
          "execution_count": 47,
          "metadata": {},
          "output_type": "execute_result"
        }
      ],
      "source": [
        "word_not_found_comm = all_corrected_words - comm\n",
        "len(word_not_found_comm) # the count has drastically reduced"
      ]
    },
    {
      "cell_type": "code",
      "execution_count": null,
      "metadata": {
        "id": "L9fllCaxPBcr"
      },
      "outputs": [],
      "source": [
        "word_not = word_not_found\n",
        "word_not.extend(list(word_not_found_comm))\n",
        "combined_words_not_found = set(word_not)"
      ]
    },
    {
      "cell_type": "code",
      "execution_count": null,
      "metadata": {
        "colab": {
          "base_uri": "https://localhost:8080/"
        },
        "id": "gKhCBhpzPBkw",
        "outputId": "e7892c48-e566-4188-e066-22ffd666ee11"
      },
      "outputs": [
        {
          "data": {
            "text/plain": [
              "49"
            ]
          },
          "execution_count": 49,
          "metadata": {},
          "output_type": "execute_result"
        }
      ],
      "source": [
        "len(combined_words_not_found) # total words not found"
      ]
    },
    {
      "cell_type": "code",
      "execution_count": null,
      "metadata": {
        "colab": {
          "base_uri": "https://localhost:8080/"
        },
        "id": "-qgWjeuCP5AD",
        "outputId": "c6f9eb36-8129-48cf-81aa-661c80f90adb"
      },
      "outputs": [
        {
          "data": {
            "text/plain": [
              "memmap([ 0.24724743,  0.4651903 ,  0.38319835,  0.328233  ,  0.14385353,\n",
              "        -0.42752618,  0.01141383,  0.02232225, -0.19331492,  0.0703882 ,\n",
              "        -0.5805417 ,  0.14102893,  0.45068747,  0.26925737,  0.21854442,\n",
              "        -0.47429055, -0.4181923 , -0.9139601 ,  0.18689631,  0.44131815,\n",
              "         0.04496343, -0.09996334, -0.6302024 ,  0.30706885, -0.21534294,\n",
              "        -0.0092533 ,  0.3118009 ,  0.04409637, -0.19713783,  0.5135752 ,\n",
              "        -0.03135378,  0.0640569 ,  0.16348168,  0.6406924 , -0.23895973,\n",
              "         0.27439308, -0.35348892,  0.01254284, -0.134286  ,  0.03579426,\n",
              "         0.16763787,  0.50312096, -0.21392022, -0.18649475, -0.5139362 ,\n",
              "        -0.35911593, -0.43595147,  0.51012164, -0.78008294,  0.6427339 ,\n",
              "        -0.38034558,  0.43282136, -0.15299968,  0.10309675,  0.18015055,\n",
              "        -0.12433811,  0.02195916,  0.3586755 ,  0.5013271 , -0.05701384,\n",
              "        -0.28100052, -0.37544096,  0.26839805,  0.43831173,  0.40358406,\n",
              "        -0.21364388, -0.5933987 , -0.18315598,  0.14533545, -0.08383226,\n",
              "        -0.5411656 ,  0.15607452, -0.30036458,  0.42802134, -0.6590993 ,\n",
              "        -0.2689051 , -0.19867349, -0.10020309,  0.26233146, -0.33875376,\n",
              "         0.6306378 , -0.09053894, -0.16580871, -0.17762671, -0.4198805 ,\n",
              "         0.2163625 ,  0.40175635,  0.36880532,  0.01583402,  0.16515702,\n",
              "         0.33132195,  0.27062345,  0.6478188 , -0.08698747,  0.31730664,\n",
              "        -0.3305752 ,  0.1107038 , -0.3350131 , -0.2538049 , -0.19116981],\n",
              "       dtype=float32)"
            ]
          },
          "execution_count": 59,
          "metadata": {},
          "output_type": "execute_result"
        }
      ],
      "source": [
        "wiki2vec.get_word_vector(\"didnt\")"
      ]
    },
    {
      "cell_type": "code",
      "execution_count": null,
      "metadata": {
        "colab": {
          "base_uri": "https://localhost:8080/"
        },
        "id": "NqAf2h-BQX_M",
        "outputId": "3d373a39-5143-4633-dd70-a0bfad01e890"
      },
      "outputs": [
        {
          "data": {
            "text/plain": [
              "set()"
            ]
          },
          "execution_count": 60,
          "metadata": {},
          "output_type": "execute_result"
        }
      ],
      "source": [
        "comm.intersection(set(['didnt']))"
      ]
    },
    {
      "cell_type": "code",
      "execution_count": null,
      "metadata": {
        "colab": {
          "base_uri": "https://localhost:8080/"
        },
        "id": "hSzHdRwyPsB2",
        "outputId": "c8efebeb-44c6-4396-c573-94d38b6bc910"
      },
      "outputs": [
        {
          "data": {
            "text/plain": [
              "{'',\n",
              " 'adagial',\n",
              " 'artemisic',\n",
              " 'communa',\n",
              " 'covid',\n",
              " 'didnt',\n",
              " 'doesnt',\n",
              " 'feelingless',\n",
              " 'forefeelingly',\n",
              " 'gaybine',\n",
              " 'hariolation',\n",
              " 'harmonici',\n",
              " 'helide',\n",
              " 'hospitation',\n",
              " 'hyperessence',\n",
              " 'itamalic',\n",
              " 'levelman',\n",
              " 'lindoite',\n",
              " 'lithotome',\n",
              " 'longisection',\n",
              " 'lovelily',\n",
              " 'mandibulosuspensorial',\n",
              " 'messan',\n",
              " 'minoress',\n",
              " 'nonprofane',\n",
              " 'perorative',\n",
              " 'phonometer',\n",
              " 'polyglottically',\n",
              " 'predivorce',\n",
              " 'prerelationship',\n",
              " 'raticide',\n",
              " 'semilined',\n",
              " 'semiproven',\n",
              " 'semisteel',\n",
              " 'shouldnt',\n",
              " 'shovelfish',\n",
              " 'subedit',\n",
              " 'suicidical',\n",
              " 'sunshining',\n",
              " 'supportance',\n",
              " 'thermopenetration',\n",
              " 'theyll',\n",
              " 'thoroughfaresome',\n",
              " 'trapstick',\n",
              " 'vortiginous',\n",
              " 'wasnt',\n",
              " 'wayberry',\n",
              " 'werent',\n",
              " 'youve'}"
            ]
          },
          "execution_count": 55,
          "metadata": {},
          "output_type": "execute_result"
        }
      ],
      "source": [
        "combined_words_not_found"
      ]
    },
    {
      "cell_type": "code",
      "execution_count": null,
      "metadata": {
        "colab": {
          "base_uri": "https://localhost:8080/",
          "height": 424
        },
        "id": "I05kdJ1FPBrS",
        "outputId": "c0a90b9a-a615-45cd-9504-ad22cf288d3e"
      },
      "outputs": [
        {
          "data": {
            "text/html": [
              "\n",
              "  <div id=\"df-4ebc4dcc-4e88-41e9-869d-93a3d520e19a\">\n",
              "    <div class=\"colab-df-container\">\n",
              "      <div>\n",
              "<style scoped>\n",
              "    .dataframe tbody tr th:only-of-type {\n",
              "        vertical-align: middle;\n",
              "    }\n",
              "\n",
              "    .dataframe tbody tr th {\n",
              "        vertical-align: top;\n",
              "    }\n",
              "\n",
              "    .dataframe thead th {\n",
              "        text-align: right;\n",
              "    }\n",
              "</style>\n",
              "<table border=\"1\" class=\"dataframe\">\n",
              "  <thead>\n",
              "    <tr style=\"text-align: right;\">\n",
              "      <th></th>\n",
              "      <th>post_title</th>\n",
              "      <th>annotations</th>\n",
              "      <th>label</th>\n",
              "      <th>sentences</th>\n",
              "      <th>words</th>\n",
              "      <th>Clean_Words</th>\n",
              "      <th>Corrected_Slangs</th>\n",
              "    </tr>\n",
              "  </thead>\n",
              "  <tbody>\n",
              "    <tr>\n",
              "      <th>0</th>\n",
              "      <td>I don't feel original anymore.</td>\n",
              "      <td>Feeling-bad-about-yourself-or-that-you-are-a-f...</td>\n",
              "      <td>yes</td>\n",
              "      <td>I don't feel original anymore. Feeling-bad-abo...</td>\n",
              "      <td>[I, don't, feel, original, anymore., Feeling-b...</td>\n",
              "      <td>[i, dont, feel, original, anymore, forefeelingly]</td>\n",
              "      <td>[i, dont, feel, original, anymore, forefeelingly]</td>\n",
              "    </tr>\n",
              "    <tr>\n",
              "      <th>1</th>\n",
              "      <td>I don't feel original anymore.</td>\n",
              "      <td>Feeling-down-depressed-or-hopeless</td>\n",
              "      <td>no</td>\n",
              "      <td>I don't feel original anymore. Feeling-down-de...</td>\n",
              "      <td>[I, don't, feel, original, anymore., Feeling-d...</td>\n",
              "      <td>[i, dont, feel, original, anymore, feelingless]</td>\n",
              "      <td>[i, dont, feel, original, anymore, feelingless]</td>\n",
              "    </tr>\n",
              "    <tr>\n",
              "      <th>2</th>\n",
              "      <td>I don't feel original anymore.</td>\n",
              "      <td>Feeling-tired-or-having-little-energy</td>\n",
              "      <td>yes</td>\n",
              "      <td>I don't feel original anymore. Feeling-tired-o...</td>\n",
              "      <td>[I, don't, feel, original, anymore., Feeling-t...</td>\n",
              "      <td>[i, dont, feel, original, anymore, forefeelingly]</td>\n",
              "      <td>[i, dont, feel, original, anymore, forefeelingly]</td>\n",
              "    </tr>\n",
              "    <tr>\n",
              "      <th>3</th>\n",
              "      <td>I don't feel original anymore.</td>\n",
              "      <td>Little-interest-or-pleasure-in-doing</td>\n",
              "      <td>yes</td>\n",
              "      <td>I don't feel original anymore. Little-interest...</td>\n",
              "      <td>[I, don't, feel, original, anymore., Little-in...</td>\n",
              "      <td>[i, dont, feel, original, anymore, lindoite, ]</td>\n",
              "      <td>[i, dont, feel, original, anymore, lindoite, ]</td>\n",
              "    </tr>\n",
              "    <tr>\n",
              "      <th>4</th>\n",
              "      <td>I don't feel original anymore.</td>\n",
              "      <td>Moving-or-speaking-so-slowly-that-other-people...</td>\n",
              "      <td>no</td>\n",
              "      <td>I don't feel original anymore. Moving-or-speak...</td>\n",
              "      <td>[I, don't, feel, original, anymore., Moving-or...</td>\n",
              "      <td>[i, dont, feel, original, anymore, mandibulosu...</td>\n",
              "      <td>[i, dont, feel, original, anymore, mandibulosu...</td>\n",
              "    </tr>\n",
              "  </tbody>\n",
              "</table>\n",
              "</div>\n",
              "      <button class=\"colab-df-convert\" onclick=\"convertToInteractive('df-4ebc4dcc-4e88-41e9-869d-93a3d520e19a')\"\n",
              "              title=\"Convert this dataframe to an interactive table.\"\n",
              "              style=\"display:none;\">\n",
              "        \n",
              "  <svg xmlns=\"http://www.w3.org/2000/svg\" height=\"24px\"viewBox=\"0 0 24 24\"\n",
              "       width=\"24px\">\n",
              "    <path d=\"M0 0h24v24H0V0z\" fill=\"none\"/>\n",
              "    <path d=\"M18.56 5.44l.94 2.06.94-2.06 2.06-.94-2.06-.94-.94-2.06-.94 2.06-2.06.94zm-11 1L8.5 8.5l.94-2.06 2.06-.94-2.06-.94L8.5 2.5l-.94 2.06-2.06.94zm10 10l.94 2.06.94-2.06 2.06-.94-2.06-.94-.94-2.06-.94 2.06-2.06.94z\"/><path d=\"M17.41 7.96l-1.37-1.37c-.4-.4-.92-.59-1.43-.59-.52 0-1.04.2-1.43.59L10.3 9.45l-7.72 7.72c-.78.78-.78 2.05 0 2.83L4 21.41c.39.39.9.59 1.41.59.51 0 1.02-.2 1.41-.59l7.78-7.78 2.81-2.81c.8-.78.8-2.07 0-2.86zM5.41 20L4 18.59l7.72-7.72 1.47 1.35L5.41 20z\"/>\n",
              "  </svg>\n",
              "      </button>\n",
              "      \n",
              "  <style>\n",
              "    .colab-df-container {\n",
              "      display:flex;\n",
              "      flex-wrap:wrap;\n",
              "      gap: 12px;\n",
              "    }\n",
              "\n",
              "    .colab-df-convert {\n",
              "      background-color: #E8F0FE;\n",
              "      border: none;\n",
              "      border-radius: 50%;\n",
              "      cursor: pointer;\n",
              "      display: none;\n",
              "      fill: #1967D2;\n",
              "      height: 32px;\n",
              "      padding: 0 0 0 0;\n",
              "      width: 32px;\n",
              "    }\n",
              "\n",
              "    .colab-df-convert:hover {\n",
              "      background-color: #E2EBFA;\n",
              "      box-shadow: 0px 1px 2px rgba(60, 64, 67, 0.3), 0px 1px 3px 1px rgba(60, 64, 67, 0.15);\n",
              "      fill: #174EA6;\n",
              "    }\n",
              "\n",
              "    [theme=dark] .colab-df-convert {\n",
              "      background-color: #3B4455;\n",
              "      fill: #D2E3FC;\n",
              "    }\n",
              "\n",
              "    [theme=dark] .colab-df-convert:hover {\n",
              "      background-color: #434B5C;\n",
              "      box-shadow: 0px 1px 3px 1px rgba(0, 0, 0, 0.15);\n",
              "      filter: drop-shadow(0px 1px 2px rgba(0, 0, 0, 0.3));\n",
              "      fill: #FFFFFF;\n",
              "    }\n",
              "  </style>\n",
              "\n",
              "      <script>\n",
              "        const buttonEl =\n",
              "          document.querySelector('#df-4ebc4dcc-4e88-41e9-869d-93a3d520e19a button.colab-df-convert');\n",
              "        buttonEl.style.display =\n",
              "          google.colab.kernel.accessAllowed ? 'block' : 'none';\n",
              "\n",
              "        async function convertToInteractive(key) {\n",
              "          const element = document.querySelector('#df-4ebc4dcc-4e88-41e9-869d-93a3d520e19a');\n",
              "          const dataTable =\n",
              "            await google.colab.kernel.invokeFunction('convertToInteractive',\n",
              "                                                     [key], {});\n",
              "          if (!dataTable) return;\n",
              "\n",
              "          const docLinkHtml = 'Like what you see? Visit the ' +\n",
              "            '<a target=\"_blank\" href=https://colab.research.google.com/notebooks/data_table.ipynb>data table notebook</a>'\n",
              "            + ' to learn more about interactive tables.';\n",
              "          element.innerHTML = '';\n",
              "          dataTable['output_type'] = 'display_data';\n",
              "          await google.colab.output.renderOutput(dataTable, element);\n",
              "          const docLink = document.createElement('div');\n",
              "          docLink.innerHTML = docLinkHtml;\n",
              "          element.appendChild(docLink);\n",
              "        }\n",
              "      </script>\n",
              "    </div>\n",
              "  </div>\n",
              "  "
            ],
            "text/plain": [
              "                       post_title  \\\n",
              "0  I don't feel original anymore.   \n",
              "1  I don't feel original anymore.   \n",
              "2  I don't feel original anymore.   \n",
              "3  I don't feel original anymore.   \n",
              "4  I don't feel original anymore.   \n",
              "\n",
              "                                         annotations label  \\\n",
              "0  Feeling-bad-about-yourself-or-that-you-are-a-f...   yes   \n",
              "1                 Feeling-down-depressed-or-hopeless    no   \n",
              "2              Feeling-tired-or-having-little-energy   yes   \n",
              "3              Little-interest-or-pleasure-in-doing    yes   \n",
              "4  Moving-or-speaking-so-slowly-that-other-people...    no   \n",
              "\n",
              "                                           sentences  \\\n",
              "0  I don't feel original anymore. Feeling-bad-abo...   \n",
              "1  I don't feel original anymore. Feeling-down-de...   \n",
              "2  I don't feel original anymore. Feeling-tired-o...   \n",
              "3  I don't feel original anymore. Little-interest...   \n",
              "4  I don't feel original anymore. Moving-or-speak...   \n",
              "\n",
              "                                               words  \\\n",
              "0  [I, don't, feel, original, anymore., Feeling-b...   \n",
              "1  [I, don't, feel, original, anymore., Feeling-d...   \n",
              "2  [I, don't, feel, original, anymore., Feeling-t...   \n",
              "3  [I, don't, feel, original, anymore., Little-in...   \n",
              "4  [I, don't, feel, original, anymore., Moving-or...   \n",
              "\n",
              "                                         Clean_Words  \\\n",
              "0  [i, dont, feel, original, anymore, forefeelingly]   \n",
              "1    [i, dont, feel, original, anymore, feelingless]   \n",
              "2  [i, dont, feel, original, anymore, forefeelingly]   \n",
              "3     [i, dont, feel, original, anymore, lindoite, ]   \n",
              "4  [i, dont, feel, original, anymore, mandibulosu...   \n",
              "\n",
              "                                    Corrected_Slangs  \n",
              "0  [i, dont, feel, original, anymore, forefeelingly]  \n",
              "1    [i, dont, feel, original, anymore, feelingless]  \n",
              "2  [i, dont, feel, original, anymore, forefeelingly]  \n",
              "3     [i, dont, feel, original, anymore, lindoite, ]  \n",
              "4  [i, dont, feel, original, anymore, mandibulosu...  "
            ]
          },
          "execution_count": 50,
          "metadata": {},
          "output_type": "execute_result"
        }
      ],
      "source": [
        "df_all.head()"
      ]
    },
    {
      "cell_type": "code",
      "execution_count": null,
      "metadata": {
        "id": "dNykTsfFKVHv"
      },
      "outputs": [],
      "source": [
        "# remove the final leftover slang sentences from our dataset. \n",
        "\n",
        "def is_slang(sentence):\n",
        "  for word in sentence:\n",
        "    if word in combined_words_not_found:\n",
        "      return True\n",
        "  return False\n",
        "\n",
        "df_all['isSlang'] = df_all.Corrected_Slangs.apply(lambda x: is_slang(x))"
      ]
    },
    {
      "cell_type": "code",
      "execution_count": null,
      "metadata": {
        "id": "3CnRPhPUPTCp"
      },
      "outputs": [],
      "source": [
        "without_slangs_df = df_all[df_all.isSlang == False]"
      ]
    },
    {
      "cell_type": "code",
      "execution_count": null,
      "metadata": {
        "colab": {
          "base_uri": "https://localhost:8080/",
          "height": 815
        },
        "id": "SFTgNr_FPTIA",
        "outputId": "d1f32558-e254-4edd-ed25-c00346d742ac"
      },
      "outputs": [
        {
          "data": {
            "text/html": [
              "\n",
              "  <div id=\"df-7e355a74-6cb3-4a3e-884c-601b25fb1658\">\n",
              "    <div class=\"colab-df-container\">\n",
              "      <div>\n",
              "<style scoped>\n",
              "    .dataframe tbody tr th:only-of-type {\n",
              "        vertical-align: middle;\n",
              "    }\n",
              "\n",
              "    .dataframe tbody tr th {\n",
              "        vertical-align: top;\n",
              "    }\n",
              "\n",
              "    .dataframe thead th {\n",
              "        text-align: right;\n",
              "    }\n",
              "</style>\n",
              "<table border=\"1\" class=\"dataframe\">\n",
              "  <thead>\n",
              "    <tr style=\"text-align: right;\">\n",
              "      <th></th>\n",
              "      <th>post_title</th>\n",
              "      <th>annotations</th>\n",
              "      <th>label</th>\n",
              "      <th>sentences</th>\n",
              "      <th>words</th>\n",
              "      <th>Clean_Words</th>\n",
              "      <th>Corrected_Slangs</th>\n",
              "      <th>isSlang</th>\n",
              "    </tr>\n",
              "  </thead>\n",
              "  <tbody>\n",
              "    <tr>\n",
              "      <th>8</th>\n",
              "      <td>I don't feel original anymore.</td>\n",
              "      <td>Trouble-falling-or-staying-asleep-or-sleeping-...</td>\n",
              "      <td>no</td>\n",
              "      <td>I don't feel original anymore. Trouble-falling...</td>\n",
              "      <td>[I, don't, feel, original, anymore., Trouble-f...</td>\n",
              "      <td>[i, dont, feel, original, anymore, troubling]</td>\n",
              "      <td>[i, dont, feel, original, anymore, troubling]</td>\n",
              "      <td>False</td>\n",
              "    </tr>\n",
              "    <tr>\n",
              "      <th>17</th>\n",
              "      <td>I don’t have anyone to talk to and I don’t kno...</td>\n",
              "      <td>Trouble-falling-or-staying-asleep-or-sleeping-...</td>\n",
              "      <td>no</td>\n",
              "      <td>I don’t have anyone to talk to and I don’t kno...</td>\n",
              "      <td>[I, don’t, have, anyone, to, talk, to, and, I,...</td>\n",
              "      <td>[i, dont, have, anyone, to, talk, to, and, i, ...</td>\n",
              "      <td>[i, dont, have, anyone, to, talk, to, and, i, ...</td>\n",
              "      <td>False</td>\n",
              "    </tr>\n",
              "    <tr>\n",
              "      <th>26</th>\n",
              "      <td>Stuck between moving forward and killing myself</td>\n",
              "      <td>Trouble-falling-or-staying-asleep-or-sleeping-...</td>\n",
              "      <td>no</td>\n",
              "      <td>Stuck between moving forward and killing mysel...</td>\n",
              "      <td>[Stuck, between, moving, forward, and, killing...</td>\n",
              "      <td>[stuck, between, moving, forward, and, killing...</td>\n",
              "      <td>[stuck, between, moving, forward, and, killing...</td>\n",
              "      <td>False</td>\n",
              "    </tr>\n",
              "    <tr>\n",
              "      <th>35</th>\n",
              "      <td>I need help on how to help my girlfriend.</td>\n",
              "      <td>Trouble-falling-or-staying-asleep-or-sleeping-...</td>\n",
              "      <td>no</td>\n",
              "      <td>I need help on how to help my girlfriend. Trou...</td>\n",
              "      <td>[I, need, help, on, how, to, help, my, girlfri...</td>\n",
              "      <td>[i, need, help, on, how, to, help, my, girlfri...</td>\n",
              "      <td>[i, need, help, on, how, to, help, my, girlfri...</td>\n",
              "      <td>False</td>\n",
              "    </tr>\n",
              "    <tr>\n",
              "      <th>44</th>\n",
              "      <td>I've been feeling this way for some tine</td>\n",
              "      <td>Trouble-falling-or-staying-asleep-or-sleeping-...</td>\n",
              "      <td>no</td>\n",
              "      <td>I've been feeling this way for some tine Troub...</td>\n",
              "      <td>[I've, been, feeling, this, way, for, some, ti...</td>\n",
              "      <td>[ive, been, feeling, this, way, for, some, tin...</td>\n",
              "      <td>[ive, been, feeling, this, way, for, some, tin...</td>\n",
              "      <td>False</td>\n",
              "    </tr>\n",
              "    <tr>\n",
              "      <th>...</th>\n",
              "      <td>...</td>\n",
              "      <td>...</td>\n",
              "      <td>...</td>\n",
              "      <td>...</td>\n",
              "      <td>...</td>\n",
              "      <td>...</td>\n",
              "      <td>...</td>\n",
              "      <td>...</td>\n",
              "    </tr>\n",
              "    <tr>\n",
              "      <th>17981</th>\n",
              "      <td>Feeling frustrated/numb for no good reason?</td>\n",
              "      <td>Trouble-falling-or-staying-asleep-or-sleeping-...</td>\n",
              "      <td>no</td>\n",
              "      <td>Feeling frustrated/numb for no good reason? Tr...</td>\n",
              "      <td>[Feeling, frustrated/numb, for, no, good, reas...</td>\n",
              "      <td>[feeling, frustrate, for, no, good, reason, tr...</td>\n",
              "      <td>[feeling, frustrate, for, no, good, reason, tr...</td>\n",
              "      <td>False</td>\n",
              "    </tr>\n",
              "    <tr>\n",
              "      <th>17999</th>\n",
              "      <td>How do i force myself to go to the gym when i ...</td>\n",
              "      <td>Trouble-falling-or-staying-asleep-or-sleeping-...</td>\n",
              "      <td>no</td>\n",
              "      <td>How do i force myself to go to the gym when i ...</td>\n",
              "      <td>[How, do, i, force, myself, to, go, to, the, g...</td>\n",
              "      <td>[how, do, i, force, myself, to, go, to, the, g...</td>\n",
              "      <td>[how, do, i, force, myself, to, go, to, the, g...</td>\n",
              "      <td>False</td>\n",
              "    </tr>\n",
              "    <tr>\n",
              "      <th>18008</th>\n",
              "      <td>I've always been depressed but somethings diff...</td>\n",
              "      <td>Trouble-falling-or-staying-asleep-or-sleeping-...</td>\n",
              "      <td>no</td>\n",
              "      <td>I've always been depressed but somethings diff...</td>\n",
              "      <td>[I've, always, been, depressed, but, something...</td>\n",
              "      <td>[ive, always, been, depressed, but, somethings...</td>\n",
              "      <td>[ive, always, been, depressed, but, somethings...</td>\n",
              "      <td>False</td>\n",
              "    </tr>\n",
              "    <tr>\n",
              "      <th>18017</th>\n",
              "      <td>My girlfriend wants to commit s, I don't know ...</td>\n",
              "      <td>Trouble-falling-or-staying-asleep-or-sleeping-...</td>\n",
              "      <td>no</td>\n",
              "      <td>My girlfriend wants to commit s, I don't know ...</td>\n",
              "      <td>[My, girlfriend, wants, to, commit, s,, I, don...</td>\n",
              "      <td>[my, girlfriend, wants, to, commit, s, i, dont...</td>\n",
              "      <td>[my, girlfriend, wants, to, commit, s, i, dont...</td>\n",
              "      <td>False</td>\n",
              "    </tr>\n",
              "    <tr>\n",
              "      <th>18026</th>\n",
              "      <td>When you're the rock but have no one to lean on.</td>\n",
              "      <td>Trouble-falling-or-staying-asleep-or-sleeping-...</td>\n",
              "      <td>no</td>\n",
              "      <td>When you're the rock but have no one to lean o...</td>\n",
              "      <td>[When, you're, the, rock, but, have, no, one, ...</td>\n",
              "      <td>[when, youre, the, rock, but, have, no, one, t...</td>\n",
              "      <td>[when, youre, the, rock, but, have, no, one, t...</td>\n",
              "      <td>False</td>\n",
              "    </tr>\n",
              "  </tbody>\n",
              "</table>\n",
              "<p>1804 rows × 8 columns</p>\n",
              "</div>\n",
              "      <button class=\"colab-df-convert\" onclick=\"convertToInteractive('df-7e355a74-6cb3-4a3e-884c-601b25fb1658')\"\n",
              "              title=\"Convert this dataframe to an interactive table.\"\n",
              "              style=\"display:none;\">\n",
              "        \n",
              "  <svg xmlns=\"http://www.w3.org/2000/svg\" height=\"24px\"viewBox=\"0 0 24 24\"\n",
              "       width=\"24px\">\n",
              "    <path d=\"M0 0h24v24H0V0z\" fill=\"none\"/>\n",
              "    <path d=\"M18.56 5.44l.94 2.06.94-2.06 2.06-.94-2.06-.94-.94-2.06-.94 2.06-2.06.94zm-11 1L8.5 8.5l.94-2.06 2.06-.94-2.06-.94L8.5 2.5l-.94 2.06-2.06.94zm10 10l.94 2.06.94-2.06 2.06-.94-2.06-.94-.94-2.06-.94 2.06-2.06.94z\"/><path d=\"M17.41 7.96l-1.37-1.37c-.4-.4-.92-.59-1.43-.59-.52 0-1.04.2-1.43.59L10.3 9.45l-7.72 7.72c-.78.78-.78 2.05 0 2.83L4 21.41c.39.39.9.59 1.41.59.51 0 1.02-.2 1.41-.59l7.78-7.78 2.81-2.81c.8-.78.8-2.07 0-2.86zM5.41 20L4 18.59l7.72-7.72 1.47 1.35L5.41 20z\"/>\n",
              "  </svg>\n",
              "      </button>\n",
              "      \n",
              "  <style>\n",
              "    .colab-df-container {\n",
              "      display:flex;\n",
              "      flex-wrap:wrap;\n",
              "      gap: 12px;\n",
              "    }\n",
              "\n",
              "    .colab-df-convert {\n",
              "      background-color: #E8F0FE;\n",
              "      border: none;\n",
              "      border-radius: 50%;\n",
              "      cursor: pointer;\n",
              "      display: none;\n",
              "      fill: #1967D2;\n",
              "      height: 32px;\n",
              "      padding: 0 0 0 0;\n",
              "      width: 32px;\n",
              "    }\n",
              "\n",
              "    .colab-df-convert:hover {\n",
              "      background-color: #E2EBFA;\n",
              "      box-shadow: 0px 1px 2px rgba(60, 64, 67, 0.3), 0px 1px 3px 1px rgba(60, 64, 67, 0.15);\n",
              "      fill: #174EA6;\n",
              "    }\n",
              "\n",
              "    [theme=dark] .colab-df-convert {\n",
              "      background-color: #3B4455;\n",
              "      fill: #D2E3FC;\n",
              "    }\n",
              "\n",
              "    [theme=dark] .colab-df-convert:hover {\n",
              "      background-color: #434B5C;\n",
              "      box-shadow: 0px 1px 3px 1px rgba(0, 0, 0, 0.15);\n",
              "      filter: drop-shadow(0px 1px 2px rgba(0, 0, 0, 0.3));\n",
              "      fill: #FFFFFF;\n",
              "    }\n",
              "  </style>\n",
              "\n",
              "      <script>\n",
              "        const buttonEl =\n",
              "          document.querySelector('#df-7e355a74-6cb3-4a3e-884c-601b25fb1658 button.colab-df-convert');\n",
              "        buttonEl.style.display =\n",
              "          google.colab.kernel.accessAllowed ? 'block' : 'none';\n",
              "\n",
              "        async function convertToInteractive(key) {\n",
              "          const element = document.querySelector('#df-7e355a74-6cb3-4a3e-884c-601b25fb1658');\n",
              "          const dataTable =\n",
              "            await google.colab.kernel.invokeFunction('convertToInteractive',\n",
              "                                                     [key], {});\n",
              "          if (!dataTable) return;\n",
              "\n",
              "          const docLinkHtml = 'Like what you see? Visit the ' +\n",
              "            '<a target=\"_blank\" href=https://colab.research.google.com/notebooks/data_table.ipynb>data table notebook</a>'\n",
              "            + ' to learn more about interactive tables.';\n",
              "          element.innerHTML = '';\n",
              "          dataTable['output_type'] = 'display_data';\n",
              "          await google.colab.output.renderOutput(dataTable, element);\n",
              "          const docLink = document.createElement('div');\n",
              "          docLink.innerHTML = docLinkHtml;\n",
              "          element.appendChild(docLink);\n",
              "        }\n",
              "      </script>\n",
              "    </div>\n",
              "  </div>\n",
              "  "
            ],
            "text/plain": [
              "                                              post_title  \\\n",
              "8                         I don't feel original anymore.   \n",
              "17     I don’t have anyone to talk to and I don’t kno...   \n",
              "26       Stuck between moving forward and killing myself   \n",
              "35             I need help on how to help my girlfriend.   \n",
              "44              I've been feeling this way for some tine   \n",
              "...                                                  ...   \n",
              "17981        Feeling frustrated/numb for no good reason?   \n",
              "17999  How do i force myself to go to the gym when i ...   \n",
              "18008  I've always been depressed but somethings diff...   \n",
              "18017  My girlfriend wants to commit s, I don't know ...   \n",
              "18026   When you're the rock but have no one to lean on.   \n",
              "\n",
              "                                             annotations label  \\\n",
              "8      Trouble-falling-or-staying-asleep-or-sleeping-...    no   \n",
              "17     Trouble-falling-or-staying-asleep-or-sleeping-...    no   \n",
              "26     Trouble-falling-or-staying-asleep-or-sleeping-...    no   \n",
              "35     Trouble-falling-or-staying-asleep-or-sleeping-...    no   \n",
              "44     Trouble-falling-or-staying-asleep-or-sleeping-...    no   \n",
              "...                                                  ...   ...   \n",
              "17981  Trouble-falling-or-staying-asleep-or-sleeping-...    no   \n",
              "17999  Trouble-falling-or-staying-asleep-or-sleeping-...    no   \n",
              "18008  Trouble-falling-or-staying-asleep-or-sleeping-...    no   \n",
              "18017  Trouble-falling-or-staying-asleep-or-sleeping-...    no   \n",
              "18026  Trouble-falling-or-staying-asleep-or-sleeping-...    no   \n",
              "\n",
              "                                               sentences  \\\n",
              "8      I don't feel original anymore. Trouble-falling...   \n",
              "17     I don’t have anyone to talk to and I don’t kno...   \n",
              "26     Stuck between moving forward and killing mysel...   \n",
              "35     I need help on how to help my girlfriend. Trou...   \n",
              "44     I've been feeling this way for some tine Troub...   \n",
              "...                                                  ...   \n",
              "17981  Feeling frustrated/numb for no good reason? Tr...   \n",
              "17999  How do i force myself to go to the gym when i ...   \n",
              "18008  I've always been depressed but somethings diff...   \n",
              "18017  My girlfriend wants to commit s, I don't know ...   \n",
              "18026  When you're the rock but have no one to lean o...   \n",
              "\n",
              "                                                   words  \\\n",
              "8      [I, don't, feel, original, anymore., Trouble-f...   \n",
              "17     [I, don’t, have, anyone, to, talk, to, and, I,...   \n",
              "26     [Stuck, between, moving, forward, and, killing...   \n",
              "35     [I, need, help, on, how, to, help, my, girlfri...   \n",
              "44     [I've, been, feeling, this, way, for, some, ti...   \n",
              "...                                                  ...   \n",
              "17981  [Feeling, frustrated/numb, for, no, good, reas...   \n",
              "17999  [How, do, i, force, myself, to, go, to, the, g...   \n",
              "18008  [I've, always, been, depressed, but, something...   \n",
              "18017  [My, girlfriend, wants, to, commit, s,, I, don...   \n",
              "18026  [When, you're, the, rock, but, have, no, one, ...   \n",
              "\n",
              "                                             Clean_Words  \\\n",
              "8          [i, dont, feel, original, anymore, troubling]   \n",
              "17     [i, dont, have, anyone, to, talk, to, and, i, ...   \n",
              "26     [stuck, between, moving, forward, and, killing...   \n",
              "35     [i, need, help, on, how, to, help, my, girlfri...   \n",
              "44     [ive, been, feeling, this, way, for, some, tin...   \n",
              "...                                                  ...   \n",
              "17981  [feeling, frustrate, for, no, good, reason, tr...   \n",
              "17999  [how, do, i, force, myself, to, go, to, the, g...   \n",
              "18008  [ive, always, been, depressed, but, somethings...   \n",
              "18017  [my, girlfriend, wants, to, commit, s, i, dont...   \n",
              "18026  [when, youre, the, rock, but, have, no, one, t...   \n",
              "\n",
              "                                        Corrected_Slangs  isSlang  \n",
              "8          [i, dont, feel, original, anymore, troubling]    False  \n",
              "17     [i, dont, have, anyone, to, talk, to, and, i, ...    False  \n",
              "26     [stuck, between, moving, forward, and, killing...    False  \n",
              "35     [i, need, help, on, how, to, help, my, girlfri...    False  \n",
              "44     [ive, been, feeling, this, way, for, some, tin...    False  \n",
              "...                                                  ...      ...  \n",
              "17981  [feeling, frustrate, for, no, good, reason, tr...    False  \n",
              "17999  [how, do, i, force, myself, to, go, to, the, g...    False  \n",
              "18008  [ive, always, been, depressed, but, somethings...    False  \n",
              "18017  [my, girlfriend, wants, to, commit, s, i, dont...    False  \n",
              "18026  [when, youre, the, rock, but, have, no, one, t...    False  \n",
              "\n",
              "[1804 rows x 8 columns]"
            ]
          },
          "execution_count": 54,
          "metadata": {},
          "output_type": "execute_result"
        }
      ],
      "source": [
        "without_slangs_df ## the dataframe has reduced drastically"
      ]
    },
    {
      "cell_type": "code",
      "execution_count": null,
      "metadata": {
        "colab": {
          "base_uri": "https://localhost:8080/"
        },
        "id": "o9LIUclgPTM6",
        "outputId": "b2c12f28-967b-4715-ce11-baa01801efcf"
      },
      "outputs": [
        {
          "name": "stderr",
          "output_type": "stream",
          "text": [
            "<ipython-input-61-5a338d5f228f>:10: SettingWithCopyWarning: \n",
            "A value is trying to be set on a copy of a slice from a DataFrame.\n",
            "Try using .loc[row_indexer,col_indexer] = value instead\n",
            "\n",
            "See the caveats in the documentation: https://pandas.pydata.org/pandas-docs/stable/user_guide/indexing.html#returning-a-view-versus-a-copy\n",
            "  without_slangs_df['Sentence_Embedding_Wiki'] = without_slangs_df.Corrected_Slangs.apply(lambda x: get_embeddings(x))\n"
          ]
        }
      ],
      "source": [
        "# fetch the embeddings for wiki\n",
        "# add the embeddings for each sentence\n",
        "\n",
        "def get_embeddings(word_lst):\n",
        "  emb = np.zeros(100)\n",
        "  for word in word_lst:\n",
        "    emb = emb+embeddings_wiki[word] # mathematically adding all the words embeddings\n",
        "  return emb\n",
        "\n",
        "without_slangs_df['Sentence_Embedding_Wiki'] = without_slangs_df.Corrected_Slangs.apply(lambda x: get_embeddings(x))"
      ]
    },
    {
      "cell_type": "code",
      "execution_count": null,
      "metadata": {
        "colab": {
          "base_uri": "https://localhost:8080/"
        },
        "id": "fKQAEfWlPTRG",
        "outputId": "11b73379-a7ed-4cf0-87eb-5430ae0717ff"
      },
      "outputs": [
        {
          "name": "stderr",
          "output_type": "stream",
          "text": [
            "<ipython-input-62-00ecec515cd3>:1: SettingWithCopyWarning: \n",
            "A value is trying to be set on a copy of a slice from a DataFrame.\n",
            "Try using .loc[row_indexer,col_indexer] = value instead\n",
            "\n",
            "See the caveats in the documentation: https://pandas.pydata.org/pandas-docs/stable/user_guide/indexing.html#returning-a-view-versus-a-copy\n",
            "  without_slangs_df['Sentence_Embedding_Wiki_'] = without_slangs_df.Sentence_Embedding_Wiki.apply(lambda x: list(x))\n"
          ]
        }
      ],
      "source": [
        "without_slangs_df['Sentence_Embedding_Wiki_'] = without_slangs_df.Sentence_Embedding_Wiki.apply(lambda x: list(x))"
      ]
    },
    {
      "cell_type": "code",
      "execution_count": null,
      "metadata": {
        "colab": {
          "base_uri": "https://localhost:8080/",
          "height": 206
        },
        "id": "JD2CiyoWPTVI",
        "outputId": "b5b14aaa-ddab-4ede-e4fa-15a24195c049"
      },
      "outputs": [
        {
          "data": {
            "text/html": [
              "\n",
              "  <div id=\"df-6c28fa9b-35c2-4e37-adba-ff9f777dfd92\">\n",
              "    <div class=\"colab-df-container\">\n",
              "      <div>\n",
              "<style scoped>\n",
              "    .dataframe tbody tr th:only-of-type {\n",
              "        vertical-align: middle;\n",
              "    }\n",
              "\n",
              "    .dataframe tbody tr th {\n",
              "        vertical-align: top;\n",
              "    }\n",
              "\n",
              "    .dataframe thead th {\n",
              "        text-align: right;\n",
              "    }\n",
              "</style>\n",
              "<table border=\"1\" class=\"dataframe\">\n",
              "  <thead>\n",
              "    <tr style=\"text-align: right;\">\n",
              "      <th></th>\n",
              "      <th>0</th>\n",
              "      <th>Common_Sense_Embeddings</th>\n",
              "    </tr>\n",
              "  </thead>\n",
              "  <tbody>\n",
              "    <tr>\n",
              "      <th>0</th>\n",
              "      <td>##</td>\n",
              "      <td>[0.0295, -0.0405, -0.0341, 0.0837, -0.0575, 0....</td>\n",
              "    </tr>\n",
              "    <tr>\n",
              "      <th>1</th>\n",
              "      <td>###</td>\n",
              "      <td>[0.0202, -0.0249, -0.0653, 0.093, -0.0923, 0.0...</td>\n",
              "    </tr>\n",
              "    <tr>\n",
              "      <th>2</th>\n",
              "      <td>####</td>\n",
              "      <td>[0.0521, -0.0262, -0.0881, 0.1085, -0.1168, 0....</td>\n",
              "    </tr>\n",
              "    <tr>\n",
              "      <th>3</th>\n",
              "      <td>#####</td>\n",
              "      <td>[0.0416, 0.0061, -0.0388, 0.0175, -0.0617, -0....</td>\n",
              "    </tr>\n",
              "    <tr>\n",
              "      <th>4</th>\n",
              "      <td>#####_metres</td>\n",
              "      <td>[-0.0018, -0.041, -0.0531, 0.1115, -0.1031, -0...</td>\n",
              "    </tr>\n",
              "  </tbody>\n",
              "</table>\n",
              "</div>\n",
              "      <button class=\"colab-df-convert\" onclick=\"convertToInteractive('df-6c28fa9b-35c2-4e37-adba-ff9f777dfd92')\"\n",
              "              title=\"Convert this dataframe to an interactive table.\"\n",
              "              style=\"display:none;\">\n",
              "        \n",
              "  <svg xmlns=\"http://www.w3.org/2000/svg\" height=\"24px\"viewBox=\"0 0 24 24\"\n",
              "       width=\"24px\">\n",
              "    <path d=\"M0 0h24v24H0V0z\" fill=\"none\"/>\n",
              "    <path d=\"M18.56 5.44l.94 2.06.94-2.06 2.06-.94-2.06-.94-.94-2.06-.94 2.06-2.06.94zm-11 1L8.5 8.5l.94-2.06 2.06-.94-2.06-.94L8.5 2.5l-.94 2.06-2.06.94zm10 10l.94 2.06.94-2.06 2.06-.94-2.06-.94-.94-2.06-.94 2.06-2.06.94z\"/><path d=\"M17.41 7.96l-1.37-1.37c-.4-.4-.92-.59-1.43-.59-.52 0-1.04.2-1.43.59L10.3 9.45l-7.72 7.72c-.78.78-.78 2.05 0 2.83L4 21.41c.39.39.9.59 1.41.59.51 0 1.02-.2 1.41-.59l7.78-7.78 2.81-2.81c.8-.78.8-2.07 0-2.86zM5.41 20L4 18.59l7.72-7.72 1.47 1.35L5.41 20z\"/>\n",
              "  </svg>\n",
              "      </button>\n",
              "      \n",
              "  <style>\n",
              "    .colab-df-container {\n",
              "      display:flex;\n",
              "      flex-wrap:wrap;\n",
              "      gap: 12px;\n",
              "    }\n",
              "\n",
              "    .colab-df-convert {\n",
              "      background-color: #E8F0FE;\n",
              "      border: none;\n",
              "      border-radius: 50%;\n",
              "      cursor: pointer;\n",
              "      display: none;\n",
              "      fill: #1967D2;\n",
              "      height: 32px;\n",
              "      padding: 0 0 0 0;\n",
              "      width: 32px;\n",
              "    }\n",
              "\n",
              "    .colab-df-convert:hover {\n",
              "      background-color: #E2EBFA;\n",
              "      box-shadow: 0px 1px 2px rgba(60, 64, 67, 0.3), 0px 1px 3px 1px rgba(60, 64, 67, 0.15);\n",
              "      fill: #174EA6;\n",
              "    }\n",
              "\n",
              "    [theme=dark] .colab-df-convert {\n",
              "      background-color: #3B4455;\n",
              "      fill: #D2E3FC;\n",
              "    }\n",
              "\n",
              "    [theme=dark] .colab-df-convert:hover {\n",
              "      background-color: #434B5C;\n",
              "      box-shadow: 0px 1px 3px 1px rgba(0, 0, 0, 0.15);\n",
              "      filter: drop-shadow(0px 1px 2px rgba(0, 0, 0, 0.3));\n",
              "      fill: #FFFFFF;\n",
              "    }\n",
              "  </style>\n",
              "\n",
              "      <script>\n",
              "        const buttonEl =\n",
              "          document.querySelector('#df-6c28fa9b-35c2-4e37-adba-ff9f777dfd92 button.colab-df-convert');\n",
              "        buttonEl.style.display =\n",
              "          google.colab.kernel.accessAllowed ? 'block' : 'none';\n",
              "\n",
              "        async function convertToInteractive(key) {\n",
              "          const element = document.querySelector('#df-6c28fa9b-35c2-4e37-adba-ff9f777dfd92');\n",
              "          const dataTable =\n",
              "            await google.colab.kernel.invokeFunction('convertToInteractive',\n",
              "                                                     [key], {});\n",
              "          if (!dataTable) return;\n",
              "\n",
              "          const docLinkHtml = 'Like what you see? Visit the ' +\n",
              "            '<a target=\"_blank\" href=https://colab.research.google.com/notebooks/data_table.ipynb>data table notebook</a>'\n",
              "            + ' to learn more about interactive tables.';\n",
              "          element.innerHTML = '';\n",
              "          dataTable['output_type'] = 'display_data';\n",
              "          await google.colab.output.renderOutput(dataTable, element);\n",
              "          const docLink = document.createElement('div');\n",
              "          docLink.innerHTML = docLinkHtml;\n",
              "          element.appendChild(docLink);\n",
              "        }\n",
              "      </script>\n",
              "    </div>\n",
              "  </div>\n",
              "  "
            ],
            "text/plain": [
              "              0                            Common_Sense_Embeddings\n",
              "0            ##  [0.0295, -0.0405, -0.0341, 0.0837, -0.0575, 0....\n",
              "1           ###  [0.0202, -0.0249, -0.0653, 0.093, -0.0923, 0.0...\n",
              "2          ####  [0.0521, -0.0262, -0.0881, 0.1085, -0.1168, 0....\n",
              "3         #####  [0.0416, 0.0061, -0.0388, 0.0175, -0.0617, -0....\n",
              "4  #####_metres  [-0.0018, -0.041, -0.0531, 0.1115, -0.1031, -0..."
            ]
          },
          "execution_count": 67,
          "metadata": {},
          "output_type": "execute_result"
        }
      ],
      "source": [
        "df1 = dataframe1[[0, 'Common_Sense_Embeddings']]\n",
        "df1.head()"
      ]
    },
    {
      "cell_type": "code",
      "execution_count": null,
      "metadata": {
        "id": "26VkZTr0RBRk"
      },
      "outputs": [],
      "source": [
        "df_dict = df1.to_dict()"
      ]
    },
    {
      "cell_type": "code",
      "execution_count": null,
      "metadata": {
        "id": "vkmE3VXwPTaW"
      },
      "outputs": [],
      "source": [
        "common_sense_emb = {}\n",
        "\n",
        "for idx, word in df_dict[0].items():\n",
        "  if word in all_corrected_words:\n",
        "    common_sense_emb[word] = df_dict['Common_Sense_Embeddings'][idx]"
      ]
    },
    {
      "cell_type": "code",
      "execution_count": null,
      "metadata": {
        "colab": {
          "base_uri": "https://localhost:8080/"
        },
        "id": "J24w2y1QPTe5",
        "outputId": "072947f0-94a9-4f8d-88bf-0171bc882ba2"
      },
      "outputs": [
        {
          "name": "stderr",
          "output_type": "stream",
          "text": [
            "<ipython-input-70-0487c908c599>:9: SettingWithCopyWarning: \n",
            "A value is trying to be set on a copy of a slice from a DataFrame.\n",
            "Try using .loc[row_indexer,col_indexer] = value instead\n",
            "\n",
            "See the caveats in the documentation: https://pandas.pydata.org/pandas-docs/stable/user_guide/indexing.html#returning-a-view-versus-a-copy\n",
            "  without_slangs_df['Sentence_Embedding_Common_Sense'] = without_slangs_df.Corrected_Slangs.apply(lambda x: get_common_sense_emb(x))\n"
          ]
        }
      ],
      "source": [
        "# get common sense embedings\n",
        "\n",
        "def get_common_sense_emb(word_lst):\n",
        "  emb = np.zeros(300)\n",
        "  for word in word_lst:\n",
        "    emb = emb+np.array(common_sense_emb[word]) # mathematically adding all the words embeddings\n",
        "  return emb\n",
        "\n",
        "without_slangs_df['Sentence_Embedding_Common_Sense'] = without_slangs_df.Corrected_Slangs.apply(lambda x: get_common_sense_emb(x))"
      ]
    },
    {
      "cell_type": "code",
      "execution_count": null,
      "metadata": {
        "colab": {
          "base_uri": "https://localhost:8080/",
          "height": 687
        },
        "id": "8r7GryJAPTjE",
        "outputId": "eb5186e3-d59d-44b0-b0de-b67cf0d3c6de"
      },
      "outputs": [
        {
          "data": {
            "text/html": [
              "\n",
              "  <div id=\"df-c9adefd0-8a00-42ac-82cf-f0c3bcb6a9b1\">\n",
              "    <div class=\"colab-df-container\">\n",
              "      <div>\n",
              "<style scoped>\n",
              "    .dataframe tbody tr th:only-of-type {\n",
              "        vertical-align: middle;\n",
              "    }\n",
              "\n",
              "    .dataframe tbody tr th {\n",
              "        vertical-align: top;\n",
              "    }\n",
              "\n",
              "    .dataframe thead th {\n",
              "        text-align: right;\n",
              "    }\n",
              "</style>\n",
              "<table border=\"1\" class=\"dataframe\">\n",
              "  <thead>\n",
              "    <tr style=\"text-align: right;\">\n",
              "      <th></th>\n",
              "      <th>post_title</th>\n",
              "      <th>annotations</th>\n",
              "      <th>label</th>\n",
              "      <th>sentences</th>\n",
              "      <th>words</th>\n",
              "      <th>Clean_Words</th>\n",
              "      <th>Corrected_Slangs</th>\n",
              "      <th>isSlang</th>\n",
              "      <th>Sentence_Embedding_Wiki</th>\n",
              "      <th>Sentence_Embedding_Wiki_</th>\n",
              "      <th>Sentence_Embedding_Common_Sense</th>\n",
              "    </tr>\n",
              "  </thead>\n",
              "  <tbody>\n",
              "    <tr>\n",
              "      <th>8</th>\n",
              "      <td>I don't feel original anymore.</td>\n",
              "      <td>Trouble-falling-or-staying-asleep-or-sleeping-...</td>\n",
              "      <td>no</td>\n",
              "      <td>I don't feel original anymore. Trouble-falling...</td>\n",
              "      <td>[I, don't, feel, original, anymore., Trouble-f...</td>\n",
              "      <td>[i, dont, feel, original, anymore, troubling]</td>\n",
              "      <td>[i, dont, feel, original, anymore, troubling]</td>\n",
              "      <td>False</td>\n",
              "      <td>[1.4576048217713833, 1.748905599117279, 0.7998...</td>\n",
              "      <td>[1.4576048217713833, 1.748905599117279, 0.7998...</td>\n",
              "      <td>[-0.7303, -0.6990000000000001, -0.035600000000...</td>\n",
              "    </tr>\n",
              "    <tr>\n",
              "      <th>17</th>\n",
              "      <td>I don’t have anyone to talk to and I don’t kno...</td>\n",
              "      <td>Trouble-falling-or-staying-asleep-or-sleeping-...</td>\n",
              "      <td>no</td>\n",
              "      <td>I don’t have anyone to talk to and I don’t kno...</td>\n",
              "      <td>[I, don’t, have, anyone, to, talk, to, and, I,...</td>\n",
              "      <td>[i, dont, have, anyone, to, talk, to, and, i, ...</td>\n",
              "      <td>[i, dont, have, anyone, to, talk, to, and, i, ...</td>\n",
              "      <td>False</td>\n",
              "      <td>[3.6877265833318233, 3.6424022875726223, 1.070...</td>\n",
              "      <td>[3.6877265833318233, 3.6424022875726223, 1.070...</td>\n",
              "      <td>[-2.1026, -2.3225, -0.24409999999999998, 0.144...</td>\n",
              "    </tr>\n",
              "    <tr>\n",
              "      <th>26</th>\n",
              "      <td>Stuck between moving forward and killing myself</td>\n",
              "      <td>Trouble-falling-or-staying-asleep-or-sleeping-...</td>\n",
              "      <td>no</td>\n",
              "      <td>Stuck between moving forward and killing mysel...</td>\n",
              "      <td>[Stuck, between, moving, forward, and, killing...</td>\n",
              "      <td>[stuck, between, moving, forward, and, killing...</td>\n",
              "      <td>[stuck, between, moving, forward, and, killing...</td>\n",
              "      <td>False</td>\n",
              "      <td>[1.3899028208106756, 2.182059425394982, 2.3042...</td>\n",
              "      <td>[1.3899028208106756, 2.182059425394982, 2.3042...</td>\n",
              "      <td>[-0.8067, -0.7971, 0.0816, 0.2024, 0.2771, -0....</td>\n",
              "    </tr>\n",
              "    <tr>\n",
              "      <th>35</th>\n",
              "      <td>I need help on how to help my girlfriend.</td>\n",
              "      <td>Trouble-falling-or-staying-asleep-or-sleeping-...</td>\n",
              "      <td>no</td>\n",
              "      <td>I need help on how to help my girlfriend. Trou...</td>\n",
              "      <td>[I, need, help, on, how, to, help, my, girlfri...</td>\n",
              "      <td>[i, need, help, on, how, to, help, my, girlfri...</td>\n",
              "      <td>[i, need, help, on, how, to, help, my, girlfri...</td>\n",
              "      <td>False</td>\n",
              "      <td>[2.254825886338949, 1.7188275568187237, 0.0396...</td>\n",
              "      <td>[2.254825886338949, 1.7188275568187237, 0.0396...</td>\n",
              "      <td>[-1.129, -1.2003, -0.14589999999999997, 0.3409...</td>\n",
              "    </tr>\n",
              "    <tr>\n",
              "      <th>44</th>\n",
              "      <td>I've been feeling this way for some tine</td>\n",
              "      <td>Trouble-falling-or-staying-asleep-or-sleeping-...</td>\n",
              "      <td>no</td>\n",
              "      <td>I've been feeling this way for some tine Troub...</td>\n",
              "      <td>[I've, been, feeling, this, way, for, some, ti...</td>\n",
              "      <td>[ive, been, feeling, this, way, for, some, tin...</td>\n",
              "      <td>[ive, been, feeling, this, way, for, some, tin...</td>\n",
              "      <td>False</td>\n",
              "      <td>[0.46864249650388956, 2.7218117974698544, 0.46...</td>\n",
              "      <td>[0.46864249650388956, 2.7218117974698544, 0.46...</td>\n",
              "      <td>[-0.8176000000000001, -0.7574, -0.012899999999...</td>\n",
              "    </tr>\n",
              "  </tbody>\n",
              "</table>\n",
              "</div>\n",
              "      <button class=\"colab-df-convert\" onclick=\"convertToInteractive('df-c9adefd0-8a00-42ac-82cf-f0c3bcb6a9b1')\"\n",
              "              title=\"Convert this dataframe to an interactive table.\"\n",
              "              style=\"display:none;\">\n",
              "        \n",
              "  <svg xmlns=\"http://www.w3.org/2000/svg\" height=\"24px\"viewBox=\"0 0 24 24\"\n",
              "       width=\"24px\">\n",
              "    <path d=\"M0 0h24v24H0V0z\" fill=\"none\"/>\n",
              "    <path d=\"M18.56 5.44l.94 2.06.94-2.06 2.06-.94-2.06-.94-.94-2.06-.94 2.06-2.06.94zm-11 1L8.5 8.5l.94-2.06 2.06-.94-2.06-.94L8.5 2.5l-.94 2.06-2.06.94zm10 10l.94 2.06.94-2.06 2.06-.94-2.06-.94-.94-2.06-.94 2.06-2.06.94z\"/><path d=\"M17.41 7.96l-1.37-1.37c-.4-.4-.92-.59-1.43-.59-.52 0-1.04.2-1.43.59L10.3 9.45l-7.72 7.72c-.78.78-.78 2.05 0 2.83L4 21.41c.39.39.9.59 1.41.59.51 0 1.02-.2 1.41-.59l7.78-7.78 2.81-2.81c.8-.78.8-2.07 0-2.86zM5.41 20L4 18.59l7.72-7.72 1.47 1.35L5.41 20z\"/>\n",
              "  </svg>\n",
              "      </button>\n",
              "      \n",
              "  <style>\n",
              "    .colab-df-container {\n",
              "      display:flex;\n",
              "      flex-wrap:wrap;\n",
              "      gap: 12px;\n",
              "    }\n",
              "\n",
              "    .colab-df-convert {\n",
              "      background-color: #E8F0FE;\n",
              "      border: none;\n",
              "      border-radius: 50%;\n",
              "      cursor: pointer;\n",
              "      display: none;\n",
              "      fill: #1967D2;\n",
              "      height: 32px;\n",
              "      padding: 0 0 0 0;\n",
              "      width: 32px;\n",
              "    }\n",
              "\n",
              "    .colab-df-convert:hover {\n",
              "      background-color: #E2EBFA;\n",
              "      box-shadow: 0px 1px 2px rgba(60, 64, 67, 0.3), 0px 1px 3px 1px rgba(60, 64, 67, 0.15);\n",
              "      fill: #174EA6;\n",
              "    }\n",
              "\n",
              "    [theme=dark] .colab-df-convert {\n",
              "      background-color: #3B4455;\n",
              "      fill: #D2E3FC;\n",
              "    }\n",
              "\n",
              "    [theme=dark] .colab-df-convert:hover {\n",
              "      background-color: #434B5C;\n",
              "      box-shadow: 0px 1px 3px 1px rgba(0, 0, 0, 0.15);\n",
              "      filter: drop-shadow(0px 1px 2px rgba(0, 0, 0, 0.3));\n",
              "      fill: #FFFFFF;\n",
              "    }\n",
              "  </style>\n",
              "\n",
              "      <script>\n",
              "        const buttonEl =\n",
              "          document.querySelector('#df-c9adefd0-8a00-42ac-82cf-f0c3bcb6a9b1 button.colab-df-convert');\n",
              "        buttonEl.style.display =\n",
              "          google.colab.kernel.accessAllowed ? 'block' : 'none';\n",
              "\n",
              "        async function convertToInteractive(key) {\n",
              "          const element = document.querySelector('#df-c9adefd0-8a00-42ac-82cf-f0c3bcb6a9b1');\n",
              "          const dataTable =\n",
              "            await google.colab.kernel.invokeFunction('convertToInteractive',\n",
              "                                                     [key], {});\n",
              "          if (!dataTable) return;\n",
              "\n",
              "          const docLinkHtml = 'Like what you see? Visit the ' +\n",
              "            '<a target=\"_blank\" href=https://colab.research.google.com/notebooks/data_table.ipynb>data table notebook</a>'\n",
              "            + ' to learn more about interactive tables.';\n",
              "          element.innerHTML = '';\n",
              "          dataTable['output_type'] = 'display_data';\n",
              "          await google.colab.output.renderOutput(dataTable, element);\n",
              "          const docLink = document.createElement('div');\n",
              "          docLink.innerHTML = docLinkHtml;\n",
              "          element.appendChild(docLink);\n",
              "        }\n",
              "      </script>\n",
              "    </div>\n",
              "  </div>\n",
              "  "
            ],
            "text/plain": [
              "                                           post_title  \\\n",
              "8                      I don't feel original anymore.   \n",
              "17  I don’t have anyone to talk to and I don’t kno...   \n",
              "26    Stuck between moving forward and killing myself   \n",
              "35          I need help on how to help my girlfriend.   \n",
              "44           I've been feeling this way for some tine   \n",
              "\n",
              "                                          annotations label  \\\n",
              "8   Trouble-falling-or-staying-asleep-or-sleeping-...    no   \n",
              "17  Trouble-falling-or-staying-asleep-or-sleeping-...    no   \n",
              "26  Trouble-falling-or-staying-asleep-or-sleeping-...    no   \n",
              "35  Trouble-falling-or-staying-asleep-or-sleeping-...    no   \n",
              "44  Trouble-falling-or-staying-asleep-or-sleeping-...    no   \n",
              "\n",
              "                                            sentences  \\\n",
              "8   I don't feel original anymore. Trouble-falling...   \n",
              "17  I don’t have anyone to talk to and I don’t kno...   \n",
              "26  Stuck between moving forward and killing mysel...   \n",
              "35  I need help on how to help my girlfriend. Trou...   \n",
              "44  I've been feeling this way for some tine Troub...   \n",
              "\n",
              "                                                words  \\\n",
              "8   [I, don't, feel, original, anymore., Trouble-f...   \n",
              "17  [I, don’t, have, anyone, to, talk, to, and, I,...   \n",
              "26  [Stuck, between, moving, forward, and, killing...   \n",
              "35  [I, need, help, on, how, to, help, my, girlfri...   \n",
              "44  [I've, been, feeling, this, way, for, some, ti...   \n",
              "\n",
              "                                          Clean_Words  \\\n",
              "8       [i, dont, feel, original, anymore, troubling]   \n",
              "17  [i, dont, have, anyone, to, talk, to, and, i, ...   \n",
              "26  [stuck, between, moving, forward, and, killing...   \n",
              "35  [i, need, help, on, how, to, help, my, girlfri...   \n",
              "44  [ive, been, feeling, this, way, for, some, tin...   \n",
              "\n",
              "                                     Corrected_Slangs  isSlang  \\\n",
              "8       [i, dont, feel, original, anymore, troubling]    False   \n",
              "17  [i, dont, have, anyone, to, talk, to, and, i, ...    False   \n",
              "26  [stuck, between, moving, forward, and, killing...    False   \n",
              "35  [i, need, help, on, how, to, help, my, girlfri...    False   \n",
              "44  [ive, been, feeling, this, way, for, some, tin...    False   \n",
              "\n",
              "                              Sentence_Embedding_Wiki  \\\n",
              "8   [1.4576048217713833, 1.748905599117279, 0.7998...   \n",
              "17  [3.6877265833318233, 3.6424022875726223, 1.070...   \n",
              "26  [1.3899028208106756, 2.182059425394982, 2.3042...   \n",
              "35  [2.254825886338949, 1.7188275568187237, 0.0396...   \n",
              "44  [0.46864249650388956, 2.7218117974698544, 0.46...   \n",
              "\n",
              "                             Sentence_Embedding_Wiki_  \\\n",
              "8   [1.4576048217713833, 1.748905599117279, 0.7998...   \n",
              "17  [3.6877265833318233, 3.6424022875726223, 1.070...   \n",
              "26  [1.3899028208106756, 2.182059425394982, 2.3042...   \n",
              "35  [2.254825886338949, 1.7188275568187237, 0.0396...   \n",
              "44  [0.46864249650388956, 2.7218117974698544, 0.46...   \n",
              "\n",
              "                      Sentence_Embedding_Common_Sense  \n",
              "8   [-0.7303, -0.6990000000000001, -0.035600000000...  \n",
              "17  [-2.1026, -2.3225, -0.24409999999999998, 0.144...  \n",
              "26  [-0.8067, -0.7971, 0.0816, 0.2024, 0.2771, -0....  \n",
              "35  [-1.129, -1.2003, -0.14589999999999997, 0.3409...  \n",
              "44  [-0.8176000000000001, -0.7574, -0.012899999999...  "
            ]
          },
          "execution_count": 72,
          "metadata": {},
          "output_type": "execute_result"
        }
      ],
      "source": [
        "without_slangs_df.head()"
      ]
    },
    {
      "cell_type": "code",
      "execution_count": null,
      "metadata": {
        "id": "x-zzTECPRj96"
      },
      "outputs": [],
      "source": [
        "common_sense_df = without_slangs_df[['Sentence_Embedding_Common_Sense']]"
      ]
    },
    {
      "cell_type": "code",
      "execution_count": null,
      "metadata": {
        "colab": {
          "base_uri": "https://localhost:8080/"
        },
        "id": "qpyDTjIRRkDO",
        "outputId": "002d79f9-0e7e-46bf-a14b-c5e1d8faccb6"
      },
      "outputs": [
        {
          "name": "stderr",
          "output_type": "stream",
          "text": [
            "/usr/local/lib/python3.8/dist-packages/pandas/core/frame.py:3641: SettingWithCopyWarning: \n",
            "A value is trying to be set on a copy of a slice from a DataFrame.\n",
            "Try using .loc[row_indexer,col_indexer] = value instead\n",
            "\n",
            "See the caveats in the documentation: https://pandas.pydata.org/pandas-docs/stable/user_guide/indexing.html#returning-a-view-versus-a-copy\n",
            "  self[k1] = value[k2]\n",
            "/usr/local/lib/python3.8/dist-packages/pandas/core/frame.py:3641: PerformanceWarning: DataFrame is highly fragmented.  This is usually the result of calling `frame.insert` many times, which has poor performance.  Consider joining all columns at once using pd.concat(axis=1) instead.  To get a de-fragmented frame, use `newframe = frame.copy()`\n",
            "  self[k1] = value[k2]\n"
          ]
        }
      ],
      "source": [
        "common_sense_df[emb_cols] = common_sense_df.Sentence_Embedding_Common_Sense.apply(pd.Series)"
      ]
    },
    {
      "cell_type": "code",
      "execution_count": null,
      "metadata": {
        "id": "8SXLuMlkRkIk"
      },
      "outputs": [],
      "source": [
        "common_sense_df1 = common_sense_df[emb_cols]"
      ]
    },
    {
      "cell_type": "code",
      "execution_count": null,
      "metadata": {
        "colab": {
          "base_uri": "https://localhost:8080/",
          "height": 300
        },
        "id": "nKJEENlZRkNW",
        "outputId": "fbacc06a-3da2-4868-fe20-97530fa8137f"
      },
      "outputs": [
        {
          "data": {
            "text/html": [
              "\n",
              "  <div id=\"df-352b6b0b-88f4-469d-9633-b2daae62a329\">\n",
              "    <div class=\"colab-df-container\">\n",
              "      <div>\n",
              "<style scoped>\n",
              "    .dataframe tbody tr th:only-of-type {\n",
              "        vertical-align: middle;\n",
              "    }\n",
              "\n",
              "    .dataframe tbody tr th {\n",
              "        vertical-align: top;\n",
              "    }\n",
              "\n",
              "    .dataframe thead th {\n",
              "        text-align: right;\n",
              "    }\n",
              "</style>\n",
              "<table border=\"1\" class=\"dataframe\">\n",
              "  <thead>\n",
              "    <tr style=\"text-align: right;\">\n",
              "      <th></th>\n",
              "      <th>1</th>\n",
              "      <th>2</th>\n",
              "      <th>3</th>\n",
              "      <th>4</th>\n",
              "      <th>5</th>\n",
              "      <th>6</th>\n",
              "      <th>7</th>\n",
              "      <th>8</th>\n",
              "      <th>9</th>\n",
              "      <th>10</th>\n",
              "      <th>...</th>\n",
              "      <th>291</th>\n",
              "      <th>292</th>\n",
              "      <th>293</th>\n",
              "      <th>294</th>\n",
              "      <th>295</th>\n",
              "      <th>296</th>\n",
              "      <th>297</th>\n",
              "      <th>298</th>\n",
              "      <th>299</th>\n",
              "      <th>300</th>\n",
              "    </tr>\n",
              "  </thead>\n",
              "  <tbody>\n",
              "    <tr>\n",
              "      <th>8</th>\n",
              "      <td>-0.7303</td>\n",
              "      <td>-0.6990</td>\n",
              "      <td>-0.0356</td>\n",
              "      <td>-0.2885</td>\n",
              "      <td>0.1709</td>\n",
              "      <td>0.0232</td>\n",
              "      <td>0.1784</td>\n",
              "      <td>-0.1437</td>\n",
              "      <td>0.7863</td>\n",
              "      <td>-0.0629</td>\n",
              "      <td>...</td>\n",
              "      <td>-0.0195</td>\n",
              "      <td>-0.0554</td>\n",
              "      <td>0.0821</td>\n",
              "      <td>0.1715</td>\n",
              "      <td>0.2306</td>\n",
              "      <td>0.0629</td>\n",
              "      <td>0.1315</td>\n",
              "      <td>-0.2008</td>\n",
              "      <td>0.0339</td>\n",
              "      <td>0.0971</td>\n",
              "    </tr>\n",
              "    <tr>\n",
              "      <th>17</th>\n",
              "      <td>-2.1026</td>\n",
              "      <td>-2.3225</td>\n",
              "      <td>-0.2441</td>\n",
              "      <td>0.1445</td>\n",
              "      <td>0.8171</td>\n",
              "      <td>0.6823</td>\n",
              "      <td>0.1098</td>\n",
              "      <td>-0.8041</td>\n",
              "      <td>2.5601</td>\n",
              "      <td>-1.0562</td>\n",
              "      <td>...</td>\n",
              "      <td>-0.0541</td>\n",
              "      <td>-0.3972</td>\n",
              "      <td>0.4537</td>\n",
              "      <td>0.0652</td>\n",
              "      <td>0.2577</td>\n",
              "      <td>0.4066</td>\n",
              "      <td>0.0523</td>\n",
              "      <td>-0.7019</td>\n",
              "      <td>0.2733</td>\n",
              "      <td>-0.0867</td>\n",
              "    </tr>\n",
              "    <tr>\n",
              "      <th>26</th>\n",
              "      <td>-0.8067</td>\n",
              "      <td>-0.7971</td>\n",
              "      <td>0.0816</td>\n",
              "      <td>0.2024</td>\n",
              "      <td>0.2771</td>\n",
              "      <td>-0.2600</td>\n",
              "      <td>-0.2847</td>\n",
              "      <td>0.3454</td>\n",
              "      <td>0.6959</td>\n",
              "      <td>0.1446</td>\n",
              "      <td>...</td>\n",
              "      <td>-0.1594</td>\n",
              "      <td>0.0928</td>\n",
              "      <td>-0.2125</td>\n",
              "      <td>-0.2101</td>\n",
              "      <td>0.0349</td>\n",
              "      <td>0.1193</td>\n",
              "      <td>0.0339</td>\n",
              "      <td>0.0040</td>\n",
              "      <td>-0.2585</td>\n",
              "      <td>-0.1524</td>\n",
              "    </tr>\n",
              "    <tr>\n",
              "      <th>35</th>\n",
              "      <td>-1.1290</td>\n",
              "      <td>-1.2003</td>\n",
              "      <td>-0.1459</td>\n",
              "      <td>0.3409</td>\n",
              "      <td>0.3397</td>\n",
              "      <td>0.4527</td>\n",
              "      <td>-0.0743</td>\n",
              "      <td>-0.4751</td>\n",
              "      <td>1.2545</td>\n",
              "      <td>-0.3367</td>\n",
              "      <td>...</td>\n",
              "      <td>-0.1396</td>\n",
              "      <td>0.0783</td>\n",
              "      <td>0.0024</td>\n",
              "      <td>-0.0030</td>\n",
              "      <td>0.1680</td>\n",
              "      <td>0.4408</td>\n",
              "      <td>-0.0132</td>\n",
              "      <td>-0.3543</td>\n",
              "      <td>0.0689</td>\n",
              "      <td>0.0453</td>\n",
              "    </tr>\n",
              "    <tr>\n",
              "      <th>44</th>\n",
              "      <td>-0.8176</td>\n",
              "      <td>-0.7574</td>\n",
              "      <td>-0.0129</td>\n",
              "      <td>-0.0020</td>\n",
              "      <td>0.1030</td>\n",
              "      <td>-0.0024</td>\n",
              "      <td>0.2081</td>\n",
              "      <td>0.1248</td>\n",
              "      <td>1.0095</td>\n",
              "      <td>0.0766</td>\n",
              "      <td>...</td>\n",
              "      <td>-0.3319</td>\n",
              "      <td>0.0310</td>\n",
              "      <td>0.0638</td>\n",
              "      <td>-0.0546</td>\n",
              "      <td>-0.1654</td>\n",
              "      <td>0.1551</td>\n",
              "      <td>0.2749</td>\n",
              "      <td>0.2936</td>\n",
              "      <td>0.1888</td>\n",
              "      <td>-0.1043</td>\n",
              "    </tr>\n",
              "  </tbody>\n",
              "</table>\n",
              "<p>5 rows × 300 columns</p>\n",
              "</div>\n",
              "      <button class=\"colab-df-convert\" onclick=\"convertToInteractive('df-352b6b0b-88f4-469d-9633-b2daae62a329')\"\n",
              "              title=\"Convert this dataframe to an interactive table.\"\n",
              "              style=\"display:none;\">\n",
              "        \n",
              "  <svg xmlns=\"http://www.w3.org/2000/svg\" height=\"24px\"viewBox=\"0 0 24 24\"\n",
              "       width=\"24px\">\n",
              "    <path d=\"M0 0h24v24H0V0z\" fill=\"none\"/>\n",
              "    <path d=\"M18.56 5.44l.94 2.06.94-2.06 2.06-.94-2.06-.94-.94-2.06-.94 2.06-2.06.94zm-11 1L8.5 8.5l.94-2.06 2.06-.94-2.06-.94L8.5 2.5l-.94 2.06-2.06.94zm10 10l.94 2.06.94-2.06 2.06-.94-2.06-.94-.94-2.06-.94 2.06-2.06.94z\"/><path d=\"M17.41 7.96l-1.37-1.37c-.4-.4-.92-.59-1.43-.59-.52 0-1.04.2-1.43.59L10.3 9.45l-7.72 7.72c-.78.78-.78 2.05 0 2.83L4 21.41c.39.39.9.59 1.41.59.51 0 1.02-.2 1.41-.59l7.78-7.78 2.81-2.81c.8-.78.8-2.07 0-2.86zM5.41 20L4 18.59l7.72-7.72 1.47 1.35L5.41 20z\"/>\n",
              "  </svg>\n",
              "      </button>\n",
              "      \n",
              "  <style>\n",
              "    .colab-df-container {\n",
              "      display:flex;\n",
              "      flex-wrap:wrap;\n",
              "      gap: 12px;\n",
              "    }\n",
              "\n",
              "    .colab-df-convert {\n",
              "      background-color: #E8F0FE;\n",
              "      border: none;\n",
              "      border-radius: 50%;\n",
              "      cursor: pointer;\n",
              "      display: none;\n",
              "      fill: #1967D2;\n",
              "      height: 32px;\n",
              "      padding: 0 0 0 0;\n",
              "      width: 32px;\n",
              "    }\n",
              "\n",
              "    .colab-df-convert:hover {\n",
              "      background-color: #E2EBFA;\n",
              "      box-shadow: 0px 1px 2px rgba(60, 64, 67, 0.3), 0px 1px 3px 1px rgba(60, 64, 67, 0.15);\n",
              "      fill: #174EA6;\n",
              "    }\n",
              "\n",
              "    [theme=dark] .colab-df-convert {\n",
              "      background-color: #3B4455;\n",
              "      fill: #D2E3FC;\n",
              "    }\n",
              "\n",
              "    [theme=dark] .colab-df-convert:hover {\n",
              "      background-color: #434B5C;\n",
              "      box-shadow: 0px 1px 3px 1px rgba(0, 0, 0, 0.15);\n",
              "      filter: drop-shadow(0px 1px 2px rgba(0, 0, 0, 0.3));\n",
              "      fill: #FFFFFF;\n",
              "    }\n",
              "  </style>\n",
              "\n",
              "      <script>\n",
              "        const buttonEl =\n",
              "          document.querySelector('#df-352b6b0b-88f4-469d-9633-b2daae62a329 button.colab-df-convert');\n",
              "        buttonEl.style.display =\n",
              "          google.colab.kernel.accessAllowed ? 'block' : 'none';\n",
              "\n",
              "        async function convertToInteractive(key) {\n",
              "          const element = document.querySelector('#df-352b6b0b-88f4-469d-9633-b2daae62a329');\n",
              "          const dataTable =\n",
              "            await google.colab.kernel.invokeFunction('convertToInteractive',\n",
              "                                                     [key], {});\n",
              "          if (!dataTable) return;\n",
              "\n",
              "          const docLinkHtml = 'Like what you see? Visit the ' +\n",
              "            '<a target=\"_blank\" href=https://colab.research.google.com/notebooks/data_table.ipynb>data table notebook</a>'\n",
              "            + ' to learn more about interactive tables.';\n",
              "          element.innerHTML = '';\n",
              "          dataTable['output_type'] = 'display_data';\n",
              "          await google.colab.output.renderOutput(dataTable, element);\n",
              "          const docLink = document.createElement('div');\n",
              "          docLink.innerHTML = docLinkHtml;\n",
              "          element.appendChild(docLink);\n",
              "        }\n",
              "      </script>\n",
              "    </div>\n",
              "  </div>\n",
              "  "
            ],
            "text/plain": [
              "       1       2       3       4       5       6       7       8       9    \\\n",
              "8  -0.7303 -0.6990 -0.0356 -0.2885  0.1709  0.0232  0.1784 -0.1437  0.7863   \n",
              "17 -2.1026 -2.3225 -0.2441  0.1445  0.8171  0.6823  0.1098 -0.8041  2.5601   \n",
              "26 -0.8067 -0.7971  0.0816  0.2024  0.2771 -0.2600 -0.2847  0.3454  0.6959   \n",
              "35 -1.1290 -1.2003 -0.1459  0.3409  0.3397  0.4527 -0.0743 -0.4751  1.2545   \n",
              "44 -0.8176 -0.7574 -0.0129 -0.0020  0.1030 -0.0024  0.2081  0.1248  1.0095   \n",
              "\n",
              "       10   ...     291     292     293     294     295     296     297  \\\n",
              "8  -0.0629  ... -0.0195 -0.0554  0.0821  0.1715  0.2306  0.0629  0.1315   \n",
              "17 -1.0562  ... -0.0541 -0.3972  0.4537  0.0652  0.2577  0.4066  0.0523   \n",
              "26  0.1446  ... -0.1594  0.0928 -0.2125 -0.2101  0.0349  0.1193  0.0339   \n",
              "35 -0.3367  ... -0.1396  0.0783  0.0024 -0.0030  0.1680  0.4408 -0.0132   \n",
              "44  0.0766  ... -0.3319  0.0310  0.0638 -0.0546 -0.1654  0.1551  0.2749   \n",
              "\n",
              "       298     299     300  \n",
              "8  -0.2008  0.0339  0.0971  \n",
              "17 -0.7019  0.2733 -0.0867  \n",
              "26  0.0040 -0.2585 -0.1524  \n",
              "35 -0.3543  0.0689  0.0453  \n",
              "44  0.2936  0.1888 -0.1043  \n",
              "\n",
              "[5 rows x 300 columns]"
            ]
          },
          "execution_count": 76,
          "metadata": {},
          "output_type": "execute_result"
        }
      ],
      "source": [
        "# apply PCA\n",
        "common_sense_df1.head()"
      ]
    },
    {
      "cell_type": "code",
      "execution_count": null,
      "metadata": {
        "id": "ACacVZs_RkSE"
      },
      "outputs": [],
      "source": [
        "# reference: https://www.geeksforgeeks.org/ml-principal-component-analysispca/\n",
        "# Importing standardscalar module \n",
        "from sklearn.preprocessing import StandardScaler\n",
        "  \n",
        "scalar = StandardScaler()\n",
        "  \n",
        "# fitting\n",
        "scalar.fit(common_sense_df1)\n",
        "scaled_data = scalar.transform(common_sense_df1)\n",
        "  \n",
        "# Importing PCA\n",
        "from sklearn.decomposition import PCA\n",
        "  \n",
        "# Let's say, components = 2\n",
        "pca = PCA(n_components = 100)\n",
        "pca.fit(scaled_data)\n",
        "common_pca= pca.transform(scaled_data)"
      ]
    },
    {
      "cell_type": "code",
      "execution_count": null,
      "metadata": {
        "id": "zhIMuE_VRkW0"
      },
      "outputs": [],
      "source": [
        "data_pca = pd.DataFrame(common_pca,columns=emb_cols[:100])"
      ]
    },
    {
      "cell_type": "code",
      "execution_count": null,
      "metadata": {
        "id": "MedRZs40Rkbe"
      },
      "outputs": [],
      "source": [
        "data_pca['Sentence_Embeddings_Common_Sense'] = data_pca[emb_cols[:100]].values.tolist()"
      ]
    },
    {
      "cell_type": "code",
      "execution_count": null,
      "metadata": {
        "id": "NM7y0sQvRkg5"
      },
      "outputs": [],
      "source": [
        "final_df = pd.concat([without_slangs_df, data_pca[['Sentence_Embeddings_Common_Sense']]], ignore_index=True)"
      ]
    },
    {
      "cell_type": "code",
      "execution_count": null,
      "metadata": {
        "colab": {
          "base_uri": "https://localhost:8080/"
        },
        "id": "dOEMNPnaRko0",
        "outputId": "22b3776e-668e-427f-8b92-b687fd4f8817"
      },
      "outputs": [
        {
          "name": "stderr",
          "output_type": "stream",
          "text": [
            "<ipython-input-81-896448f9ae4e>:3: SettingWithCopyWarning: \n",
            "A value is trying to be set on a copy of a slice from a DataFrame.\n",
            "Try using .loc[row_indexer,col_indexer] = value instead\n",
            "\n",
            "See the caveats in the documentation: https://pandas.pydata.org/pandas-docs/stable/user_guide/indexing.html#returning-a-view-versus-a-copy\n",
            "  without_slangs_df[\"Index\"]  = without_slangs_df.index\n"
          ]
        }
      ],
      "source": [
        "# check if there exists a unique id in the dataframe\n",
        "\n",
        "without_slangs_df[\"Index\"]  = without_slangs_df.index"
      ]
    },
    {
      "cell_type": "code",
      "execution_count": null,
      "metadata": {
        "colab": {
          "base_uri": "https://localhost:8080/"
        },
        "id": "UIzimfV9Ujh4",
        "outputId": "2513232d-af38-41a9-ef2e-e802e8821d83"
      },
      "outputs": [
        {
          "data": {
            "text/plain": [
              "8        [1.4576048217713833, 1.748905599117279, 0.7998...\n",
              "17       [3.6877265833318233, 3.6424022875726223, 1.070...\n",
              "26       [1.3899028208106756, 2.182059425394982, 2.3042...\n",
              "35       [2.254825886338949, 1.7188275568187237, 0.0396...\n",
              "44       [0.46864249650388956, 2.7218117974698544, 0.46...\n",
              "                               ...                        \n",
              "17981    [0.3411098048090935, 1.941650003194809, -0.452...\n",
              "17999    [2.4333201400004327, 4.08494952134788, 0.78214...\n",
              "18008    [0.5559722175821662, 2.6200480153784156, 1.775...\n",
              "18017    [2.651325386017561, 2.516563890501857, 0.62219...\n",
              "18026    [1.988387486897409, 4.046611350029707, 1.41103...\n",
              "Name: Sentence_Embedding_Wiki_, Length: 1804, dtype: object"
            ]
          },
          "execution_count": 106,
          "metadata": {},
          "output_type": "execute_result"
        }
      ],
      "source": [
        "without_slangs_df['Sentence_Embedding_Wiki_']"
      ]
    },
    {
      "cell_type": "code",
      "execution_count": null,
      "metadata": {
        "id": "DHrAUhlASD8k"
      },
      "outputs": [],
      "source": [
        "final_df = pd.concat([without_slangs_df.reset_index(drop=True), data_pca[['Sentence_Embeddings_Common_Sense']]], axis=1)"
      ]
    },
    {
      "cell_type": "code",
      "execution_count": null,
      "metadata": {
        "colab": {
          "base_uri": "https://localhost:8080/",
          "height": 687
        },
        "id": "0Q6Vf9hnSECD",
        "outputId": "44710ae8-7fbd-4efc-9691-2519c5c5c925"
      },
      "outputs": [
        {
          "data": {
            "text/html": [
              "\n",
              "  <div id=\"df-7bc35f12-24e6-4c84-ba35-85b3ee101ad9\">\n",
              "    <div class=\"colab-df-container\">\n",
              "      <div>\n",
              "<style scoped>\n",
              "    .dataframe tbody tr th:only-of-type {\n",
              "        vertical-align: middle;\n",
              "    }\n",
              "\n",
              "    .dataframe tbody tr th {\n",
              "        vertical-align: top;\n",
              "    }\n",
              "\n",
              "    .dataframe thead th {\n",
              "        text-align: right;\n",
              "    }\n",
              "</style>\n",
              "<table border=\"1\" class=\"dataframe\">\n",
              "  <thead>\n",
              "    <tr style=\"text-align: right;\">\n",
              "      <th></th>\n",
              "      <th>post_title</th>\n",
              "      <th>annotations</th>\n",
              "      <th>label</th>\n",
              "      <th>sentences</th>\n",
              "      <th>words</th>\n",
              "      <th>Clean_Words</th>\n",
              "      <th>Corrected_Slangs</th>\n",
              "      <th>isSlang</th>\n",
              "      <th>Sentence_Embedding_Wiki</th>\n",
              "      <th>Sentence_Embedding_Wiki_</th>\n",
              "      <th>Sentence_Embedding_Common_Sense</th>\n",
              "      <th>Index</th>\n",
              "      <th>Sentence_Embeddings_Common_Sense</th>\n",
              "    </tr>\n",
              "  </thead>\n",
              "  <tbody>\n",
              "    <tr>\n",
              "      <th>0</th>\n",
              "      <td>I don't feel original anymore.</td>\n",
              "      <td>Trouble-falling-or-staying-asleep-or-sleeping-...</td>\n",
              "      <td>no</td>\n",
              "      <td>I don't feel original anymore. Trouble-falling...</td>\n",
              "      <td>[I, don't, feel, original, anymore., Trouble-f...</td>\n",
              "      <td>[i, dont, feel, original, anymore, troubling]</td>\n",
              "      <td>[i, dont, feel, original, anymore, troubling]</td>\n",
              "      <td>False</td>\n",
              "      <td>[1.4576048217713833, 1.748905599117279, 0.7998...</td>\n",
              "      <td>[1.4576048217713833, 1.748905599117279, 0.7998...</td>\n",
              "      <td>[-0.7303, -0.6990000000000001, -0.035600000000...</td>\n",
              "      <td>8</td>\n",
              "      <td>[-3.873892962475706, -6.28083982173462, 2.1024...</td>\n",
              "    </tr>\n",
              "    <tr>\n",
              "      <th>1</th>\n",
              "      <td>I don’t have anyone to talk to and I don’t kno...</td>\n",
              "      <td>Trouble-falling-or-staying-asleep-or-sleeping-...</td>\n",
              "      <td>no</td>\n",
              "      <td>I don’t have anyone to talk to and I don’t kno...</td>\n",
              "      <td>[I, don’t, have, anyone, to, talk, to, and, I,...</td>\n",
              "      <td>[i, dont, have, anyone, to, talk, to, and, i, ...</td>\n",
              "      <td>[i, dont, have, anyone, to, talk, to, and, i, ...</td>\n",
              "      <td>False</td>\n",
              "      <td>[3.6877265833318233, 3.6424022875726223, 1.070...</td>\n",
              "      <td>[3.6877265833318233, 3.6424022875726223, 1.070...</td>\n",
              "      <td>[-2.1026, -2.3225, -0.24409999999999998, 0.144...</td>\n",
              "      <td>17</td>\n",
              "      <td>[19.148522784526726, -11.368979570695503, -6.4...</td>\n",
              "    </tr>\n",
              "    <tr>\n",
              "      <th>2</th>\n",
              "      <td>Stuck between moving forward and killing myself</td>\n",
              "      <td>Trouble-falling-or-staying-asleep-or-sleeping-...</td>\n",
              "      <td>no</td>\n",
              "      <td>Stuck between moving forward and killing mysel...</td>\n",
              "      <td>[Stuck, between, moving, forward, and, killing...</td>\n",
              "      <td>[stuck, between, moving, forward, and, killing...</td>\n",
              "      <td>[stuck, between, moving, forward, and, killing...</td>\n",
              "      <td>False</td>\n",
              "      <td>[1.3899028208106756, 2.182059425394982, 2.3042...</td>\n",
              "      <td>[1.3899028208106756, 2.182059425394982, 2.3042...</td>\n",
              "      <td>[-0.8067, -0.7971, 0.0816, 0.2024, 0.2771, -0....</td>\n",
              "      <td>26</td>\n",
              "      <td>[-6.7374134155296765, 5.068789912917022, 1.954...</td>\n",
              "    </tr>\n",
              "    <tr>\n",
              "      <th>3</th>\n",
              "      <td>I need help on how to help my girlfriend.</td>\n",
              "      <td>Trouble-falling-or-staying-asleep-or-sleeping-...</td>\n",
              "      <td>no</td>\n",
              "      <td>I need help on how to help my girlfriend. Trou...</td>\n",
              "      <td>[I, need, help, on, how, to, help, my, girlfri...</td>\n",
              "      <td>[i, need, help, on, how, to, help, my, girlfri...</td>\n",
              "      <td>[i, need, help, on, how, to, help, my, girlfri...</td>\n",
              "      <td>False</td>\n",
              "      <td>[2.254825886338949, 1.7188275568187237, 0.0396...</td>\n",
              "      <td>[2.254825886338949, 1.7188275568187237, 0.0396...</td>\n",
              "      <td>[-1.129, -1.2003, -0.14589999999999997, 0.3409...</td>\n",
              "      <td>35</td>\n",
              "      <td>[3.1186898044116997, 0.754319230642507, -4.596...</td>\n",
              "    </tr>\n",
              "    <tr>\n",
              "      <th>4</th>\n",
              "      <td>I've been feeling this way for some tine</td>\n",
              "      <td>Trouble-falling-or-staying-asleep-or-sleeping-...</td>\n",
              "      <td>no</td>\n",
              "      <td>I've been feeling this way for some tine Troub...</td>\n",
              "      <td>[I've, been, feeling, this, way, for, some, ti...</td>\n",
              "      <td>[ive, been, feeling, this, way, for, some, tin...</td>\n",
              "      <td>[ive, been, feeling, this, way, for, some, tin...</td>\n",
              "      <td>False</td>\n",
              "      <td>[0.46864249650388956, 2.7218117974698544, 0.46...</td>\n",
              "      <td>[0.46864249650388956, 2.7218117974698544, 0.46...</td>\n",
              "      <td>[-0.8176000000000001, -0.7574, -0.012899999999...</td>\n",
              "      <td>44</td>\n",
              "      <td>[-1.3480240702431747, 2.1904766694697173, 4.61...</td>\n",
              "    </tr>\n",
              "  </tbody>\n",
              "</table>\n",
              "</div>\n",
              "      <button class=\"colab-df-convert\" onclick=\"convertToInteractive('df-7bc35f12-24e6-4c84-ba35-85b3ee101ad9')\"\n",
              "              title=\"Convert this dataframe to an interactive table.\"\n",
              "              style=\"display:none;\">\n",
              "        \n",
              "  <svg xmlns=\"http://www.w3.org/2000/svg\" height=\"24px\"viewBox=\"0 0 24 24\"\n",
              "       width=\"24px\">\n",
              "    <path d=\"M0 0h24v24H0V0z\" fill=\"none\"/>\n",
              "    <path d=\"M18.56 5.44l.94 2.06.94-2.06 2.06-.94-2.06-.94-.94-2.06-.94 2.06-2.06.94zm-11 1L8.5 8.5l.94-2.06 2.06-.94-2.06-.94L8.5 2.5l-.94 2.06-2.06.94zm10 10l.94 2.06.94-2.06 2.06-.94-2.06-.94-.94-2.06-.94 2.06-2.06.94z\"/><path d=\"M17.41 7.96l-1.37-1.37c-.4-.4-.92-.59-1.43-.59-.52 0-1.04.2-1.43.59L10.3 9.45l-7.72 7.72c-.78.78-.78 2.05 0 2.83L4 21.41c.39.39.9.59 1.41.59.51 0 1.02-.2 1.41-.59l7.78-7.78 2.81-2.81c.8-.78.8-2.07 0-2.86zM5.41 20L4 18.59l7.72-7.72 1.47 1.35L5.41 20z\"/>\n",
              "  </svg>\n",
              "      </button>\n",
              "      \n",
              "  <style>\n",
              "    .colab-df-container {\n",
              "      display:flex;\n",
              "      flex-wrap:wrap;\n",
              "      gap: 12px;\n",
              "    }\n",
              "\n",
              "    .colab-df-convert {\n",
              "      background-color: #E8F0FE;\n",
              "      border: none;\n",
              "      border-radius: 50%;\n",
              "      cursor: pointer;\n",
              "      display: none;\n",
              "      fill: #1967D2;\n",
              "      height: 32px;\n",
              "      padding: 0 0 0 0;\n",
              "      width: 32px;\n",
              "    }\n",
              "\n",
              "    .colab-df-convert:hover {\n",
              "      background-color: #E2EBFA;\n",
              "      box-shadow: 0px 1px 2px rgba(60, 64, 67, 0.3), 0px 1px 3px 1px rgba(60, 64, 67, 0.15);\n",
              "      fill: #174EA6;\n",
              "    }\n",
              "\n",
              "    [theme=dark] .colab-df-convert {\n",
              "      background-color: #3B4455;\n",
              "      fill: #D2E3FC;\n",
              "    }\n",
              "\n",
              "    [theme=dark] .colab-df-convert:hover {\n",
              "      background-color: #434B5C;\n",
              "      box-shadow: 0px 1px 3px 1px rgba(0, 0, 0, 0.15);\n",
              "      filter: drop-shadow(0px 1px 2px rgba(0, 0, 0, 0.3));\n",
              "      fill: #FFFFFF;\n",
              "    }\n",
              "  </style>\n",
              "\n",
              "      <script>\n",
              "        const buttonEl =\n",
              "          document.querySelector('#df-7bc35f12-24e6-4c84-ba35-85b3ee101ad9 button.colab-df-convert');\n",
              "        buttonEl.style.display =\n",
              "          google.colab.kernel.accessAllowed ? 'block' : 'none';\n",
              "\n",
              "        async function convertToInteractive(key) {\n",
              "          const element = document.querySelector('#df-7bc35f12-24e6-4c84-ba35-85b3ee101ad9');\n",
              "          const dataTable =\n",
              "            await google.colab.kernel.invokeFunction('convertToInteractive',\n",
              "                                                     [key], {});\n",
              "          if (!dataTable) return;\n",
              "\n",
              "          const docLinkHtml = 'Like what you see? Visit the ' +\n",
              "            '<a target=\"_blank\" href=https://colab.research.google.com/notebooks/data_table.ipynb>data table notebook</a>'\n",
              "            + ' to learn more about interactive tables.';\n",
              "          element.innerHTML = '';\n",
              "          dataTable['output_type'] = 'display_data';\n",
              "          await google.colab.output.renderOutput(dataTable, element);\n",
              "          const docLink = document.createElement('div');\n",
              "          docLink.innerHTML = docLinkHtml;\n",
              "          element.appendChild(docLink);\n",
              "        }\n",
              "      </script>\n",
              "    </div>\n",
              "  </div>\n",
              "  "
            ],
            "text/plain": [
              "                                          post_title  \\\n",
              "0                     I don't feel original anymore.   \n",
              "1  I don’t have anyone to talk to and I don’t kno...   \n",
              "2    Stuck between moving forward and killing myself   \n",
              "3          I need help on how to help my girlfriend.   \n",
              "4           I've been feeling this way for some tine   \n",
              "\n",
              "                                         annotations label  \\\n",
              "0  Trouble-falling-or-staying-asleep-or-sleeping-...    no   \n",
              "1  Trouble-falling-or-staying-asleep-or-sleeping-...    no   \n",
              "2  Trouble-falling-or-staying-asleep-or-sleeping-...    no   \n",
              "3  Trouble-falling-or-staying-asleep-or-sleeping-...    no   \n",
              "4  Trouble-falling-or-staying-asleep-or-sleeping-...    no   \n",
              "\n",
              "                                           sentences  \\\n",
              "0  I don't feel original anymore. Trouble-falling...   \n",
              "1  I don’t have anyone to talk to and I don’t kno...   \n",
              "2  Stuck between moving forward and killing mysel...   \n",
              "3  I need help on how to help my girlfriend. Trou...   \n",
              "4  I've been feeling this way for some tine Troub...   \n",
              "\n",
              "                                               words  \\\n",
              "0  [I, don't, feel, original, anymore., Trouble-f...   \n",
              "1  [I, don’t, have, anyone, to, talk, to, and, I,...   \n",
              "2  [Stuck, between, moving, forward, and, killing...   \n",
              "3  [I, need, help, on, how, to, help, my, girlfri...   \n",
              "4  [I've, been, feeling, this, way, for, some, ti...   \n",
              "\n",
              "                                         Clean_Words  \\\n",
              "0      [i, dont, feel, original, anymore, troubling]   \n",
              "1  [i, dont, have, anyone, to, talk, to, and, i, ...   \n",
              "2  [stuck, between, moving, forward, and, killing...   \n",
              "3  [i, need, help, on, how, to, help, my, girlfri...   \n",
              "4  [ive, been, feeling, this, way, for, some, tin...   \n",
              "\n",
              "                                    Corrected_Slangs  isSlang  \\\n",
              "0      [i, dont, feel, original, anymore, troubling]    False   \n",
              "1  [i, dont, have, anyone, to, talk, to, and, i, ...    False   \n",
              "2  [stuck, between, moving, forward, and, killing...    False   \n",
              "3  [i, need, help, on, how, to, help, my, girlfri...    False   \n",
              "4  [ive, been, feeling, this, way, for, some, tin...    False   \n",
              "\n",
              "                             Sentence_Embedding_Wiki  \\\n",
              "0  [1.4576048217713833, 1.748905599117279, 0.7998...   \n",
              "1  [3.6877265833318233, 3.6424022875726223, 1.070...   \n",
              "2  [1.3899028208106756, 2.182059425394982, 2.3042...   \n",
              "3  [2.254825886338949, 1.7188275568187237, 0.0396...   \n",
              "4  [0.46864249650388956, 2.7218117974698544, 0.46...   \n",
              "\n",
              "                            Sentence_Embedding_Wiki_  \\\n",
              "0  [1.4576048217713833, 1.748905599117279, 0.7998...   \n",
              "1  [3.6877265833318233, 3.6424022875726223, 1.070...   \n",
              "2  [1.3899028208106756, 2.182059425394982, 2.3042...   \n",
              "3  [2.254825886338949, 1.7188275568187237, 0.0396...   \n",
              "4  [0.46864249650388956, 2.7218117974698544, 0.46...   \n",
              "\n",
              "                     Sentence_Embedding_Common_Sense  Index  \\\n",
              "0  [-0.7303, -0.6990000000000001, -0.035600000000...      8   \n",
              "1  [-2.1026, -2.3225, -0.24409999999999998, 0.144...     17   \n",
              "2  [-0.8067, -0.7971, 0.0816, 0.2024, 0.2771, -0....     26   \n",
              "3  [-1.129, -1.2003, -0.14589999999999997, 0.3409...     35   \n",
              "4  [-0.8176000000000001, -0.7574, -0.012899999999...     44   \n",
              "\n",
              "                    Sentence_Embeddings_Common_Sense  \n",
              "0  [-3.873892962475706, -6.28083982173462, 2.1024...  \n",
              "1  [19.148522784526726, -11.368979570695503, -6.4...  \n",
              "2  [-6.7374134155296765, 5.068789912917022, 1.954...  \n",
              "3  [3.1186898044116997, 0.754319230642507, -4.596...  \n",
              "4  [-1.3480240702431747, 2.1904766694697173, 4.61...  "
            ]
          },
          "execution_count": 83,
          "metadata": {},
          "output_type": "execute_result"
        }
      ],
      "source": [
        "final_df.head()"
      ]
    },
    {
      "cell_type": "code",
      "execution_count": null,
      "metadata": {
        "id": "S-mCut2VSEG9"
      },
      "outputs": [],
      "source": [
        "final_df.to_csv('Final_KG_Embeddings_primate.csv', index=False)"
      ]
    },
    {
      "cell_type": "code",
      "execution_count": null,
      "metadata": {
        "colab": {
          "base_uri": "https://localhost:8080/",
          "height": 1000
        },
        "id": "sGyK_7fsUWT4",
        "outputId": "b82d847a-ebab-40fa-dde7-9003ef9b9d07"
      },
      "outputs": [
        {
          "data": {
            "text/html": [
              "\n",
              "  <div id=\"df-3390beb0-b716-44f3-acee-1ed0078b9e7a\">\n",
              "    <div class=\"colab-df-container\">\n",
              "      <div>\n",
              "<style scoped>\n",
              "    .dataframe tbody tr th:only-of-type {\n",
              "        vertical-align: middle;\n",
              "    }\n",
              "\n",
              "    .dataframe tbody tr th {\n",
              "        vertical-align: top;\n",
              "    }\n",
              "\n",
              "    .dataframe thead th {\n",
              "        text-align: right;\n",
              "    }\n",
              "</style>\n",
              "<table border=\"1\" class=\"dataframe\">\n",
              "  <thead>\n",
              "    <tr style=\"text-align: right;\">\n",
              "      <th></th>\n",
              "      <th>post_title</th>\n",
              "      <th>annotations</th>\n",
              "      <th>label</th>\n",
              "      <th>sentences</th>\n",
              "      <th>words</th>\n",
              "      <th>Clean_Words</th>\n",
              "      <th>Corrected_Slangs</th>\n",
              "      <th>isSlang</th>\n",
              "      <th>Sentence_Embedding_Wiki</th>\n",
              "      <th>Sentence_Embedding_Wiki_</th>\n",
              "      <th>Sentence_Embedding_Common_Sense</th>\n",
              "      <th>Index</th>\n",
              "      <th>Sentence_Embeddings_Common_Sense</th>\n",
              "    </tr>\n",
              "  </thead>\n",
              "  <tbody>\n",
              "    <tr>\n",
              "      <th>0</th>\n",
              "      <td>I don't feel original anymore.</td>\n",
              "      <td>Trouble-falling-or-staying-asleep-or-sleeping-...</td>\n",
              "      <td>no</td>\n",
              "      <td>I don't feel original anymore. Trouble-falling...</td>\n",
              "      <td>[I, don't, feel, original, anymore., Trouble-f...</td>\n",
              "      <td>[i, dont, feel, original, anymore, troubling]</td>\n",
              "      <td>[i, dont, feel, original, anymore, troubling]</td>\n",
              "      <td>False</td>\n",
              "      <td>[1.4576048217713833, 1.748905599117279, 0.7998...</td>\n",
              "      <td>[1.4576048217713833, 1.748905599117279, 0.7998...</td>\n",
              "      <td>[-0.7303, -0.6990000000000001, -0.035600000000...</td>\n",
              "      <td>8</td>\n",
              "      <td>[-3.873892962475706, -6.28083982173462, 2.1024...</td>\n",
              "    </tr>\n",
              "    <tr>\n",
              "      <th>1</th>\n",
              "      <td>I don’t have anyone to talk to and I don’t kno...</td>\n",
              "      <td>Trouble-falling-or-staying-asleep-or-sleeping-...</td>\n",
              "      <td>no</td>\n",
              "      <td>I don’t have anyone to talk to and I don’t kno...</td>\n",
              "      <td>[I, don’t, have, anyone, to, talk, to, and, I,...</td>\n",
              "      <td>[i, dont, have, anyone, to, talk, to, and, i, ...</td>\n",
              "      <td>[i, dont, have, anyone, to, talk, to, and, i, ...</td>\n",
              "      <td>False</td>\n",
              "      <td>[3.6877265833318233, 3.6424022875726223, 1.070...</td>\n",
              "      <td>[3.6877265833318233, 3.6424022875726223, 1.070...</td>\n",
              "      <td>[-2.1026, -2.3225, -0.24409999999999998, 0.144...</td>\n",
              "      <td>17</td>\n",
              "      <td>[19.148522784526726, -11.368979570695503, -6.4...</td>\n",
              "    </tr>\n",
              "    <tr>\n",
              "      <th>2</th>\n",
              "      <td>Stuck between moving forward and killing myself</td>\n",
              "      <td>Trouble-falling-or-staying-asleep-or-sleeping-...</td>\n",
              "      <td>no</td>\n",
              "      <td>Stuck between moving forward and killing mysel...</td>\n",
              "      <td>[Stuck, between, moving, forward, and, killing...</td>\n",
              "      <td>[stuck, between, moving, forward, and, killing...</td>\n",
              "      <td>[stuck, between, moving, forward, and, killing...</td>\n",
              "      <td>False</td>\n",
              "      <td>[1.3899028208106756, 2.182059425394982, 2.3042...</td>\n",
              "      <td>[1.3899028208106756, 2.182059425394982, 2.3042...</td>\n",
              "      <td>[-0.8067, -0.7971, 0.0816, 0.2024, 0.2771, -0....</td>\n",
              "      <td>26</td>\n",
              "      <td>[-6.7374134155296765, 5.068789912917022, 1.954...</td>\n",
              "    </tr>\n",
              "    <tr>\n",
              "      <th>3</th>\n",
              "      <td>I need help on how to help my girlfriend.</td>\n",
              "      <td>Trouble-falling-or-staying-asleep-or-sleeping-...</td>\n",
              "      <td>no</td>\n",
              "      <td>I need help on how to help my girlfriend. Trou...</td>\n",
              "      <td>[I, need, help, on, how, to, help, my, girlfri...</td>\n",
              "      <td>[i, need, help, on, how, to, help, my, girlfri...</td>\n",
              "      <td>[i, need, help, on, how, to, help, my, girlfri...</td>\n",
              "      <td>False</td>\n",
              "      <td>[2.254825886338949, 1.7188275568187237, 0.0396...</td>\n",
              "      <td>[2.254825886338949, 1.7188275568187237, 0.0396...</td>\n",
              "      <td>[-1.129, -1.2003, -0.14589999999999997, 0.3409...</td>\n",
              "      <td>35</td>\n",
              "      <td>[3.1186898044116997, 0.754319230642507, -4.596...</td>\n",
              "    </tr>\n",
              "    <tr>\n",
              "      <th>4</th>\n",
              "      <td>I've been feeling this way for some tine</td>\n",
              "      <td>Trouble-falling-or-staying-asleep-or-sleeping-...</td>\n",
              "      <td>no</td>\n",
              "      <td>I've been feeling this way for some tine Troub...</td>\n",
              "      <td>[I've, been, feeling, this, way, for, some, ti...</td>\n",
              "      <td>[ive, been, feeling, this, way, for, some, tin...</td>\n",
              "      <td>[ive, been, feeling, this, way, for, some, tin...</td>\n",
              "      <td>False</td>\n",
              "      <td>[0.46864249650388956, 2.7218117974698544, 0.46...</td>\n",
              "      <td>[0.46864249650388956, 2.7218117974698544, 0.46...</td>\n",
              "      <td>[-0.8176000000000001, -0.7574, -0.012899999999...</td>\n",
              "      <td>44</td>\n",
              "      <td>[-1.3480240702431747, 2.1904766694697173, 4.61...</td>\n",
              "    </tr>\n",
              "    <tr>\n",
              "      <th>...</th>\n",
              "      <td>...</td>\n",
              "      <td>...</td>\n",
              "      <td>...</td>\n",
              "      <td>...</td>\n",
              "      <td>...</td>\n",
              "      <td>...</td>\n",
              "      <td>...</td>\n",
              "      <td>...</td>\n",
              "      <td>...</td>\n",
              "      <td>...</td>\n",
              "      <td>...</td>\n",
              "      <td>...</td>\n",
              "      <td>...</td>\n",
              "    </tr>\n",
              "    <tr>\n",
              "      <th>1799</th>\n",
              "      <td>Feeling frustrated/numb for no good reason?</td>\n",
              "      <td>Trouble-falling-or-staying-asleep-or-sleeping-...</td>\n",
              "      <td>no</td>\n",
              "      <td>Feeling frustrated/numb for no good reason? Tr...</td>\n",
              "      <td>[Feeling, frustrated/numb, for, no, good, reas...</td>\n",
              "      <td>[feeling, frustrate, for, no, good, reason, tr...</td>\n",
              "      <td>[feeling, frustrate, for, no, good, reason, tr...</td>\n",
              "      <td>False</td>\n",
              "      <td>[0.3411098048090935, 1.941650003194809, -0.452...</td>\n",
              "      <td>[0.3411098048090935, 1.941650003194809, -0.452...</td>\n",
              "      <td>[-1.0052, -0.9634, -0.2023, -0.4504, 0.5442, 0...</td>\n",
              "      <td>17981</td>\n",
              "      <td>[-7.137130804834677, -0.7509823980388521, 0.17...</td>\n",
              "    </tr>\n",
              "    <tr>\n",
              "      <th>1800</th>\n",
              "      <td>How do i force myself to go to the gym when i ...</td>\n",
              "      <td>Trouble-falling-or-staying-asleep-or-sleeping-...</td>\n",
              "      <td>no</td>\n",
              "      <td>How do i force myself to go to the gym when i ...</td>\n",
              "      <td>[How, do, i, force, myself, to, go, to, the, g...</td>\n",
              "      <td>[how, do, i, force, myself, to, go, to, the, g...</td>\n",
              "      <td>[how, do, i, force, myself, to, go, to, the, g...</td>\n",
              "      <td>False</td>\n",
              "      <td>[2.4333201400004327, 4.08494952134788, 0.78214...</td>\n",
              "      <td>[2.4333201400004327, 4.08494952134788, 0.78214...</td>\n",
              "      <td>[-2.351, -2.5854, -0.2845000000000001, 0.97710...</td>\n",
              "      <td>17999</td>\n",
              "      <td>[19.681022504444094, -2.1098620406441704, -7.4...</td>\n",
              "    </tr>\n",
              "    <tr>\n",
              "      <th>1801</th>\n",
              "      <td>I've always been depressed but somethings diff...</td>\n",
              "      <td>Trouble-falling-or-staying-asleep-or-sleeping-...</td>\n",
              "      <td>no</td>\n",
              "      <td>I've always been depressed but somethings diff...</td>\n",
              "      <td>[I've, always, been, depressed, but, something...</td>\n",
              "      <td>[ive, always, been, depressed, but, somethings...</td>\n",
              "      <td>[ive, always, been, depressed, but, somethings...</td>\n",
              "      <td>False</td>\n",
              "      <td>[0.5559722175821662, 2.6200480153784156, 1.775...</td>\n",
              "      <td>[0.5559722175821662, 2.6200480153784156, 1.775...</td>\n",
              "      <td>[-0.875, -0.7092, -0.05819999999999999, -0.415...</td>\n",
              "      <td>18008</td>\n",
              "      <td>[-2.6188579451609457, -3.0726979909691616, 5.7...</td>\n",
              "    </tr>\n",
              "    <tr>\n",
              "      <th>1802</th>\n",
              "      <td>My girlfriend wants to commit s, I don't know ...</td>\n",
              "      <td>Trouble-falling-or-staying-asleep-or-sleeping-...</td>\n",
              "      <td>no</td>\n",
              "      <td>My girlfriend wants to commit s, I don't know ...</td>\n",
              "      <td>[My, girlfriend, wants, to, commit, s,, I, don...</td>\n",
              "      <td>[my, girlfriend, wants, to, commit, s, i, dont...</td>\n",
              "      <td>[my, girlfriend, wants, to, commit, s, i, dont...</td>\n",
              "      <td>False</td>\n",
              "      <td>[2.651325386017561, 2.516563890501857, 0.62219...</td>\n",
              "      <td>[2.651325386017561, 2.516563890501857, 0.62219...</td>\n",
              "      <td>[-1.6622999999999999, -1.9386, -0.334300000000...</td>\n",
              "      <td>18017</td>\n",
              "      <td>[9.882723493612888, -5.767306433714838, -5.399...</td>\n",
              "    </tr>\n",
              "    <tr>\n",
              "      <th>1803</th>\n",
              "      <td>When you're the rock but have no one to lean on.</td>\n",
              "      <td>Trouble-falling-or-staying-asleep-or-sleeping-...</td>\n",
              "      <td>no</td>\n",
              "      <td>When you're the rock but have no one to lean o...</td>\n",
              "      <td>[When, you're, the, rock, but, have, no, one, ...</td>\n",
              "      <td>[when, youre, the, rock, but, have, no, one, t...</td>\n",
              "      <td>[when, youre, the, rock, but, have, no, one, t...</td>\n",
              "      <td>False</td>\n",
              "      <td>[1.988387486897409, 4.046611350029707, 1.41103...</td>\n",
              "      <td>[1.988387486897409, 4.046611350029707, 1.41103...</td>\n",
              "      <td>[-1.2592, -1.278, 0.047500000000000014, 0.5302...</td>\n",
              "      <td>18026</td>\n",
              "      <td>[4.693629354409101, 3.749067475714879, -2.8516...</td>\n",
              "    </tr>\n",
              "  </tbody>\n",
              "</table>\n",
              "<p>1804 rows × 13 columns</p>\n",
              "</div>\n",
              "      <button class=\"colab-df-convert\" onclick=\"convertToInteractive('df-3390beb0-b716-44f3-acee-1ed0078b9e7a')\"\n",
              "              title=\"Convert this dataframe to an interactive table.\"\n",
              "              style=\"display:none;\">\n",
              "        \n",
              "  <svg xmlns=\"http://www.w3.org/2000/svg\" height=\"24px\"viewBox=\"0 0 24 24\"\n",
              "       width=\"24px\">\n",
              "    <path d=\"M0 0h24v24H0V0z\" fill=\"none\"/>\n",
              "    <path d=\"M18.56 5.44l.94 2.06.94-2.06 2.06-.94-2.06-.94-.94-2.06-.94 2.06-2.06.94zm-11 1L8.5 8.5l.94-2.06 2.06-.94-2.06-.94L8.5 2.5l-.94 2.06-2.06.94zm10 10l.94 2.06.94-2.06 2.06-.94-2.06-.94-.94-2.06-.94 2.06-2.06.94z\"/><path d=\"M17.41 7.96l-1.37-1.37c-.4-.4-.92-.59-1.43-.59-.52 0-1.04.2-1.43.59L10.3 9.45l-7.72 7.72c-.78.78-.78 2.05 0 2.83L4 21.41c.39.39.9.59 1.41.59.51 0 1.02-.2 1.41-.59l7.78-7.78 2.81-2.81c.8-.78.8-2.07 0-2.86zM5.41 20L4 18.59l7.72-7.72 1.47 1.35L5.41 20z\"/>\n",
              "  </svg>\n",
              "      </button>\n",
              "      \n",
              "  <style>\n",
              "    .colab-df-container {\n",
              "      display:flex;\n",
              "      flex-wrap:wrap;\n",
              "      gap: 12px;\n",
              "    }\n",
              "\n",
              "    .colab-df-convert {\n",
              "      background-color: #E8F0FE;\n",
              "      border: none;\n",
              "      border-radius: 50%;\n",
              "      cursor: pointer;\n",
              "      display: none;\n",
              "      fill: #1967D2;\n",
              "      height: 32px;\n",
              "      padding: 0 0 0 0;\n",
              "      width: 32px;\n",
              "    }\n",
              "\n",
              "    .colab-df-convert:hover {\n",
              "      background-color: #E2EBFA;\n",
              "      box-shadow: 0px 1px 2px rgba(60, 64, 67, 0.3), 0px 1px 3px 1px rgba(60, 64, 67, 0.15);\n",
              "      fill: #174EA6;\n",
              "    }\n",
              "\n",
              "    [theme=dark] .colab-df-convert {\n",
              "      background-color: #3B4455;\n",
              "      fill: #D2E3FC;\n",
              "    }\n",
              "\n",
              "    [theme=dark] .colab-df-convert:hover {\n",
              "      background-color: #434B5C;\n",
              "      box-shadow: 0px 1px 3px 1px rgba(0, 0, 0, 0.15);\n",
              "      filter: drop-shadow(0px 1px 2px rgba(0, 0, 0, 0.3));\n",
              "      fill: #FFFFFF;\n",
              "    }\n",
              "  </style>\n",
              "\n",
              "      <script>\n",
              "        const buttonEl =\n",
              "          document.querySelector('#df-3390beb0-b716-44f3-acee-1ed0078b9e7a button.colab-df-convert');\n",
              "        buttonEl.style.display =\n",
              "          google.colab.kernel.accessAllowed ? 'block' : 'none';\n",
              "\n",
              "        async function convertToInteractive(key) {\n",
              "          const element = document.querySelector('#df-3390beb0-b716-44f3-acee-1ed0078b9e7a');\n",
              "          const dataTable =\n",
              "            await google.colab.kernel.invokeFunction('convertToInteractive',\n",
              "                                                     [key], {});\n",
              "          if (!dataTable) return;\n",
              "\n",
              "          const docLinkHtml = 'Like what you see? Visit the ' +\n",
              "            '<a target=\"_blank\" href=https://colab.research.google.com/notebooks/data_table.ipynb>data table notebook</a>'\n",
              "            + ' to learn more about interactive tables.';\n",
              "          element.innerHTML = '';\n",
              "          dataTable['output_type'] = 'display_data';\n",
              "          await google.colab.output.renderOutput(dataTable, element);\n",
              "          const docLink = document.createElement('div');\n",
              "          docLink.innerHTML = docLinkHtml;\n",
              "          element.appendChild(docLink);\n",
              "        }\n",
              "      </script>\n",
              "    </div>\n",
              "  </div>\n",
              "  "
            ],
            "text/plain": [
              "                                             post_title  \\\n",
              "0                        I don't feel original anymore.   \n",
              "1     I don’t have anyone to talk to and I don’t kno...   \n",
              "2       Stuck between moving forward and killing myself   \n",
              "3             I need help on how to help my girlfriend.   \n",
              "4              I've been feeling this way for some tine   \n",
              "...                                                 ...   \n",
              "1799        Feeling frustrated/numb for no good reason?   \n",
              "1800  How do i force myself to go to the gym when i ...   \n",
              "1801  I've always been depressed but somethings diff...   \n",
              "1802  My girlfriend wants to commit s, I don't know ...   \n",
              "1803   When you're the rock but have no one to lean on.   \n",
              "\n",
              "                                            annotations label  \\\n",
              "0     Trouble-falling-or-staying-asleep-or-sleeping-...    no   \n",
              "1     Trouble-falling-or-staying-asleep-or-sleeping-...    no   \n",
              "2     Trouble-falling-or-staying-asleep-or-sleeping-...    no   \n",
              "3     Trouble-falling-or-staying-asleep-or-sleeping-...    no   \n",
              "4     Trouble-falling-or-staying-asleep-or-sleeping-...    no   \n",
              "...                                                 ...   ...   \n",
              "1799  Trouble-falling-or-staying-asleep-or-sleeping-...    no   \n",
              "1800  Trouble-falling-or-staying-asleep-or-sleeping-...    no   \n",
              "1801  Trouble-falling-or-staying-asleep-or-sleeping-...    no   \n",
              "1802  Trouble-falling-or-staying-asleep-or-sleeping-...    no   \n",
              "1803  Trouble-falling-or-staying-asleep-or-sleeping-...    no   \n",
              "\n",
              "                                              sentences  \\\n",
              "0     I don't feel original anymore. Trouble-falling...   \n",
              "1     I don’t have anyone to talk to and I don’t kno...   \n",
              "2     Stuck between moving forward and killing mysel...   \n",
              "3     I need help on how to help my girlfriend. Trou...   \n",
              "4     I've been feeling this way for some tine Troub...   \n",
              "...                                                 ...   \n",
              "1799  Feeling frustrated/numb for no good reason? Tr...   \n",
              "1800  How do i force myself to go to the gym when i ...   \n",
              "1801  I've always been depressed but somethings diff...   \n",
              "1802  My girlfriend wants to commit s, I don't know ...   \n",
              "1803  When you're the rock but have no one to lean o...   \n",
              "\n",
              "                                                  words  \\\n",
              "0     [I, don't, feel, original, anymore., Trouble-f...   \n",
              "1     [I, don’t, have, anyone, to, talk, to, and, I,...   \n",
              "2     [Stuck, between, moving, forward, and, killing...   \n",
              "3     [I, need, help, on, how, to, help, my, girlfri...   \n",
              "4     [I've, been, feeling, this, way, for, some, ti...   \n",
              "...                                                 ...   \n",
              "1799  [Feeling, frustrated/numb, for, no, good, reas...   \n",
              "1800  [How, do, i, force, myself, to, go, to, the, g...   \n",
              "1801  [I've, always, been, depressed, but, something...   \n",
              "1802  [My, girlfriend, wants, to, commit, s,, I, don...   \n",
              "1803  [When, you're, the, rock, but, have, no, one, ...   \n",
              "\n",
              "                                            Clean_Words  \\\n",
              "0         [i, dont, feel, original, anymore, troubling]   \n",
              "1     [i, dont, have, anyone, to, talk, to, and, i, ...   \n",
              "2     [stuck, between, moving, forward, and, killing...   \n",
              "3     [i, need, help, on, how, to, help, my, girlfri...   \n",
              "4     [ive, been, feeling, this, way, for, some, tin...   \n",
              "...                                                 ...   \n",
              "1799  [feeling, frustrate, for, no, good, reason, tr...   \n",
              "1800  [how, do, i, force, myself, to, go, to, the, g...   \n",
              "1801  [ive, always, been, depressed, but, somethings...   \n",
              "1802  [my, girlfriend, wants, to, commit, s, i, dont...   \n",
              "1803  [when, youre, the, rock, but, have, no, one, t...   \n",
              "\n",
              "                                       Corrected_Slangs  isSlang  \\\n",
              "0         [i, dont, feel, original, anymore, troubling]    False   \n",
              "1     [i, dont, have, anyone, to, talk, to, and, i, ...    False   \n",
              "2     [stuck, between, moving, forward, and, killing...    False   \n",
              "3     [i, need, help, on, how, to, help, my, girlfri...    False   \n",
              "4     [ive, been, feeling, this, way, for, some, tin...    False   \n",
              "...                                                 ...      ...   \n",
              "1799  [feeling, frustrate, for, no, good, reason, tr...    False   \n",
              "1800  [how, do, i, force, myself, to, go, to, the, g...    False   \n",
              "1801  [ive, always, been, depressed, but, somethings...    False   \n",
              "1802  [my, girlfriend, wants, to, commit, s, i, dont...    False   \n",
              "1803  [when, youre, the, rock, but, have, no, one, t...    False   \n",
              "\n",
              "                                Sentence_Embedding_Wiki  \\\n",
              "0     [1.4576048217713833, 1.748905599117279, 0.7998...   \n",
              "1     [3.6877265833318233, 3.6424022875726223, 1.070...   \n",
              "2     [1.3899028208106756, 2.182059425394982, 2.3042...   \n",
              "3     [2.254825886338949, 1.7188275568187237, 0.0396...   \n",
              "4     [0.46864249650388956, 2.7218117974698544, 0.46...   \n",
              "...                                                 ...   \n",
              "1799  [0.3411098048090935, 1.941650003194809, -0.452...   \n",
              "1800  [2.4333201400004327, 4.08494952134788, 0.78214...   \n",
              "1801  [0.5559722175821662, 2.6200480153784156, 1.775...   \n",
              "1802  [2.651325386017561, 2.516563890501857, 0.62219...   \n",
              "1803  [1.988387486897409, 4.046611350029707, 1.41103...   \n",
              "\n",
              "                               Sentence_Embedding_Wiki_  \\\n",
              "0     [1.4576048217713833, 1.748905599117279, 0.7998...   \n",
              "1     [3.6877265833318233, 3.6424022875726223, 1.070...   \n",
              "2     [1.3899028208106756, 2.182059425394982, 2.3042...   \n",
              "3     [2.254825886338949, 1.7188275568187237, 0.0396...   \n",
              "4     [0.46864249650388956, 2.7218117974698544, 0.46...   \n",
              "...                                                 ...   \n",
              "1799  [0.3411098048090935, 1.941650003194809, -0.452...   \n",
              "1800  [2.4333201400004327, 4.08494952134788, 0.78214...   \n",
              "1801  [0.5559722175821662, 2.6200480153784156, 1.775...   \n",
              "1802  [2.651325386017561, 2.516563890501857, 0.62219...   \n",
              "1803  [1.988387486897409, 4.046611350029707, 1.41103...   \n",
              "\n",
              "                        Sentence_Embedding_Common_Sense  Index  \\\n",
              "0     [-0.7303, -0.6990000000000001, -0.035600000000...      8   \n",
              "1     [-2.1026, -2.3225, -0.24409999999999998, 0.144...     17   \n",
              "2     [-0.8067, -0.7971, 0.0816, 0.2024, 0.2771, -0....     26   \n",
              "3     [-1.129, -1.2003, -0.14589999999999997, 0.3409...     35   \n",
              "4     [-0.8176000000000001, -0.7574, -0.012899999999...     44   \n",
              "...                                                 ...    ...   \n",
              "1799  [-1.0052, -0.9634, -0.2023, -0.4504, 0.5442, 0...  17981   \n",
              "1800  [-2.351, -2.5854, -0.2845000000000001, 0.97710...  17999   \n",
              "1801  [-0.875, -0.7092, -0.05819999999999999, -0.415...  18008   \n",
              "1802  [-1.6622999999999999, -1.9386, -0.334300000000...  18017   \n",
              "1803  [-1.2592, -1.278, 0.047500000000000014, 0.5302...  18026   \n",
              "\n",
              "                       Sentence_Embeddings_Common_Sense  \n",
              "0     [-3.873892962475706, -6.28083982173462, 2.1024...  \n",
              "1     [19.148522784526726, -11.368979570695503, -6.4...  \n",
              "2     [-6.7374134155296765, 5.068789912917022, 1.954...  \n",
              "3     [3.1186898044116997, 0.754319230642507, -4.596...  \n",
              "4     [-1.3480240702431747, 2.1904766694697173, 4.61...  \n",
              "...                                                 ...  \n",
              "1799  [-7.137130804834677, -0.7509823980388521, 0.17...  \n",
              "1800  [19.681022504444094, -2.1098620406441704, -7.4...  \n",
              "1801  [-2.6188579451609457, -3.0726979909691616, 5.7...  \n",
              "1802  [9.882723493612888, -5.767306433714838, -5.399...  \n",
              "1803  [4.693629354409101, 3.749067475714879, -2.8516...  \n",
              "\n",
              "[1804 rows x 13 columns]"
            ]
          },
          "execution_count": 104,
          "metadata": {},
          "output_type": "execute_result"
        }
      ],
      "source": [
        "final_df"
      ]
    },
    {
      "cell_type": "code",
      "execution_count": null,
      "metadata": {
        "colab": {
          "base_uri": "https://localhost:8080/",
          "height": 652
        },
        "id": "O2zGB_zlSELo",
        "outputId": "b1624b65-d019-4895-ed3a-6707977ae550"
      },
      "outputs": [
        {
          "data": {
            "text/html": [
              "\n",
              "  <div id=\"df-754cfde0-fa2d-4797-8778-a9853a535ad5\">\n",
              "    <div class=\"colab-df-container\">\n",
              "      <div>\n",
              "<style scoped>\n",
              "    .dataframe tbody tr th:only-of-type {\n",
              "        vertical-align: middle;\n",
              "    }\n",
              "\n",
              "    .dataframe tbody tr th {\n",
              "        vertical-align: top;\n",
              "    }\n",
              "\n",
              "    .dataframe thead th {\n",
              "        text-align: right;\n",
              "    }\n",
              "</style>\n",
              "<table border=\"1\" class=\"dataframe\">\n",
              "  <thead>\n",
              "    <tr style=\"text-align: right;\">\n",
              "      <th></th>\n",
              "      <th>post_title</th>\n",
              "      <th>annotations</th>\n",
              "      <th>label</th>\n",
              "      <th>sentences</th>\n",
              "      <th>words</th>\n",
              "      <th>Clean_Words</th>\n",
              "      <th>Corrected_Slangs</th>\n",
              "      <th>isSlang</th>\n",
              "      <th>Sentence_Embedding_Wiki</th>\n",
              "      <th>Sentence_Embedding_Wiki_</th>\n",
              "      <th>Sentence_Embedding_Common_Sense</th>\n",
              "      <th>Index</th>\n",
              "      <th>Sentence_Embeddings_Common_Sense</th>\n",
              "    </tr>\n",
              "  </thead>\n",
              "  <tbody>\n",
              "    <tr>\n",
              "      <th>0</th>\n",
              "      <td>I don't feel original anymore.</td>\n",
              "      <td>Trouble-falling-or-staying-asleep-or-sleeping-...</td>\n",
              "      <td>no</td>\n",
              "      <td>I don't feel original anymore. Trouble-falling...</td>\n",
              "      <td>['I', \"don't\", 'feel', 'original', 'anymore.',...</td>\n",
              "      <td>['i', 'dont', 'feel', 'original', 'anymore', '...</td>\n",
              "      <td>['i', 'dont', 'feel', 'original', 'anymore', '...</td>\n",
              "      <td>False</td>\n",
              "      <td>[ 1.45760482  1.7489056   0.79981597  0.483600...</td>\n",
              "      <td>[1.4576048217713833, 1.748905599117279, 0.7998...</td>\n",
              "      <td>[-7.303e-01 -6.990e-01 -3.560e-02 -2.885e-01  ...</td>\n",
              "      <td>8</td>\n",
              "      <td>[-3.873892962475706, -6.28083982173462, 2.1024...</td>\n",
              "    </tr>\n",
              "    <tr>\n",
              "      <th>1</th>\n",
              "      <td>I don’t have anyone to talk to and I don’t kno...</td>\n",
              "      <td>Trouble-falling-or-staying-asleep-or-sleeping-...</td>\n",
              "      <td>no</td>\n",
              "      <td>I don’t have anyone to talk to and I don’t kno...</td>\n",
              "      <td>['I', 'don’t', 'have', 'anyone', 'to', 'talk',...</td>\n",
              "      <td>['i', 'dont', 'have', 'anyone', 'to', 'talk', ...</td>\n",
              "      <td>['i', 'dont', 'have', 'anyone', 'to', 'talk', ...</td>\n",
              "      <td>False</td>\n",
              "      <td>[ 3.68772658e+00  3.64240229e+00  1.07021014e+...</td>\n",
              "      <td>[3.6877265833318233, 3.6424022875726223, 1.070...</td>\n",
              "      <td>[-2.1026e+00 -2.3225e+00 -2.4410e-01  1.4450e-...</td>\n",
              "      <td>17</td>\n",
              "      <td>[19.148522784526726, -11.368979570695503, -6.4...</td>\n",
              "    </tr>\n",
              "    <tr>\n",
              "      <th>2</th>\n",
              "      <td>Stuck between moving forward and killing myself</td>\n",
              "      <td>Trouble-falling-or-staying-asleep-or-sleeping-...</td>\n",
              "      <td>no</td>\n",
              "      <td>Stuck between moving forward and killing mysel...</td>\n",
              "      <td>['Stuck', 'between', 'moving', 'forward', 'and...</td>\n",
              "      <td>['stuck', 'between', 'moving', 'forward', 'and...</td>\n",
              "      <td>['stuck', 'between', 'moving', 'forward', 'and...</td>\n",
              "      <td>False</td>\n",
              "      <td>[ 1.38990282  2.18205943  2.30429582  0.322109...</td>\n",
              "      <td>[1.3899028208106756, 2.182059425394982, 2.3042...</td>\n",
              "      <td>[-8.067e-01 -7.971e-01  8.160e-02  2.024e-01  ...</td>\n",
              "      <td>26</td>\n",
              "      <td>[-6.7374134155296765, 5.068789912917022, 1.954...</td>\n",
              "    </tr>\n",
              "    <tr>\n",
              "      <th>3</th>\n",
              "      <td>I need help on how to help my girlfriend.</td>\n",
              "      <td>Trouble-falling-or-staying-asleep-or-sleeping-...</td>\n",
              "      <td>no</td>\n",
              "      <td>I need help on how to help my girlfriend. Trou...</td>\n",
              "      <td>['I', 'need', 'help', 'on', 'how', 'to', 'help...</td>\n",
              "      <td>['i', 'need', 'help', 'on', 'how', 'to', 'help...</td>\n",
              "      <td>['i', 'need', 'help', 'on', 'how', 'to', 'help...</td>\n",
              "      <td>False</td>\n",
              "      <td>[ 2.25482589  1.71882756  0.0396392   0.735726...</td>\n",
              "      <td>[2.254825886338949, 1.7188275568187237, 0.0396...</td>\n",
              "      <td>[-1.129  -1.2003 -0.1459  0.3409  0.3397  0.45...</td>\n",
              "      <td>35</td>\n",
              "      <td>[3.1186898044116997, 0.754319230642507, -4.596...</td>\n",
              "    </tr>\n",
              "    <tr>\n",
              "      <th>4</th>\n",
              "      <td>I've been feeling this way for some tine</td>\n",
              "      <td>Trouble-falling-or-staying-asleep-or-sleeping-...</td>\n",
              "      <td>no</td>\n",
              "      <td>I've been feeling this way for some tine Troub...</td>\n",
              "      <td>[\"I've\", 'been', 'feeling', 'this', 'way', 'fo...</td>\n",
              "      <td>['ive', 'been', 'feeling', 'this', 'way', 'for...</td>\n",
              "      <td>['ive', 'been', 'feeling', 'this', 'way', 'for...</td>\n",
              "      <td>False</td>\n",
              "      <td>[ 0.4686425   2.7218118   0.46854382  0.373371...</td>\n",
              "      <td>[0.46864249650388956, 2.7218117974698544, 0.46...</td>\n",
              "      <td>[-0.8176 -0.7574 -0.0129 -0.002   0.103  -0.00...</td>\n",
              "      <td>44</td>\n",
              "      <td>[-1.3480240702431747, 2.1904766694697173, 4.61...</td>\n",
              "    </tr>\n",
              "  </tbody>\n",
              "</table>\n",
              "</div>\n",
              "      <button class=\"colab-df-convert\" onclick=\"convertToInteractive('df-754cfde0-fa2d-4797-8778-a9853a535ad5')\"\n",
              "              title=\"Convert this dataframe to an interactive table.\"\n",
              "              style=\"display:none;\">\n",
              "        \n",
              "  <svg xmlns=\"http://www.w3.org/2000/svg\" height=\"24px\"viewBox=\"0 0 24 24\"\n",
              "       width=\"24px\">\n",
              "    <path d=\"M0 0h24v24H0V0z\" fill=\"none\"/>\n",
              "    <path d=\"M18.56 5.44l.94 2.06.94-2.06 2.06-.94-2.06-.94-.94-2.06-.94 2.06-2.06.94zm-11 1L8.5 8.5l.94-2.06 2.06-.94-2.06-.94L8.5 2.5l-.94 2.06-2.06.94zm10 10l.94 2.06.94-2.06 2.06-.94-2.06-.94-.94-2.06-.94 2.06-2.06.94z\"/><path d=\"M17.41 7.96l-1.37-1.37c-.4-.4-.92-.59-1.43-.59-.52 0-1.04.2-1.43.59L10.3 9.45l-7.72 7.72c-.78.78-.78 2.05 0 2.83L4 21.41c.39.39.9.59 1.41.59.51 0 1.02-.2 1.41-.59l7.78-7.78 2.81-2.81c.8-.78.8-2.07 0-2.86zM5.41 20L4 18.59l7.72-7.72 1.47 1.35L5.41 20z\"/>\n",
              "  </svg>\n",
              "      </button>\n",
              "      \n",
              "  <style>\n",
              "    .colab-df-container {\n",
              "      display:flex;\n",
              "      flex-wrap:wrap;\n",
              "      gap: 12px;\n",
              "    }\n",
              "\n",
              "    .colab-df-convert {\n",
              "      background-color: #E8F0FE;\n",
              "      border: none;\n",
              "      border-radius: 50%;\n",
              "      cursor: pointer;\n",
              "      display: none;\n",
              "      fill: #1967D2;\n",
              "      height: 32px;\n",
              "      padding: 0 0 0 0;\n",
              "      width: 32px;\n",
              "    }\n",
              "\n",
              "    .colab-df-convert:hover {\n",
              "      background-color: #E2EBFA;\n",
              "      box-shadow: 0px 1px 2px rgba(60, 64, 67, 0.3), 0px 1px 3px 1px rgba(60, 64, 67, 0.15);\n",
              "      fill: #174EA6;\n",
              "    }\n",
              "\n",
              "    [theme=dark] .colab-df-convert {\n",
              "      background-color: #3B4455;\n",
              "      fill: #D2E3FC;\n",
              "    }\n",
              "\n",
              "    [theme=dark] .colab-df-convert:hover {\n",
              "      background-color: #434B5C;\n",
              "      box-shadow: 0px 1px 3px 1px rgba(0, 0, 0, 0.15);\n",
              "      filter: drop-shadow(0px 1px 2px rgba(0, 0, 0, 0.3));\n",
              "      fill: #FFFFFF;\n",
              "    }\n",
              "  </style>\n",
              "\n",
              "      <script>\n",
              "        const buttonEl =\n",
              "          document.querySelector('#df-754cfde0-fa2d-4797-8778-a9853a535ad5 button.colab-df-convert');\n",
              "        buttonEl.style.display =\n",
              "          google.colab.kernel.accessAllowed ? 'block' : 'none';\n",
              "\n",
              "        async function convertToInteractive(key) {\n",
              "          const element = document.querySelector('#df-754cfde0-fa2d-4797-8778-a9853a535ad5');\n",
              "          const dataTable =\n",
              "            await google.colab.kernel.invokeFunction('convertToInteractive',\n",
              "                                                     [key], {});\n",
              "          if (!dataTable) return;\n",
              "\n",
              "          const docLinkHtml = 'Like what you see? Visit the ' +\n",
              "            '<a target=\"_blank\" href=https://colab.research.google.com/notebooks/data_table.ipynb>data table notebook</a>'\n",
              "            + ' to learn more about interactive tables.';\n",
              "          element.innerHTML = '';\n",
              "          dataTable['output_type'] = 'display_data';\n",
              "          await google.colab.output.renderOutput(dataTable, element);\n",
              "          const docLink = document.createElement('div');\n",
              "          docLink.innerHTML = docLinkHtml;\n",
              "          element.appendChild(docLink);\n",
              "        }\n",
              "      </script>\n",
              "    </div>\n",
              "  </div>\n",
              "  "
            ],
            "text/plain": [
              "                                          post_title  \\\n",
              "0                     I don't feel original anymore.   \n",
              "1  I don’t have anyone to talk to and I don’t kno...   \n",
              "2    Stuck between moving forward and killing myself   \n",
              "3          I need help on how to help my girlfriend.   \n",
              "4           I've been feeling this way for some tine   \n",
              "\n",
              "                                         annotations label  \\\n",
              "0  Trouble-falling-or-staying-asleep-or-sleeping-...    no   \n",
              "1  Trouble-falling-or-staying-asleep-or-sleeping-...    no   \n",
              "2  Trouble-falling-or-staying-asleep-or-sleeping-...    no   \n",
              "3  Trouble-falling-or-staying-asleep-or-sleeping-...    no   \n",
              "4  Trouble-falling-or-staying-asleep-or-sleeping-...    no   \n",
              "\n",
              "                                           sentences  \\\n",
              "0  I don't feel original anymore. Trouble-falling...   \n",
              "1  I don’t have anyone to talk to and I don’t kno...   \n",
              "2  Stuck between moving forward and killing mysel...   \n",
              "3  I need help on how to help my girlfriend. Trou...   \n",
              "4  I've been feeling this way for some tine Troub...   \n",
              "\n",
              "                                               words  \\\n",
              "0  ['I', \"don't\", 'feel', 'original', 'anymore.',...   \n",
              "1  ['I', 'don’t', 'have', 'anyone', 'to', 'talk',...   \n",
              "2  ['Stuck', 'between', 'moving', 'forward', 'and...   \n",
              "3  ['I', 'need', 'help', 'on', 'how', 'to', 'help...   \n",
              "4  [\"I've\", 'been', 'feeling', 'this', 'way', 'fo...   \n",
              "\n",
              "                                         Clean_Words  \\\n",
              "0  ['i', 'dont', 'feel', 'original', 'anymore', '...   \n",
              "1  ['i', 'dont', 'have', 'anyone', 'to', 'talk', ...   \n",
              "2  ['stuck', 'between', 'moving', 'forward', 'and...   \n",
              "3  ['i', 'need', 'help', 'on', 'how', 'to', 'help...   \n",
              "4  ['ive', 'been', 'feeling', 'this', 'way', 'for...   \n",
              "\n",
              "                                    Corrected_Slangs  isSlang  \\\n",
              "0  ['i', 'dont', 'feel', 'original', 'anymore', '...    False   \n",
              "1  ['i', 'dont', 'have', 'anyone', 'to', 'talk', ...    False   \n",
              "2  ['stuck', 'between', 'moving', 'forward', 'and...    False   \n",
              "3  ['i', 'need', 'help', 'on', 'how', 'to', 'help...    False   \n",
              "4  ['ive', 'been', 'feeling', 'this', 'way', 'for...    False   \n",
              "\n",
              "                             Sentence_Embedding_Wiki  \\\n",
              "0  [ 1.45760482  1.7489056   0.79981597  0.483600...   \n",
              "1  [ 3.68772658e+00  3.64240229e+00  1.07021014e+...   \n",
              "2  [ 1.38990282  2.18205943  2.30429582  0.322109...   \n",
              "3  [ 2.25482589  1.71882756  0.0396392   0.735726...   \n",
              "4  [ 0.4686425   2.7218118   0.46854382  0.373371...   \n",
              "\n",
              "                            Sentence_Embedding_Wiki_  \\\n",
              "0  [1.4576048217713833, 1.748905599117279, 0.7998...   \n",
              "1  [3.6877265833318233, 3.6424022875726223, 1.070...   \n",
              "2  [1.3899028208106756, 2.182059425394982, 2.3042...   \n",
              "3  [2.254825886338949, 1.7188275568187237, 0.0396...   \n",
              "4  [0.46864249650388956, 2.7218117974698544, 0.46...   \n",
              "\n",
              "                     Sentence_Embedding_Common_Sense  Index  \\\n",
              "0  [-7.303e-01 -6.990e-01 -3.560e-02 -2.885e-01  ...      8   \n",
              "1  [-2.1026e+00 -2.3225e+00 -2.4410e-01  1.4450e-...     17   \n",
              "2  [-8.067e-01 -7.971e-01  8.160e-02  2.024e-01  ...     26   \n",
              "3  [-1.129  -1.2003 -0.1459  0.3409  0.3397  0.45...     35   \n",
              "4  [-0.8176 -0.7574 -0.0129 -0.002   0.103  -0.00...     44   \n",
              "\n",
              "                    Sentence_Embeddings_Common_Sense  \n",
              "0  [-3.873892962475706, -6.28083982173462, 2.1024...  \n",
              "1  [19.148522784526726, -11.368979570695503, -6.4...  \n",
              "2  [-6.7374134155296765, 5.068789912917022, 1.954...  \n",
              "3  [3.1186898044116997, 0.754319230642507, -4.596...  \n",
              "4  [-1.3480240702431747, 2.1904766694697173, 4.61...  "
            ]
          },
          "execution_count": 85,
          "metadata": {},
          "output_type": "execute_result"
        }
      ],
      "source": [
        "import pandas as pd\n",
        "\n",
        "kg_emb = pd.read_csv('Final_KG_Embeddings_primate.csv')\n",
        "kg_emb.head()"
      ]
    },
    {
      "cell_type": "code",
      "execution_count": null,
      "metadata": {
        "colab": {
          "base_uri": "https://localhost:8080/"
        },
        "id": "FJLqc2LySEQd",
        "outputId": "d2d16de9-9513-49b1-eaa3-d28c6d862639"
      },
      "outputs": [
        {
          "data": {
            "text/plain": [
              "0     8\n",
              "1    17\n",
              "2    26\n",
              "3    35\n",
              "4    44\n",
              "Name: Index, dtype: int64"
            ]
          },
          "execution_count": 86,
          "metadata": {},
          "output_type": "execute_result"
        }
      ],
      "source": [
        "sent_ind = kg_emb['Index']\n",
        "sent_ind.head()"
      ]
    },
    {
      "cell_type": "code",
      "execution_count": null,
      "metadata": {
        "id": "V77JcZatSEVG"
      },
      "outputs": [],
      "source": [
        "sent_ind.to_csv('Indices_sentences_primate.csv', index=False)"
      ]
    },
    {
      "cell_type": "code",
      "execution_count": null,
      "metadata": {
        "id": "zHyOi10RSrI7"
      },
      "outputs": [],
      "source": [
        "import numpy as np\n",
        "def generate_string_to_list(string):\n",
        "  lst = string.replace('[','').replace(']','').split(', ')\n",
        "  return np.array(lst)"
      ]
    },
    {
      "cell_type": "code",
      "execution_count": null,
      "metadata": {
        "id": "kGY4xLdPSrOL"
      },
      "outputs": [],
      "source": [
        "kg_emb['Emb_Common_Sense'] = kg_emb['Sentence_Embeddings_Common_Sense'].apply(lambda x: generate_string_to_list(x))"
      ]
    },
    {
      "cell_type": "code",
      "execution_count": null,
      "metadata": {
        "colab": {
          "base_uri": "https://localhost:8080/",
          "height": 652
        },
        "id": "GDs8WdRgVWb4",
        "outputId": "f3464f4a-afb5-4610-8520-3479113b02d5"
      },
      "outputs": [
        {
          "data": {
            "text/html": [
              "\n",
              "  <div id=\"df-b79efed6-33e5-4050-966a-519c6050ca9c\">\n",
              "    <div class=\"colab-df-container\">\n",
              "      <div>\n",
              "<style scoped>\n",
              "    .dataframe tbody tr th:only-of-type {\n",
              "        vertical-align: middle;\n",
              "    }\n",
              "\n",
              "    .dataframe tbody tr th {\n",
              "        vertical-align: top;\n",
              "    }\n",
              "\n",
              "    .dataframe thead th {\n",
              "        text-align: right;\n",
              "    }\n",
              "</style>\n",
              "<table border=\"1\" class=\"dataframe\">\n",
              "  <thead>\n",
              "    <tr style=\"text-align: right;\">\n",
              "      <th></th>\n",
              "      <th>post_title</th>\n",
              "      <th>annotations</th>\n",
              "      <th>label</th>\n",
              "      <th>sentences</th>\n",
              "      <th>words</th>\n",
              "      <th>Clean_Words</th>\n",
              "      <th>Corrected_Slangs</th>\n",
              "      <th>isSlang</th>\n",
              "      <th>Sentence_Embedding_Wiki</th>\n",
              "      <th>Sentence_Embedding_Wiki_</th>\n",
              "      <th>Sentence_Embedding_Common_Sense</th>\n",
              "      <th>Index</th>\n",
              "      <th>Sentence_Embeddings_Common_Sense</th>\n",
              "      <th>Emb_Common_Sense</th>\n",
              "      <th>Emb_Wikipedia</th>\n",
              "    </tr>\n",
              "  </thead>\n",
              "  <tbody>\n",
              "    <tr>\n",
              "      <th>0</th>\n",
              "      <td>I don't feel original anymore.</td>\n",
              "      <td>Trouble-falling-or-staying-asleep-or-sleeping-...</td>\n",
              "      <td>no</td>\n",
              "      <td>I don't feel original anymore. Trouble-falling...</td>\n",
              "      <td>['I', \"don't\", 'feel', 'original', 'anymore.',...</td>\n",
              "      <td>['i', 'dont', 'feel', 'original', 'anymore', '...</td>\n",
              "      <td>['i', 'dont', 'feel', 'original', 'anymore', '...</td>\n",
              "      <td>False</td>\n",
              "      <td>[ 1.45760482  1.7489056   0.79981597  0.483600...</td>\n",
              "      <td>[1.4576048217713833, 1.748905599117279, 0.7998...</td>\n",
              "      <td>[-7.303e-01 -6.990e-01 -3.560e-02 -2.885e-01  ...</td>\n",
              "      <td>8</td>\n",
              "      <td>[-3.873892962475706, -6.28083982173462, 2.1024...</td>\n",
              "      <td>[-3.873892962475706, -6.28083982173462, 2.1024...</td>\n",
              "      <td>[1.4576048217713833, 1.748905599117279, 0.7998...</td>\n",
              "    </tr>\n",
              "    <tr>\n",
              "      <th>1</th>\n",
              "      <td>I don’t have anyone to talk to and I don’t kno...</td>\n",
              "      <td>Trouble-falling-or-staying-asleep-or-sleeping-...</td>\n",
              "      <td>no</td>\n",
              "      <td>I don’t have anyone to talk to and I don’t kno...</td>\n",
              "      <td>['I', 'don’t', 'have', 'anyone', 'to', 'talk',...</td>\n",
              "      <td>['i', 'dont', 'have', 'anyone', 'to', 'talk', ...</td>\n",
              "      <td>['i', 'dont', 'have', 'anyone', 'to', 'talk', ...</td>\n",
              "      <td>False</td>\n",
              "      <td>[ 3.68772658e+00  3.64240229e+00  1.07021014e+...</td>\n",
              "      <td>[3.6877265833318233, 3.6424022875726223, 1.070...</td>\n",
              "      <td>[-2.1026e+00 -2.3225e+00 -2.4410e-01  1.4450e-...</td>\n",
              "      <td>17</td>\n",
              "      <td>[19.148522784526726, -11.368979570695503, -6.4...</td>\n",
              "      <td>[19.148522784526726, -11.368979570695503, -6.4...</td>\n",
              "      <td>[3.6877265833318233, 3.6424022875726223, 1.070...</td>\n",
              "    </tr>\n",
              "    <tr>\n",
              "      <th>2</th>\n",
              "      <td>Stuck between moving forward and killing myself</td>\n",
              "      <td>Trouble-falling-or-staying-asleep-or-sleeping-...</td>\n",
              "      <td>no</td>\n",
              "      <td>Stuck between moving forward and killing mysel...</td>\n",
              "      <td>['Stuck', 'between', 'moving', 'forward', 'and...</td>\n",
              "      <td>['stuck', 'between', 'moving', 'forward', 'and...</td>\n",
              "      <td>['stuck', 'between', 'moving', 'forward', 'and...</td>\n",
              "      <td>False</td>\n",
              "      <td>[ 1.38990282  2.18205943  2.30429582  0.322109...</td>\n",
              "      <td>[1.3899028208106756, 2.182059425394982, 2.3042...</td>\n",
              "      <td>[-8.067e-01 -7.971e-01  8.160e-02  2.024e-01  ...</td>\n",
              "      <td>26</td>\n",
              "      <td>[-6.7374134155296765, 5.068789912917022, 1.954...</td>\n",
              "      <td>[-6.7374134155296765, 5.068789912917022, 1.954...</td>\n",
              "      <td>[1.3899028208106756, 2.182059425394982, 2.3042...</td>\n",
              "    </tr>\n",
              "    <tr>\n",
              "      <th>3</th>\n",
              "      <td>I need help on how to help my girlfriend.</td>\n",
              "      <td>Trouble-falling-or-staying-asleep-or-sleeping-...</td>\n",
              "      <td>no</td>\n",
              "      <td>I need help on how to help my girlfriend. Trou...</td>\n",
              "      <td>['I', 'need', 'help', 'on', 'how', 'to', 'help...</td>\n",
              "      <td>['i', 'need', 'help', 'on', 'how', 'to', 'help...</td>\n",
              "      <td>['i', 'need', 'help', 'on', 'how', 'to', 'help...</td>\n",
              "      <td>False</td>\n",
              "      <td>[ 2.25482589  1.71882756  0.0396392   0.735726...</td>\n",
              "      <td>[2.254825886338949, 1.7188275568187237, 0.0396...</td>\n",
              "      <td>[-1.129  -1.2003 -0.1459  0.3409  0.3397  0.45...</td>\n",
              "      <td>35</td>\n",
              "      <td>[3.1186898044116997, 0.754319230642507, -4.596...</td>\n",
              "      <td>[3.1186898044116997, 0.754319230642507, -4.596...</td>\n",
              "      <td>[2.254825886338949, 1.7188275568187237, 0.0396...</td>\n",
              "    </tr>\n",
              "    <tr>\n",
              "      <th>4</th>\n",
              "      <td>I've been feeling this way for some tine</td>\n",
              "      <td>Trouble-falling-or-staying-asleep-or-sleeping-...</td>\n",
              "      <td>no</td>\n",
              "      <td>I've been feeling this way for some tine Troub...</td>\n",
              "      <td>[\"I've\", 'been', 'feeling', 'this', 'way', 'fo...</td>\n",
              "      <td>['ive', 'been', 'feeling', 'this', 'way', 'for...</td>\n",
              "      <td>['ive', 'been', 'feeling', 'this', 'way', 'for...</td>\n",
              "      <td>False</td>\n",
              "      <td>[ 0.4686425   2.7218118   0.46854382  0.373371...</td>\n",
              "      <td>[0.46864249650388956, 2.7218117974698544, 0.46...</td>\n",
              "      <td>[-0.8176 -0.7574 -0.0129 -0.002   0.103  -0.00...</td>\n",
              "      <td>44</td>\n",
              "      <td>[-1.3480240702431747, 2.1904766694697173, 4.61...</td>\n",
              "      <td>[-1.3480240702431747, 2.1904766694697173, 4.61...</td>\n",
              "      <td>[0.46864249650388956, 2.7218117974698544, 0.46...</td>\n",
              "    </tr>\n",
              "  </tbody>\n",
              "</table>\n",
              "</div>\n",
              "      <button class=\"colab-df-convert\" onclick=\"convertToInteractive('df-b79efed6-33e5-4050-966a-519c6050ca9c')\"\n",
              "              title=\"Convert this dataframe to an interactive table.\"\n",
              "              style=\"display:none;\">\n",
              "        \n",
              "  <svg xmlns=\"http://www.w3.org/2000/svg\" height=\"24px\"viewBox=\"0 0 24 24\"\n",
              "       width=\"24px\">\n",
              "    <path d=\"M0 0h24v24H0V0z\" fill=\"none\"/>\n",
              "    <path d=\"M18.56 5.44l.94 2.06.94-2.06 2.06-.94-2.06-.94-.94-2.06-.94 2.06-2.06.94zm-11 1L8.5 8.5l.94-2.06 2.06-.94-2.06-.94L8.5 2.5l-.94 2.06-2.06.94zm10 10l.94 2.06.94-2.06 2.06-.94-2.06-.94-.94-2.06-.94 2.06-2.06.94z\"/><path d=\"M17.41 7.96l-1.37-1.37c-.4-.4-.92-.59-1.43-.59-.52 0-1.04.2-1.43.59L10.3 9.45l-7.72 7.72c-.78.78-.78 2.05 0 2.83L4 21.41c.39.39.9.59 1.41.59.51 0 1.02-.2 1.41-.59l7.78-7.78 2.81-2.81c.8-.78.8-2.07 0-2.86zM5.41 20L4 18.59l7.72-7.72 1.47 1.35L5.41 20z\"/>\n",
              "  </svg>\n",
              "      </button>\n",
              "      \n",
              "  <style>\n",
              "    .colab-df-container {\n",
              "      display:flex;\n",
              "      flex-wrap:wrap;\n",
              "      gap: 12px;\n",
              "    }\n",
              "\n",
              "    .colab-df-convert {\n",
              "      background-color: #E8F0FE;\n",
              "      border: none;\n",
              "      border-radius: 50%;\n",
              "      cursor: pointer;\n",
              "      display: none;\n",
              "      fill: #1967D2;\n",
              "      height: 32px;\n",
              "      padding: 0 0 0 0;\n",
              "      width: 32px;\n",
              "    }\n",
              "\n",
              "    .colab-df-convert:hover {\n",
              "      background-color: #E2EBFA;\n",
              "      box-shadow: 0px 1px 2px rgba(60, 64, 67, 0.3), 0px 1px 3px 1px rgba(60, 64, 67, 0.15);\n",
              "      fill: #174EA6;\n",
              "    }\n",
              "\n",
              "    [theme=dark] .colab-df-convert {\n",
              "      background-color: #3B4455;\n",
              "      fill: #D2E3FC;\n",
              "    }\n",
              "\n",
              "    [theme=dark] .colab-df-convert:hover {\n",
              "      background-color: #434B5C;\n",
              "      box-shadow: 0px 1px 3px 1px rgba(0, 0, 0, 0.15);\n",
              "      filter: drop-shadow(0px 1px 2px rgba(0, 0, 0, 0.3));\n",
              "      fill: #FFFFFF;\n",
              "    }\n",
              "  </style>\n",
              "\n",
              "      <script>\n",
              "        const buttonEl =\n",
              "          document.querySelector('#df-b79efed6-33e5-4050-966a-519c6050ca9c button.colab-df-convert');\n",
              "        buttonEl.style.display =\n",
              "          google.colab.kernel.accessAllowed ? 'block' : 'none';\n",
              "\n",
              "        async function convertToInteractive(key) {\n",
              "          const element = document.querySelector('#df-b79efed6-33e5-4050-966a-519c6050ca9c');\n",
              "          const dataTable =\n",
              "            await google.colab.kernel.invokeFunction('convertToInteractive',\n",
              "                                                     [key], {});\n",
              "          if (!dataTable) return;\n",
              "\n",
              "          const docLinkHtml = 'Like what you see? Visit the ' +\n",
              "            '<a target=\"_blank\" href=https://colab.research.google.com/notebooks/data_table.ipynb>data table notebook</a>'\n",
              "            + ' to learn more about interactive tables.';\n",
              "          element.innerHTML = '';\n",
              "          dataTable['output_type'] = 'display_data';\n",
              "          await google.colab.output.renderOutput(dataTable, element);\n",
              "          const docLink = document.createElement('div');\n",
              "          docLink.innerHTML = docLinkHtml;\n",
              "          element.appendChild(docLink);\n",
              "        }\n",
              "      </script>\n",
              "    </div>\n",
              "  </div>\n",
              "  "
            ],
            "text/plain": [
              "                                          post_title  \\\n",
              "0                     I don't feel original anymore.   \n",
              "1  I don’t have anyone to talk to and I don’t kno...   \n",
              "2    Stuck between moving forward and killing myself   \n",
              "3          I need help on how to help my girlfriend.   \n",
              "4           I've been feeling this way for some tine   \n",
              "\n",
              "                                         annotations label  \\\n",
              "0  Trouble-falling-or-staying-asleep-or-sleeping-...    no   \n",
              "1  Trouble-falling-or-staying-asleep-or-sleeping-...    no   \n",
              "2  Trouble-falling-or-staying-asleep-or-sleeping-...    no   \n",
              "3  Trouble-falling-or-staying-asleep-or-sleeping-...    no   \n",
              "4  Trouble-falling-or-staying-asleep-or-sleeping-...    no   \n",
              "\n",
              "                                           sentences  \\\n",
              "0  I don't feel original anymore. Trouble-falling...   \n",
              "1  I don’t have anyone to talk to and I don’t kno...   \n",
              "2  Stuck between moving forward and killing mysel...   \n",
              "3  I need help on how to help my girlfriend. Trou...   \n",
              "4  I've been feeling this way for some tine Troub...   \n",
              "\n",
              "                                               words  \\\n",
              "0  ['I', \"don't\", 'feel', 'original', 'anymore.',...   \n",
              "1  ['I', 'don’t', 'have', 'anyone', 'to', 'talk',...   \n",
              "2  ['Stuck', 'between', 'moving', 'forward', 'and...   \n",
              "3  ['I', 'need', 'help', 'on', 'how', 'to', 'help...   \n",
              "4  [\"I've\", 'been', 'feeling', 'this', 'way', 'fo...   \n",
              "\n",
              "                                         Clean_Words  \\\n",
              "0  ['i', 'dont', 'feel', 'original', 'anymore', '...   \n",
              "1  ['i', 'dont', 'have', 'anyone', 'to', 'talk', ...   \n",
              "2  ['stuck', 'between', 'moving', 'forward', 'and...   \n",
              "3  ['i', 'need', 'help', 'on', 'how', 'to', 'help...   \n",
              "4  ['ive', 'been', 'feeling', 'this', 'way', 'for...   \n",
              "\n",
              "                                    Corrected_Slangs  isSlang  \\\n",
              "0  ['i', 'dont', 'feel', 'original', 'anymore', '...    False   \n",
              "1  ['i', 'dont', 'have', 'anyone', 'to', 'talk', ...    False   \n",
              "2  ['stuck', 'between', 'moving', 'forward', 'and...    False   \n",
              "3  ['i', 'need', 'help', 'on', 'how', 'to', 'help...    False   \n",
              "4  ['ive', 'been', 'feeling', 'this', 'way', 'for...    False   \n",
              "\n",
              "                             Sentence_Embedding_Wiki  \\\n",
              "0  [ 1.45760482  1.7489056   0.79981597  0.483600...   \n",
              "1  [ 3.68772658e+00  3.64240229e+00  1.07021014e+...   \n",
              "2  [ 1.38990282  2.18205943  2.30429582  0.322109...   \n",
              "3  [ 2.25482589  1.71882756  0.0396392   0.735726...   \n",
              "4  [ 0.4686425   2.7218118   0.46854382  0.373371...   \n",
              "\n",
              "                            Sentence_Embedding_Wiki_  \\\n",
              "0  [1.4576048217713833, 1.748905599117279, 0.7998...   \n",
              "1  [3.6877265833318233, 3.6424022875726223, 1.070...   \n",
              "2  [1.3899028208106756, 2.182059425394982, 2.3042...   \n",
              "3  [2.254825886338949, 1.7188275568187237, 0.0396...   \n",
              "4  [0.46864249650388956, 2.7218117974698544, 0.46...   \n",
              "\n",
              "                     Sentence_Embedding_Common_Sense  Index  \\\n",
              "0  [-7.303e-01 -6.990e-01 -3.560e-02 -2.885e-01  ...      8   \n",
              "1  [-2.1026e+00 -2.3225e+00 -2.4410e-01  1.4450e-...     17   \n",
              "2  [-8.067e-01 -7.971e-01  8.160e-02  2.024e-01  ...     26   \n",
              "3  [-1.129  -1.2003 -0.1459  0.3409  0.3397  0.45...     35   \n",
              "4  [-0.8176 -0.7574 -0.0129 -0.002   0.103  -0.00...     44   \n",
              "\n",
              "                    Sentence_Embeddings_Common_Sense  \\\n",
              "0  [-3.873892962475706, -6.28083982173462, 2.1024...   \n",
              "1  [19.148522784526726, -11.368979570695503, -6.4...   \n",
              "2  [-6.7374134155296765, 5.068789912917022, 1.954...   \n",
              "3  [3.1186898044116997, 0.754319230642507, -4.596...   \n",
              "4  [-1.3480240702431747, 2.1904766694697173, 4.61...   \n",
              "\n",
              "                                    Emb_Common_Sense  \\\n",
              "0  [-3.873892962475706, -6.28083982173462, 2.1024...   \n",
              "1  [19.148522784526726, -11.368979570695503, -6.4...   \n",
              "2  [-6.7374134155296765, 5.068789912917022, 1.954...   \n",
              "3  [3.1186898044116997, 0.754319230642507, -4.596...   \n",
              "4  [-1.3480240702431747, 2.1904766694697173, 4.61...   \n",
              "\n",
              "                                       Emb_Wikipedia  \n",
              "0  [1.4576048217713833, 1.748905599117279, 0.7998...  \n",
              "1  [3.6877265833318233, 3.6424022875726223, 1.070...  \n",
              "2  [1.3899028208106756, 2.182059425394982, 2.3042...  \n",
              "3  [2.254825886338949, 1.7188275568187237, 0.0396...  \n",
              "4  [0.46864249650388956, 2.7218117974698544, 0.46...  "
            ]
          },
          "execution_count": 116,
          "metadata": {},
          "output_type": "execute_result"
        }
      ],
      "source": [
        "kg_emb.head()"
      ]
    },
    {
      "cell_type": "code",
      "execution_count": null,
      "metadata": {
        "id": "pgXIK-5uVLa8"
      },
      "outputs": [],
      "source": [
        "kg_emb['Emb_Wikipedia'] = kg_emb['Sentence_Embedding_Wiki_'].apply(lambda x: generate_string_to_list(x))"
      ]
    },
    {
      "cell_type": "code",
      "execution_count": null,
      "metadata": {
        "colab": {
          "base_uri": "https://localhost:8080/"
        },
        "id": "cYicor5VSrSr",
        "outputId": "5036350a-8649-4fbc-94af-134a832ffe5d"
      },
      "outputs": [
        {
          "data": {
            "text/plain": [
              "100"
            ]
          },
          "execution_count": 99,
          "metadata": {},
          "output_type": "execute_result"
        }
      ],
      "source": [
        "len(kg_emb['Emb_Common_Sense'][0])"
      ]
    },
    {
      "cell_type": "code",
      "execution_count": null,
      "metadata": {
        "colab": {
          "base_uri": "https://localhost:8080/"
        },
        "id": "89-quBiSVgZs",
        "outputId": "996ba0e2-0131-4701-d014-28a7e9b09823"
      },
      "outputs": [
        {
          "data": {
            "text/plain": [
              "100"
            ]
          },
          "execution_count": 111,
          "metadata": {},
          "output_type": "execute_result"
        }
      ],
      "source": [
        "len(kg_emb['Emb_Wikipedia'][0])"
      ]
    },
    {
      "cell_type": "code",
      "execution_count": null,
      "metadata": {
        "colab": {
          "base_uri": "https://localhost:8080/",
          "height": 652
        },
        "id": "mITouOCZVo-j",
        "outputId": "83fc1df6-0a82-45d1-d93a-b791c481acf4"
      },
      "outputs": [
        {
          "data": {
            "text/html": [
              "\n",
              "  <div id=\"df-a41a7979-b51e-4997-bf84-ba5de1215124\">\n",
              "    <div class=\"colab-df-container\">\n",
              "      <div>\n",
              "<style scoped>\n",
              "    .dataframe tbody tr th:only-of-type {\n",
              "        vertical-align: middle;\n",
              "    }\n",
              "\n",
              "    .dataframe tbody tr th {\n",
              "        vertical-align: top;\n",
              "    }\n",
              "\n",
              "    .dataframe thead th {\n",
              "        text-align: right;\n",
              "    }\n",
              "</style>\n",
              "<table border=\"1\" class=\"dataframe\">\n",
              "  <thead>\n",
              "    <tr style=\"text-align: right;\">\n",
              "      <th></th>\n",
              "      <th>post_title</th>\n",
              "      <th>annotations</th>\n",
              "      <th>label</th>\n",
              "      <th>sentences</th>\n",
              "      <th>words</th>\n",
              "      <th>Clean_Words</th>\n",
              "      <th>Corrected_Slangs</th>\n",
              "      <th>isSlang</th>\n",
              "      <th>Sentence_Embedding_Wiki</th>\n",
              "      <th>Sentence_Embedding_Wiki_</th>\n",
              "      <th>Sentence_Embedding_Common_Sense</th>\n",
              "      <th>Index</th>\n",
              "      <th>Sentence_Embeddings_Common_Sense</th>\n",
              "      <th>Emb_Common_Sense</th>\n",
              "      <th>Emb_Wikipedia</th>\n",
              "    </tr>\n",
              "  </thead>\n",
              "  <tbody>\n",
              "    <tr>\n",
              "      <th>0</th>\n",
              "      <td>I don't feel original anymore.</td>\n",
              "      <td>Trouble-falling-or-staying-asleep-or-sleeping-...</td>\n",
              "      <td>no</td>\n",
              "      <td>I don't feel original anymore. Trouble-falling...</td>\n",
              "      <td>['I', \"don't\", 'feel', 'original', 'anymore.',...</td>\n",
              "      <td>['i', 'dont', 'feel', 'original', 'anymore', '...</td>\n",
              "      <td>['i', 'dont', 'feel', 'original', 'anymore', '...</td>\n",
              "      <td>False</td>\n",
              "      <td>[ 1.45760482  1.7489056   0.79981597  0.483600...</td>\n",
              "      <td>[1.4576048217713833, 1.748905599117279, 0.7998...</td>\n",
              "      <td>[-7.303e-01 -6.990e-01 -3.560e-02 -2.885e-01  ...</td>\n",
              "      <td>8</td>\n",
              "      <td>[-3.873892962475706, -6.28083982173462, 2.1024...</td>\n",
              "      <td>[-3.873892962475706, -6.28083982173462, 2.1024...</td>\n",
              "      <td>[1.4576048217713833, 1.748905599117279, 0.7998...</td>\n",
              "    </tr>\n",
              "    <tr>\n",
              "      <th>1</th>\n",
              "      <td>I don’t have anyone to talk to and I don’t kno...</td>\n",
              "      <td>Trouble-falling-or-staying-asleep-or-sleeping-...</td>\n",
              "      <td>no</td>\n",
              "      <td>I don’t have anyone to talk to and I don’t kno...</td>\n",
              "      <td>['I', 'don’t', 'have', 'anyone', 'to', 'talk',...</td>\n",
              "      <td>['i', 'dont', 'have', 'anyone', 'to', 'talk', ...</td>\n",
              "      <td>['i', 'dont', 'have', 'anyone', 'to', 'talk', ...</td>\n",
              "      <td>False</td>\n",
              "      <td>[ 3.68772658e+00  3.64240229e+00  1.07021014e+...</td>\n",
              "      <td>[3.6877265833318233, 3.6424022875726223, 1.070...</td>\n",
              "      <td>[-2.1026e+00 -2.3225e+00 -2.4410e-01  1.4450e-...</td>\n",
              "      <td>17</td>\n",
              "      <td>[19.148522784526726, -11.368979570695503, -6.4...</td>\n",
              "      <td>[19.148522784526726, -11.368979570695503, -6.4...</td>\n",
              "      <td>[3.6877265833318233, 3.6424022875726223, 1.070...</td>\n",
              "    </tr>\n",
              "    <tr>\n",
              "      <th>2</th>\n",
              "      <td>Stuck between moving forward and killing myself</td>\n",
              "      <td>Trouble-falling-or-staying-asleep-or-sleeping-...</td>\n",
              "      <td>no</td>\n",
              "      <td>Stuck between moving forward and killing mysel...</td>\n",
              "      <td>['Stuck', 'between', 'moving', 'forward', 'and...</td>\n",
              "      <td>['stuck', 'between', 'moving', 'forward', 'and...</td>\n",
              "      <td>['stuck', 'between', 'moving', 'forward', 'and...</td>\n",
              "      <td>False</td>\n",
              "      <td>[ 1.38990282  2.18205943  2.30429582  0.322109...</td>\n",
              "      <td>[1.3899028208106756, 2.182059425394982, 2.3042...</td>\n",
              "      <td>[-8.067e-01 -7.971e-01  8.160e-02  2.024e-01  ...</td>\n",
              "      <td>26</td>\n",
              "      <td>[-6.7374134155296765, 5.068789912917022, 1.954...</td>\n",
              "      <td>[-6.7374134155296765, 5.068789912917022, 1.954...</td>\n",
              "      <td>[1.3899028208106756, 2.182059425394982, 2.3042...</td>\n",
              "    </tr>\n",
              "    <tr>\n",
              "      <th>3</th>\n",
              "      <td>I need help on how to help my girlfriend.</td>\n",
              "      <td>Trouble-falling-or-staying-asleep-or-sleeping-...</td>\n",
              "      <td>no</td>\n",
              "      <td>I need help on how to help my girlfriend. Trou...</td>\n",
              "      <td>['I', 'need', 'help', 'on', 'how', 'to', 'help...</td>\n",
              "      <td>['i', 'need', 'help', 'on', 'how', 'to', 'help...</td>\n",
              "      <td>['i', 'need', 'help', 'on', 'how', 'to', 'help...</td>\n",
              "      <td>False</td>\n",
              "      <td>[ 2.25482589  1.71882756  0.0396392   0.735726...</td>\n",
              "      <td>[2.254825886338949, 1.7188275568187237, 0.0396...</td>\n",
              "      <td>[-1.129  -1.2003 -0.1459  0.3409  0.3397  0.45...</td>\n",
              "      <td>35</td>\n",
              "      <td>[3.1186898044116997, 0.754319230642507, -4.596...</td>\n",
              "      <td>[3.1186898044116997, 0.754319230642507, -4.596...</td>\n",
              "      <td>[2.254825886338949, 1.7188275568187237, 0.0396...</td>\n",
              "    </tr>\n",
              "    <tr>\n",
              "      <th>4</th>\n",
              "      <td>I've been feeling this way for some tine</td>\n",
              "      <td>Trouble-falling-or-staying-asleep-or-sleeping-...</td>\n",
              "      <td>no</td>\n",
              "      <td>I've been feeling this way for some tine Troub...</td>\n",
              "      <td>[\"I've\", 'been', 'feeling', 'this', 'way', 'fo...</td>\n",
              "      <td>['ive', 'been', 'feeling', 'this', 'way', 'for...</td>\n",
              "      <td>['ive', 'been', 'feeling', 'this', 'way', 'for...</td>\n",
              "      <td>False</td>\n",
              "      <td>[ 0.4686425   2.7218118   0.46854382  0.373371...</td>\n",
              "      <td>[0.46864249650388956, 2.7218117974698544, 0.46...</td>\n",
              "      <td>[-0.8176 -0.7574 -0.0129 -0.002   0.103  -0.00...</td>\n",
              "      <td>44</td>\n",
              "      <td>[-1.3480240702431747, 2.1904766694697173, 4.61...</td>\n",
              "      <td>[-1.3480240702431747, 2.1904766694697173, 4.61...</td>\n",
              "      <td>[0.46864249650388956, 2.7218117974698544, 0.46...</td>\n",
              "    </tr>\n",
              "  </tbody>\n",
              "</table>\n",
              "</div>\n",
              "      <button class=\"colab-df-convert\" onclick=\"convertToInteractive('df-a41a7979-b51e-4997-bf84-ba5de1215124')\"\n",
              "              title=\"Convert this dataframe to an interactive table.\"\n",
              "              style=\"display:none;\">\n",
              "        \n",
              "  <svg xmlns=\"http://www.w3.org/2000/svg\" height=\"24px\"viewBox=\"0 0 24 24\"\n",
              "       width=\"24px\">\n",
              "    <path d=\"M0 0h24v24H0V0z\" fill=\"none\"/>\n",
              "    <path d=\"M18.56 5.44l.94 2.06.94-2.06 2.06-.94-2.06-.94-.94-2.06-.94 2.06-2.06.94zm-11 1L8.5 8.5l.94-2.06 2.06-.94-2.06-.94L8.5 2.5l-.94 2.06-2.06.94zm10 10l.94 2.06.94-2.06 2.06-.94-2.06-.94-.94-2.06-.94 2.06-2.06.94z\"/><path d=\"M17.41 7.96l-1.37-1.37c-.4-.4-.92-.59-1.43-.59-.52 0-1.04.2-1.43.59L10.3 9.45l-7.72 7.72c-.78.78-.78 2.05 0 2.83L4 21.41c.39.39.9.59 1.41.59.51 0 1.02-.2 1.41-.59l7.78-7.78 2.81-2.81c.8-.78.8-2.07 0-2.86zM5.41 20L4 18.59l7.72-7.72 1.47 1.35L5.41 20z\"/>\n",
              "  </svg>\n",
              "      </button>\n",
              "      \n",
              "  <style>\n",
              "    .colab-df-container {\n",
              "      display:flex;\n",
              "      flex-wrap:wrap;\n",
              "      gap: 12px;\n",
              "    }\n",
              "\n",
              "    .colab-df-convert {\n",
              "      background-color: #E8F0FE;\n",
              "      border: none;\n",
              "      border-radius: 50%;\n",
              "      cursor: pointer;\n",
              "      display: none;\n",
              "      fill: #1967D2;\n",
              "      height: 32px;\n",
              "      padding: 0 0 0 0;\n",
              "      width: 32px;\n",
              "    }\n",
              "\n",
              "    .colab-df-convert:hover {\n",
              "      background-color: #E2EBFA;\n",
              "      box-shadow: 0px 1px 2px rgba(60, 64, 67, 0.3), 0px 1px 3px 1px rgba(60, 64, 67, 0.15);\n",
              "      fill: #174EA6;\n",
              "    }\n",
              "\n",
              "    [theme=dark] .colab-df-convert {\n",
              "      background-color: #3B4455;\n",
              "      fill: #D2E3FC;\n",
              "    }\n",
              "\n",
              "    [theme=dark] .colab-df-convert:hover {\n",
              "      background-color: #434B5C;\n",
              "      box-shadow: 0px 1px 3px 1px rgba(0, 0, 0, 0.15);\n",
              "      filter: drop-shadow(0px 1px 2px rgba(0, 0, 0, 0.3));\n",
              "      fill: #FFFFFF;\n",
              "    }\n",
              "  </style>\n",
              "\n",
              "      <script>\n",
              "        const buttonEl =\n",
              "          document.querySelector('#df-a41a7979-b51e-4997-bf84-ba5de1215124 button.colab-df-convert');\n",
              "        buttonEl.style.display =\n",
              "          google.colab.kernel.accessAllowed ? 'block' : 'none';\n",
              "\n",
              "        async function convertToInteractive(key) {\n",
              "          const element = document.querySelector('#df-a41a7979-b51e-4997-bf84-ba5de1215124');\n",
              "          const dataTable =\n",
              "            await google.colab.kernel.invokeFunction('convertToInteractive',\n",
              "                                                     [key], {});\n",
              "          if (!dataTable) return;\n",
              "\n",
              "          const docLinkHtml = 'Like what you see? Visit the ' +\n",
              "            '<a target=\"_blank\" href=https://colab.research.google.com/notebooks/data_table.ipynb>data table notebook</a>'\n",
              "            + ' to learn more about interactive tables.';\n",
              "          element.innerHTML = '';\n",
              "          dataTable['output_type'] = 'display_data';\n",
              "          await google.colab.output.renderOutput(dataTable, element);\n",
              "          const docLink = document.createElement('div');\n",
              "          docLink.innerHTML = docLinkHtml;\n",
              "          element.appendChild(docLink);\n",
              "        }\n",
              "      </script>\n",
              "    </div>\n",
              "  </div>\n",
              "  "
            ],
            "text/plain": [
              "                                          post_title  \\\n",
              "0                     I don't feel original anymore.   \n",
              "1  I don’t have anyone to talk to and I don’t kno...   \n",
              "2    Stuck between moving forward and killing myself   \n",
              "3          I need help on how to help my girlfriend.   \n",
              "4           I've been feeling this way for some tine   \n",
              "\n",
              "                                         annotations label  \\\n",
              "0  Trouble-falling-or-staying-asleep-or-sleeping-...    no   \n",
              "1  Trouble-falling-or-staying-asleep-or-sleeping-...    no   \n",
              "2  Trouble-falling-or-staying-asleep-or-sleeping-...    no   \n",
              "3  Trouble-falling-or-staying-asleep-or-sleeping-...    no   \n",
              "4  Trouble-falling-or-staying-asleep-or-sleeping-...    no   \n",
              "\n",
              "                                           sentences  \\\n",
              "0  I don't feel original anymore. Trouble-falling...   \n",
              "1  I don’t have anyone to talk to and I don’t kno...   \n",
              "2  Stuck between moving forward and killing mysel...   \n",
              "3  I need help on how to help my girlfriend. Trou...   \n",
              "4  I've been feeling this way for some tine Troub...   \n",
              "\n",
              "                                               words  \\\n",
              "0  ['I', \"don't\", 'feel', 'original', 'anymore.',...   \n",
              "1  ['I', 'don’t', 'have', 'anyone', 'to', 'talk',...   \n",
              "2  ['Stuck', 'between', 'moving', 'forward', 'and...   \n",
              "3  ['I', 'need', 'help', 'on', 'how', 'to', 'help...   \n",
              "4  [\"I've\", 'been', 'feeling', 'this', 'way', 'fo...   \n",
              "\n",
              "                                         Clean_Words  \\\n",
              "0  ['i', 'dont', 'feel', 'original', 'anymore', '...   \n",
              "1  ['i', 'dont', 'have', 'anyone', 'to', 'talk', ...   \n",
              "2  ['stuck', 'between', 'moving', 'forward', 'and...   \n",
              "3  ['i', 'need', 'help', 'on', 'how', 'to', 'help...   \n",
              "4  ['ive', 'been', 'feeling', 'this', 'way', 'for...   \n",
              "\n",
              "                                    Corrected_Slangs  isSlang  \\\n",
              "0  ['i', 'dont', 'feel', 'original', 'anymore', '...    False   \n",
              "1  ['i', 'dont', 'have', 'anyone', 'to', 'talk', ...    False   \n",
              "2  ['stuck', 'between', 'moving', 'forward', 'and...    False   \n",
              "3  ['i', 'need', 'help', 'on', 'how', 'to', 'help...    False   \n",
              "4  ['ive', 'been', 'feeling', 'this', 'way', 'for...    False   \n",
              "\n",
              "                             Sentence_Embedding_Wiki  \\\n",
              "0  [ 1.45760482  1.7489056   0.79981597  0.483600...   \n",
              "1  [ 3.68772658e+00  3.64240229e+00  1.07021014e+...   \n",
              "2  [ 1.38990282  2.18205943  2.30429582  0.322109...   \n",
              "3  [ 2.25482589  1.71882756  0.0396392   0.735726...   \n",
              "4  [ 0.4686425   2.7218118   0.46854382  0.373371...   \n",
              "\n",
              "                            Sentence_Embedding_Wiki_  \\\n",
              "0  [1.4576048217713833, 1.748905599117279, 0.7998...   \n",
              "1  [3.6877265833318233, 3.6424022875726223, 1.070...   \n",
              "2  [1.3899028208106756, 2.182059425394982, 2.3042...   \n",
              "3  [2.254825886338949, 1.7188275568187237, 0.0396...   \n",
              "4  [0.46864249650388956, 2.7218117974698544, 0.46...   \n",
              "\n",
              "                     Sentence_Embedding_Common_Sense  Index  \\\n",
              "0  [-7.303e-01 -6.990e-01 -3.560e-02 -2.885e-01  ...      8   \n",
              "1  [-2.1026e+00 -2.3225e+00 -2.4410e-01  1.4450e-...     17   \n",
              "2  [-8.067e-01 -7.971e-01  8.160e-02  2.024e-01  ...     26   \n",
              "3  [-1.129  -1.2003 -0.1459  0.3409  0.3397  0.45...     35   \n",
              "4  [-0.8176 -0.7574 -0.0129 -0.002   0.103  -0.00...     44   \n",
              "\n",
              "                    Sentence_Embeddings_Common_Sense  \\\n",
              "0  [-3.873892962475706, -6.28083982173462, 2.1024...   \n",
              "1  [19.148522784526726, -11.368979570695503, -6.4...   \n",
              "2  [-6.7374134155296765, 5.068789912917022, 1.954...   \n",
              "3  [3.1186898044116997, 0.754319230642507, -4.596...   \n",
              "4  [-1.3480240702431747, 2.1904766694697173, 4.61...   \n",
              "\n",
              "                                    Emb_Common_Sense  \\\n",
              "0  [-3.873892962475706, -6.28083982173462, 2.1024...   \n",
              "1  [19.148522784526726, -11.368979570695503, -6.4...   \n",
              "2  [-6.7374134155296765, 5.068789912917022, 1.954...   \n",
              "3  [3.1186898044116997, 0.754319230642507, -4.596...   \n",
              "4  [-1.3480240702431747, 2.1904766694697173, 4.61...   \n",
              "\n",
              "                                       Emb_Wikipedia  \n",
              "0  [1.4576048217713833, 1.748905599117279, 0.7998...  \n",
              "1  [3.6877265833318233, 3.6424022875726223, 1.070...  \n",
              "2  [1.3899028208106756, 2.182059425394982, 2.3042...  \n",
              "3  [2.254825886338949, 1.7188275568187237, 0.0396...  \n",
              "4  [0.46864249650388956, 2.7218117974698544, 0.46...  "
            ]
          },
          "execution_count": 118,
          "metadata": {},
          "output_type": "execute_result"
        }
      ],
      "source": [
        "kg_emb.head()"
      ]
    },
    {
      "cell_type": "code",
      "execution_count": null,
      "metadata": {
        "colab": {
          "base_uri": "https://localhost:8080/"
        },
        "id": "miHZcWMfWL8Q",
        "outputId": "29a8c251-f206-424f-cbd2-0bcd232d2e3e"
      },
      "outputs": [
        {
          "data": {
            "text/plain": [
              "100"
            ]
          },
          "execution_count": 119,
          "metadata": {},
          "output_type": "execute_result"
        }
      ],
      "source": [
        "fused_emb = pd.read_csv('PCA_Embeddings_primate.csv') # get the fused pca emb of base and large\n",
        "fused_emb.head()\n",
        "fused_emb.columns[:-1]\n",
        "fused_emb['Emb_Ensemble'] = fused_emb[list(fused_emb.columns[:-1])].values.tolist()\n",
        "len(fused_emb.Emb_Ensemble[0])"
      ]
    },
    {
      "cell_type": "code",
      "execution_count": null,
      "metadata": {
        "id": "mVPyqQRfWME-"
      },
      "outputs": [],
      "source": [
        "indices = list(kg_emb.Index)"
      ]
    },
    {
      "cell_type": "code",
      "execution_count": null,
      "metadata": {
        "colab": {
          "base_uri": "https://localhost:8080/"
        },
        "id": "p3m82wgIYzmE",
        "outputId": "512d9d85-70b7-47bb-e156-71b04fd8d87a"
      },
      "outputs": [
        {
          "data": {
            "text/plain": [
              "1804"
            ]
          },
          "execution_count": 131,
          "metadata": {},
          "output_type": "execute_result"
        }
      ],
      "source": [
        "len(indices)"
      ]
    },
    {
      "cell_type": "code",
      "execution_count": null,
      "metadata": {
        "id": "QJQWPNLiYzt1"
      },
      "outputs": [],
      "source": [
        "combined_embeddings = list(fused_emb.Emb_Ensemble)"
      ]
    },
    {
      "cell_type": "code",
      "execution_count": null,
      "metadata": {
        "colab": {
          "base_uri": "https://localhost:8080/"
        },
        "id": "QSbBssgIZZPC",
        "outputId": "c27a1fe7-2931-4a1d-c941-f954a2c56ef9"
      },
      "outputs": [
        {
          "data": {
            "text/plain": [
              "18027"
            ]
          },
          "execution_count": 128,
          "metadata": {},
          "output_type": "execute_result"
        }
      ],
      "source": [
        "len(combined_embeddings)"
      ]
    },
    {
      "cell_type": "code",
      "execution_count": null,
      "metadata": {
        "id": "J3nki9GUYz0z"
      },
      "outputs": [],
      "source": [
        "comb_embeddings = []\n",
        "for i in indices:\n",
        "  comb_embeddings.append(combined_embeddings[i])"
      ]
    },
    {
      "cell_type": "code",
      "execution_count": null,
      "metadata": {
        "colab": {
          "base_uri": "https://localhost:8080/"
        },
        "id": "t7uFr5iJZocG",
        "outputId": "a54a14a4-deed-4eae-8d9f-0d0106c7085a"
      },
      "outputs": [
        {
          "data": {
            "text/plain": [
              "1804"
            ]
          },
          "execution_count": 133,
          "metadata": {},
          "output_type": "execute_result"
        }
      ],
      "source": [
        "len(comb_embeddings)"
      ]
    },
    {
      "cell_type": "code",
      "execution_count": null,
      "metadata": {
        "id": "xkBHGI1iZt-8"
      },
      "outputs": [],
      "source": [
        "import pandas as pd\n",
        "emb_df = pd.DataFrame({\"Embeddings\":comb_embeddings})"
      ]
    },
    {
      "cell_type": "code",
      "execution_count": null,
      "metadata": {
        "id": "vRh95bN5Zvnz"
      },
      "outputs": [],
      "source": [
        "emb_df.rename(columns = {'Embeddings': 'Emb_Ensemble'}, inplace=True)"
      ]
    },
    {
      "cell_type": "code",
      "execution_count": null,
      "metadata": {
        "id": "AHNxspBoTKPe"
      },
      "outputs": [],
      "source": [
        "all_embeddings = pd.concat([kg_emb, emb_df[['Emb_Ensemble']]], axis=1)"
      ]
    },
    {
      "cell_type": "code",
      "execution_count": null,
      "metadata": {
        "colab": {
          "base_uri": "https://localhost:8080/"
        },
        "id": "i6JRnUbbTKUh",
        "outputId": "29025aea-d0fe-4191-9dc3-8987d0dc4462"
      },
      "outputs": [
        {
          "data": {
            "text/plain": [
              "100"
            ]
          },
          "execution_count": 139,
          "metadata": {},
          "output_type": "execute_result"
        }
      ],
      "source": [
        "len(all_embeddings['Emb_Common_Sense'][0])"
      ]
    },
    {
      "cell_type": "code",
      "execution_count": null,
      "metadata": {
        "colab": {
          "base_uri": "https://localhost:8080/",
          "height": 652
        },
        "id": "EfL-UpeRTKZM",
        "outputId": "36403a31-39ea-457e-879c-ba506be4f8c5"
      },
      "outputs": [
        {
          "data": {
            "text/html": [
              "\n",
              "  <div id=\"df-b743243e-c249-497f-8a0e-7bdb2f87a36e\">\n",
              "    <div class=\"colab-df-container\">\n",
              "      <div>\n",
              "<style scoped>\n",
              "    .dataframe tbody tr th:only-of-type {\n",
              "        vertical-align: middle;\n",
              "    }\n",
              "\n",
              "    .dataframe tbody tr th {\n",
              "        vertical-align: top;\n",
              "    }\n",
              "\n",
              "    .dataframe thead th {\n",
              "        text-align: right;\n",
              "    }\n",
              "</style>\n",
              "<table border=\"1\" class=\"dataframe\">\n",
              "  <thead>\n",
              "    <tr style=\"text-align: right;\">\n",
              "      <th></th>\n",
              "      <th>post_title</th>\n",
              "      <th>annotations</th>\n",
              "      <th>label</th>\n",
              "      <th>sentences</th>\n",
              "      <th>words</th>\n",
              "      <th>Clean_Words</th>\n",
              "      <th>Corrected_Slangs</th>\n",
              "      <th>isSlang</th>\n",
              "      <th>Sentence_Embedding_Wiki</th>\n",
              "      <th>Sentence_Embedding_Wiki_</th>\n",
              "      <th>Sentence_Embedding_Common_Sense</th>\n",
              "      <th>Index</th>\n",
              "      <th>Sentence_Embeddings_Common_Sense</th>\n",
              "      <th>Emb_Common_Sense</th>\n",
              "      <th>Emb_Wikipedia</th>\n",
              "      <th>Emb_Ensemble</th>\n",
              "    </tr>\n",
              "  </thead>\n",
              "  <tbody>\n",
              "    <tr>\n",
              "      <th>0</th>\n",
              "      <td>I don't feel original anymore.</td>\n",
              "      <td>Trouble-falling-or-staying-asleep-or-sleeping-...</td>\n",
              "      <td>no</td>\n",
              "      <td>I don't feel original anymore. Trouble-falling...</td>\n",
              "      <td>['I', \"don't\", 'feel', 'original', 'anymore.',...</td>\n",
              "      <td>['i', 'dont', 'feel', 'original', 'anymore', '...</td>\n",
              "      <td>['i', 'dont', 'feel', 'original', 'anymore', '...</td>\n",
              "      <td>False</td>\n",
              "      <td>[ 1.45760482  1.7489056   0.79981597  0.483600...</td>\n",
              "      <td>[1.4576048217713833, 1.748905599117279, 0.7998...</td>\n",
              "      <td>[-7.303e-01 -6.990e-01 -3.560e-02 -2.885e-01  ...</td>\n",
              "      <td>8</td>\n",
              "      <td>[-3.873892962475706, -6.28083982173462, 2.1024...</td>\n",
              "      <td>[-3.873892962475706, -6.28083982173462, 2.1024...</td>\n",
              "      <td>[1.4576048217713833, 1.748905599117279, 0.7998...</td>\n",
              "      <td>[6.933587, 0.85001665, 13.901472, 7.8797493, 1...</td>\n",
              "    </tr>\n",
              "    <tr>\n",
              "      <th>1</th>\n",
              "      <td>I don’t have anyone to talk to and I don’t kno...</td>\n",
              "      <td>Trouble-falling-or-staying-asleep-or-sleeping-...</td>\n",
              "      <td>no</td>\n",
              "      <td>I don’t have anyone to talk to and I don’t kno...</td>\n",
              "      <td>['I', 'don’t', 'have', 'anyone', 'to', 'talk',...</td>\n",
              "      <td>['i', 'dont', 'have', 'anyone', 'to', 'talk', ...</td>\n",
              "      <td>['i', 'dont', 'have', 'anyone', 'to', 'talk', ...</td>\n",
              "      <td>False</td>\n",
              "      <td>[ 3.68772658e+00  3.64240229e+00  1.07021014e+...</td>\n",
              "      <td>[3.6877265833318233, 3.6424022875726223, 1.070...</td>\n",
              "      <td>[-2.1026e+00 -2.3225e+00 -2.4410e-01  1.4450e-...</td>\n",
              "      <td>17</td>\n",
              "      <td>[19.148522784526726, -11.368979570695503, -6.4...</td>\n",
              "      <td>[19.148522784526726, -11.368979570695503, -6.4...</td>\n",
              "      <td>[3.6877265833318233, 3.6424022875726223, 1.070...</td>\n",
              "      <td>[-14.496326, -13.843654, 6.766021, 10.616831, ...</td>\n",
              "    </tr>\n",
              "    <tr>\n",
              "      <th>2</th>\n",
              "      <td>Stuck between moving forward and killing myself</td>\n",
              "      <td>Trouble-falling-or-staying-asleep-or-sleeping-...</td>\n",
              "      <td>no</td>\n",
              "      <td>Stuck between moving forward and killing mysel...</td>\n",
              "      <td>['Stuck', 'between', 'moving', 'forward', 'and...</td>\n",
              "      <td>['stuck', 'between', 'moving', 'forward', 'and...</td>\n",
              "      <td>['stuck', 'between', 'moving', 'forward', 'and...</td>\n",
              "      <td>False</td>\n",
              "      <td>[ 1.38990282  2.18205943  2.30429582  0.322109...</td>\n",
              "      <td>[1.3899028208106756, 2.182059425394982, 2.3042...</td>\n",
              "      <td>[-8.067e-01 -7.971e-01  8.160e-02  2.024e-01  ...</td>\n",
              "      <td>26</td>\n",
              "      <td>[-6.7374134155296765, 5.068789912917022, 1.954...</td>\n",
              "      <td>[-6.7374134155296765, 5.068789912917022, 1.954...</td>\n",
              "      <td>[1.3899028208106756, 2.182059425394982, 2.3042...</td>\n",
              "      <td>[0.9604438, 2.9677985, -16.511631, 0.9730612, ...</td>\n",
              "    </tr>\n",
              "    <tr>\n",
              "      <th>3</th>\n",
              "      <td>I need help on how to help my girlfriend.</td>\n",
              "      <td>Trouble-falling-or-staying-asleep-or-sleeping-...</td>\n",
              "      <td>no</td>\n",
              "      <td>I need help on how to help my girlfriend. Trou...</td>\n",
              "      <td>['I', 'need', 'help', 'on', 'how', 'to', 'help...</td>\n",
              "      <td>['i', 'need', 'help', 'on', 'how', 'to', 'help...</td>\n",
              "      <td>['i', 'need', 'help', 'on', 'how', 'to', 'help...</td>\n",
              "      <td>False</td>\n",
              "      <td>[ 2.25482589  1.71882756  0.0396392   0.735726...</td>\n",
              "      <td>[2.254825886338949, 1.7188275568187237, 0.0396...</td>\n",
              "      <td>[-1.129  -1.2003 -0.1459  0.3409  0.3397  0.45...</td>\n",
              "      <td>35</td>\n",
              "      <td>[3.1186898044116997, 0.754319230642507, -4.596...</td>\n",
              "      <td>[3.1186898044116997, 0.754319230642507, -4.596...</td>\n",
              "      <td>[2.254825886338949, 1.7188275568187237, 0.0396...</td>\n",
              "      <td>[7.309912, 19.680882, 5.4259787, 6.9581413, 10...</td>\n",
              "    </tr>\n",
              "    <tr>\n",
              "      <th>4</th>\n",
              "      <td>I've been feeling this way for some tine</td>\n",
              "      <td>Trouble-falling-or-staying-asleep-or-sleeping-...</td>\n",
              "      <td>no</td>\n",
              "      <td>I've been feeling this way for some tine Troub...</td>\n",
              "      <td>[\"I've\", 'been', 'feeling', 'this', 'way', 'fo...</td>\n",
              "      <td>['ive', 'been', 'feeling', 'this', 'way', 'for...</td>\n",
              "      <td>['ive', 'been', 'feeling', 'this', 'way', 'for...</td>\n",
              "      <td>False</td>\n",
              "      <td>[ 0.4686425   2.7218118   0.46854382  0.373371...</td>\n",
              "      <td>[0.46864249650388956, 2.7218117974698544, 0.46...</td>\n",
              "      <td>[-0.8176 -0.7574 -0.0129 -0.002   0.103  -0.00...</td>\n",
              "      <td>44</td>\n",
              "      <td>[-1.3480240702431747, 2.1904766694697173, 4.61...</td>\n",
              "      <td>[-1.3480240702431747, 2.1904766694697173, 4.61...</td>\n",
              "      <td>[0.46864249650388956, 2.7218117974698544, 0.46...</td>\n",
              "      <td>[-13.896891, -16.607113, -5.570591, 3.0472713,...</td>\n",
              "    </tr>\n",
              "  </tbody>\n",
              "</table>\n",
              "</div>\n",
              "      <button class=\"colab-df-convert\" onclick=\"convertToInteractive('df-b743243e-c249-497f-8a0e-7bdb2f87a36e')\"\n",
              "              title=\"Convert this dataframe to an interactive table.\"\n",
              "              style=\"display:none;\">\n",
              "        \n",
              "  <svg xmlns=\"http://www.w3.org/2000/svg\" height=\"24px\"viewBox=\"0 0 24 24\"\n",
              "       width=\"24px\">\n",
              "    <path d=\"M0 0h24v24H0V0z\" fill=\"none\"/>\n",
              "    <path d=\"M18.56 5.44l.94 2.06.94-2.06 2.06-.94-2.06-.94-.94-2.06-.94 2.06-2.06.94zm-11 1L8.5 8.5l.94-2.06 2.06-.94-2.06-.94L8.5 2.5l-.94 2.06-2.06.94zm10 10l.94 2.06.94-2.06 2.06-.94-2.06-.94-.94-2.06-.94 2.06-2.06.94z\"/><path d=\"M17.41 7.96l-1.37-1.37c-.4-.4-.92-.59-1.43-.59-.52 0-1.04.2-1.43.59L10.3 9.45l-7.72 7.72c-.78.78-.78 2.05 0 2.83L4 21.41c.39.39.9.59 1.41.59.51 0 1.02-.2 1.41-.59l7.78-7.78 2.81-2.81c.8-.78.8-2.07 0-2.86zM5.41 20L4 18.59l7.72-7.72 1.47 1.35L5.41 20z\"/>\n",
              "  </svg>\n",
              "      </button>\n",
              "      \n",
              "  <style>\n",
              "    .colab-df-container {\n",
              "      display:flex;\n",
              "      flex-wrap:wrap;\n",
              "      gap: 12px;\n",
              "    }\n",
              "\n",
              "    .colab-df-convert {\n",
              "      background-color: #E8F0FE;\n",
              "      border: none;\n",
              "      border-radius: 50%;\n",
              "      cursor: pointer;\n",
              "      display: none;\n",
              "      fill: #1967D2;\n",
              "      height: 32px;\n",
              "      padding: 0 0 0 0;\n",
              "      width: 32px;\n",
              "    }\n",
              "\n",
              "    .colab-df-convert:hover {\n",
              "      background-color: #E2EBFA;\n",
              "      box-shadow: 0px 1px 2px rgba(60, 64, 67, 0.3), 0px 1px 3px 1px rgba(60, 64, 67, 0.15);\n",
              "      fill: #174EA6;\n",
              "    }\n",
              "\n",
              "    [theme=dark] .colab-df-convert {\n",
              "      background-color: #3B4455;\n",
              "      fill: #D2E3FC;\n",
              "    }\n",
              "\n",
              "    [theme=dark] .colab-df-convert:hover {\n",
              "      background-color: #434B5C;\n",
              "      box-shadow: 0px 1px 3px 1px rgba(0, 0, 0, 0.15);\n",
              "      filter: drop-shadow(0px 1px 2px rgba(0, 0, 0, 0.3));\n",
              "      fill: #FFFFFF;\n",
              "    }\n",
              "  </style>\n",
              "\n",
              "      <script>\n",
              "        const buttonEl =\n",
              "          document.querySelector('#df-b743243e-c249-497f-8a0e-7bdb2f87a36e button.colab-df-convert');\n",
              "        buttonEl.style.display =\n",
              "          google.colab.kernel.accessAllowed ? 'block' : 'none';\n",
              "\n",
              "        async function convertToInteractive(key) {\n",
              "          const element = document.querySelector('#df-b743243e-c249-497f-8a0e-7bdb2f87a36e');\n",
              "          const dataTable =\n",
              "            await google.colab.kernel.invokeFunction('convertToInteractive',\n",
              "                                                     [key], {});\n",
              "          if (!dataTable) return;\n",
              "\n",
              "          const docLinkHtml = 'Like what you see? Visit the ' +\n",
              "            '<a target=\"_blank\" href=https://colab.research.google.com/notebooks/data_table.ipynb>data table notebook</a>'\n",
              "            + ' to learn more about interactive tables.';\n",
              "          element.innerHTML = '';\n",
              "          dataTable['output_type'] = 'display_data';\n",
              "          await google.colab.output.renderOutput(dataTable, element);\n",
              "          const docLink = document.createElement('div');\n",
              "          docLink.innerHTML = docLinkHtml;\n",
              "          element.appendChild(docLink);\n",
              "        }\n",
              "      </script>\n",
              "    </div>\n",
              "  </div>\n",
              "  "
            ],
            "text/plain": [
              "                                          post_title  \\\n",
              "0                     I don't feel original anymore.   \n",
              "1  I don’t have anyone to talk to and I don’t kno...   \n",
              "2    Stuck between moving forward and killing myself   \n",
              "3          I need help on how to help my girlfriend.   \n",
              "4           I've been feeling this way for some tine   \n",
              "\n",
              "                                         annotations label  \\\n",
              "0  Trouble-falling-or-staying-asleep-or-sleeping-...    no   \n",
              "1  Trouble-falling-or-staying-asleep-or-sleeping-...    no   \n",
              "2  Trouble-falling-or-staying-asleep-or-sleeping-...    no   \n",
              "3  Trouble-falling-or-staying-asleep-or-sleeping-...    no   \n",
              "4  Trouble-falling-or-staying-asleep-or-sleeping-...    no   \n",
              "\n",
              "                                           sentences  \\\n",
              "0  I don't feel original anymore. Trouble-falling...   \n",
              "1  I don’t have anyone to talk to and I don’t kno...   \n",
              "2  Stuck between moving forward and killing mysel...   \n",
              "3  I need help on how to help my girlfriend. Trou...   \n",
              "4  I've been feeling this way for some tine Troub...   \n",
              "\n",
              "                                               words  \\\n",
              "0  ['I', \"don't\", 'feel', 'original', 'anymore.',...   \n",
              "1  ['I', 'don’t', 'have', 'anyone', 'to', 'talk',...   \n",
              "2  ['Stuck', 'between', 'moving', 'forward', 'and...   \n",
              "3  ['I', 'need', 'help', 'on', 'how', 'to', 'help...   \n",
              "4  [\"I've\", 'been', 'feeling', 'this', 'way', 'fo...   \n",
              "\n",
              "                                         Clean_Words  \\\n",
              "0  ['i', 'dont', 'feel', 'original', 'anymore', '...   \n",
              "1  ['i', 'dont', 'have', 'anyone', 'to', 'talk', ...   \n",
              "2  ['stuck', 'between', 'moving', 'forward', 'and...   \n",
              "3  ['i', 'need', 'help', 'on', 'how', 'to', 'help...   \n",
              "4  ['ive', 'been', 'feeling', 'this', 'way', 'for...   \n",
              "\n",
              "                                    Corrected_Slangs  isSlang  \\\n",
              "0  ['i', 'dont', 'feel', 'original', 'anymore', '...    False   \n",
              "1  ['i', 'dont', 'have', 'anyone', 'to', 'talk', ...    False   \n",
              "2  ['stuck', 'between', 'moving', 'forward', 'and...    False   \n",
              "3  ['i', 'need', 'help', 'on', 'how', 'to', 'help...    False   \n",
              "4  ['ive', 'been', 'feeling', 'this', 'way', 'for...    False   \n",
              "\n",
              "                             Sentence_Embedding_Wiki  \\\n",
              "0  [ 1.45760482  1.7489056   0.79981597  0.483600...   \n",
              "1  [ 3.68772658e+00  3.64240229e+00  1.07021014e+...   \n",
              "2  [ 1.38990282  2.18205943  2.30429582  0.322109...   \n",
              "3  [ 2.25482589  1.71882756  0.0396392   0.735726...   \n",
              "4  [ 0.4686425   2.7218118   0.46854382  0.373371...   \n",
              "\n",
              "                            Sentence_Embedding_Wiki_  \\\n",
              "0  [1.4576048217713833, 1.748905599117279, 0.7998...   \n",
              "1  [3.6877265833318233, 3.6424022875726223, 1.070...   \n",
              "2  [1.3899028208106756, 2.182059425394982, 2.3042...   \n",
              "3  [2.254825886338949, 1.7188275568187237, 0.0396...   \n",
              "4  [0.46864249650388956, 2.7218117974698544, 0.46...   \n",
              "\n",
              "                     Sentence_Embedding_Common_Sense  Index  \\\n",
              "0  [-7.303e-01 -6.990e-01 -3.560e-02 -2.885e-01  ...      8   \n",
              "1  [-2.1026e+00 -2.3225e+00 -2.4410e-01  1.4450e-...     17   \n",
              "2  [-8.067e-01 -7.971e-01  8.160e-02  2.024e-01  ...     26   \n",
              "3  [-1.129  -1.2003 -0.1459  0.3409  0.3397  0.45...     35   \n",
              "4  [-0.8176 -0.7574 -0.0129 -0.002   0.103  -0.00...     44   \n",
              "\n",
              "                    Sentence_Embeddings_Common_Sense  \\\n",
              "0  [-3.873892962475706, -6.28083982173462, 2.1024...   \n",
              "1  [19.148522784526726, -11.368979570695503, -6.4...   \n",
              "2  [-6.7374134155296765, 5.068789912917022, 1.954...   \n",
              "3  [3.1186898044116997, 0.754319230642507, -4.596...   \n",
              "4  [-1.3480240702431747, 2.1904766694697173, 4.61...   \n",
              "\n",
              "                                    Emb_Common_Sense  \\\n",
              "0  [-3.873892962475706, -6.28083982173462, 2.1024...   \n",
              "1  [19.148522784526726, -11.368979570695503, -6.4...   \n",
              "2  [-6.7374134155296765, 5.068789912917022, 1.954...   \n",
              "3  [3.1186898044116997, 0.754319230642507, -4.596...   \n",
              "4  [-1.3480240702431747, 2.1904766694697173, 4.61...   \n",
              "\n",
              "                                       Emb_Wikipedia  \\\n",
              "0  [1.4576048217713833, 1.748905599117279, 0.7998...   \n",
              "1  [3.6877265833318233, 3.6424022875726223, 1.070...   \n",
              "2  [1.3899028208106756, 2.182059425394982, 2.3042...   \n",
              "3  [2.254825886338949, 1.7188275568187237, 0.0396...   \n",
              "4  [0.46864249650388956, 2.7218117974698544, 0.46...   \n",
              "\n",
              "                                        Emb_Ensemble  \n",
              "0  [6.933587, 0.85001665, 13.901472, 7.8797493, 1...  \n",
              "1  [-14.496326, -13.843654, 6.766021, 10.616831, ...  \n",
              "2  [0.9604438, 2.9677985, -16.511631, 0.9730612, ...  \n",
              "3  [7.309912, 19.680882, 5.4259787, 6.9581413, 10...  \n",
              "4  [-13.896891, -16.607113, -5.570591, 3.0472713,...  "
            ]
          },
          "execution_count": 141,
          "metadata": {},
          "output_type": "execute_result"
        }
      ],
      "source": [
        "all_embeddings.head()"
      ]
    },
    {
      "cell_type": "code",
      "execution_count": null,
      "metadata": {
        "id": "vs-uz4LFTKds"
      },
      "outputs": [],
      "source": [
        "all_embeddings.to_csv('Embeddings_primate.csv', index=False)"
      ]
    },
    {
      "cell_type": "code",
      "execution_count": null,
      "metadata": {
        "id": "Bfj4-PwtTKiU"
      },
      "outputs": [],
      "source": [
        "import numpy as np\n",
        "from numpy.linalg import norm"
      ]
    },
    {
      "cell_type": "code",
      "execution_count": null,
      "metadata": {
        "id": "B8DEnXQqTKm1"
      },
      "outputs": [],
      "source": [
        "# Calculate the cosine similarity between two embeddings\n",
        "# Input: numpy arrays\n",
        "def cosine_similarity(emb1, emb2):\n",
        "    emb2= emb2.astype(float)\n",
        "    cosine = np.dot(emb1,emb2)/(norm(emb1)*norm(emb2))\n",
        "    return abs(cosine)"
      ]
    },
    {
      "cell_type": "code",
      "execution_count": null,
      "metadata": {
        "colab": {
          "base_uri": "https://localhost:8080/"
        },
        "id": "HjCKMGjabfgg",
        "outputId": "116e8e2d-4bdb-4951-ffbc-0bd43607eb2b"
      },
      "outputs": [
        {
          "data": {
            "text/plain": [
              "Index(['post_title', 'annotations', 'label', 'sentences', 'words',\n",
              "       'Clean_Words', 'Corrected_Slangs', 'isSlang', 'Sentence_Embedding_Wiki',\n",
              "       'Sentence_Embedding_Wiki_', 'Sentence_Embedding_Common_Sense', 'Index',\n",
              "       'Sentence_Embeddings_Common_Sense', 'Emb_Common_Sense', 'Emb_Wikipedia',\n",
              "       'Emb_Ensemble'],\n",
              "      dtype='object')"
            ]
          },
          "execution_count": 148,
          "metadata": {},
          "output_type": "execute_result"
        }
      ],
      "source": [
        "all_embeddings.columns"
      ]
    },
    {
      "cell_type": "code",
      "execution_count": null,
      "metadata": {
        "id": "ny8KavSGTKrc"
      },
      "outputs": [],
      "source": [
        "# Input: A dataframe with Wiki, Common sense and Fused BERT embeddings\n",
        "\n",
        "all_embeddings['Ensemble_Wiki'] = all_embeddings.apply(lambda x: cosine_similarity(x.Emb_Ensemble, x.Emb_Wikipedia), axis=1)\n"
      ]
    },
    {
      "cell_type": "code",
      "execution_count": null,
      "metadata": {
        "id": "ya-i_AHNTKwK"
      },
      "outputs": [],
      "source": [
        "all_embeddings['Ensemble_Common'] = all_embeddings.apply(lambda x: cosine_similarity(x.Emb_Ensemble, x.Emb_Common_Sense), axis=1)"
      ]
    },
    {
      "cell_type": "code",
      "execution_count": null,
      "metadata": {
        "id": "_PY5pS8mTK0v"
      },
      "outputs": [],
      "source": [
        "# Experiment for different range of alpha values\n",
        "alphas = [0,0.1,0.2,0.3,0.4,0.5,0.6,0.7,0.8,0.9,1.0]\n",
        "\n",
        "bert_wiki = list(all_embeddings.Ensemble_Wiki)\n",
        "bert_common = list(all_embeddings.Ensemble_Common)\n",
        "all_reward = {}\n",
        "for alpha in alphas:\n",
        "  reward = []\n",
        "  for i in range(len(bert_wiki)):\n",
        "    r = (alpha*(bert_wiki[i])) + ((1-alpha)*(bert_common[i]))\n",
        "    reward.append(r)\n",
        "  all_reward[alpha] = reward"
      ]
    },
    {
      "cell_type": "code",
      "execution_count": null,
      "metadata": {
        "id": "Vf1I5A4JbyMz"
      },
      "outputs": [],
      "source": [
        "reward_alpha = pd.DataFrame(all_reward) ## alpha * wiki + 1-alpha common"
      ]
    },
    {
      "cell_type": "code",
      "execution_count": null,
      "metadata": {
        "id": "_HSp21hibySQ"
      },
      "outputs": [],
      "source": [
        "reward_emb = pd.concat([all_embeddings, reward_alpha], axis=1)"
      ]
    },
    {
      "cell_type": "code",
      "execution_count": null,
      "metadata": {
        "id": "WFplzqRibyXj"
      },
      "outputs": [],
      "source": [
        "reward_emb.to_csv('Reward_KG_primate.csv', index=False)"
      ]
    },
    {
      "cell_type": "code",
      "execution_count": null,
      "metadata": {
        "id": "aloleJJN1C73"
      },
      "outputs": [],
      "source": [
        "import pandas as pd\n",
        "\n",
        "reward_emb = pd.read_csv('Reward_KG_primate.csv')"
      ]
    },
    {
      "cell_type": "code",
      "execution_count": null,
      "metadata": {
        "id": "N66C2kRabycN"
      },
      "outputs": [],
      "source": [
        "reward_emb.head()"
      ]
    },
    {
      "cell_type": "code",
      "execution_count": null,
      "metadata": {
        "colab": {
          "base_uri": "https://localhost:8080/"
        },
        "id": "OfycyGQkt6K6",
        "outputId": "061cc3fc-95c4-4fce-e95f-447280155509"
      },
      "outputs": [
        {
          "data": {
            "text/plain": [
              "array(['no', 'yes'], dtype=object)"
            ]
          },
          "execution_count": 4,
          "metadata": {},
          "output_type": "execute_result"
        }
      ],
      "source": [
        "reward_emb['label'].unique()"
      ]
    },
    {
      "cell_type": "code",
      "execution_count": null,
      "metadata": {
        "id": "gC79mg7_C9OF"
      },
      "outputs": [],
      "source": [
        "df = reward_emb"
      ]
    },
    {
      "cell_type": "code",
      "execution_count": null,
      "metadata": {
        "id": "cjuHFJDBClvd"
      },
      "outputs": [],
      "source": [
        "import numpy as np\n",
        "def generate_string_to_list(string):\n",
        "  lst = string.replace('[','').replace(']','').split(', ')\n",
        "  return np.array(lst)"
      ]
    },
    {
      "cell_type": "code",
      "execution_count": null,
      "metadata": {
        "id": "9jf0fM-SC6A6"
      },
      "outputs": [],
      "source": [
        "df['Emb_Ensemble'] = df.Emb_Ensemble.apply(lambda x: generate_string_to_list(x))"
      ]
    },
    {
      "cell_type": "code",
      "execution_count": null,
      "metadata": {
        "colab": {
          "base_uri": "https://localhost:8080/"
        },
        "id": "2m3mRj2mC6Ga",
        "outputId": "6d4b7414-1154-4f2b-d0e9-fcdbcb1b2d6e"
      },
      "outputs": [
        {
          "data": {
            "text/plain": [
              "100"
            ]
          },
          "execution_count": 8,
          "metadata": {},
          "output_type": "execute_result"
        }
      ],
      "source": [
        "len(df.Emb_Ensemble[0])"
      ]
    },
    {
      "cell_type": "code",
      "execution_count": null,
      "metadata": {
        "colab": {
          "base_uri": "https://localhost:8080/"
        },
        "id": "GHzNFDJnDuOb",
        "outputId": "e9de81a5-4d88-4af2-a60f-8d675b025fcc"
      },
      "outputs": [
        {
          "data": {
            "text/plain": [
              "[0, 1, 2, 3, 4]"
            ]
          },
          "execution_count": 13,
          "metadata": {},
          "output_type": "execute_result"
        }
      ],
      "source": [
        "emb_cols = [i for i in range(100)]\n",
        "emb_cols[:5]"
      ]
    },
    {
      "cell_type": "code",
      "execution_count": null,
      "metadata": {
        "id": "b0tWTdntEqc8"
      },
      "outputs": [],
      "source": [
        "emb_cols.append('label')"
      ]
    },
    {
      "cell_type": "code",
      "execution_count": null,
      "metadata": {
        "colab": {
          "base_uri": "https://localhost:8080/"
        },
        "id": "ixowMxZ3EJYw",
        "outputId": "0be93d47-e5e6-44a5-d944-cafce0144932"
      },
      "outputs": [
        {
          "data": {
            "text/plain": [
              "100"
            ]
          },
          "execution_count": 11,
          "metadata": {},
          "output_type": "execute_result"
        }
      ],
      "source": [
        "x_features = emb_cols[:-1]\n",
        "len(x_features)"
      ]
    },
    {
      "cell_type": "code",
      "execution_count": null,
      "metadata": {
        "colab": {
          "base_uri": "https://localhost:8080/"
        },
        "id": "jQTES_FHC6Ki",
        "outputId": "2a8decf9-3c3c-4c9d-b0fa-a3485b119db8"
      },
      "outputs": [
        {
          "name": "stderr",
          "output_type": "stream",
          "text": [
            "/usr/local/lib/python3.8/dist-packages/pandas/core/frame.py:3641: PerformanceWarning: DataFrame is highly fragmented.  This is usually the result of calling `frame.insert` many times, which has poor performance.  Consider joining all columns at once using pd.concat(axis=1) instead.  To get a de-fragmented frame, use `newframe = frame.copy()`\n",
            "  self[k1] = value[k2]\n"
          ]
        }
      ],
      "source": [
        "\n",
        "df[emb_cols] = df['Emb_Ensemble'].apply(pd.Series)"
      ]
    },
    {
      "cell_type": "code",
      "execution_count": null,
      "metadata": {
        "id": "-2J_2EmhC6ON"
      },
      "outputs": [],
      "source": [
        "label_to_idx = {'yes':1, 'no':0}\n",
        "\n",
        "df['label'] = df['label'].apply(lambda x: label_to_idx[x])"
      ]
    },
    {
      "cell_type": "code",
      "execution_count": null,
      "metadata": {
        "id": "IkVx5jiKFjYV"
      },
      "outputs": [],
      "source": [
        "emb_cols.append('label')\n",
        "embeddings_df = df[emb_cols]"
      ]
    },
    {
      "cell_type": "code",
      "execution_count": null,
      "metadata": {
        "colab": {
          "base_uri": "https://localhost:8080/"
        },
        "id": "LR-S1VnU9ZBS",
        "outputId": "7998e738-ebbd-4061-d809-6c9e6242bb91"
      },
      "outputs": [
        {
          "data": {
            "text/plain": [
              "array([0, 1])"
            ]
          },
          "execution_count": 26,
          "metadata": {},
          "output_type": "execute_result"
        }
      ],
      "source": [
        "embeddings_df.label.unique()"
      ]
    },
    {
      "cell_type": "code",
      "execution_count": null,
      "metadata": {
        "id": "93QL9hEdC6Sy"
      },
      "outputs": [],
      "source": [
        "# multi class logistic regression\n",
        "\n",
        "from sklearn.linear_model import LogisticRegression"
      ]
    },
    {
      "cell_type": "code",
      "execution_count": null,
      "metadata": {
        "id": "DMFisWA5C6Wo"
      },
      "outputs": [],
      "source": [
        "from sklearn.model_selection import train_test_split\n",
        "import matplotlib as plt"
      ]
    },
    {
      "cell_type": "code",
      "execution_count": null,
      "metadata": {
        "colab": {
          "base_uri": "https://localhost:8080/"
        },
        "id": "9_WKaQno1cqS",
        "outputId": "e2700b85-fbd9-452b-f3a8-ab937e3c6237"
      },
      "outputs": [
        {
          "name": "stdout",
          "output_type": "stream",
          "text": [
            "(1804, 101) (1443, 101) (361, 101)\n"
          ]
        }
      ],
      "source": [
        "train, test = train_test_split(embeddings_df, test_size=0.20, random_state=42)\n",
        "print(embeddings_df.shape, train.shape, test.shape)"
      ]
    },
    {
      "cell_type": "code",
      "execution_count": null,
      "metadata": {
        "id": "AOjj5V2iFJnr"
      },
      "outputs": [],
      "source": [
        "#modeling\n",
        "LM_model = LogisticRegression(penalty='l2', max_iter=500, multi_class='ovr', solver='liblinear')"
      ]
    },
    {
      "cell_type": "code",
      "execution_count": null,
      "metadata": {
        "colab": {
          "base_uri": "https://localhost:8080/"
        },
        "id": "rTjUvkbPFJvM",
        "outputId": "08c31d44-84e3-42c8-94e2-a104aa5a3bd5"
      },
      "outputs": [
        {
          "data": {
            "text/plain": [
              "LogisticRegression(max_iter=500, multi_class='ovr', solver='liblinear')"
            ]
          },
          "execution_count": 31,
          "metadata": {},
          "output_type": "execute_result"
        }
      ],
      "source": [
        "LM_model.fit(train[x_features],train['label'])"
      ]
    },
    {
      "cell_type": "code",
      "execution_count": null,
      "metadata": {
        "id": "Q7ZcJ5s1FJ1O"
      },
      "outputs": [],
      "source": [
        "# Prediction\n",
        "LM_pred_prob = pd.DataFrame(LM_model.predict_proba(test[x_features])) # predict the probabilities\n",
        "LM_pred = pd.DataFrame(LM_model.predict(test[x_features]))\n",
        "#LM_pred = pd.concat([test.reset_index()['y_class'],LM_pred_prob,LM_pred],axis=1, ignore_index=True)\n",
        "#print(LM_pred.shape)"
      ]
    },
    {
      "cell_type": "code",
      "execution_count": null,
      "metadata": {
        "id": "iTUCAY5aGKuf"
      },
      "outputs": [],
      "source": [
        "results = pd.concat([LM_pred, test[['label']].reset_index()], axis=1)"
      ]
    },
    {
      "cell_type": "code",
      "execution_count": null,
      "metadata": {
        "colab": {
          "base_uri": "https://localhost:8080/"
        },
        "id": "bsJLuykDGKz3",
        "outputId": "83c45732-2c27-4e0f-beac-af03e232af4b"
      },
      "outputs": [
        {
          "data": {
            "text/plain": [
              "[1,\n",
              " 2,\n",
              " 3,\n",
              " 4,\n",
              " 5,\n",
              " 6,\n",
              " 7,\n",
              " 8,\n",
              " 9,\n",
              " 10,\n",
              " 12,\n",
              " 13,\n",
              " 14,\n",
              " 16,\n",
              " 17,\n",
              " 18,\n",
              " 19,\n",
              " 20,\n",
              " 21,\n",
              " 22,\n",
              " 24,\n",
              " 27,\n",
              " 28,\n",
              " 30,\n",
              " 31,\n",
              " 32,\n",
              " 33,\n",
              " 34,\n",
              " 35,\n",
              " 36]"
            ]
          },
          "execution_count": 38,
          "metadata": {},
          "output_type": "execute_result"
        }
      ],
      "source": [
        "list(results[results[0] == results['label']].index)[:30]"
      ]
    },
    {
      "cell_type": "code",
      "execution_count": null,
      "metadata": {
        "colab": {
          "base_uri": "https://localhost:8080/"
        },
        "id": "hytKtnosGK4v",
        "outputId": "a9819e56-f56a-4101-df41-10ba873b0269"
      },
      "outputs": [
        {
          "data": {
            "text/plain": [
              "0.8227146814404432"
            ]
          },
          "execution_count": 48,
          "metadata": {},
          "output_type": "execute_result"
        }
      ],
      "source": [
        "297/361"
      ]
    },
    {
      "cell_type": "code",
      "execution_count": null,
      "metadata": {
        "id": "rBCGJ278GK9X"
      },
      "outputs": [],
      "source": []
    },
    {
      "cell_type": "code",
      "execution_count": null,
      "metadata": {
        "id": "U5DL3U2WGLBt"
      },
      "outputs": [],
      "source": []
    },
    {
      "cell_type": "code",
      "execution_count": null,
      "metadata": {
        "id": "Y_8i5xrsGLGf"
      },
      "outputs": [],
      "source": []
    },
    {
      "cell_type": "code",
      "execution_count": null,
      "metadata": {
        "id": "sWIvPHuCGLK6"
      },
      "outputs": [],
      "source": []
    },
    {
      "cell_type": "code",
      "execution_count": null,
      "metadata": {
        "id": "OFAQo1rOyHYx"
      },
      "outputs": [],
      "source": [
        "import numpy as np\n",
        "def get_one_hot(x):\n",
        "  encoding = np.array([0 for i in range(2)])\n",
        "  if x == \"yes\":\n",
        "    encoding[1] = 1\n",
        "  else:\n",
        "    encoding[0] = 1\n",
        "  return encoding\n",
        "\n",
        "df['labels'] = df.label.apply(lambda x: get_one_hot(x))"
      ]
    },
    {
      "cell_type": "code",
      "execution_count": null,
      "metadata": {
        "colab": {
          "base_uri": "https://localhost:8080/"
        },
        "id": "zP5aKLRLyeCv",
        "outputId": "06c69cc1-2df9-487a-8824-a38f91f2f88f"
      },
      "outputs": [
        {
          "data": {
            "text/plain": [
              "0       [1, 0]\n",
              "1       [1, 0]\n",
              "2       [1, 0]\n",
              "3       [1, 0]\n",
              "4       [1, 0]\n",
              "         ...  \n",
              "1799    [1, 0]\n",
              "1800    [1, 0]\n",
              "1801    [1, 0]\n",
              "1802    [1, 0]\n",
              "1803    [1, 0]\n",
              "Name: labels, Length: 1804, dtype: object"
            ]
          },
          "execution_count": 40,
          "metadata": {},
          "output_type": "execute_result"
        }
      ],
      "source": [
        "reward_emb['labels']"
      ]
    },
    {
      "cell_type": "code",
      "execution_count": null,
      "metadata": {
        "id": "_ikzW5Rmbyo3"
      },
      "outputs": [],
      "source": []
    },
    {
      "cell_type": "code",
      "execution_count": null,
      "metadata": {
        "colab": {
          "base_uri": "https://localhost:8080/"
        },
        "id": "d2t7BH8xbytn",
        "outputId": "a71ca91e-2007-4451-f25b-049c65d23102"
      },
      "outputs": [
        {
          "data": {
            "text/plain": [
              "((1425, 130), (379, 130))"
            ]
          },
          "execution_count": 41,
          "metadata": {},
          "output_type": "execute_result"
        }
      ],
      "source": [
        "df_sample = df.sample(n=1000)\n",
        "df_sample.shape\n",
        "# create train / test splits\n",
        "mask = np.random.rand(len(df)) < 0.8\n",
        "df_train_ = df[mask]\n",
        "df_test_ = df[~mask]\n",
        "\n",
        "df_train_.shape, df_test_.shape"
      ]
    },
    {
      "cell_type": "code",
      "execution_count": null,
      "metadata": {
        "id": "zRjnsm8ubyyo"
      },
      "outputs": [],
      "source": [
        "df_train = df_train_.reset_index(drop=True)\n",
        "df_test = df_test_.reset_index(drop=True)"
      ]
    },
    {
      "cell_type": "code",
      "execution_count": null,
      "metadata": {
        "colab": {
          "base_uri": "https://localhost:8080/",
          "height": 1000
        },
        "id": "15DisgML9hZ1",
        "outputId": "19e8212b-08f8-462f-8a92-2e0c6965235e"
      },
      "outputs": [
        {
          "data": {
            "text/html": [
              "\n",
              "  <div id=\"df-59b09ae0-4750-466a-96f0-b40f48005af1\">\n",
              "    <div class=\"colab-df-container\">\n",
              "      <div>\n",
              "<style scoped>\n",
              "    .dataframe tbody tr th:only-of-type {\n",
              "        vertical-align: middle;\n",
              "    }\n",
              "\n",
              "    .dataframe tbody tr th {\n",
              "        vertical-align: top;\n",
              "    }\n",
              "\n",
              "    .dataframe thead th {\n",
              "        text-align: right;\n",
              "    }\n",
              "</style>\n",
              "<table border=\"1\" class=\"dataframe\">\n",
              "  <thead>\n",
              "    <tr style=\"text-align: right;\">\n",
              "      <th></th>\n",
              "      <th>post_title</th>\n",
              "      <th>annotations</th>\n",
              "      <th>label</th>\n",
              "      <th>sentences</th>\n",
              "      <th>words</th>\n",
              "      <th>Clean_Words</th>\n",
              "      <th>Corrected_Slangs</th>\n",
              "      <th>isSlang</th>\n",
              "      <th>Sentence_Embedding_Wiki</th>\n",
              "      <th>Sentence_Embedding_Wiki_</th>\n",
              "      <th>...</th>\n",
              "      <th>91</th>\n",
              "      <th>92</th>\n",
              "      <th>93</th>\n",
              "      <th>94</th>\n",
              "      <th>95</th>\n",
              "      <th>96</th>\n",
              "      <th>97</th>\n",
              "      <th>98</th>\n",
              "      <th>99</th>\n",
              "      <th>labels</th>\n",
              "    </tr>\n",
              "  </thead>\n",
              "  <tbody>\n",
              "    <tr>\n",
              "      <th>0</th>\n",
              "      <td>I don’t have anyone to talk to and I don’t kno...</td>\n",
              "      <td>Trouble-falling-or-staying-asleep-or-sleeping-...</td>\n",
              "      <td>0</td>\n",
              "      <td>I don’t have anyone to talk to and I don’t kno...</td>\n",
              "      <td>['I', 'don’t', 'have', 'anyone', 'to', 'talk',...</td>\n",
              "      <td>['i', 'dont', 'have', 'anyone', 'to', 'talk', ...</td>\n",
              "      <td>['i', 'dont', 'have', 'anyone', 'to', 'talk', ...</td>\n",
              "      <td>False</td>\n",
              "      <td>[ 3.68772658e+00  3.64240229e+00  1.07021014e+...</td>\n",
              "      <td>[3.6877265833318233, 3.6424022875726223, 1.070...</td>\n",
              "      <td>...</td>\n",
              "      <td>0.18164665</td>\n",
              "      <td>2.1029725</td>\n",
              "      <td>0.99836504</td>\n",
              "      <td>0.6049502</td>\n",
              "      <td>2.0089962</td>\n",
              "      <td>-0.015509903</td>\n",
              "      <td>1.5023468</td>\n",
              "      <td>-0.84719574</td>\n",
              "      <td>2.1670442</td>\n",
              "      <td>[1, 0]</td>\n",
              "    </tr>\n",
              "    <tr>\n",
              "      <th>1</th>\n",
              "      <td>Stuck between moving forward and killing myself</td>\n",
              "      <td>Trouble-falling-or-staying-asleep-or-sleeping-...</td>\n",
              "      <td>0</td>\n",
              "      <td>Stuck between moving forward and killing mysel...</td>\n",
              "      <td>['Stuck', 'between', 'moving', 'forward', 'and...</td>\n",
              "      <td>['stuck', 'between', 'moving', 'forward', 'and...</td>\n",
              "      <td>['stuck', 'between', 'moving', 'forward', 'and...</td>\n",
              "      <td>False</td>\n",
              "      <td>[ 1.38990282  2.18205943  2.30429582  0.322109...</td>\n",
              "      <td>[1.3899028208106756, 2.182059425394982, 2.3042...</td>\n",
              "      <td>...</td>\n",
              "      <td>-2.0306058</td>\n",
              "      <td>1.6499541</td>\n",
              "      <td>-0.11109528</td>\n",
              "      <td>-0.8483554</td>\n",
              "      <td>-0.42703456</td>\n",
              "      <td>-0.04176353</td>\n",
              "      <td>-0.20213626</td>\n",
              "      <td>-1.1509055</td>\n",
              "      <td>-0.7178513</td>\n",
              "      <td>[1, 0]</td>\n",
              "    </tr>\n",
              "    <tr>\n",
              "      <th>2</th>\n",
              "      <td>I need help on how to help my girlfriend.</td>\n",
              "      <td>Trouble-falling-or-staying-asleep-or-sleeping-...</td>\n",
              "      <td>0</td>\n",
              "      <td>I need help on how to help my girlfriend. Trou...</td>\n",
              "      <td>['I', 'need', 'help', 'on', 'how', 'to', 'help...</td>\n",
              "      <td>['i', 'need', 'help', 'on', 'how', 'to', 'help...</td>\n",
              "      <td>['i', 'need', 'help', 'on', 'how', 'to', 'help...</td>\n",
              "      <td>False</td>\n",
              "      <td>[ 2.25482589  1.71882756  0.0396392   0.735726...</td>\n",
              "      <td>[2.254825886338949, 1.7188275568187237, 0.0396...</td>\n",
              "      <td>...</td>\n",
              "      <td>1.9236394</td>\n",
              "      <td>-0.008954287</td>\n",
              "      <td>-0.08501482</td>\n",
              "      <td>-0.9700241</td>\n",
              "      <td>2.4105735</td>\n",
              "      <td>0.8776001</td>\n",
              "      <td>-0.50179136</td>\n",
              "      <td>-0.17308187</td>\n",
              "      <td>0.15854615</td>\n",
              "      <td>[1, 0]</td>\n",
              "    </tr>\n",
              "    <tr>\n",
              "      <th>3</th>\n",
              "      <td>Is it okay to drop a class for the sake of my ...</td>\n",
              "      <td>Trouble-falling-or-staying-asleep-or-sleeping-...</td>\n",
              "      <td>0</td>\n",
              "      <td>Is it okay to drop a class for the sake of my ...</td>\n",
              "      <td>['Is', 'it', 'okay', 'to', 'drop', 'a', 'class...</td>\n",
              "      <td>['is', 'it', 'okay', 'to', 'drop', 'a', 'class...</td>\n",
              "      <td>['is', 'it', 'okay', 'to', 'drop', 'a', 'class...</td>\n",
              "      <td>False</td>\n",
              "      <td>[ 1.92287114  4.71143054  0.02856284  0.523294...</td>\n",
              "      <td>[1.9228711407631636, 4.711430538445711, 0.0285...</td>\n",
              "      <td>...</td>\n",
              "      <td>-0.6800629</td>\n",
              "      <td>-1.0298636</td>\n",
              "      <td>-0.4837493</td>\n",
              "      <td>0.54247034</td>\n",
              "      <td>2.1566577</td>\n",
              "      <td>2.4429092</td>\n",
              "      <td>0.19072807</td>\n",
              "      <td>1.5196434</td>\n",
              "      <td>-1.029197</td>\n",
              "      <td>[1, 0]</td>\n",
              "    </tr>\n",
              "    <tr>\n",
              "      <th>4</th>\n",
              "      <td>I dont know what to do anymore</td>\n",
              "      <td>Trouble-falling-or-staying-asleep-or-sleeping-...</td>\n",
              "      <td>0</td>\n",
              "      <td>I dont know what to do anymore Trouble-falling...</td>\n",
              "      <td>['I', 'dont', 'know', 'what', 'to', 'do', 'any...</td>\n",
              "      <td>['i', 'dont', 'know', 'what', 'to', 'do', 'any...</td>\n",
              "      <td>['i', 'dont', 'know', 'what', 'to', 'do', 'any...</td>\n",
              "      <td>False</td>\n",
              "      <td>[ 1.86943306  1.71534925  0.84848362  1.184743...</td>\n",
              "      <td>[1.8694330640137196, 1.7153492458164692, 0.848...</td>\n",
              "      <td>...</td>\n",
              "      <td>1.265984</td>\n",
              "      <td>0.20478502</td>\n",
              "      <td>0.1228748</td>\n",
              "      <td>1.9726192</td>\n",
              "      <td>-0.8240876</td>\n",
              "      <td>-2.400682</td>\n",
              "      <td>0.73344636</td>\n",
              "      <td>1.2266026</td>\n",
              "      <td>0.37546617</td>\n",
              "      <td>[1, 0]</td>\n",
              "    </tr>\n",
              "    <tr>\n",
              "      <th>...</th>\n",
              "      <td>...</td>\n",
              "      <td>...</td>\n",
              "      <td>...</td>\n",
              "      <td>...</td>\n",
              "      <td>...</td>\n",
              "      <td>...</td>\n",
              "      <td>...</td>\n",
              "      <td>...</td>\n",
              "      <td>...</td>\n",
              "      <td>...</td>\n",
              "      <td>...</td>\n",
              "      <td>...</td>\n",
              "      <td>...</td>\n",
              "      <td>...</td>\n",
              "      <td>...</td>\n",
              "      <td>...</td>\n",
              "      <td>...</td>\n",
              "      <td>...</td>\n",
              "      <td>...</td>\n",
              "      <td>...</td>\n",
              "      <td>...</td>\n",
              "    </tr>\n",
              "    <tr>\n",
              "      <th>374</th>\n",
              "      <td>I Need Help</td>\n",
              "      <td>Trouble-falling-or-staying-asleep-or-sleeping-...</td>\n",
              "      <td>0</td>\n",
              "      <td>I Need Help Trouble-falling-or-staying-asleep-...</td>\n",
              "      <td>['I', 'Need', 'Help', 'Trouble-falling-or-stay...</td>\n",
              "      <td>['i', 'need', 'help', 'troubling']</td>\n",
              "      <td>['i', 'need', 'help', 'troubling']</td>\n",
              "      <td>False</td>\n",
              "      <td>[ 0.57837019  0.6071595  -0.2891919   0.799623...</td>\n",
              "      <td>[0.5783701948821545, 0.6071595009416342, -0.28...</td>\n",
              "      <td>...</td>\n",
              "      <td>-0.3397213</td>\n",
              "      <td>0.062549114</td>\n",
              "      <td>-0.79922295</td>\n",
              "      <td>0.8745016</td>\n",
              "      <td>-1.2974648</td>\n",
              "      <td>-0.64348423</td>\n",
              "      <td>-1.9206667</td>\n",
              "      <td>-2.1855633</td>\n",
              "      <td>0.44986767</td>\n",
              "      <td>[1, 0]</td>\n",
              "    </tr>\n",
              "    <tr>\n",
              "      <th>375</th>\n",
              "      <td>I'm scared...</td>\n",
              "      <td>Trouble-falling-or-staying-asleep-or-sleeping-...</td>\n",
              "      <td>0</td>\n",
              "      <td>I'm scared... Trouble-falling-or-staying-aslee...</td>\n",
              "      <td>[\"I'm\", 'scared...', 'Trouble-falling-or-stayi...</td>\n",
              "      <td>['im', 'scared', 'troubling']</td>\n",
              "      <td>['im', 'scared', 'troubling']</td>\n",
              "      <td>False</td>\n",
              "      <td>[ 0.4253686   0.43877125  0.61464572  0.381543...</td>\n",
              "      <td>[0.42536860331892967, 0.43877124786376953, 0.6...</td>\n",
              "      <td>...</td>\n",
              "      <td>1.1182791</td>\n",
              "      <td>-1.3369594</td>\n",
              "      <td>0.4533031</td>\n",
              "      <td>-1.4825518</td>\n",
              "      <td>0.4357839</td>\n",
              "      <td>-0.94689703</td>\n",
              "      <td>0.5352315</td>\n",
              "      <td>-0.18713872</td>\n",
              "      <td>0.554613</td>\n",
              "      <td>[1, 0]</td>\n",
              "    </tr>\n",
              "    <tr>\n",
              "      <th>376</th>\n",
              "      <td>Help me help him</td>\n",
              "      <td>Trouble-falling-or-staying-asleep-or-sleeping-...</td>\n",
              "      <td>0</td>\n",
              "      <td>Help me help him Trouble-falling-or-staying-as...</td>\n",
              "      <td>['Help', 'me', 'help', 'him', 'Trouble-falling...</td>\n",
              "      <td>['help', 'me', 'help', 'him', 'troubling']</td>\n",
              "      <td>['help', 'me', 'help', 'him', 'troubling']</td>\n",
              "      <td>False</td>\n",
              "      <td>[ 0.55043454  1.27958801 -0.24738899  0.279091...</td>\n",
              "      <td>[0.5504345409572124, 1.279588010162115, -0.247...</td>\n",
              "      <td>...</td>\n",
              "      <td>-1.5908775</td>\n",
              "      <td>1.8464478</td>\n",
              "      <td>-1.6912224</td>\n",
              "      <td>0.88778335</td>\n",
              "      <td>-0.39359915</td>\n",
              "      <td>-1.2445467</td>\n",
              "      <td>0.7734802</td>\n",
              "      <td>1.2584798</td>\n",
              "      <td>0.67366105</td>\n",
              "      <td>[1, 0]</td>\n",
              "    </tr>\n",
              "    <tr>\n",
              "      <th>377</th>\n",
              "      <td>Having panic attacks, crying daily and having ...</td>\n",
              "      <td>Trouble-falling-or-staying-asleep-or-sleeping-...</td>\n",
              "      <td>0</td>\n",
              "      <td>Having panic attacks, crying daily and having ...</td>\n",
              "      <td>['Having', 'panic', 'attacks,', 'crying', 'dai...</td>\n",
              "      <td>['having', 'panic', 'attacks', 'crying', 'dail...</td>\n",
              "      <td>['having', 'panic', 'attacks', 'crying', 'dail...</td>\n",
              "      <td>False</td>\n",
              "      <td>[ 3.4708298   3.31894884  2.97395684  0.957844...</td>\n",
              "      <td>[3.4708297960460186, 3.3189488421194255, 2.973...</td>\n",
              "      <td>...</td>\n",
              "      <td>-1.2042497</td>\n",
              "      <td>-2.709103</td>\n",
              "      <td>0.68346876</td>\n",
              "      <td>0.35898554</td>\n",
              "      <td>-0.0952808</td>\n",
              "      <td>-0.34280255</td>\n",
              "      <td>-1.2250218</td>\n",
              "      <td>-1.8089077</td>\n",
              "      <td>1.3245152</td>\n",
              "      <td>[1, 0]</td>\n",
              "    </tr>\n",
              "    <tr>\n",
              "      <th>378</th>\n",
              "      <td>Feeling frustrated/numb for no good reason?</td>\n",
              "      <td>Trouble-falling-or-staying-asleep-or-sleeping-...</td>\n",
              "      <td>0</td>\n",
              "      <td>Feeling frustrated/numb for no good reason? Tr...</td>\n",
              "      <td>['Feeling', 'frustrated/numb', 'for', 'no', 'g...</td>\n",
              "      <td>['feeling', 'frustrate', 'for', 'no', 'good', ...</td>\n",
              "      <td>['feeling', 'frustrate', 'for', 'no', 'good', ...</td>\n",
              "      <td>False</td>\n",
              "      <td>[ 3.41109805e-01  1.94165000e+00 -4.52669241e-...</td>\n",
              "      <td>[0.3411098048090935, 1.941650003194809, -0.452...</td>\n",
              "      <td>...</td>\n",
              "      <td>0.38161197</td>\n",
              "      <td>-0.047152475</td>\n",
              "      <td>1.3766795</td>\n",
              "      <td>-1.1626062</td>\n",
              "      <td>0.44059765</td>\n",
              "      <td>-0.0082005635</td>\n",
              "      <td>-1.4525323</td>\n",
              "      <td>-2.0861979</td>\n",
              "      <td>-0.73191434</td>\n",
              "      <td>[1, 0]</td>\n",
              "    </tr>\n",
              "  </tbody>\n",
              "</table>\n",
              "<p>379 rows × 130 columns</p>\n",
              "</div>\n",
              "      <button class=\"colab-df-convert\" onclick=\"convertToInteractive('df-59b09ae0-4750-466a-96f0-b40f48005af1')\"\n",
              "              title=\"Convert this dataframe to an interactive table.\"\n",
              "              style=\"display:none;\">\n",
              "        \n",
              "  <svg xmlns=\"http://www.w3.org/2000/svg\" height=\"24px\"viewBox=\"0 0 24 24\"\n",
              "       width=\"24px\">\n",
              "    <path d=\"M0 0h24v24H0V0z\" fill=\"none\"/>\n",
              "    <path d=\"M18.56 5.44l.94 2.06.94-2.06 2.06-.94-2.06-.94-.94-2.06-.94 2.06-2.06.94zm-11 1L8.5 8.5l.94-2.06 2.06-.94-2.06-.94L8.5 2.5l-.94 2.06-2.06.94zm10 10l.94 2.06.94-2.06 2.06-.94-2.06-.94-.94-2.06-.94 2.06-2.06.94z\"/><path d=\"M17.41 7.96l-1.37-1.37c-.4-.4-.92-.59-1.43-.59-.52 0-1.04.2-1.43.59L10.3 9.45l-7.72 7.72c-.78.78-.78 2.05 0 2.83L4 21.41c.39.39.9.59 1.41.59.51 0 1.02-.2 1.41-.59l7.78-7.78 2.81-2.81c.8-.78.8-2.07 0-2.86zM5.41 20L4 18.59l7.72-7.72 1.47 1.35L5.41 20z\"/>\n",
              "  </svg>\n",
              "      </button>\n",
              "      \n",
              "  <style>\n",
              "    .colab-df-container {\n",
              "      display:flex;\n",
              "      flex-wrap:wrap;\n",
              "      gap: 12px;\n",
              "    }\n",
              "\n",
              "    .colab-df-convert {\n",
              "      background-color: #E8F0FE;\n",
              "      border: none;\n",
              "      border-radius: 50%;\n",
              "      cursor: pointer;\n",
              "      display: none;\n",
              "      fill: #1967D2;\n",
              "      height: 32px;\n",
              "      padding: 0 0 0 0;\n",
              "      width: 32px;\n",
              "    }\n",
              "\n",
              "    .colab-df-convert:hover {\n",
              "      background-color: #E2EBFA;\n",
              "      box-shadow: 0px 1px 2px rgba(60, 64, 67, 0.3), 0px 1px 3px 1px rgba(60, 64, 67, 0.15);\n",
              "      fill: #174EA6;\n",
              "    }\n",
              "\n",
              "    [theme=dark] .colab-df-convert {\n",
              "      background-color: #3B4455;\n",
              "      fill: #D2E3FC;\n",
              "    }\n",
              "\n",
              "    [theme=dark] .colab-df-convert:hover {\n",
              "      background-color: #434B5C;\n",
              "      box-shadow: 0px 1px 3px 1px rgba(0, 0, 0, 0.15);\n",
              "      filter: drop-shadow(0px 1px 2px rgba(0, 0, 0, 0.3));\n",
              "      fill: #FFFFFF;\n",
              "    }\n",
              "  </style>\n",
              "\n",
              "      <script>\n",
              "        const buttonEl =\n",
              "          document.querySelector('#df-59b09ae0-4750-466a-96f0-b40f48005af1 button.colab-df-convert');\n",
              "        buttonEl.style.display =\n",
              "          google.colab.kernel.accessAllowed ? 'block' : 'none';\n",
              "\n",
              "        async function convertToInteractive(key) {\n",
              "          const element = document.querySelector('#df-59b09ae0-4750-466a-96f0-b40f48005af1');\n",
              "          const dataTable =\n",
              "            await google.colab.kernel.invokeFunction('convertToInteractive',\n",
              "                                                     [key], {});\n",
              "          if (!dataTable) return;\n",
              "\n",
              "          const docLinkHtml = 'Like what you see? Visit the ' +\n",
              "            '<a target=\"_blank\" href=https://colab.research.google.com/notebooks/data_table.ipynb>data table notebook</a>'\n",
              "            + ' to learn more about interactive tables.';\n",
              "          element.innerHTML = '';\n",
              "          dataTable['output_type'] = 'display_data';\n",
              "          await google.colab.output.renderOutput(dataTable, element);\n",
              "          const docLink = document.createElement('div');\n",
              "          docLink.innerHTML = docLinkHtml;\n",
              "          element.appendChild(docLink);\n",
              "        }\n",
              "      </script>\n",
              "    </div>\n",
              "  </div>\n",
              "  "
            ],
            "text/plain": [
              "                                            post_title  \\\n",
              "0    I don’t have anyone to talk to and I don’t kno...   \n",
              "1      Stuck between moving forward and killing myself   \n",
              "2            I need help on how to help my girlfriend.   \n",
              "3    Is it okay to drop a class for the sake of my ...   \n",
              "4                       I dont know what to do anymore   \n",
              "..                                                 ...   \n",
              "374                                        I Need Help   \n",
              "375                                      I'm scared...   \n",
              "376                                   Help me help him   \n",
              "377  Having panic attacks, crying daily and having ...   \n",
              "378        Feeling frustrated/numb for no good reason?   \n",
              "\n",
              "                                           annotations  label  \\\n",
              "0    Trouble-falling-or-staying-asleep-or-sleeping-...      0   \n",
              "1    Trouble-falling-or-staying-asleep-or-sleeping-...      0   \n",
              "2    Trouble-falling-or-staying-asleep-or-sleeping-...      0   \n",
              "3    Trouble-falling-or-staying-asleep-or-sleeping-...      0   \n",
              "4    Trouble-falling-or-staying-asleep-or-sleeping-...      0   \n",
              "..                                                 ...    ...   \n",
              "374  Trouble-falling-or-staying-asleep-or-sleeping-...      0   \n",
              "375  Trouble-falling-or-staying-asleep-or-sleeping-...      0   \n",
              "376  Trouble-falling-or-staying-asleep-or-sleeping-...      0   \n",
              "377  Trouble-falling-or-staying-asleep-or-sleeping-...      0   \n",
              "378  Trouble-falling-or-staying-asleep-or-sleeping-...      0   \n",
              "\n",
              "                                             sentences  \\\n",
              "0    I don’t have anyone to talk to and I don’t kno...   \n",
              "1    Stuck between moving forward and killing mysel...   \n",
              "2    I need help on how to help my girlfriend. Trou...   \n",
              "3    Is it okay to drop a class for the sake of my ...   \n",
              "4    I dont know what to do anymore Trouble-falling...   \n",
              "..                                                 ...   \n",
              "374  I Need Help Trouble-falling-or-staying-asleep-...   \n",
              "375  I'm scared... Trouble-falling-or-staying-aslee...   \n",
              "376  Help me help him Trouble-falling-or-staying-as...   \n",
              "377  Having panic attacks, crying daily and having ...   \n",
              "378  Feeling frustrated/numb for no good reason? Tr...   \n",
              "\n",
              "                                                 words  \\\n",
              "0    ['I', 'don’t', 'have', 'anyone', 'to', 'talk',...   \n",
              "1    ['Stuck', 'between', 'moving', 'forward', 'and...   \n",
              "2    ['I', 'need', 'help', 'on', 'how', 'to', 'help...   \n",
              "3    ['Is', 'it', 'okay', 'to', 'drop', 'a', 'class...   \n",
              "4    ['I', 'dont', 'know', 'what', 'to', 'do', 'any...   \n",
              "..                                                 ...   \n",
              "374  ['I', 'Need', 'Help', 'Trouble-falling-or-stay...   \n",
              "375  [\"I'm\", 'scared...', 'Trouble-falling-or-stayi...   \n",
              "376  ['Help', 'me', 'help', 'him', 'Trouble-falling...   \n",
              "377  ['Having', 'panic', 'attacks,', 'crying', 'dai...   \n",
              "378  ['Feeling', 'frustrated/numb', 'for', 'no', 'g...   \n",
              "\n",
              "                                           Clean_Words  \\\n",
              "0    ['i', 'dont', 'have', 'anyone', 'to', 'talk', ...   \n",
              "1    ['stuck', 'between', 'moving', 'forward', 'and...   \n",
              "2    ['i', 'need', 'help', 'on', 'how', 'to', 'help...   \n",
              "3    ['is', 'it', 'okay', 'to', 'drop', 'a', 'class...   \n",
              "4    ['i', 'dont', 'know', 'what', 'to', 'do', 'any...   \n",
              "..                                                 ...   \n",
              "374                 ['i', 'need', 'help', 'troubling']   \n",
              "375                      ['im', 'scared', 'troubling']   \n",
              "376         ['help', 'me', 'help', 'him', 'troubling']   \n",
              "377  ['having', 'panic', 'attacks', 'crying', 'dail...   \n",
              "378  ['feeling', 'frustrate', 'for', 'no', 'good', ...   \n",
              "\n",
              "                                      Corrected_Slangs  isSlang  \\\n",
              "0    ['i', 'dont', 'have', 'anyone', 'to', 'talk', ...    False   \n",
              "1    ['stuck', 'between', 'moving', 'forward', 'and...    False   \n",
              "2    ['i', 'need', 'help', 'on', 'how', 'to', 'help...    False   \n",
              "3    ['is', 'it', 'okay', 'to', 'drop', 'a', 'class...    False   \n",
              "4    ['i', 'dont', 'know', 'what', 'to', 'do', 'any...    False   \n",
              "..                                                 ...      ...   \n",
              "374                 ['i', 'need', 'help', 'troubling']    False   \n",
              "375                      ['im', 'scared', 'troubling']    False   \n",
              "376         ['help', 'me', 'help', 'him', 'troubling']    False   \n",
              "377  ['having', 'panic', 'attacks', 'crying', 'dail...    False   \n",
              "378  ['feeling', 'frustrate', 'for', 'no', 'good', ...    False   \n",
              "\n",
              "                               Sentence_Embedding_Wiki  \\\n",
              "0    [ 3.68772658e+00  3.64240229e+00  1.07021014e+...   \n",
              "1    [ 1.38990282  2.18205943  2.30429582  0.322109...   \n",
              "2    [ 2.25482589  1.71882756  0.0396392   0.735726...   \n",
              "3    [ 1.92287114  4.71143054  0.02856284  0.523294...   \n",
              "4    [ 1.86943306  1.71534925  0.84848362  1.184743...   \n",
              "..                                                 ...   \n",
              "374  [ 0.57837019  0.6071595  -0.2891919   0.799623...   \n",
              "375  [ 0.4253686   0.43877125  0.61464572  0.381543...   \n",
              "376  [ 0.55043454  1.27958801 -0.24738899  0.279091...   \n",
              "377  [ 3.4708298   3.31894884  2.97395684  0.957844...   \n",
              "378  [ 3.41109805e-01  1.94165000e+00 -4.52669241e-...   \n",
              "\n",
              "                              Sentence_Embedding_Wiki_  ...          91  \\\n",
              "0    [3.6877265833318233, 3.6424022875726223, 1.070...  ...  0.18164665   \n",
              "1    [1.3899028208106756, 2.182059425394982, 2.3042...  ...  -2.0306058   \n",
              "2    [2.254825886338949, 1.7188275568187237, 0.0396...  ...   1.9236394   \n",
              "3    [1.9228711407631636, 4.711430538445711, 0.0285...  ...  -0.6800629   \n",
              "4    [1.8694330640137196, 1.7153492458164692, 0.848...  ...    1.265984   \n",
              "..                                                 ...  ...         ...   \n",
              "374  [0.5783701948821545, 0.6071595009416342, -0.28...  ...  -0.3397213   \n",
              "375  [0.42536860331892967, 0.43877124786376953, 0.6...  ...   1.1182791   \n",
              "376  [0.5504345409572124, 1.279588010162115, -0.247...  ...  -1.5908775   \n",
              "377  [3.4708297960460186, 3.3189488421194255, 2.973...  ...  -1.2042497   \n",
              "378  [0.3411098048090935, 1.941650003194809, -0.452...  ...  0.38161197   \n",
              "\n",
              "               92           93          94           95             96  \\\n",
              "0       2.1029725   0.99836504   0.6049502    2.0089962   -0.015509903   \n",
              "1       1.6499541  -0.11109528  -0.8483554  -0.42703456    -0.04176353   \n",
              "2    -0.008954287  -0.08501482  -0.9700241    2.4105735      0.8776001   \n",
              "3      -1.0298636   -0.4837493  0.54247034    2.1566577      2.4429092   \n",
              "4      0.20478502    0.1228748   1.9726192   -0.8240876      -2.400682   \n",
              "..            ...          ...         ...          ...            ...   \n",
              "374   0.062549114  -0.79922295   0.8745016   -1.2974648    -0.64348423   \n",
              "375    -1.3369594    0.4533031  -1.4825518    0.4357839    -0.94689703   \n",
              "376     1.8464478   -1.6912224  0.88778335  -0.39359915     -1.2445467   \n",
              "377     -2.709103   0.68346876  0.35898554   -0.0952808    -0.34280255   \n",
              "378  -0.047152475    1.3766795  -1.1626062   0.44059765  -0.0082005635   \n",
              "\n",
              "              97           98           99  labels  \n",
              "0      1.5023468  -0.84719574    2.1670442  [1, 0]  \n",
              "1    -0.20213626   -1.1509055   -0.7178513  [1, 0]  \n",
              "2    -0.50179136  -0.17308187   0.15854615  [1, 0]  \n",
              "3     0.19072807    1.5196434    -1.029197  [1, 0]  \n",
              "4     0.73344636    1.2266026   0.37546617  [1, 0]  \n",
              "..           ...          ...          ...     ...  \n",
              "374   -1.9206667   -2.1855633   0.44986767  [1, 0]  \n",
              "375    0.5352315  -0.18713872     0.554613  [1, 0]  \n",
              "376    0.7734802    1.2584798   0.67366105  [1, 0]  \n",
              "377   -1.2250218   -1.8089077    1.3245152  [1, 0]  \n",
              "378   -1.4525323   -2.0861979  -0.73191434  [1, 0]  \n",
              "\n",
              "[379 rows x 130 columns]"
            ]
          },
          "execution_count": 43,
          "metadata": {},
          "output_type": "execute_result"
        }
      ],
      "source": [
        "df_test"
      ]
    },
    {
      "cell_type": "code",
      "execution_count": null,
      "metadata": {
        "id": "iZZUciaGIK3R"
      },
      "outputs": [],
      "source": []
    },
    {
      "cell_type": "code",
      "execution_count": null,
      "metadata": {
        "id": "6vqdqAtJupxI"
      },
      "outputs": [],
      "source": [
        "%%capture\n",
        "!pip install transformers pandas torch"
      ]
    },
    {
      "cell_type": "code",
      "execution_count": null,
      "metadata": {
        "colab": {
          "base_uri": "https://localhost:8080/"
        },
        "id": "TIJuPfqcuqBa",
        "outputId": "2a0cc1f4-26ac-4bd4-90a1-1cabd3ed6951"
      },
      "outputs": [
        {
          "name": "stdout",
          "output_type": "stream",
          "text": [
            "Running on transformers v4.25.1\n"
          ]
        }
      ],
      "source": [
        "import transformers\n",
        "\n",
        "print(f\"Running on transformers v{transformers.__version__}\")"
      ]
    },
    {
      "cell_type": "code",
      "execution_count": null,
      "metadata": {
        "id": "T9_bm78EuqHD"
      },
      "outputs": [],
      "source": [
        "import torch\n",
        "import pandas as pd\n",
        "import numpy as np\n",
        "from pathlib import Path\n",
        "from transformers import (AutoTokenizer, AutoModelForSequenceClassification, \n",
        "                          PreTrainedModel, DistilBertModel, DistilBertForSequenceClassification,\n",
        "                          BertModel, BertTokenizer,\n",
        "                          TrainingArguments, Trainer, AutoModel)\n",
        "from transformers.modeling_outputs import SequenceClassifierOutput\n",
        "from torch.utils.data import Dataset, DataLoader"
      ]
    },
    {
      "cell_type": "code",
      "execution_count": null,
      "metadata": {
        "colab": {
          "base_uri": "https://localhost:8080/",
          "height": 145,
          "referenced_widgets": [
            "5731fe1ab5d4485580fce85ac45493e6",
            "eb98bbbfd42d48d7b6d905c5a00c902c",
            "6e6c0ef22d13420c94f457eacbe17e88",
            "e205a175f82143e7970a1a9d3f274364",
            "a458c1f1bda2423f92f236cee34c2c67",
            "ca3e6aababee41d09885a37291b9a6ec",
            "a5189b0caf2b4c30bf8ad3901ac908bc",
            "7b354a28b9024434afa76347722afab7",
            "f5746099062448019929ee733740fe49",
            "bf7e6ce4d211474fb3882be72ae376ca",
            "fe19a0d1e7c14703964f82a847e9a908",
            "67661f3b3efd4b6a9315f06712e69740",
            "932e8e4ccd964b44b124d0df8d260ba9",
            "4114fce0f1bc451ba142937047051c68",
            "aa3e630270db4c5faa386ffc6fbc8fdf",
            "133db01450874d4381080cc62fbbb7d5",
            "b67c446e5ddd42ada38495737c014443",
            "b306bfb303a5435194cbf14bf8752bbb",
            "82452ccd4ebe4067909e41d36062a53c",
            "fa110a7f4d41423082d7cf69ebd7450b",
            "115b255a1541475389afb8996ccc56c9",
            "90af4dd917b442238c1f218cc02265c7",
            "0d6d0a07a537491ba28d9bd11b6c171a",
            "0438301c5324402fa44f16e225ea1bd8",
            "f1ae42c93ff24c9b85080461ea098930",
            "692f6ee1389748ddbe7e58d0b75c3e71",
            "8fa6ddf3144b40c182f714107c2acc3b",
            "73257981ebab48d0b5bf262b2dd1e9c9",
            "36cba7475fc34fba8dbf2865b6521cf2",
            "dfb2a927aba6478cbe11da4453b1324d",
            "6541a4d8d8e6458c83f61c0fe0b66cf6",
            "f008eb648c734edca4c570cabc40c6a6",
            "0df967bae6a843e499a33a76355febdd",
            "a0a1b93880aa42c8b8fd74de588e586e",
            "30ed54b7bbce40de850d23dfca39d56e",
            "ec3c47f0469444bab2f8b7499cf7aaaf",
            "eebbf3c097984d39b40bfaa7644f209a",
            "5a259c7df69b40b281cc07a131446a78",
            "c59c48da1175473eb3ef282224354586",
            "84c394c6fec04778869d0efc2d41b59f",
            "1dae8aacb8ef40049631c128729f9445",
            "406c52f653e447e389849a7aa2eb7950",
            "a08ccf9a37d34ede9d0b4fc3fc4e2a2d",
            "3e422cf7e5bb40808af6457f66870d8e"
          ]
        },
        "id": "3ploTtIzucTc",
        "outputId": "460730c4-2d64-442b-cbd0-1c82667ca61b"
      },
      "outputs": [
        {
          "data": {
            "application/vnd.jupyter.widget-view+json": {
              "model_id": "5731fe1ab5d4485580fce85ac45493e6",
              "version_major": 2,
              "version_minor": 0
            },
            "text/plain": [
              "Downloading:   0%|          | 0.00/28.0 [00:00<?, ?B/s]"
            ]
          },
          "metadata": {},
          "output_type": "display_data"
        },
        {
          "data": {
            "application/vnd.jupyter.widget-view+json": {
              "model_id": "67661f3b3efd4b6a9315f06712e69740",
              "version_major": 2,
              "version_minor": 0
            },
            "text/plain": [
              "Downloading:   0%|          | 0.00/570 [00:00<?, ?B/s]"
            ]
          },
          "metadata": {},
          "output_type": "display_data"
        },
        {
          "data": {
            "application/vnd.jupyter.widget-view+json": {
              "model_id": "0d6d0a07a537491ba28d9bd11b6c171a",
              "version_major": 2,
              "version_minor": 0
            },
            "text/plain": [
              "Downloading:   0%|          | 0.00/232k [00:00<?, ?B/s]"
            ]
          },
          "metadata": {},
          "output_type": "display_data"
        },
        {
          "data": {
            "application/vnd.jupyter.widget-view+json": {
              "model_id": "a0a1b93880aa42c8b8fd74de588e586e",
              "version_major": 2,
              "version_minor": 0
            },
            "text/plain": [
              "Downloading:   0%|          | 0.00/466k [00:00<?, ?B/s]"
            ]
          },
          "metadata": {},
          "output_type": "display_data"
        }
      ],
      "source": [
        "#Load tokenizer with the required pre-trained model\n",
        "tokenizer = AutoTokenizer.from_pretrained(\"bert-base-uncased\", do_lower_case=True)"
      ]
    },
    {
      "cell_type": "code",
      "execution_count": null,
      "metadata": {
        "id": "kwyUcjAIucZS"
      },
      "outputs": [],
      "source": [
        "class BERTDataset(Dataset):\n",
        "    \"\"\"\n",
        "    This class is used to create data loader. \n",
        "    Reference: https://medium.com/analytics-vidhya/multi-label-text-classification-using-transformers-bert-93460838e62b.\n",
        "    \"\"\"\n",
        "    \n",
        "    def __init__(self, df, tokenizer, max_len):\n",
        "        self.df = df\n",
        "        self.max_len = max_len\n",
        "        self.text = df.sentences\n",
        "        self.tokenizer = tokenizer\n",
        "        #self.targets = df[target_columns].values\n",
        "        self.targets = df[\"labels\"]\n",
        "        self.rewards = df[\"0.5\"]\n",
        "        \n",
        "    def __len__(self):\n",
        "        return len(self.df)\n",
        "    \n",
        "    def __getitem__(self, index):\n",
        "        #print(\"Index is\", index)\n",
        "        text = self.text[index]\n",
        "        inputs = self.tokenizer.encode_plus(\n",
        "            text,\n",
        "            truncation=True,\n",
        "            add_special_tokens=True,\n",
        "            max_length=self.max_len,\n",
        "            padding='max_length',\n",
        "            return_token_type_ids=False\n",
        "        )\n",
        "        ids = inputs['input_ids']\n",
        "        mask = inputs['attention_mask']\n",
        "        \n",
        "        return {\n",
        "            'ids': torch.tensor(ids, dtype=torch.long),\n",
        "            'mask': torch.tensor(mask, dtype=torch.long),\n",
        "            'targets': torch.tensor(self.targets[index], dtype=torch.float),\n",
        "            'rewards': torch.tensor(self.rewards[index], dtype=torch.float)\n",
        "        }"
      ]
    },
    {
      "cell_type": "code",
      "execution_count": null,
      "metadata": {
        "id": "aTtRq12yucfT"
      },
      "outputs": [],
      "source": [
        "# Set variables required by the model\n",
        "MAX_LEN = 256\n",
        "BATCH_SIZE = 15\n",
        "EPOCHS = 5\n",
        "LEARNING_RATE = 2e-5"
      ]
    },
    {
      "cell_type": "code",
      "execution_count": null,
      "metadata": {
        "id": "JJ4sP0YRvBA0"
      },
      "outputs": [],
      "source": [
        "label_cols = [\"yes\",\"no\"]"
      ]
    },
    {
      "cell_type": "code",
      "execution_count": null,
      "metadata": {
        "id": "av4W8fM4uckZ"
      },
      "outputs": [],
      "source": [
        "# Create data loader\n",
        "#target_columns=label_cols\n",
        "train_dataset = BERTDataset(df_train, tokenizer, MAX_LEN)\n",
        "validation_dataset = BERTDataset(df_test, tokenizer, MAX_LEN)\n",
        "\n",
        "train_loader = DataLoader(train_dataset, batch_size=BATCH_SIZE)\n",
        "validation_loader = DataLoader(validation_dataset, batch_size=BATCH_SIZE)"
      ]
    },
    {
      "cell_type": "code",
      "execution_count": null,
      "metadata": {
        "colab": {
          "base_uri": "https://localhost:8080/"
        },
        "id": "ijTuTktzucpQ",
        "outputId": "fa09932d-738b-4235-88d1-4dda0e5af3e3"
      },
      "outputs": [
        {
          "data": {
            "text/plain": [
              "{'ids': tensor([ 101, 1045, 2123, 1005, 1056, 2514, 2434, 4902, 1012, 4390, 1011, 4634,\n",
              "         1011, 2030, 1011, 6595, 1011, 6680, 1011, 2030, 1011, 5777, 1011, 2205,\n",
              "         1011, 2172,  102,    0,    0,    0,    0,    0,    0,    0,    0,    0,\n",
              "            0,    0,    0,    0,    0,    0,    0,    0,    0,    0,    0,    0,\n",
              "            0,    0,    0,    0,    0,    0,    0,    0,    0,    0,    0,    0,\n",
              "            0,    0,    0,    0,    0,    0,    0,    0,    0,    0,    0,    0,\n",
              "            0,    0,    0,    0,    0,    0,    0,    0,    0,    0,    0,    0,\n",
              "            0,    0,    0,    0,    0,    0,    0,    0,    0,    0,    0,    0,\n",
              "            0,    0,    0,    0,    0,    0,    0,    0,    0,    0,    0,    0,\n",
              "            0,    0,    0,    0,    0,    0,    0,    0,    0,    0,    0,    0,\n",
              "            0,    0,    0,    0,    0,    0,    0,    0,    0,    0,    0,    0,\n",
              "            0,    0,    0,    0,    0,    0,    0,    0,    0,    0,    0,    0,\n",
              "            0,    0,    0,    0,    0,    0,    0,    0,    0,    0,    0,    0,\n",
              "            0,    0,    0,    0,    0,    0,    0,    0,    0,    0,    0,    0,\n",
              "            0,    0,    0,    0,    0,    0,    0,    0,    0,    0,    0,    0,\n",
              "            0,    0,    0,    0,    0,    0,    0,    0,    0,    0,    0,    0,\n",
              "            0,    0,    0,    0,    0,    0,    0,    0,    0,    0,    0,    0,\n",
              "            0,    0,    0,    0,    0,    0,    0,    0,    0,    0,    0,    0,\n",
              "            0,    0,    0,    0,    0,    0,    0,    0,    0,    0,    0,    0,\n",
              "            0,    0,    0,    0,    0,    0,    0,    0,    0,    0,    0,    0,\n",
              "            0,    0,    0,    0,    0,    0,    0,    0,    0,    0,    0,    0,\n",
              "            0,    0,    0,    0]),\n",
              " 'mask': tensor([1, 1, 1, 1, 1, 1, 1, 1, 1, 1, 1, 1, 1, 1, 1, 1, 1, 1, 1, 1, 1, 1, 1, 1,\n",
              "         1, 1, 1, 0, 0, 0, 0, 0, 0, 0, 0, 0, 0, 0, 0, 0, 0, 0, 0, 0, 0, 0, 0, 0,\n",
              "         0, 0, 0, 0, 0, 0, 0, 0, 0, 0, 0, 0, 0, 0, 0, 0, 0, 0, 0, 0, 0, 0, 0, 0,\n",
              "         0, 0, 0, 0, 0, 0, 0, 0, 0, 0, 0, 0, 0, 0, 0, 0, 0, 0, 0, 0, 0, 0, 0, 0,\n",
              "         0, 0, 0, 0, 0, 0, 0, 0, 0, 0, 0, 0, 0, 0, 0, 0, 0, 0, 0, 0, 0, 0, 0, 0,\n",
              "         0, 0, 0, 0, 0, 0, 0, 0, 0, 0, 0, 0, 0, 0, 0, 0, 0, 0, 0, 0, 0, 0, 0, 0,\n",
              "         0, 0, 0, 0, 0, 0, 0, 0, 0, 0, 0, 0, 0, 0, 0, 0, 0, 0, 0, 0, 0, 0, 0, 0,\n",
              "         0, 0, 0, 0, 0, 0, 0, 0, 0, 0, 0, 0, 0, 0, 0, 0, 0, 0, 0, 0, 0, 0, 0, 0,\n",
              "         0, 0, 0, 0, 0, 0, 0, 0, 0, 0, 0, 0, 0, 0, 0, 0, 0, 0, 0, 0, 0, 0, 0, 0,\n",
              "         0, 0, 0, 0, 0, 0, 0, 0, 0, 0, 0, 0, 0, 0, 0, 0, 0, 0, 0, 0, 0, 0, 0, 0,\n",
              "         0, 0, 0, 0, 0, 0, 0, 0, 0, 0, 0, 0, 0, 0, 0, 0]),\n",
              " 'targets': tensor([1., 0.]),\n",
              " 'rewards': tensor(0.0799)}"
            ]
          },
          "execution_count": 52,
          "metadata": {},
          "output_type": "execute_result"
        }
      ],
      "source": [
        "\n",
        "train_dataset[0]"
      ]
    },
    {
      "cell_type": "code",
      "execution_count": null,
      "metadata": {
        "colab": {
          "base_uri": "https://localhost:8080/",
          "height": 35
        },
        "id": "l1-hJzZXucur",
        "outputId": "281a31e4-8e28-4065-80b9-21ff17ba0179"
      },
      "outputs": [
        {
          "data": {
            "application/vnd.google.colaboratory.intrinsic+json": {
              "type": "string"
            },
            "text/plain": [
              "'cpu'"
            ]
          },
          "execution_count": 53,
          "metadata": {},
          "output_type": "execute_result"
        }
      ],
      "source": [
        "# identify and specify the GPU as the device, later in training loop we will load data into device\n",
        "device = 'cuda' if torch.cuda.is_available() else 'cpu'\n",
        "device"
      ]
    },
    {
      "cell_type": "code",
      "execution_count": null,
      "metadata": {
        "colab": {
          "base_uri": "https://localhost:8080/"
        },
        "id": "Mntavqmauc0E",
        "outputId": "4007a03c-15c1-498a-d7ae-053818489bcb"
      },
      "outputs": [
        {
          "name": "stderr",
          "output_type": "stream",
          "text": [
            "Some weights of the model checkpoint at bert-base-uncased were not used when initializing BertModel: ['cls.predictions.bias', 'cls.predictions.transform.LayerNorm.bias', 'cls.predictions.transform.dense.bias', 'cls.predictions.transform.dense.weight', 'cls.seq_relationship.weight', 'cls.predictions.transform.LayerNorm.weight', 'cls.seq_relationship.bias', 'cls.predictions.decoder.weight']\n",
            "- This IS expected if you are initializing BertModel from the checkpoint of a model trained on another task or with another architecture (e.g. initializing a BertForSequenceClassification model from a BertForPreTraining model).\n",
            "- This IS NOT expected if you are initializing BertModel from the checkpoint of a model that you expect to be exactly identical (initializing a BertForSequenceClassification model from a BertForSequenceClassification model).\n"
          ]
        },
        {
          "data": {
            "text/plain": [
              "BERTClass(\n",
              "  (goemotion): BertModel(\n",
              "    (embeddings): BertEmbeddings(\n",
              "      (word_embeddings): Embedding(30522, 768, padding_idx=0)\n",
              "      (position_embeddings): Embedding(512, 768)\n",
              "      (token_type_embeddings): Embedding(2, 768)\n",
              "      (LayerNorm): LayerNorm((768,), eps=1e-12, elementwise_affine=True)\n",
              "      (dropout): Dropout(p=0.1, inplace=False)\n",
              "    )\n",
              "    (encoder): BertEncoder(\n",
              "      (layer): ModuleList(\n",
              "        (0): BertLayer(\n",
              "          (attention): BertAttention(\n",
              "            (self): BertSelfAttention(\n",
              "              (query): Linear(in_features=768, out_features=768, bias=True)\n",
              "              (key): Linear(in_features=768, out_features=768, bias=True)\n",
              "              (value): Linear(in_features=768, out_features=768, bias=True)\n",
              "              (dropout): Dropout(p=0.1, inplace=False)\n",
              "            )\n",
              "            (output): BertSelfOutput(\n",
              "              (dense): Linear(in_features=768, out_features=768, bias=True)\n",
              "              (LayerNorm): LayerNorm((768,), eps=1e-12, elementwise_affine=True)\n",
              "              (dropout): Dropout(p=0.1, inplace=False)\n",
              "            )\n",
              "          )\n",
              "          (intermediate): BertIntermediate(\n",
              "            (dense): Linear(in_features=768, out_features=3072, bias=True)\n",
              "            (intermediate_act_fn): GELUActivation()\n",
              "          )\n",
              "          (output): BertOutput(\n",
              "            (dense): Linear(in_features=3072, out_features=768, bias=True)\n",
              "            (LayerNorm): LayerNorm((768,), eps=1e-12, elementwise_affine=True)\n",
              "            (dropout): Dropout(p=0.1, inplace=False)\n",
              "          )\n",
              "        )\n",
              "        (1): BertLayer(\n",
              "          (attention): BertAttention(\n",
              "            (self): BertSelfAttention(\n",
              "              (query): Linear(in_features=768, out_features=768, bias=True)\n",
              "              (key): Linear(in_features=768, out_features=768, bias=True)\n",
              "              (value): Linear(in_features=768, out_features=768, bias=True)\n",
              "              (dropout): Dropout(p=0.1, inplace=False)\n",
              "            )\n",
              "            (output): BertSelfOutput(\n",
              "              (dense): Linear(in_features=768, out_features=768, bias=True)\n",
              "              (LayerNorm): LayerNorm((768,), eps=1e-12, elementwise_affine=True)\n",
              "              (dropout): Dropout(p=0.1, inplace=False)\n",
              "            )\n",
              "          )\n",
              "          (intermediate): BertIntermediate(\n",
              "            (dense): Linear(in_features=768, out_features=3072, bias=True)\n",
              "            (intermediate_act_fn): GELUActivation()\n",
              "          )\n",
              "          (output): BertOutput(\n",
              "            (dense): Linear(in_features=3072, out_features=768, bias=True)\n",
              "            (LayerNorm): LayerNorm((768,), eps=1e-12, elementwise_affine=True)\n",
              "            (dropout): Dropout(p=0.1, inplace=False)\n",
              "          )\n",
              "        )\n",
              "        (2): BertLayer(\n",
              "          (attention): BertAttention(\n",
              "            (self): BertSelfAttention(\n",
              "              (query): Linear(in_features=768, out_features=768, bias=True)\n",
              "              (key): Linear(in_features=768, out_features=768, bias=True)\n",
              "              (value): Linear(in_features=768, out_features=768, bias=True)\n",
              "              (dropout): Dropout(p=0.1, inplace=False)\n",
              "            )\n",
              "            (output): BertSelfOutput(\n",
              "              (dense): Linear(in_features=768, out_features=768, bias=True)\n",
              "              (LayerNorm): LayerNorm((768,), eps=1e-12, elementwise_affine=True)\n",
              "              (dropout): Dropout(p=0.1, inplace=False)\n",
              "            )\n",
              "          )\n",
              "          (intermediate): BertIntermediate(\n",
              "            (dense): Linear(in_features=768, out_features=3072, bias=True)\n",
              "            (intermediate_act_fn): GELUActivation()\n",
              "          )\n",
              "          (output): BertOutput(\n",
              "            (dense): Linear(in_features=3072, out_features=768, bias=True)\n",
              "            (LayerNorm): LayerNorm((768,), eps=1e-12, elementwise_affine=True)\n",
              "            (dropout): Dropout(p=0.1, inplace=False)\n",
              "          )\n",
              "        )\n",
              "        (3): BertLayer(\n",
              "          (attention): BertAttention(\n",
              "            (self): BertSelfAttention(\n",
              "              (query): Linear(in_features=768, out_features=768, bias=True)\n",
              "              (key): Linear(in_features=768, out_features=768, bias=True)\n",
              "              (value): Linear(in_features=768, out_features=768, bias=True)\n",
              "              (dropout): Dropout(p=0.1, inplace=False)\n",
              "            )\n",
              "            (output): BertSelfOutput(\n",
              "              (dense): Linear(in_features=768, out_features=768, bias=True)\n",
              "              (LayerNorm): LayerNorm((768,), eps=1e-12, elementwise_affine=True)\n",
              "              (dropout): Dropout(p=0.1, inplace=False)\n",
              "            )\n",
              "          )\n",
              "          (intermediate): BertIntermediate(\n",
              "            (dense): Linear(in_features=768, out_features=3072, bias=True)\n",
              "            (intermediate_act_fn): GELUActivation()\n",
              "          )\n",
              "          (output): BertOutput(\n",
              "            (dense): Linear(in_features=3072, out_features=768, bias=True)\n",
              "            (LayerNorm): LayerNorm((768,), eps=1e-12, elementwise_affine=True)\n",
              "            (dropout): Dropout(p=0.1, inplace=False)\n",
              "          )\n",
              "        )\n",
              "        (4): BertLayer(\n",
              "          (attention): BertAttention(\n",
              "            (self): BertSelfAttention(\n",
              "              (query): Linear(in_features=768, out_features=768, bias=True)\n",
              "              (key): Linear(in_features=768, out_features=768, bias=True)\n",
              "              (value): Linear(in_features=768, out_features=768, bias=True)\n",
              "              (dropout): Dropout(p=0.1, inplace=False)\n",
              "            )\n",
              "            (output): BertSelfOutput(\n",
              "              (dense): Linear(in_features=768, out_features=768, bias=True)\n",
              "              (LayerNorm): LayerNorm((768,), eps=1e-12, elementwise_affine=True)\n",
              "              (dropout): Dropout(p=0.1, inplace=False)\n",
              "            )\n",
              "          )\n",
              "          (intermediate): BertIntermediate(\n",
              "            (dense): Linear(in_features=768, out_features=3072, bias=True)\n",
              "            (intermediate_act_fn): GELUActivation()\n",
              "          )\n",
              "          (output): BertOutput(\n",
              "            (dense): Linear(in_features=3072, out_features=768, bias=True)\n",
              "            (LayerNorm): LayerNorm((768,), eps=1e-12, elementwise_affine=True)\n",
              "            (dropout): Dropout(p=0.1, inplace=False)\n",
              "          )\n",
              "        )\n",
              "        (5): BertLayer(\n",
              "          (attention): BertAttention(\n",
              "            (self): BertSelfAttention(\n",
              "              (query): Linear(in_features=768, out_features=768, bias=True)\n",
              "              (key): Linear(in_features=768, out_features=768, bias=True)\n",
              "              (value): Linear(in_features=768, out_features=768, bias=True)\n",
              "              (dropout): Dropout(p=0.1, inplace=False)\n",
              "            )\n",
              "            (output): BertSelfOutput(\n",
              "              (dense): Linear(in_features=768, out_features=768, bias=True)\n",
              "              (LayerNorm): LayerNorm((768,), eps=1e-12, elementwise_affine=True)\n",
              "              (dropout): Dropout(p=0.1, inplace=False)\n",
              "            )\n",
              "          )\n",
              "          (intermediate): BertIntermediate(\n",
              "            (dense): Linear(in_features=768, out_features=3072, bias=True)\n",
              "            (intermediate_act_fn): GELUActivation()\n",
              "          )\n",
              "          (output): BertOutput(\n",
              "            (dense): Linear(in_features=3072, out_features=768, bias=True)\n",
              "            (LayerNorm): LayerNorm((768,), eps=1e-12, elementwise_affine=True)\n",
              "            (dropout): Dropout(p=0.1, inplace=False)\n",
              "          )\n",
              "        )\n",
              "        (6): BertLayer(\n",
              "          (attention): BertAttention(\n",
              "            (self): BertSelfAttention(\n",
              "              (query): Linear(in_features=768, out_features=768, bias=True)\n",
              "              (key): Linear(in_features=768, out_features=768, bias=True)\n",
              "              (value): Linear(in_features=768, out_features=768, bias=True)\n",
              "              (dropout): Dropout(p=0.1, inplace=False)\n",
              "            )\n",
              "            (output): BertSelfOutput(\n",
              "              (dense): Linear(in_features=768, out_features=768, bias=True)\n",
              "              (LayerNorm): LayerNorm((768,), eps=1e-12, elementwise_affine=True)\n",
              "              (dropout): Dropout(p=0.1, inplace=False)\n",
              "            )\n",
              "          )\n",
              "          (intermediate): BertIntermediate(\n",
              "            (dense): Linear(in_features=768, out_features=3072, bias=True)\n",
              "            (intermediate_act_fn): GELUActivation()\n",
              "          )\n",
              "          (output): BertOutput(\n",
              "            (dense): Linear(in_features=3072, out_features=768, bias=True)\n",
              "            (LayerNorm): LayerNorm((768,), eps=1e-12, elementwise_affine=True)\n",
              "            (dropout): Dropout(p=0.1, inplace=False)\n",
              "          )\n",
              "        )\n",
              "        (7): BertLayer(\n",
              "          (attention): BertAttention(\n",
              "            (self): BertSelfAttention(\n",
              "              (query): Linear(in_features=768, out_features=768, bias=True)\n",
              "              (key): Linear(in_features=768, out_features=768, bias=True)\n",
              "              (value): Linear(in_features=768, out_features=768, bias=True)\n",
              "              (dropout): Dropout(p=0.1, inplace=False)\n",
              "            )\n",
              "            (output): BertSelfOutput(\n",
              "              (dense): Linear(in_features=768, out_features=768, bias=True)\n",
              "              (LayerNorm): LayerNorm((768,), eps=1e-12, elementwise_affine=True)\n",
              "              (dropout): Dropout(p=0.1, inplace=False)\n",
              "            )\n",
              "          )\n",
              "          (intermediate): BertIntermediate(\n",
              "            (dense): Linear(in_features=768, out_features=3072, bias=True)\n",
              "            (intermediate_act_fn): GELUActivation()\n",
              "          )\n",
              "          (output): BertOutput(\n",
              "            (dense): Linear(in_features=3072, out_features=768, bias=True)\n",
              "            (LayerNorm): LayerNorm((768,), eps=1e-12, elementwise_affine=True)\n",
              "            (dropout): Dropout(p=0.1, inplace=False)\n",
              "          )\n",
              "        )\n",
              "        (8): BertLayer(\n",
              "          (attention): BertAttention(\n",
              "            (self): BertSelfAttention(\n",
              "              (query): Linear(in_features=768, out_features=768, bias=True)\n",
              "              (key): Linear(in_features=768, out_features=768, bias=True)\n",
              "              (value): Linear(in_features=768, out_features=768, bias=True)\n",
              "              (dropout): Dropout(p=0.1, inplace=False)\n",
              "            )\n",
              "            (output): BertSelfOutput(\n",
              "              (dense): Linear(in_features=768, out_features=768, bias=True)\n",
              "              (LayerNorm): LayerNorm((768,), eps=1e-12, elementwise_affine=True)\n",
              "              (dropout): Dropout(p=0.1, inplace=False)\n",
              "            )\n",
              "          )\n",
              "          (intermediate): BertIntermediate(\n",
              "            (dense): Linear(in_features=768, out_features=3072, bias=True)\n",
              "            (intermediate_act_fn): GELUActivation()\n",
              "          )\n",
              "          (output): BertOutput(\n",
              "            (dense): Linear(in_features=3072, out_features=768, bias=True)\n",
              "            (LayerNorm): LayerNorm((768,), eps=1e-12, elementwise_affine=True)\n",
              "            (dropout): Dropout(p=0.1, inplace=False)\n",
              "          )\n",
              "        )\n",
              "        (9): BertLayer(\n",
              "          (attention): BertAttention(\n",
              "            (self): BertSelfAttention(\n",
              "              (query): Linear(in_features=768, out_features=768, bias=True)\n",
              "              (key): Linear(in_features=768, out_features=768, bias=True)\n",
              "              (value): Linear(in_features=768, out_features=768, bias=True)\n",
              "              (dropout): Dropout(p=0.1, inplace=False)\n",
              "            )\n",
              "            (output): BertSelfOutput(\n",
              "              (dense): Linear(in_features=768, out_features=768, bias=True)\n",
              "              (LayerNorm): LayerNorm((768,), eps=1e-12, elementwise_affine=True)\n",
              "              (dropout): Dropout(p=0.1, inplace=False)\n",
              "            )\n",
              "          )\n",
              "          (intermediate): BertIntermediate(\n",
              "            (dense): Linear(in_features=768, out_features=3072, bias=True)\n",
              "            (intermediate_act_fn): GELUActivation()\n",
              "          )\n",
              "          (output): BertOutput(\n",
              "            (dense): Linear(in_features=3072, out_features=768, bias=True)\n",
              "            (LayerNorm): LayerNorm((768,), eps=1e-12, elementwise_affine=True)\n",
              "            (dropout): Dropout(p=0.1, inplace=False)\n",
              "          )\n",
              "        )\n",
              "        (10): BertLayer(\n",
              "          (attention): BertAttention(\n",
              "            (self): BertSelfAttention(\n",
              "              (query): Linear(in_features=768, out_features=768, bias=True)\n",
              "              (key): Linear(in_features=768, out_features=768, bias=True)\n",
              "              (value): Linear(in_features=768, out_features=768, bias=True)\n",
              "              (dropout): Dropout(p=0.1, inplace=False)\n",
              "            )\n",
              "            (output): BertSelfOutput(\n",
              "              (dense): Linear(in_features=768, out_features=768, bias=True)\n",
              "              (LayerNorm): LayerNorm((768,), eps=1e-12, elementwise_affine=True)\n",
              "              (dropout): Dropout(p=0.1, inplace=False)\n",
              "            )\n",
              "          )\n",
              "          (intermediate): BertIntermediate(\n",
              "            (dense): Linear(in_features=768, out_features=3072, bias=True)\n",
              "            (intermediate_act_fn): GELUActivation()\n",
              "          )\n",
              "          (output): BertOutput(\n",
              "            (dense): Linear(in_features=3072, out_features=768, bias=True)\n",
              "            (LayerNorm): LayerNorm((768,), eps=1e-12, elementwise_affine=True)\n",
              "            (dropout): Dropout(p=0.1, inplace=False)\n",
              "          )\n",
              "        )\n",
              "        (11): BertLayer(\n",
              "          (attention): BertAttention(\n",
              "            (self): BertSelfAttention(\n",
              "              (query): Linear(in_features=768, out_features=768, bias=True)\n",
              "              (key): Linear(in_features=768, out_features=768, bias=True)\n",
              "              (value): Linear(in_features=768, out_features=768, bias=True)\n",
              "              (dropout): Dropout(p=0.1, inplace=False)\n",
              "            )\n",
              "            (output): BertSelfOutput(\n",
              "              (dense): Linear(in_features=768, out_features=768, bias=True)\n",
              "              (LayerNorm): LayerNorm((768,), eps=1e-12, elementwise_affine=True)\n",
              "              (dropout): Dropout(p=0.1, inplace=False)\n",
              "            )\n",
              "          )\n",
              "          (intermediate): BertIntermediate(\n",
              "            (dense): Linear(in_features=768, out_features=3072, bias=True)\n",
              "            (intermediate_act_fn): GELUActivation()\n",
              "          )\n",
              "          (output): BertOutput(\n",
              "            (dense): Linear(in_features=3072, out_features=768, bias=True)\n",
              "            (LayerNorm): LayerNorm((768,), eps=1e-12, elementwise_affine=True)\n",
              "            (dropout): Dropout(p=0.1, inplace=False)\n",
              "          )\n",
              "        )\n",
              "      )\n",
              "    )\n",
              "    (pooler): BertPooler(\n",
              "      (dense): Linear(in_features=768, out_features=768, bias=True)\n",
              "      (activation): Tanh()\n",
              "    )\n",
              "  )\n",
              "  (fc): Linear(in_features=768, out_features=2, bias=True)\n",
              ")"
            ]
          },
          "execution_count": 58,
          "metadata": {},
          "output_type": "execute_result"
        }
      ],
      "source": [
        "# Creating the customized model, by adding a dense layer on top of sentiment-model-sample-27go-emotion to get the final output for the model. \n",
        "class BERTClass(torch.nn.Module):\n",
        "    \"\"\"\n",
        "    This class is used to define model.\n",
        "    \"\"\"\n",
        "    def __init__(self):\n",
        "        super(BERTClass, self).__init__()\n",
        "        self.goemotion = AutoModel.from_pretrained(\"bert-base-uncased\")\n",
        "        self.goemotion.config.problem_type = 'multi_label_classification'\n",
        "        self.fc = torch.nn.Linear(self.goemotion.config.hidden_size, 2)\n",
        "    \n",
        "    def forward(self, ids, mask):\n",
        "        _, features = self.goemotion(ids, attention_mask = mask, return_dict=False)\n",
        "        output = self.fc(features)\n",
        "        return output\n",
        "\n",
        "m3 = BERTClass()\n",
        "#m3.to(device).half();\n",
        "m3.to(device)"
      ]
    },
    {
      "cell_type": "code",
      "execution_count": null,
      "metadata": {
        "id": "SUd15bkYuc5U"
      },
      "outputs": [],
      "source": [
        "# Define loss function for MultiLabelClassification\n",
        "def loss_fn(outputs, targets):\n",
        "    return torch.nn.BCEWithLogitsLoss()(outputs, targets)\n",
        "\n",
        "optimizer = torch.optim.AdamW(params =  m3.parameters(), lr=LEARNING_RATE, weight_decay=1e-6)"
      ]
    },
    {
      "cell_type": "code",
      "execution_count": null,
      "metadata": {
        "id": "871eJM7Zuc-E"
      },
      "outputs": [],
      "source": [
        "def train(epoch):\n",
        "        m3.train()\n",
        "        # try:\n",
        "        for _,data in enumerate(train_loader, 0):\n",
        "            ids = data['ids'].to(device, dtype = torch.long)\n",
        "            mask = data['mask'].to(device, dtype = torch.long)\n",
        "            targets = data['targets'].to(device, dtype = torch.float)\n",
        "            rewards = data['rewards'].to(device, dtype = torch.float)\n",
        "            #print(targets)\n",
        "            outputs = m3(ids, mask)\n",
        "            #print(len(outputs))\n",
        "            #print(outputs)\n",
        "            #print(len(targets))\n",
        "            #print(targets)\n",
        "            #loss = loss_fn(outputs, targets)\n",
        "            \n",
        "            size = len(outputs)\n",
        "            loss_tune = torch.zeros(size)\n",
        "            for i in range(size):\n",
        "              loss_tune[i] = loss_fn(outputs[i], targets[i])*rewards[i]\n",
        "            loss_tune = loss_tune.mean()\n",
        "            loss = loss_tune\n",
        "            \n",
        "            #print(\"Loss\",loss)\n",
        "            #print(rewards)\n",
        "            \n",
        "            if _%5000 == 0:\n",
        "                print(f'Epoch: {epoch}, Loss:  {loss.item()}')\n",
        "            \n",
        "            #loss.backward()\n",
        "            optimizer.step()\n",
        "            optimizer.zero_grad() \n",
        "      #except Exception as e:\n",
        "      #    print(\"Got some error\",e) \n",
        "      #    print(targets, outputs)"
      ]
    },
    {
      "cell_type": "code",
      "execution_count": null,
      "metadata": {
        "colab": {
          "base_uri": "https://localhost:8080/"
        },
        "id": "6zYTZwg5udC7",
        "outputId": "8f75f5c8-759e-4681-9126-7d079d88fe09"
      },
      "outputs": [
        {
          "name": "stdout",
          "output_type": "stream",
          "text": [
            "Epoch: 0, Loss:  0.0930810198187828\n",
            "Epoch: 1, Loss:  0.09266925603151321\n",
            "Epoch: 2, Loss:  0.09143234044313431\n",
            "Epoch: 3, Loss:  0.09307130426168442\n",
            "Epoch: 4, Loss:  0.09284722805023193\n"
          ]
        }
      ],
      "source": [
        "#Train model\n",
        "for epoch in range(EPOCHS):\n",
        "    train(epoch)"
      ]
    },
    {
      "cell_type": "code",
      "execution_count": null,
      "metadata": {
        "id": "XdKxwN4SudIY"
      },
      "outputs": [],
      "source": [
        "# Validate model\n",
        "def validation():\n",
        "    m3.eval()\n",
        "    fin_targets=[]\n",
        "    fin_outputs=[]\n",
        "    with torch.no_grad():\n",
        "        for _, data in enumerate(validation_loader, 0):\n",
        "            ids = data['ids'].to(device, dtype = torch.long)\n",
        "            mask = data['mask'].to(device, dtype = torch.long)\n",
        "            targets = data['targets'].to(device, dtype = torch.float)\n",
        "            outputs = m3(ids, mask)\n",
        "            fin_targets.extend(targets.cpu().detach().numpy().tolist())\n",
        "            fin_outputs.extend(torch.sigmoid(outputs).cpu().detach().numpy().tolist())\n",
        "    return fin_outputs, fin_targets"
      ]
    },
    {
      "cell_type": "code",
      "execution_count": null,
      "metadata": {
        "id": "ummaOjnFudNM"
      },
      "outputs": [],
      "source": [
        "from sklearn import metrics"
      ]
    },
    {
      "cell_type": "code",
      "execution_count": null,
      "metadata": {
        "id": "W7PyZR6XudSb"
      },
      "outputs": [],
      "source": [
        "# Evaluate Performance\n",
        "outputs, targets = validation()\n",
        "#outputs = np.array(outputs) >= 0.5\n"
      ]
    },
    {
      "cell_type": "code",
      "execution_count": null,
      "metadata": {
        "id": "25jEo6Z4udYJ"
      },
      "outputs": [],
      "source": [
        "# If if in the outputs the value is above 0.5 we consider the correct class\n",
        "count =0 \n",
        "indexes = []\n",
        "for i in  range(len(outputs)):\n",
        "  pred = outputs[i]\n",
        "  act = targets[i]\n",
        "  act_label = np.argmax(act)\n",
        "  probable_classes = set()\n",
        "  for x in range(len(pred)):\n",
        "    if pred[x]>=0.5:\n",
        "      probable_classes.add(x)\n",
        "  if not probable_classes:\n",
        "    probable_classes.add(np.argmax(pred))\n",
        "  if act_label in probable_classes:\n",
        "    indexes.append(i)\n",
        "    count = count+1"
      ]
    },
    {
      "cell_type": "code",
      "execution_count": null,
      "metadata": {
        "colab": {
          "base_uri": "https://localhost:8080/"
        },
        "id": "kjnhVgJzudg8",
        "outputId": "eb2d3503-df69-44dc-916f-a78e5812eb03"
      },
      "outputs": [
        {
          "data": {
            "text/plain": [
              "362"
            ]
          },
          "execution_count": 65,
          "metadata": {},
          "output_type": "execute_result"
        }
      ],
      "source": [
        "count"
      ]
    },
    {
      "cell_type": "code",
      "execution_count": null,
      "metadata": {
        "colab": {
          "base_uri": "https://localhost:8080/",
          "height": 143
        },
        "id": "npzqfk-Nb25q",
        "outputId": "c5b3095c-09de-47fd-d59c-25b54679ee62"
      },
      "outputs": [
        {
          "data": {
            "text/html": [
              "\n",
              "  <div id=\"df-ca34cc25-1949-43a4-80a9-d5406b628ca6\">\n",
              "    <div class=\"colab-df-container\">\n",
              "      <div>\n",
              "<style scoped>\n",
              "    .dataframe tbody tr th:only-of-type {\n",
              "        vertical-align: middle;\n",
              "    }\n",
              "\n",
              "    .dataframe tbody tr th {\n",
              "        vertical-align: top;\n",
              "    }\n",
              "\n",
              "    .dataframe thead th {\n",
              "        text-align: right;\n",
              "    }\n",
              "</style>\n",
              "<table border=\"1\" class=\"dataframe\">\n",
              "  <thead>\n",
              "    <tr style=\"text-align: right;\">\n",
              "      <th></th>\n",
              "      <th>post_title</th>\n",
              "      <th>annotations</th>\n",
              "      <th>label</th>\n",
              "      <th>sentences</th>\n",
              "      <th>words</th>\n",
              "      <th>Clean_Words</th>\n",
              "      <th>Corrected_Slangs</th>\n",
              "      <th>isSlang</th>\n",
              "      <th>Sentence_Embedding_Wiki</th>\n",
              "      <th>Sentence_Embedding_Wiki_</th>\n",
              "      <th>...</th>\n",
              "      <th>91</th>\n",
              "      <th>92</th>\n",
              "      <th>93</th>\n",
              "      <th>94</th>\n",
              "      <th>95</th>\n",
              "      <th>96</th>\n",
              "      <th>97</th>\n",
              "      <th>98</th>\n",
              "      <th>99</th>\n",
              "      <th>labels</th>\n",
              "    </tr>\n",
              "  </thead>\n",
              "  <tbody>\n",
              "  </tbody>\n",
              "</table>\n",
              "<p>0 rows × 130 columns</p>\n",
              "</div>\n",
              "      <button class=\"colab-df-convert\" onclick=\"convertToInteractive('df-ca34cc25-1949-43a4-80a9-d5406b628ca6')\"\n",
              "              title=\"Convert this dataframe to an interactive table.\"\n",
              "              style=\"display:none;\">\n",
              "        \n",
              "  <svg xmlns=\"http://www.w3.org/2000/svg\" height=\"24px\"viewBox=\"0 0 24 24\"\n",
              "       width=\"24px\">\n",
              "    <path d=\"M0 0h24v24H0V0z\" fill=\"none\"/>\n",
              "    <path d=\"M18.56 5.44l.94 2.06.94-2.06 2.06-.94-2.06-.94-.94-2.06-.94 2.06-2.06.94zm-11 1L8.5 8.5l.94-2.06 2.06-.94-2.06-.94L8.5 2.5l-.94 2.06-2.06.94zm10 10l.94 2.06.94-2.06 2.06-.94-2.06-.94-.94-2.06-.94 2.06-2.06.94z\"/><path d=\"M17.41 7.96l-1.37-1.37c-.4-.4-.92-.59-1.43-.59-.52 0-1.04.2-1.43.59L10.3 9.45l-7.72 7.72c-.78.78-.78 2.05 0 2.83L4 21.41c.39.39.9.59 1.41.59.51 0 1.02-.2 1.41-.59l7.78-7.78 2.81-2.81c.8-.78.8-2.07 0-2.86zM5.41 20L4 18.59l7.72-7.72 1.47 1.35L5.41 20z\"/>\n",
              "  </svg>\n",
              "      </button>\n",
              "      \n",
              "  <style>\n",
              "    .colab-df-container {\n",
              "      display:flex;\n",
              "      flex-wrap:wrap;\n",
              "      gap: 12px;\n",
              "    }\n",
              "\n",
              "    .colab-df-convert {\n",
              "      background-color: #E8F0FE;\n",
              "      border: none;\n",
              "      border-radius: 50%;\n",
              "      cursor: pointer;\n",
              "      display: none;\n",
              "      fill: #1967D2;\n",
              "      height: 32px;\n",
              "      padding: 0 0 0 0;\n",
              "      width: 32px;\n",
              "    }\n",
              "\n",
              "    .colab-df-convert:hover {\n",
              "      background-color: #E2EBFA;\n",
              "      box-shadow: 0px 1px 2px rgba(60, 64, 67, 0.3), 0px 1px 3px 1px rgba(60, 64, 67, 0.15);\n",
              "      fill: #174EA6;\n",
              "    }\n",
              "\n",
              "    [theme=dark] .colab-df-convert {\n",
              "      background-color: #3B4455;\n",
              "      fill: #D2E3FC;\n",
              "    }\n",
              "\n",
              "    [theme=dark] .colab-df-convert:hover {\n",
              "      background-color: #434B5C;\n",
              "      box-shadow: 0px 1px 3px 1px rgba(0, 0, 0, 0.15);\n",
              "      filter: drop-shadow(0px 1px 2px rgba(0, 0, 0, 0.3));\n",
              "      fill: #FFFFFF;\n",
              "    }\n",
              "  </style>\n",
              "\n",
              "      <script>\n",
              "        const buttonEl =\n",
              "          document.querySelector('#df-ca34cc25-1949-43a4-80a9-d5406b628ca6 button.colab-df-convert');\n",
              "        buttonEl.style.display =\n",
              "          google.colab.kernel.accessAllowed ? 'block' : 'none';\n",
              "\n",
              "        async function convertToInteractive(key) {\n",
              "          const element = document.querySelector('#df-ca34cc25-1949-43a4-80a9-d5406b628ca6');\n",
              "          const dataTable =\n",
              "            await google.colab.kernel.invokeFunction('convertToInteractive',\n",
              "                                                     [key], {});\n",
              "          if (!dataTable) return;\n",
              "\n",
              "          const docLinkHtml = 'Like what you see? Visit the ' +\n",
              "            '<a target=\"_blank\" href=https://colab.research.google.com/notebooks/data_table.ipynb>data table notebook</a>'\n",
              "            + ' to learn more about interactive tables.';\n",
              "          element.innerHTML = '';\n",
              "          dataTable['output_type'] = 'display_data';\n",
              "          await google.colab.output.renderOutput(dataTable, element);\n",
              "          const docLink = document.createElement('div');\n",
              "          docLink.innerHTML = docLinkHtml;\n",
              "          element.appendChild(docLink);\n",
              "        }\n",
              "      </script>\n",
              "    </div>\n",
              "  </div>\n",
              "  "
            ],
            "text/plain": [
              "Empty DataFrame\n",
              "Columns: [post_title, annotations, label, sentences, words, Clean_Words, Corrected_Slangs, isSlang, Sentence_Embedding_Wiki, Sentence_Embedding_Wiki_, Sentence_Embedding_Common_Sense, Index, Sentence_Embeddings_Common_Sense, Emb_Common_Sense, Emb_Wikipedia, Emb_Ensemble, Ensemble_Wiki, Ensemble_Common, 0.0, 0.1, 0.2, 0.3, 0.4, 0.5, 0.6, 0.7, 0.8, 0.9, 1.0, 0, 1, 2, 3, 4, 5, 6, 7, 8, 9, 10, 11, 12, 13, 14, 15, 16, 17, 18, 19, 20, 21, 22, 23, 24, 25, 26, 27, 28, 29, 30, 31, 32, 33, 34, 35, 36, 37, 38, 39, 40, 41, 42, 43, 44, 45, 46, 47, 48, 49, 50, 51, 52, 53, 54, 55, 56, 57, 58, 59, 60, 61, 62, 63, 64, 65, 66, 67, 68, 69, 70, ...]\n",
              "Index: []\n",
              "\n",
              "[0 rows x 130 columns]"
            ]
          },
          "execution_count": 74,
          "metadata": {},
          "output_type": "execute_result"
        }
      ],
      "source": [
        "df_test[df_test['0.0'] == \"0.052906\"]"
      ]
    },
    {
      "cell_type": "code",
      "execution_count": null,
      "metadata": {
        "colab": {
          "base_uri": "https://localhost:8080/"
        },
        "id": "ihbPlGKE-aa5",
        "outputId": "b600da0f-f9c1-48ad-e163-f0da84d6bde5"
      },
      "outputs": [
        {
          "data": {
            "text/plain": [
              "[0,\n",
              " 1,\n",
              " 2,\n",
              " 3,\n",
              " 4,\n",
              " 5,\n",
              " 6,\n",
              " 7,\n",
              " 8,\n",
              " 9,\n",
              " 10,\n",
              " 11,\n",
              " 12,\n",
              " 13,\n",
              " 14,\n",
              " 16,\n",
              " 17,\n",
              " 18,\n",
              " 20,\n",
              " 21,\n",
              " 22,\n",
              " 23,\n",
              " 24,\n",
              " 25,\n",
              " 26,\n",
              " 27,\n",
              " 29,\n",
              " 30,\n",
              " 31,\n",
              " 32]"
            ]
          },
          "execution_count": 68,
          "metadata": {},
          "output_type": "execute_result"
        }
      ],
      "source": [
        "indexes[:30]"
      ]
    },
    {
      "cell_type": "code",
      "execution_count": null,
      "metadata": {
        "colab": {
          "base_uri": "https://localhost:8080/",
          "height": 424
        },
        "id": "XuXT7LJdB5ou",
        "outputId": "4756e4f1-dcae-4ad4-829d-176ca0ae5a3c"
      },
      "outputs": [
        {
          "data": {
            "text/html": [
              "\n",
              "  <div id=\"df-e1965bb1-7a70-423a-b780-4ac67f81a4fe\">\n",
              "    <div class=\"colab-df-container\">\n",
              "      <div>\n",
              "<style scoped>\n",
              "    .dataframe tbody tr th:only-of-type {\n",
              "        vertical-align: middle;\n",
              "    }\n",
              "\n",
              "    .dataframe tbody tr th {\n",
              "        vertical-align: top;\n",
              "    }\n",
              "\n",
              "    .dataframe thead th {\n",
              "        text-align: right;\n",
              "    }\n",
              "</style>\n",
              "<table border=\"1\" class=\"dataframe\">\n",
              "  <thead>\n",
              "    <tr style=\"text-align: right;\">\n",
              "      <th></th>\n",
              "      <th>0</th>\n",
              "      <th>index</th>\n",
              "      <th>label</th>\n",
              "    </tr>\n",
              "  </thead>\n",
              "  <tbody>\n",
              "    <tr>\n",
              "      <th>1</th>\n",
              "      <td>0</td>\n",
              "      <td>65</td>\n",
              "      <td>0</td>\n",
              "    </tr>\n",
              "    <tr>\n",
              "      <th>2</th>\n",
              "      <td>0</td>\n",
              "      <td>700</td>\n",
              "      <td>0</td>\n",
              "    </tr>\n",
              "    <tr>\n",
              "      <th>3</th>\n",
              "      <td>0</td>\n",
              "      <td>937</td>\n",
              "      <td>0</td>\n",
              "    </tr>\n",
              "    <tr>\n",
              "      <th>4</th>\n",
              "      <td>0</td>\n",
              "      <td>1197</td>\n",
              "      <td>0</td>\n",
              "    </tr>\n",
              "    <tr>\n",
              "      <th>5</th>\n",
              "      <td>0</td>\n",
              "      <td>806</td>\n",
              "      <td>0</td>\n",
              "    </tr>\n",
              "    <tr>\n",
              "      <th>...</th>\n",
              "      <td>...</td>\n",
              "      <td>...</td>\n",
              "      <td>...</td>\n",
              "    </tr>\n",
              "    <tr>\n",
              "      <th>355</th>\n",
              "      <td>0</td>\n",
              "      <td>1329</td>\n",
              "      <td>0</td>\n",
              "    </tr>\n",
              "    <tr>\n",
              "      <th>356</th>\n",
              "      <td>0</td>\n",
              "      <td>300</td>\n",
              "      <td>0</td>\n",
              "    </tr>\n",
              "    <tr>\n",
              "      <th>357</th>\n",
              "      <td>1</td>\n",
              "      <td>1691</td>\n",
              "      <td>1</td>\n",
              "    </tr>\n",
              "    <tr>\n",
              "      <th>358</th>\n",
              "      <td>0</td>\n",
              "      <td>416</td>\n",
              "      <td>0</td>\n",
              "    </tr>\n",
              "    <tr>\n",
              "      <th>360</th>\n",
              "      <td>0</td>\n",
              "      <td>1316</td>\n",
              "      <td>0</td>\n",
              "    </tr>\n",
              "  </tbody>\n",
              "</table>\n",
              "<p>297 rows × 3 columns</p>\n",
              "</div>\n",
              "      <button class=\"colab-df-convert\" onclick=\"convertToInteractive('df-e1965bb1-7a70-423a-b780-4ac67f81a4fe')\"\n",
              "              title=\"Convert this dataframe to an interactive table.\"\n",
              "              style=\"display:none;\">\n",
              "        \n",
              "  <svg xmlns=\"http://www.w3.org/2000/svg\" height=\"24px\"viewBox=\"0 0 24 24\"\n",
              "       width=\"24px\">\n",
              "    <path d=\"M0 0h24v24H0V0z\" fill=\"none\"/>\n",
              "    <path d=\"M18.56 5.44l.94 2.06.94-2.06 2.06-.94-2.06-.94-.94-2.06-.94 2.06-2.06.94zm-11 1L8.5 8.5l.94-2.06 2.06-.94-2.06-.94L8.5 2.5l-.94 2.06-2.06.94zm10 10l.94 2.06.94-2.06 2.06-.94-2.06-.94-.94-2.06-.94 2.06-2.06.94z\"/><path d=\"M17.41 7.96l-1.37-1.37c-.4-.4-.92-.59-1.43-.59-.52 0-1.04.2-1.43.59L10.3 9.45l-7.72 7.72c-.78.78-.78 2.05 0 2.83L4 21.41c.39.39.9.59 1.41.59.51 0 1.02-.2 1.41-.59l7.78-7.78 2.81-2.81c.8-.78.8-2.07 0-2.86zM5.41 20L4 18.59l7.72-7.72 1.47 1.35L5.41 20z\"/>\n",
              "  </svg>\n",
              "      </button>\n",
              "      \n",
              "  <style>\n",
              "    .colab-df-container {\n",
              "      display:flex;\n",
              "      flex-wrap:wrap;\n",
              "      gap: 12px;\n",
              "    }\n",
              "\n",
              "    .colab-df-convert {\n",
              "      background-color: #E8F0FE;\n",
              "      border: none;\n",
              "      border-radius: 50%;\n",
              "      cursor: pointer;\n",
              "      display: none;\n",
              "      fill: #1967D2;\n",
              "      height: 32px;\n",
              "      padding: 0 0 0 0;\n",
              "      width: 32px;\n",
              "    }\n",
              "\n",
              "    .colab-df-convert:hover {\n",
              "      background-color: #E2EBFA;\n",
              "      box-shadow: 0px 1px 2px rgba(60, 64, 67, 0.3), 0px 1px 3px 1px rgba(60, 64, 67, 0.15);\n",
              "      fill: #174EA6;\n",
              "    }\n",
              "\n",
              "    [theme=dark] .colab-df-convert {\n",
              "      background-color: #3B4455;\n",
              "      fill: #D2E3FC;\n",
              "    }\n",
              "\n",
              "    [theme=dark] .colab-df-convert:hover {\n",
              "      background-color: #434B5C;\n",
              "      box-shadow: 0px 1px 3px 1px rgba(0, 0, 0, 0.15);\n",
              "      filter: drop-shadow(0px 1px 2px rgba(0, 0, 0, 0.3));\n",
              "      fill: #FFFFFF;\n",
              "    }\n",
              "  </style>\n",
              "\n",
              "      <script>\n",
              "        const buttonEl =\n",
              "          document.querySelector('#df-e1965bb1-7a70-423a-b780-4ac67f81a4fe button.colab-df-convert');\n",
              "        buttonEl.style.display =\n",
              "          google.colab.kernel.accessAllowed ? 'block' : 'none';\n",
              "\n",
              "        async function convertToInteractive(key) {\n",
              "          const element = document.querySelector('#df-e1965bb1-7a70-423a-b780-4ac67f81a4fe');\n",
              "          const dataTable =\n",
              "            await google.colab.kernel.invokeFunction('convertToInteractive',\n",
              "                                                     [key], {});\n",
              "          if (!dataTable) return;\n",
              "\n",
              "          const docLinkHtml = 'Like what you see? Visit the ' +\n",
              "            '<a target=\"_blank\" href=https://colab.research.google.com/notebooks/data_table.ipynb>data table notebook</a>'\n",
              "            + ' to learn more about interactive tables.';\n",
              "          element.innerHTML = '';\n",
              "          dataTable['output_type'] = 'display_data';\n",
              "          await google.colab.output.renderOutput(dataTable, element);\n",
              "          const docLink = document.createElement('div');\n",
              "          docLink.innerHTML = docLinkHtml;\n",
              "          element.appendChild(docLink);\n",
              "        }\n",
              "      </script>\n",
              "    </div>\n",
              "  </div>\n",
              "  "
            ],
            "text/plain": [
              "     0  index  label\n",
              "1    0     65      0\n",
              "2    0    700      0\n",
              "3    0    937      0\n",
              "4    0   1197      0\n",
              "5    0    806      0\n",
              "..  ..    ...    ...\n",
              "355  0   1329      0\n",
              "356  0    300      0\n",
              "357  1   1691      1\n",
              "358  0    416      0\n",
              "360  0   1316      0\n",
              "\n",
              "[297 rows x 3 columns]"
            ]
          },
          "execution_count": 70,
          "metadata": {},
          "output_type": "execute_result"
        }
      ],
      "source": [
        "results[results[0] == results['label']]"
      ]
    },
    {
      "cell_type": "code",
      "execution_count": null,
      "metadata": {
        "colab": {
          "base_uri": "https://localhost:8080/"
        },
        "id": "jd9hb98_I-LG",
        "outputId": "348b96a1-0664-4a6d-9c05-cb64e6c3627a"
      },
      "outputs": [
        {
          "data": {
            "text/plain": [
              "394"
            ]
          },
          "execution_count": 76,
          "metadata": {},
          "output_type": "execute_result"
        }
      ],
      "source": [
        "len(outputs)"
      ]
    },
    {
      "cell_type": "code",
      "execution_count": null,
      "metadata": {
        "colab": {
          "base_uri": "https://localhost:8080/"
        },
        "id": "w5U8JGO_Bb3u",
        "outputId": "e469d830-6f9c-4d46-e81b-24add481e633"
      },
      "outputs": [
        {
          "data": {
            "text/plain": [
              "[[1.0, 0.0], [1.0, 0.0], [1.0, 0.0], [1.0, 0.0], [1.0, 0.0]]"
            ]
          },
          "execution_count": 111,
          "metadata": {},
          "output_type": "execute_result"
        }
      ],
      "source": [
        "targets[:5]"
      ]
    },
    {
      "cell_type": "code",
      "execution_count": null,
      "metadata": {
        "colab": {
          "base_uri": "https://localhost:8080/"
        },
        "id": "XR2_RCsIASbT",
        "outputId": "9743001c-db72-4975-c805-e988871613be"
      },
      "outputs": [
        {
          "data": {
            "text/plain": [
              "0.5888324873096447"
            ]
          },
          "execution_count": 105,
          "metadata": {},
          "output_type": "execute_result"
        }
      ],
      "source": [
        "232/394"
      ]
    },
    {
      "cell_type": "code",
      "execution_count": null,
      "metadata": {
        "id": "7_9Wk4Uf-gFd"
      },
      "outputs": [],
      "source": [
        "df_test.to_csv('test_primate.csv')"
      ]
    },
    {
      "cell_type": "code",
      "execution_count": null,
      "metadata": {
        "id": "aEigiGNS2jUZ"
      },
      "outputs": [],
      "source": [
        "from google.colab import files"
      ]
    },
    {
      "cell_type": "code",
      "execution_count": null,
      "metadata": {
        "colab": {
          "base_uri": "https://localhost:8080/",
          "height": 17
        },
        "id": "EirAD0ckBJU2",
        "outputId": "d7279d30-7f9f-4b72-bb17-8069177520af"
      },
      "outputs": [
        {
          "data": {
            "application/javascript": "\n    async function download(id, filename, size) {\n      if (!google.colab.kernel.accessAllowed) {\n        return;\n      }\n      const div = document.createElement('div');\n      const label = document.createElement('label');\n      label.textContent = `Downloading \"${filename}\": `;\n      div.appendChild(label);\n      const progress = document.createElement('progress');\n      progress.max = size;\n      div.appendChild(progress);\n      document.body.appendChild(div);\n\n      const buffers = [];\n      let downloaded = 0;\n\n      const channel = await google.colab.kernel.comms.open(id);\n      // Send a message to notify the kernel that we're ready.\n      channel.send({})\n\n      for await (const message of channel.messages) {\n        // Send a message to notify the kernel that we're ready.\n        channel.send({})\n        if (message.buffers) {\n          for (const buffer of message.buffers) {\n            buffers.push(buffer);\n            downloaded += buffer.byteLength;\n            progress.value = downloaded;\n          }\n        }\n      }\n      const blob = new Blob(buffers, {type: 'application/binary'});\n      const a = document.createElement('a');\n      a.href = window.URL.createObjectURL(blob);\n      a.download = filename;\n      div.appendChild(a);\n      a.click();\n      div.remove();\n    }\n  ",
            "text/plain": [
              "<IPython.core.display.Javascript object>"
            ]
          },
          "metadata": {},
          "output_type": "display_data"
        },
        {
          "data": {
            "application/javascript": "download(\"download_99363ddf-1302-4c08-85d2-809c0b040a4a\", \"test_primate.csv\", 6354000)",
            "text/plain": [
              "<IPython.core.display.Javascript object>"
            ]
          },
          "metadata": {},
          "output_type": "display_data"
        }
      ],
      "source": [
        "files.download('test_primate.csv')"
      ]
    },
    {
      "cell_type": "code",
      "execution_count": null,
      "metadata": {
        "id": "sQZk9UykJh3n"
      },
      "outputs": [],
      "source": [
        "ob = outputs\n",
        "tb = targets"
      ]
    },
    {
      "cell_type": "code",
      "execution_count": null,
      "metadata": {
        "id": "8l_dWasaJiUO"
      },
      "outputs": [],
      "source": [
        "probab = pd.DataFrame({'base': ob , 'large': outputs, 'actual': targets})"
      ]
    },
    {
      "cell_type": "code",
      "execution_count": null,
      "metadata": {
        "colab": {
          "base_uri": "https://localhost:8080/",
          "height": 206
        },
        "id": "LpYjYkgVJiY7",
        "outputId": "33dc4dd4-87c7-4068-ce1f-f7fca7d4ebcc"
      },
      "outputs": [
        {
          "data": {
            "text/html": [
              "\n",
              "  <div id=\"df-d6587bab-2667-4430-8699-09658357249c\">\n",
              "    <div class=\"colab-df-container\">\n",
              "      <div>\n",
              "<style scoped>\n",
              "    .dataframe tbody tr th:only-of-type {\n",
              "        vertical-align: middle;\n",
              "    }\n",
              "\n",
              "    .dataframe tbody tr th {\n",
              "        vertical-align: top;\n",
              "    }\n",
              "\n",
              "    .dataframe thead th {\n",
              "        text-align: right;\n",
              "    }\n",
              "</style>\n",
              "<table border=\"1\" class=\"dataframe\">\n",
              "  <thead>\n",
              "    <tr style=\"text-align: right;\">\n",
              "      <th></th>\n",
              "      <th>base</th>\n",
              "      <th>large</th>\n",
              "      <th>actual</th>\n",
              "    </tr>\n",
              "  </thead>\n",
              "  <tbody>\n",
              "    <tr>\n",
              "      <th>0</th>\n",
              "      <td>[0.447998046875, 0.432373046875]</td>\n",
              "      <td>[0.52001953125, 0.50732421875]</td>\n",
              "      <td>[1.0, 0.0]</td>\n",
              "    </tr>\n",
              "    <tr>\n",
              "      <th>1</th>\n",
              "      <td>[0.464599609375, 0.465576171875]</td>\n",
              "      <td>[0.45751953125, 0.50390625]</td>\n",
              "      <td>[1.0, 0.0]</td>\n",
              "    </tr>\n",
              "    <tr>\n",
              "      <th>2</th>\n",
              "      <td>[0.433837890625, 0.4296875]</td>\n",
              "      <td>[0.50341796875, 0.52783203125]</td>\n",
              "      <td>[1.0, 0.0]</td>\n",
              "    </tr>\n",
              "    <tr>\n",
              "      <th>3</th>\n",
              "      <td>[0.460693359375, 0.4384765625]</td>\n",
              "      <td>[0.51806640625, 0.509765625]</td>\n",
              "      <td>[1.0, 0.0]</td>\n",
              "    </tr>\n",
              "    <tr>\n",
              "      <th>4</th>\n",
              "      <td>[0.462890625, 0.38818359375]</td>\n",
              "      <td>[0.49609375, 0.53515625]</td>\n",
              "      <td>[1.0, 0.0]</td>\n",
              "    </tr>\n",
              "  </tbody>\n",
              "</table>\n",
              "</div>\n",
              "      <button class=\"colab-df-convert\" onclick=\"convertToInteractive('df-d6587bab-2667-4430-8699-09658357249c')\"\n",
              "              title=\"Convert this dataframe to an interactive table.\"\n",
              "              style=\"display:none;\">\n",
              "        \n",
              "  <svg xmlns=\"http://www.w3.org/2000/svg\" height=\"24px\"viewBox=\"0 0 24 24\"\n",
              "       width=\"24px\">\n",
              "    <path d=\"M0 0h24v24H0V0z\" fill=\"none\"/>\n",
              "    <path d=\"M18.56 5.44l.94 2.06.94-2.06 2.06-.94-2.06-.94-.94-2.06-.94 2.06-2.06.94zm-11 1L8.5 8.5l.94-2.06 2.06-.94-2.06-.94L8.5 2.5l-.94 2.06-2.06.94zm10 10l.94 2.06.94-2.06 2.06-.94-2.06-.94-.94-2.06-.94 2.06-2.06.94z\"/><path d=\"M17.41 7.96l-1.37-1.37c-.4-.4-.92-.59-1.43-.59-.52 0-1.04.2-1.43.59L10.3 9.45l-7.72 7.72c-.78.78-.78 2.05 0 2.83L4 21.41c.39.39.9.59 1.41.59.51 0 1.02-.2 1.41-.59l7.78-7.78 2.81-2.81c.8-.78.8-2.07 0-2.86zM5.41 20L4 18.59l7.72-7.72 1.47 1.35L5.41 20z\"/>\n",
              "  </svg>\n",
              "      </button>\n",
              "      \n",
              "  <style>\n",
              "    .colab-df-container {\n",
              "      display:flex;\n",
              "      flex-wrap:wrap;\n",
              "      gap: 12px;\n",
              "    }\n",
              "\n",
              "    .colab-df-convert {\n",
              "      background-color: #E8F0FE;\n",
              "      border: none;\n",
              "      border-radius: 50%;\n",
              "      cursor: pointer;\n",
              "      display: none;\n",
              "      fill: #1967D2;\n",
              "      height: 32px;\n",
              "      padding: 0 0 0 0;\n",
              "      width: 32px;\n",
              "    }\n",
              "\n",
              "    .colab-df-convert:hover {\n",
              "      background-color: #E2EBFA;\n",
              "      box-shadow: 0px 1px 2px rgba(60, 64, 67, 0.3), 0px 1px 3px 1px rgba(60, 64, 67, 0.15);\n",
              "      fill: #174EA6;\n",
              "    }\n",
              "\n",
              "    [theme=dark] .colab-df-convert {\n",
              "      background-color: #3B4455;\n",
              "      fill: #D2E3FC;\n",
              "    }\n",
              "\n",
              "    [theme=dark] .colab-df-convert:hover {\n",
              "      background-color: #434B5C;\n",
              "      box-shadow: 0px 1px 3px 1px rgba(0, 0, 0, 0.15);\n",
              "      filter: drop-shadow(0px 1px 2px rgba(0, 0, 0, 0.3));\n",
              "      fill: #FFFFFF;\n",
              "    }\n",
              "  </style>\n",
              "\n",
              "      <script>\n",
              "        const buttonEl =\n",
              "          document.querySelector('#df-d6587bab-2667-4430-8699-09658357249c button.colab-df-convert');\n",
              "        buttonEl.style.display =\n",
              "          google.colab.kernel.accessAllowed ? 'block' : 'none';\n",
              "\n",
              "        async function convertToInteractive(key) {\n",
              "          const element = document.querySelector('#df-d6587bab-2667-4430-8699-09658357249c');\n",
              "          const dataTable =\n",
              "            await google.colab.kernel.invokeFunction('convertToInteractive',\n",
              "                                                     [key], {});\n",
              "          if (!dataTable) return;\n",
              "\n",
              "          const docLinkHtml = 'Like what you see? Visit the ' +\n",
              "            '<a target=\"_blank\" href=https://colab.research.google.com/notebooks/data_table.ipynb>data table notebook</a>'\n",
              "            + ' to learn more about interactive tables.';\n",
              "          element.innerHTML = '';\n",
              "          dataTable['output_type'] = 'display_data';\n",
              "          await google.colab.output.renderOutput(dataTable, element);\n",
              "          const docLink = document.createElement('div');\n",
              "          docLink.innerHTML = docLinkHtml;\n",
              "          element.appendChild(docLink);\n",
              "        }\n",
              "      </script>\n",
              "    </div>\n",
              "  </div>\n",
              "  "
            ],
            "text/plain": [
              "                               base                           large  \\\n",
              "0  [0.447998046875, 0.432373046875]  [0.52001953125, 0.50732421875]   \n",
              "1  [0.464599609375, 0.465576171875]     [0.45751953125, 0.50390625]   \n",
              "2       [0.433837890625, 0.4296875]  [0.50341796875, 0.52783203125]   \n",
              "3    [0.460693359375, 0.4384765625]    [0.51806640625, 0.509765625]   \n",
              "4      [0.462890625, 0.38818359375]        [0.49609375, 0.53515625]   \n",
              "\n",
              "       actual  \n",
              "0  [1.0, 0.0]  \n",
              "1  [1.0, 0.0]  \n",
              "2  [1.0, 0.0]  \n",
              "3  [1.0, 0.0]  \n",
              "4  [1.0, 0.0]  "
            ]
          },
          "execution_count": 151,
          "metadata": {},
          "output_type": "execute_result"
        }
      ],
      "source": [
        "probab.head()"
      ]
    },
    {
      "cell_type": "code",
      "execution_count": null,
      "metadata": {
        "id": "9PwLID1PJidO"
      },
      "outputs": [],
      "source": [
        "def get_new_probab(b, l):\n",
        "  n  = [0 for i in range(len(b))]\n",
        "  for i in range(len(b)):\n",
        "    n[i] = (b[i]+l[i])/2\n",
        "  return n\n",
        "\n",
        "probab['ensemble'] = probab.apply(lambda x: get_new_probab(x.base, x.large), axis=1)"
      ]
    },
    {
      "cell_type": "code",
      "execution_count": null,
      "metadata": {
        "colab": {
          "base_uri": "https://localhost:8080/"
        },
        "id": "cXeIUklNJihG",
        "outputId": "5d564893-f63d-4e48-f2b4-319d579114e5"
      },
      "outputs": [
        {
          "data": {
            "text/plain": [
              "377"
            ]
          },
          "execution_count": 159,
          "metadata": {},
          "output_type": "execute_result"
        }
      ],
      "source": [
        " o = probab.ensemble.values.tolist()\n",
        " len(o)"
      ]
    },
    {
      "cell_type": "code",
      "execution_count": null,
      "metadata": {
        "id": "nYnpR5XiM_5f"
      },
      "outputs": [],
      "source": [
        "# If if in the outputs the value is above 0.5 we consider the correct class\n",
        "count =0 \n",
        "for i in  range(len(o)):\n",
        "  pred = o[i]\n",
        "  act = targets[i]\n",
        "  act_label = np.argmax(act)\n",
        "  probable_classes = set()\n",
        "  for x in range(len(pred)):\n",
        "    if pred[x]>=0.47:\n",
        "      probable_classes.add(x)\n",
        "  if not probable_classes:\n",
        "    probable_classes.add(np.argmax(pred))\n",
        "  if act_label in probable_classes:\n",
        "    count = count+1"
      ]
    },
    {
      "cell_type": "code",
      "execution_count": null,
      "metadata": {
        "colab": {
          "base_uri": "https://localhost:8080/"
        },
        "id": "cYCb5B05M__R",
        "outputId": "9e78d7d3-d259-474e-a342-01031cd6d50a"
      },
      "outputs": [
        {
          "data": {
            "text/plain": [
              "243"
            ]
          },
          "execution_count": 168,
          "metadata": {},
          "output_type": "execute_result"
        }
      ],
      "source": [
        "count"
      ]
    },
    {
      "cell_type": "code",
      "execution_count": null,
      "metadata": {
        "colab": {
          "base_uri": "https://localhost:8080/"
        },
        "id": "L8nxwbCFNAFD",
        "outputId": "c9c86208-d6c6-4b07-e488-59397ec82a93"
      },
      "outputs": [
        {
          "data": {
            "text/plain": [
              "0.6445623342175066"
            ]
          },
          "execution_count": 169,
          "metadata": {},
          "output_type": "execute_result"
        }
      ],
      "source": [
        "243/377"
      ]
    },
    {
      "cell_type": "code",
      "execution_count": null,
      "metadata": {
        "id": "SGPx3GmPNAKf"
      },
      "outputs": [],
      "source": []
    }
  ],
  "metadata": {
    "accelerator": "GPU",
    "colab": {
      "include_colab_link": true,
      "provenance": []
    },
    "gpuClass": "standard",
    "kernelspec": {
      "display_name": "Python 3",
      "name": "python3"
    },
    "language_info": {
      "name": "python"
    },
    "widgets": {
      "application/vnd.jupyter.widget-state+json": {
        "0438301c5324402fa44f16e225ea1bd8": {
          "model_module": "@jupyter-widgets/controls",
          "model_module_version": "1.5.0",
          "model_name": "HTMLModel",
          "state": {
            "_dom_classes": [],
            "_model_module": "@jupyter-widgets/controls",
            "_model_module_version": "1.5.0",
            "_model_name": "HTMLModel",
            "_view_count": null,
            "_view_module": "@jupyter-widgets/controls",
            "_view_module_version": "1.5.0",
            "_view_name": "HTMLView",
            "description": "",
            "description_tooltip": null,
            "layout": "IPY_MODEL_73257981ebab48d0b5bf262b2dd1e9c9",
            "placeholder": "​",
            "style": "IPY_MODEL_36cba7475fc34fba8dbf2865b6521cf2",
            "value": "Downloading: 100%"
          }
        },
        "0d6d0a07a537491ba28d9bd11b6c171a": {
          "model_module": "@jupyter-widgets/controls",
          "model_module_version": "1.5.0",
          "model_name": "HBoxModel",
          "state": {
            "_dom_classes": [],
            "_model_module": "@jupyter-widgets/controls",
            "_model_module_version": "1.5.0",
            "_model_name": "HBoxModel",
            "_view_count": null,
            "_view_module": "@jupyter-widgets/controls",
            "_view_module_version": "1.5.0",
            "_view_name": "HBoxView",
            "box_style": "",
            "children": [
              "IPY_MODEL_0438301c5324402fa44f16e225ea1bd8",
              "IPY_MODEL_f1ae42c93ff24c9b85080461ea098930",
              "IPY_MODEL_692f6ee1389748ddbe7e58d0b75c3e71"
            ],
            "layout": "IPY_MODEL_8fa6ddf3144b40c182f714107c2acc3b"
          }
        },
        "0df967bae6a843e499a33a76355febdd": {
          "model_module": "@jupyter-widgets/controls",
          "model_module_version": "1.5.0",
          "model_name": "DescriptionStyleModel",
          "state": {
            "_model_module": "@jupyter-widgets/controls",
            "_model_module_version": "1.5.0",
            "_model_name": "DescriptionStyleModel",
            "_view_count": null,
            "_view_module": "@jupyter-widgets/base",
            "_view_module_version": "1.2.0",
            "_view_name": "StyleView",
            "description_width": ""
          }
        },
        "115b255a1541475389afb8996ccc56c9": {
          "model_module": "@jupyter-widgets/base",
          "model_module_version": "1.2.0",
          "model_name": "LayoutModel",
          "state": {
            "_model_module": "@jupyter-widgets/base",
            "_model_module_version": "1.2.0",
            "_model_name": "LayoutModel",
            "_view_count": null,
            "_view_module": "@jupyter-widgets/base",
            "_view_module_version": "1.2.0",
            "_view_name": "LayoutView",
            "align_content": null,
            "align_items": null,
            "align_self": null,
            "border": null,
            "bottom": null,
            "display": null,
            "flex": null,
            "flex_flow": null,
            "grid_area": null,
            "grid_auto_columns": null,
            "grid_auto_flow": null,
            "grid_auto_rows": null,
            "grid_column": null,
            "grid_gap": null,
            "grid_row": null,
            "grid_template_areas": null,
            "grid_template_columns": null,
            "grid_template_rows": null,
            "height": null,
            "justify_content": null,
            "justify_items": null,
            "left": null,
            "margin": null,
            "max_height": null,
            "max_width": null,
            "min_height": null,
            "min_width": null,
            "object_fit": null,
            "object_position": null,
            "order": null,
            "overflow": null,
            "overflow_x": null,
            "overflow_y": null,
            "padding": null,
            "right": null,
            "top": null,
            "visibility": null,
            "width": null
          }
        },
        "133db01450874d4381080cc62fbbb7d5": {
          "model_module": "@jupyter-widgets/base",
          "model_module_version": "1.2.0",
          "model_name": "LayoutModel",
          "state": {
            "_model_module": "@jupyter-widgets/base",
            "_model_module_version": "1.2.0",
            "_model_name": "LayoutModel",
            "_view_count": null,
            "_view_module": "@jupyter-widgets/base",
            "_view_module_version": "1.2.0",
            "_view_name": "LayoutView",
            "align_content": null,
            "align_items": null,
            "align_self": null,
            "border": null,
            "bottom": null,
            "display": null,
            "flex": null,
            "flex_flow": null,
            "grid_area": null,
            "grid_auto_columns": null,
            "grid_auto_flow": null,
            "grid_auto_rows": null,
            "grid_column": null,
            "grid_gap": null,
            "grid_row": null,
            "grid_template_areas": null,
            "grid_template_columns": null,
            "grid_template_rows": null,
            "height": null,
            "justify_content": null,
            "justify_items": null,
            "left": null,
            "margin": null,
            "max_height": null,
            "max_width": null,
            "min_height": null,
            "min_width": null,
            "object_fit": null,
            "object_position": null,
            "order": null,
            "overflow": null,
            "overflow_x": null,
            "overflow_y": null,
            "padding": null,
            "right": null,
            "top": null,
            "visibility": null,
            "width": null
          }
        },
        "1dae8aacb8ef40049631c128729f9445": {
          "model_module": "@jupyter-widgets/base",
          "model_module_version": "1.2.0",
          "model_name": "LayoutModel",
          "state": {
            "_model_module": "@jupyter-widgets/base",
            "_model_module_version": "1.2.0",
            "_model_name": "LayoutModel",
            "_view_count": null,
            "_view_module": "@jupyter-widgets/base",
            "_view_module_version": "1.2.0",
            "_view_name": "LayoutView",
            "align_content": null,
            "align_items": null,
            "align_self": null,
            "border": null,
            "bottom": null,
            "display": null,
            "flex": null,
            "flex_flow": null,
            "grid_area": null,
            "grid_auto_columns": null,
            "grid_auto_flow": null,
            "grid_auto_rows": null,
            "grid_column": null,
            "grid_gap": null,
            "grid_row": null,
            "grid_template_areas": null,
            "grid_template_columns": null,
            "grid_template_rows": null,
            "height": null,
            "justify_content": null,
            "justify_items": null,
            "left": null,
            "margin": null,
            "max_height": null,
            "max_width": null,
            "min_height": null,
            "min_width": null,
            "object_fit": null,
            "object_position": null,
            "order": null,
            "overflow": null,
            "overflow_x": null,
            "overflow_y": null,
            "padding": null,
            "right": null,
            "top": null,
            "visibility": null,
            "width": null
          }
        },
        "30ed54b7bbce40de850d23dfca39d56e": {
          "model_module": "@jupyter-widgets/controls",
          "model_module_version": "1.5.0",
          "model_name": "HTMLModel",
          "state": {
            "_dom_classes": [],
            "_model_module": "@jupyter-widgets/controls",
            "_model_module_version": "1.5.0",
            "_model_name": "HTMLModel",
            "_view_count": null,
            "_view_module": "@jupyter-widgets/controls",
            "_view_module_version": "1.5.0",
            "_view_name": "HTMLView",
            "description": "",
            "description_tooltip": null,
            "layout": "IPY_MODEL_c59c48da1175473eb3ef282224354586",
            "placeholder": "​",
            "style": "IPY_MODEL_84c394c6fec04778869d0efc2d41b59f",
            "value": "Downloading: 100%"
          }
        },
        "36cba7475fc34fba8dbf2865b6521cf2": {
          "model_module": "@jupyter-widgets/controls",
          "model_module_version": "1.5.0",
          "model_name": "DescriptionStyleModel",
          "state": {
            "_model_module": "@jupyter-widgets/controls",
            "_model_module_version": "1.5.0",
            "_model_name": "DescriptionStyleModel",
            "_view_count": null,
            "_view_module": "@jupyter-widgets/base",
            "_view_module_version": "1.2.0",
            "_view_name": "StyleView",
            "description_width": ""
          }
        },
        "3e422cf7e5bb40808af6457f66870d8e": {
          "model_module": "@jupyter-widgets/controls",
          "model_module_version": "1.5.0",
          "model_name": "DescriptionStyleModel",
          "state": {
            "_model_module": "@jupyter-widgets/controls",
            "_model_module_version": "1.5.0",
            "_model_name": "DescriptionStyleModel",
            "_view_count": null,
            "_view_module": "@jupyter-widgets/base",
            "_view_module_version": "1.2.0",
            "_view_name": "StyleView",
            "description_width": ""
          }
        },
        "406c52f653e447e389849a7aa2eb7950": {
          "model_module": "@jupyter-widgets/controls",
          "model_module_version": "1.5.0",
          "model_name": "ProgressStyleModel",
          "state": {
            "_model_module": "@jupyter-widgets/controls",
            "_model_module_version": "1.5.0",
            "_model_name": "ProgressStyleModel",
            "_view_count": null,
            "_view_module": "@jupyter-widgets/base",
            "_view_module_version": "1.2.0",
            "_view_name": "StyleView",
            "bar_color": null,
            "description_width": ""
          }
        },
        "4114fce0f1bc451ba142937047051c68": {
          "model_module": "@jupyter-widgets/controls",
          "model_module_version": "1.5.0",
          "model_name": "FloatProgressModel",
          "state": {
            "_dom_classes": [],
            "_model_module": "@jupyter-widgets/controls",
            "_model_module_version": "1.5.0",
            "_model_name": "FloatProgressModel",
            "_view_count": null,
            "_view_module": "@jupyter-widgets/controls",
            "_view_module_version": "1.5.0",
            "_view_name": "ProgressView",
            "bar_style": "success",
            "description": "",
            "description_tooltip": null,
            "layout": "IPY_MODEL_82452ccd4ebe4067909e41d36062a53c",
            "max": 570,
            "min": 0,
            "orientation": "horizontal",
            "style": "IPY_MODEL_fa110a7f4d41423082d7cf69ebd7450b",
            "value": 570
          }
        },
        "5731fe1ab5d4485580fce85ac45493e6": {
          "model_module": "@jupyter-widgets/controls",
          "model_module_version": "1.5.0",
          "model_name": "HBoxModel",
          "state": {
            "_dom_classes": [],
            "_model_module": "@jupyter-widgets/controls",
            "_model_module_version": "1.5.0",
            "_model_name": "HBoxModel",
            "_view_count": null,
            "_view_module": "@jupyter-widgets/controls",
            "_view_module_version": "1.5.0",
            "_view_name": "HBoxView",
            "box_style": "",
            "children": [
              "IPY_MODEL_eb98bbbfd42d48d7b6d905c5a00c902c",
              "IPY_MODEL_6e6c0ef22d13420c94f457eacbe17e88",
              "IPY_MODEL_e205a175f82143e7970a1a9d3f274364"
            ],
            "layout": "IPY_MODEL_a458c1f1bda2423f92f236cee34c2c67"
          }
        },
        "5a259c7df69b40b281cc07a131446a78": {
          "model_module": "@jupyter-widgets/base",
          "model_module_version": "1.2.0",
          "model_name": "LayoutModel",
          "state": {
            "_model_module": "@jupyter-widgets/base",
            "_model_module_version": "1.2.0",
            "_model_name": "LayoutModel",
            "_view_count": null,
            "_view_module": "@jupyter-widgets/base",
            "_view_module_version": "1.2.0",
            "_view_name": "LayoutView",
            "align_content": null,
            "align_items": null,
            "align_self": null,
            "border": null,
            "bottom": null,
            "display": null,
            "flex": null,
            "flex_flow": null,
            "grid_area": null,
            "grid_auto_columns": null,
            "grid_auto_flow": null,
            "grid_auto_rows": null,
            "grid_column": null,
            "grid_gap": null,
            "grid_row": null,
            "grid_template_areas": null,
            "grid_template_columns": null,
            "grid_template_rows": null,
            "height": null,
            "justify_content": null,
            "justify_items": null,
            "left": null,
            "margin": null,
            "max_height": null,
            "max_width": null,
            "min_height": null,
            "min_width": null,
            "object_fit": null,
            "object_position": null,
            "order": null,
            "overflow": null,
            "overflow_x": null,
            "overflow_y": null,
            "padding": null,
            "right": null,
            "top": null,
            "visibility": null,
            "width": null
          }
        },
        "6541a4d8d8e6458c83f61c0fe0b66cf6": {
          "model_module": "@jupyter-widgets/controls",
          "model_module_version": "1.5.0",
          "model_name": "ProgressStyleModel",
          "state": {
            "_model_module": "@jupyter-widgets/controls",
            "_model_module_version": "1.5.0",
            "_model_name": "ProgressStyleModel",
            "_view_count": null,
            "_view_module": "@jupyter-widgets/base",
            "_view_module_version": "1.2.0",
            "_view_name": "StyleView",
            "bar_color": null,
            "description_width": ""
          }
        },
        "67661f3b3efd4b6a9315f06712e69740": {
          "model_module": "@jupyter-widgets/controls",
          "model_module_version": "1.5.0",
          "model_name": "HBoxModel",
          "state": {
            "_dom_classes": [],
            "_model_module": "@jupyter-widgets/controls",
            "_model_module_version": "1.5.0",
            "_model_name": "HBoxModel",
            "_view_count": null,
            "_view_module": "@jupyter-widgets/controls",
            "_view_module_version": "1.5.0",
            "_view_name": "HBoxView",
            "box_style": "",
            "children": [
              "IPY_MODEL_932e8e4ccd964b44b124d0df8d260ba9",
              "IPY_MODEL_4114fce0f1bc451ba142937047051c68",
              "IPY_MODEL_aa3e630270db4c5faa386ffc6fbc8fdf"
            ],
            "layout": "IPY_MODEL_133db01450874d4381080cc62fbbb7d5"
          }
        },
        "692f6ee1389748ddbe7e58d0b75c3e71": {
          "model_module": "@jupyter-widgets/controls",
          "model_module_version": "1.5.0",
          "model_name": "HTMLModel",
          "state": {
            "_dom_classes": [],
            "_model_module": "@jupyter-widgets/controls",
            "_model_module_version": "1.5.0",
            "_model_name": "HTMLModel",
            "_view_count": null,
            "_view_module": "@jupyter-widgets/controls",
            "_view_module_version": "1.5.0",
            "_view_name": "HTMLView",
            "description": "",
            "description_tooltip": null,
            "layout": "IPY_MODEL_f008eb648c734edca4c570cabc40c6a6",
            "placeholder": "​",
            "style": "IPY_MODEL_0df967bae6a843e499a33a76355febdd",
            "value": " 232k/232k [00:00&lt;00:00, 892kB/s]"
          }
        },
        "6e6c0ef22d13420c94f457eacbe17e88": {
          "model_module": "@jupyter-widgets/controls",
          "model_module_version": "1.5.0",
          "model_name": "FloatProgressModel",
          "state": {
            "_dom_classes": [],
            "_model_module": "@jupyter-widgets/controls",
            "_model_module_version": "1.5.0",
            "_model_name": "FloatProgressModel",
            "_view_count": null,
            "_view_module": "@jupyter-widgets/controls",
            "_view_module_version": "1.5.0",
            "_view_name": "ProgressView",
            "bar_style": "success",
            "description": "",
            "description_tooltip": null,
            "layout": "IPY_MODEL_7b354a28b9024434afa76347722afab7",
            "max": 28,
            "min": 0,
            "orientation": "horizontal",
            "style": "IPY_MODEL_f5746099062448019929ee733740fe49",
            "value": 28
          }
        },
        "73257981ebab48d0b5bf262b2dd1e9c9": {
          "model_module": "@jupyter-widgets/base",
          "model_module_version": "1.2.0",
          "model_name": "LayoutModel",
          "state": {
            "_model_module": "@jupyter-widgets/base",
            "_model_module_version": "1.2.0",
            "_model_name": "LayoutModel",
            "_view_count": null,
            "_view_module": "@jupyter-widgets/base",
            "_view_module_version": "1.2.0",
            "_view_name": "LayoutView",
            "align_content": null,
            "align_items": null,
            "align_self": null,
            "border": null,
            "bottom": null,
            "display": null,
            "flex": null,
            "flex_flow": null,
            "grid_area": null,
            "grid_auto_columns": null,
            "grid_auto_flow": null,
            "grid_auto_rows": null,
            "grid_column": null,
            "grid_gap": null,
            "grid_row": null,
            "grid_template_areas": null,
            "grid_template_columns": null,
            "grid_template_rows": null,
            "height": null,
            "justify_content": null,
            "justify_items": null,
            "left": null,
            "margin": null,
            "max_height": null,
            "max_width": null,
            "min_height": null,
            "min_width": null,
            "object_fit": null,
            "object_position": null,
            "order": null,
            "overflow": null,
            "overflow_x": null,
            "overflow_y": null,
            "padding": null,
            "right": null,
            "top": null,
            "visibility": null,
            "width": null
          }
        },
        "7b354a28b9024434afa76347722afab7": {
          "model_module": "@jupyter-widgets/base",
          "model_module_version": "1.2.0",
          "model_name": "LayoutModel",
          "state": {
            "_model_module": "@jupyter-widgets/base",
            "_model_module_version": "1.2.0",
            "_model_name": "LayoutModel",
            "_view_count": null,
            "_view_module": "@jupyter-widgets/base",
            "_view_module_version": "1.2.0",
            "_view_name": "LayoutView",
            "align_content": null,
            "align_items": null,
            "align_self": null,
            "border": null,
            "bottom": null,
            "display": null,
            "flex": null,
            "flex_flow": null,
            "grid_area": null,
            "grid_auto_columns": null,
            "grid_auto_flow": null,
            "grid_auto_rows": null,
            "grid_column": null,
            "grid_gap": null,
            "grid_row": null,
            "grid_template_areas": null,
            "grid_template_columns": null,
            "grid_template_rows": null,
            "height": null,
            "justify_content": null,
            "justify_items": null,
            "left": null,
            "margin": null,
            "max_height": null,
            "max_width": null,
            "min_height": null,
            "min_width": null,
            "object_fit": null,
            "object_position": null,
            "order": null,
            "overflow": null,
            "overflow_x": null,
            "overflow_y": null,
            "padding": null,
            "right": null,
            "top": null,
            "visibility": null,
            "width": null
          }
        },
        "82452ccd4ebe4067909e41d36062a53c": {
          "model_module": "@jupyter-widgets/base",
          "model_module_version": "1.2.0",
          "model_name": "LayoutModel",
          "state": {
            "_model_module": "@jupyter-widgets/base",
            "_model_module_version": "1.2.0",
            "_model_name": "LayoutModel",
            "_view_count": null,
            "_view_module": "@jupyter-widgets/base",
            "_view_module_version": "1.2.0",
            "_view_name": "LayoutView",
            "align_content": null,
            "align_items": null,
            "align_self": null,
            "border": null,
            "bottom": null,
            "display": null,
            "flex": null,
            "flex_flow": null,
            "grid_area": null,
            "grid_auto_columns": null,
            "grid_auto_flow": null,
            "grid_auto_rows": null,
            "grid_column": null,
            "grid_gap": null,
            "grid_row": null,
            "grid_template_areas": null,
            "grid_template_columns": null,
            "grid_template_rows": null,
            "height": null,
            "justify_content": null,
            "justify_items": null,
            "left": null,
            "margin": null,
            "max_height": null,
            "max_width": null,
            "min_height": null,
            "min_width": null,
            "object_fit": null,
            "object_position": null,
            "order": null,
            "overflow": null,
            "overflow_x": null,
            "overflow_y": null,
            "padding": null,
            "right": null,
            "top": null,
            "visibility": null,
            "width": null
          }
        },
        "84c394c6fec04778869d0efc2d41b59f": {
          "model_module": "@jupyter-widgets/controls",
          "model_module_version": "1.5.0",
          "model_name": "DescriptionStyleModel",
          "state": {
            "_model_module": "@jupyter-widgets/controls",
            "_model_module_version": "1.5.0",
            "_model_name": "DescriptionStyleModel",
            "_view_count": null,
            "_view_module": "@jupyter-widgets/base",
            "_view_module_version": "1.2.0",
            "_view_name": "StyleView",
            "description_width": ""
          }
        },
        "8fa6ddf3144b40c182f714107c2acc3b": {
          "model_module": "@jupyter-widgets/base",
          "model_module_version": "1.2.0",
          "model_name": "LayoutModel",
          "state": {
            "_model_module": "@jupyter-widgets/base",
            "_model_module_version": "1.2.0",
            "_model_name": "LayoutModel",
            "_view_count": null,
            "_view_module": "@jupyter-widgets/base",
            "_view_module_version": "1.2.0",
            "_view_name": "LayoutView",
            "align_content": null,
            "align_items": null,
            "align_self": null,
            "border": null,
            "bottom": null,
            "display": null,
            "flex": null,
            "flex_flow": null,
            "grid_area": null,
            "grid_auto_columns": null,
            "grid_auto_flow": null,
            "grid_auto_rows": null,
            "grid_column": null,
            "grid_gap": null,
            "grid_row": null,
            "grid_template_areas": null,
            "grid_template_columns": null,
            "grid_template_rows": null,
            "height": null,
            "justify_content": null,
            "justify_items": null,
            "left": null,
            "margin": null,
            "max_height": null,
            "max_width": null,
            "min_height": null,
            "min_width": null,
            "object_fit": null,
            "object_position": null,
            "order": null,
            "overflow": null,
            "overflow_x": null,
            "overflow_y": null,
            "padding": null,
            "right": null,
            "top": null,
            "visibility": null,
            "width": null
          }
        },
        "90af4dd917b442238c1f218cc02265c7": {
          "model_module": "@jupyter-widgets/controls",
          "model_module_version": "1.5.0",
          "model_name": "DescriptionStyleModel",
          "state": {
            "_model_module": "@jupyter-widgets/controls",
            "_model_module_version": "1.5.0",
            "_model_name": "DescriptionStyleModel",
            "_view_count": null,
            "_view_module": "@jupyter-widgets/base",
            "_view_module_version": "1.2.0",
            "_view_name": "StyleView",
            "description_width": ""
          }
        },
        "932e8e4ccd964b44b124d0df8d260ba9": {
          "model_module": "@jupyter-widgets/controls",
          "model_module_version": "1.5.0",
          "model_name": "HTMLModel",
          "state": {
            "_dom_classes": [],
            "_model_module": "@jupyter-widgets/controls",
            "_model_module_version": "1.5.0",
            "_model_name": "HTMLModel",
            "_view_count": null,
            "_view_module": "@jupyter-widgets/controls",
            "_view_module_version": "1.5.0",
            "_view_name": "HTMLView",
            "description": "",
            "description_tooltip": null,
            "layout": "IPY_MODEL_b67c446e5ddd42ada38495737c014443",
            "placeholder": "​",
            "style": "IPY_MODEL_b306bfb303a5435194cbf14bf8752bbb",
            "value": "Downloading: 100%"
          }
        },
        "a08ccf9a37d34ede9d0b4fc3fc4e2a2d": {
          "model_module": "@jupyter-widgets/base",
          "model_module_version": "1.2.0",
          "model_name": "LayoutModel",
          "state": {
            "_model_module": "@jupyter-widgets/base",
            "_model_module_version": "1.2.0",
            "_model_name": "LayoutModel",
            "_view_count": null,
            "_view_module": "@jupyter-widgets/base",
            "_view_module_version": "1.2.0",
            "_view_name": "LayoutView",
            "align_content": null,
            "align_items": null,
            "align_self": null,
            "border": null,
            "bottom": null,
            "display": null,
            "flex": null,
            "flex_flow": null,
            "grid_area": null,
            "grid_auto_columns": null,
            "grid_auto_flow": null,
            "grid_auto_rows": null,
            "grid_column": null,
            "grid_gap": null,
            "grid_row": null,
            "grid_template_areas": null,
            "grid_template_columns": null,
            "grid_template_rows": null,
            "height": null,
            "justify_content": null,
            "justify_items": null,
            "left": null,
            "margin": null,
            "max_height": null,
            "max_width": null,
            "min_height": null,
            "min_width": null,
            "object_fit": null,
            "object_position": null,
            "order": null,
            "overflow": null,
            "overflow_x": null,
            "overflow_y": null,
            "padding": null,
            "right": null,
            "top": null,
            "visibility": null,
            "width": null
          }
        },
        "a0a1b93880aa42c8b8fd74de588e586e": {
          "model_module": "@jupyter-widgets/controls",
          "model_module_version": "1.5.0",
          "model_name": "HBoxModel",
          "state": {
            "_dom_classes": [],
            "_model_module": "@jupyter-widgets/controls",
            "_model_module_version": "1.5.0",
            "_model_name": "HBoxModel",
            "_view_count": null,
            "_view_module": "@jupyter-widgets/controls",
            "_view_module_version": "1.5.0",
            "_view_name": "HBoxView",
            "box_style": "",
            "children": [
              "IPY_MODEL_30ed54b7bbce40de850d23dfca39d56e",
              "IPY_MODEL_ec3c47f0469444bab2f8b7499cf7aaaf",
              "IPY_MODEL_eebbf3c097984d39b40bfaa7644f209a"
            ],
            "layout": "IPY_MODEL_5a259c7df69b40b281cc07a131446a78"
          }
        },
        "a458c1f1bda2423f92f236cee34c2c67": {
          "model_module": "@jupyter-widgets/base",
          "model_module_version": "1.2.0",
          "model_name": "LayoutModel",
          "state": {
            "_model_module": "@jupyter-widgets/base",
            "_model_module_version": "1.2.0",
            "_model_name": "LayoutModel",
            "_view_count": null,
            "_view_module": "@jupyter-widgets/base",
            "_view_module_version": "1.2.0",
            "_view_name": "LayoutView",
            "align_content": null,
            "align_items": null,
            "align_self": null,
            "border": null,
            "bottom": null,
            "display": null,
            "flex": null,
            "flex_flow": null,
            "grid_area": null,
            "grid_auto_columns": null,
            "grid_auto_flow": null,
            "grid_auto_rows": null,
            "grid_column": null,
            "grid_gap": null,
            "grid_row": null,
            "grid_template_areas": null,
            "grid_template_columns": null,
            "grid_template_rows": null,
            "height": null,
            "justify_content": null,
            "justify_items": null,
            "left": null,
            "margin": null,
            "max_height": null,
            "max_width": null,
            "min_height": null,
            "min_width": null,
            "object_fit": null,
            "object_position": null,
            "order": null,
            "overflow": null,
            "overflow_x": null,
            "overflow_y": null,
            "padding": null,
            "right": null,
            "top": null,
            "visibility": null,
            "width": null
          }
        },
        "a5189b0caf2b4c30bf8ad3901ac908bc": {
          "model_module": "@jupyter-widgets/controls",
          "model_module_version": "1.5.0",
          "model_name": "DescriptionStyleModel",
          "state": {
            "_model_module": "@jupyter-widgets/controls",
            "_model_module_version": "1.5.0",
            "_model_name": "DescriptionStyleModel",
            "_view_count": null,
            "_view_module": "@jupyter-widgets/base",
            "_view_module_version": "1.2.0",
            "_view_name": "StyleView",
            "description_width": ""
          }
        },
        "aa3e630270db4c5faa386ffc6fbc8fdf": {
          "model_module": "@jupyter-widgets/controls",
          "model_module_version": "1.5.0",
          "model_name": "HTMLModel",
          "state": {
            "_dom_classes": [],
            "_model_module": "@jupyter-widgets/controls",
            "_model_module_version": "1.5.0",
            "_model_name": "HTMLModel",
            "_view_count": null,
            "_view_module": "@jupyter-widgets/controls",
            "_view_module_version": "1.5.0",
            "_view_name": "HTMLView",
            "description": "",
            "description_tooltip": null,
            "layout": "IPY_MODEL_115b255a1541475389afb8996ccc56c9",
            "placeholder": "​",
            "style": "IPY_MODEL_90af4dd917b442238c1f218cc02265c7",
            "value": " 570/570 [00:00&lt;00:00, 11.5kB/s]"
          }
        },
        "b306bfb303a5435194cbf14bf8752bbb": {
          "model_module": "@jupyter-widgets/controls",
          "model_module_version": "1.5.0",
          "model_name": "DescriptionStyleModel",
          "state": {
            "_model_module": "@jupyter-widgets/controls",
            "_model_module_version": "1.5.0",
            "_model_name": "DescriptionStyleModel",
            "_view_count": null,
            "_view_module": "@jupyter-widgets/base",
            "_view_module_version": "1.2.0",
            "_view_name": "StyleView",
            "description_width": ""
          }
        },
        "b67c446e5ddd42ada38495737c014443": {
          "model_module": "@jupyter-widgets/base",
          "model_module_version": "1.2.0",
          "model_name": "LayoutModel",
          "state": {
            "_model_module": "@jupyter-widgets/base",
            "_model_module_version": "1.2.0",
            "_model_name": "LayoutModel",
            "_view_count": null,
            "_view_module": "@jupyter-widgets/base",
            "_view_module_version": "1.2.0",
            "_view_name": "LayoutView",
            "align_content": null,
            "align_items": null,
            "align_self": null,
            "border": null,
            "bottom": null,
            "display": null,
            "flex": null,
            "flex_flow": null,
            "grid_area": null,
            "grid_auto_columns": null,
            "grid_auto_flow": null,
            "grid_auto_rows": null,
            "grid_column": null,
            "grid_gap": null,
            "grid_row": null,
            "grid_template_areas": null,
            "grid_template_columns": null,
            "grid_template_rows": null,
            "height": null,
            "justify_content": null,
            "justify_items": null,
            "left": null,
            "margin": null,
            "max_height": null,
            "max_width": null,
            "min_height": null,
            "min_width": null,
            "object_fit": null,
            "object_position": null,
            "order": null,
            "overflow": null,
            "overflow_x": null,
            "overflow_y": null,
            "padding": null,
            "right": null,
            "top": null,
            "visibility": null,
            "width": null
          }
        },
        "bf7e6ce4d211474fb3882be72ae376ca": {
          "model_module": "@jupyter-widgets/base",
          "model_module_version": "1.2.0",
          "model_name": "LayoutModel",
          "state": {
            "_model_module": "@jupyter-widgets/base",
            "_model_module_version": "1.2.0",
            "_model_name": "LayoutModel",
            "_view_count": null,
            "_view_module": "@jupyter-widgets/base",
            "_view_module_version": "1.2.0",
            "_view_name": "LayoutView",
            "align_content": null,
            "align_items": null,
            "align_self": null,
            "border": null,
            "bottom": null,
            "display": null,
            "flex": null,
            "flex_flow": null,
            "grid_area": null,
            "grid_auto_columns": null,
            "grid_auto_flow": null,
            "grid_auto_rows": null,
            "grid_column": null,
            "grid_gap": null,
            "grid_row": null,
            "grid_template_areas": null,
            "grid_template_columns": null,
            "grid_template_rows": null,
            "height": null,
            "justify_content": null,
            "justify_items": null,
            "left": null,
            "margin": null,
            "max_height": null,
            "max_width": null,
            "min_height": null,
            "min_width": null,
            "object_fit": null,
            "object_position": null,
            "order": null,
            "overflow": null,
            "overflow_x": null,
            "overflow_y": null,
            "padding": null,
            "right": null,
            "top": null,
            "visibility": null,
            "width": null
          }
        },
        "c59c48da1175473eb3ef282224354586": {
          "model_module": "@jupyter-widgets/base",
          "model_module_version": "1.2.0",
          "model_name": "LayoutModel",
          "state": {
            "_model_module": "@jupyter-widgets/base",
            "_model_module_version": "1.2.0",
            "_model_name": "LayoutModel",
            "_view_count": null,
            "_view_module": "@jupyter-widgets/base",
            "_view_module_version": "1.2.0",
            "_view_name": "LayoutView",
            "align_content": null,
            "align_items": null,
            "align_self": null,
            "border": null,
            "bottom": null,
            "display": null,
            "flex": null,
            "flex_flow": null,
            "grid_area": null,
            "grid_auto_columns": null,
            "grid_auto_flow": null,
            "grid_auto_rows": null,
            "grid_column": null,
            "grid_gap": null,
            "grid_row": null,
            "grid_template_areas": null,
            "grid_template_columns": null,
            "grid_template_rows": null,
            "height": null,
            "justify_content": null,
            "justify_items": null,
            "left": null,
            "margin": null,
            "max_height": null,
            "max_width": null,
            "min_height": null,
            "min_width": null,
            "object_fit": null,
            "object_position": null,
            "order": null,
            "overflow": null,
            "overflow_x": null,
            "overflow_y": null,
            "padding": null,
            "right": null,
            "top": null,
            "visibility": null,
            "width": null
          }
        },
        "ca3e6aababee41d09885a37291b9a6ec": {
          "model_module": "@jupyter-widgets/base",
          "model_module_version": "1.2.0",
          "model_name": "LayoutModel",
          "state": {
            "_model_module": "@jupyter-widgets/base",
            "_model_module_version": "1.2.0",
            "_model_name": "LayoutModel",
            "_view_count": null,
            "_view_module": "@jupyter-widgets/base",
            "_view_module_version": "1.2.0",
            "_view_name": "LayoutView",
            "align_content": null,
            "align_items": null,
            "align_self": null,
            "border": null,
            "bottom": null,
            "display": null,
            "flex": null,
            "flex_flow": null,
            "grid_area": null,
            "grid_auto_columns": null,
            "grid_auto_flow": null,
            "grid_auto_rows": null,
            "grid_column": null,
            "grid_gap": null,
            "grid_row": null,
            "grid_template_areas": null,
            "grid_template_columns": null,
            "grid_template_rows": null,
            "height": null,
            "justify_content": null,
            "justify_items": null,
            "left": null,
            "margin": null,
            "max_height": null,
            "max_width": null,
            "min_height": null,
            "min_width": null,
            "object_fit": null,
            "object_position": null,
            "order": null,
            "overflow": null,
            "overflow_x": null,
            "overflow_y": null,
            "padding": null,
            "right": null,
            "top": null,
            "visibility": null,
            "width": null
          }
        },
        "dfb2a927aba6478cbe11da4453b1324d": {
          "model_module": "@jupyter-widgets/base",
          "model_module_version": "1.2.0",
          "model_name": "LayoutModel",
          "state": {
            "_model_module": "@jupyter-widgets/base",
            "_model_module_version": "1.2.0",
            "_model_name": "LayoutModel",
            "_view_count": null,
            "_view_module": "@jupyter-widgets/base",
            "_view_module_version": "1.2.0",
            "_view_name": "LayoutView",
            "align_content": null,
            "align_items": null,
            "align_self": null,
            "border": null,
            "bottom": null,
            "display": null,
            "flex": null,
            "flex_flow": null,
            "grid_area": null,
            "grid_auto_columns": null,
            "grid_auto_flow": null,
            "grid_auto_rows": null,
            "grid_column": null,
            "grid_gap": null,
            "grid_row": null,
            "grid_template_areas": null,
            "grid_template_columns": null,
            "grid_template_rows": null,
            "height": null,
            "justify_content": null,
            "justify_items": null,
            "left": null,
            "margin": null,
            "max_height": null,
            "max_width": null,
            "min_height": null,
            "min_width": null,
            "object_fit": null,
            "object_position": null,
            "order": null,
            "overflow": null,
            "overflow_x": null,
            "overflow_y": null,
            "padding": null,
            "right": null,
            "top": null,
            "visibility": null,
            "width": null
          }
        },
        "e205a175f82143e7970a1a9d3f274364": {
          "model_module": "@jupyter-widgets/controls",
          "model_module_version": "1.5.0",
          "model_name": "HTMLModel",
          "state": {
            "_dom_classes": [],
            "_model_module": "@jupyter-widgets/controls",
            "_model_module_version": "1.5.0",
            "_model_name": "HTMLModel",
            "_view_count": null,
            "_view_module": "@jupyter-widgets/controls",
            "_view_module_version": "1.5.0",
            "_view_name": "HTMLView",
            "description": "",
            "description_tooltip": null,
            "layout": "IPY_MODEL_bf7e6ce4d211474fb3882be72ae376ca",
            "placeholder": "​",
            "style": "IPY_MODEL_fe19a0d1e7c14703964f82a847e9a908",
            "value": " 28.0/28.0 [00:00&lt;00:00, 421B/s]"
          }
        },
        "eb98bbbfd42d48d7b6d905c5a00c902c": {
          "model_module": "@jupyter-widgets/controls",
          "model_module_version": "1.5.0",
          "model_name": "HTMLModel",
          "state": {
            "_dom_classes": [],
            "_model_module": "@jupyter-widgets/controls",
            "_model_module_version": "1.5.0",
            "_model_name": "HTMLModel",
            "_view_count": null,
            "_view_module": "@jupyter-widgets/controls",
            "_view_module_version": "1.5.0",
            "_view_name": "HTMLView",
            "description": "",
            "description_tooltip": null,
            "layout": "IPY_MODEL_ca3e6aababee41d09885a37291b9a6ec",
            "placeholder": "​",
            "style": "IPY_MODEL_a5189b0caf2b4c30bf8ad3901ac908bc",
            "value": "Downloading: 100%"
          }
        },
        "ec3c47f0469444bab2f8b7499cf7aaaf": {
          "model_module": "@jupyter-widgets/controls",
          "model_module_version": "1.5.0",
          "model_name": "FloatProgressModel",
          "state": {
            "_dom_classes": [],
            "_model_module": "@jupyter-widgets/controls",
            "_model_module_version": "1.5.0",
            "_model_name": "FloatProgressModel",
            "_view_count": null,
            "_view_module": "@jupyter-widgets/controls",
            "_view_module_version": "1.5.0",
            "_view_name": "ProgressView",
            "bar_style": "success",
            "description": "",
            "description_tooltip": null,
            "layout": "IPY_MODEL_1dae8aacb8ef40049631c128729f9445",
            "max": 466062,
            "min": 0,
            "orientation": "horizontal",
            "style": "IPY_MODEL_406c52f653e447e389849a7aa2eb7950",
            "value": 466062
          }
        },
        "eebbf3c097984d39b40bfaa7644f209a": {
          "model_module": "@jupyter-widgets/controls",
          "model_module_version": "1.5.0",
          "model_name": "HTMLModel",
          "state": {
            "_dom_classes": [],
            "_model_module": "@jupyter-widgets/controls",
            "_model_module_version": "1.5.0",
            "_model_name": "HTMLModel",
            "_view_count": null,
            "_view_module": "@jupyter-widgets/controls",
            "_view_module_version": "1.5.0",
            "_view_name": "HTMLView",
            "description": "",
            "description_tooltip": null,
            "layout": "IPY_MODEL_a08ccf9a37d34ede9d0b4fc3fc4e2a2d",
            "placeholder": "​",
            "style": "IPY_MODEL_3e422cf7e5bb40808af6457f66870d8e",
            "value": " 466k/466k [00:00&lt;00:00, 632kB/s]"
          }
        },
        "f008eb648c734edca4c570cabc40c6a6": {
          "model_module": "@jupyter-widgets/base",
          "model_module_version": "1.2.0",
          "model_name": "LayoutModel",
          "state": {
            "_model_module": "@jupyter-widgets/base",
            "_model_module_version": "1.2.0",
            "_model_name": "LayoutModel",
            "_view_count": null,
            "_view_module": "@jupyter-widgets/base",
            "_view_module_version": "1.2.0",
            "_view_name": "LayoutView",
            "align_content": null,
            "align_items": null,
            "align_self": null,
            "border": null,
            "bottom": null,
            "display": null,
            "flex": null,
            "flex_flow": null,
            "grid_area": null,
            "grid_auto_columns": null,
            "grid_auto_flow": null,
            "grid_auto_rows": null,
            "grid_column": null,
            "grid_gap": null,
            "grid_row": null,
            "grid_template_areas": null,
            "grid_template_columns": null,
            "grid_template_rows": null,
            "height": null,
            "justify_content": null,
            "justify_items": null,
            "left": null,
            "margin": null,
            "max_height": null,
            "max_width": null,
            "min_height": null,
            "min_width": null,
            "object_fit": null,
            "object_position": null,
            "order": null,
            "overflow": null,
            "overflow_x": null,
            "overflow_y": null,
            "padding": null,
            "right": null,
            "top": null,
            "visibility": null,
            "width": null
          }
        },
        "f1ae42c93ff24c9b85080461ea098930": {
          "model_module": "@jupyter-widgets/controls",
          "model_module_version": "1.5.0",
          "model_name": "FloatProgressModel",
          "state": {
            "_dom_classes": [],
            "_model_module": "@jupyter-widgets/controls",
            "_model_module_version": "1.5.0",
            "_model_name": "FloatProgressModel",
            "_view_count": null,
            "_view_module": "@jupyter-widgets/controls",
            "_view_module_version": "1.5.0",
            "_view_name": "ProgressView",
            "bar_style": "success",
            "description": "",
            "description_tooltip": null,
            "layout": "IPY_MODEL_dfb2a927aba6478cbe11da4453b1324d",
            "max": 231508,
            "min": 0,
            "orientation": "horizontal",
            "style": "IPY_MODEL_6541a4d8d8e6458c83f61c0fe0b66cf6",
            "value": 231508
          }
        },
        "f5746099062448019929ee733740fe49": {
          "model_module": "@jupyter-widgets/controls",
          "model_module_version": "1.5.0",
          "model_name": "ProgressStyleModel",
          "state": {
            "_model_module": "@jupyter-widgets/controls",
            "_model_module_version": "1.5.0",
            "_model_name": "ProgressStyleModel",
            "_view_count": null,
            "_view_module": "@jupyter-widgets/base",
            "_view_module_version": "1.2.0",
            "_view_name": "StyleView",
            "bar_color": null,
            "description_width": ""
          }
        },
        "fa110a7f4d41423082d7cf69ebd7450b": {
          "model_module": "@jupyter-widgets/controls",
          "model_module_version": "1.5.0",
          "model_name": "ProgressStyleModel",
          "state": {
            "_model_module": "@jupyter-widgets/controls",
            "_model_module_version": "1.5.0",
            "_model_name": "ProgressStyleModel",
            "_view_count": null,
            "_view_module": "@jupyter-widgets/base",
            "_view_module_version": "1.2.0",
            "_view_name": "StyleView",
            "bar_color": null,
            "description_width": ""
          }
        },
        "fe19a0d1e7c14703964f82a847e9a908": {
          "model_module": "@jupyter-widgets/controls",
          "model_module_version": "1.5.0",
          "model_name": "DescriptionStyleModel",
          "state": {
            "_model_module": "@jupyter-widgets/controls",
            "_model_module_version": "1.5.0",
            "_model_name": "DescriptionStyleModel",
            "_view_count": null,
            "_view_module": "@jupyter-widgets/base",
            "_view_module_version": "1.2.0",
            "_view_name": "StyleView",
            "description_width": ""
          }
        }
      }
    }
  },
  "nbformat": 4,
  "nbformat_minor": 0
}
